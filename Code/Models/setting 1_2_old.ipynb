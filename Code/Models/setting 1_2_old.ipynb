{
 "cells": [
  {
   "cell_type": "markdown",
   "metadata": {},
   "source": [
    "# Loading data"
   ]
  },
  {
   "cell_type": "code",
   "execution_count": 1,
   "metadata": {},
   "outputs": [],
   "source": [
    "using JuMP\n",
    "using CSV\n",
    "using DataFrames\n",
    "using HiGHS\n",
    "using PlotlyJS\n",
    "using StatsBase"
   ]
  },
  {
   "cell_type": "code",
   "execution_count": 2,
   "metadata": {},
   "outputs": [
    {
     "data": {
      "text/html": [
       "<div><div style = \"float: left;\"><span>20×4 DataFrame</span></div><div style = \"clear: both;\"></div></div><div class = \"data-frame\" style = \"overflow-x: scroll;\"><table class = \"data-frame\" style = \"margin-bottom: 6px;\"><thead><tr class = \"header\"><th class = \"rowNumber\" style = \"font-weight: bold; text-align: right;\">Row</th><th style = \"text-align: left;\">bus_line_id</th><th style = \"text-align: left;\">stop_ids</th><th style = \"text-align: left;\">stop_x</th><th style = \"text-align: left;\">stop_y</th></tr><tr class = \"subheader headerLastRow\"><th class = \"rowNumber\" style = \"font-weight: bold; text-align: right;\"></th><th title = \"Int64\" style = \"text-align: left;\">Int64</th><th title = \"Int64\" style = \"text-align: left;\">Int64</th><th title = \"Float64\" style = \"text-align: left;\">Float64</th><th title = \"Float64\" style = \"text-align: left;\">Float64</th></tr></thead><tbody><tr><td class = \"rowNumber\" style = \"font-weight: bold; text-align: right;\">1</td><td style = \"text-align: right;\">1</td><td style = \"text-align: right;\">1</td><td style = \"text-align: right;\">2.2</td><td style = \"text-align: right;\">36.8</td></tr><tr><td class = \"rowNumber\" style = \"font-weight: bold; text-align: right;\">2</td><td style = \"text-align: right;\">1</td><td style = \"text-align: right;\">2</td><td style = \"text-align: right;\">4.4</td><td style = \"text-align: right;\">40.1</td></tr><tr><td class = \"rowNumber\" style = \"font-weight: bold; text-align: right;\">3</td><td style = \"text-align: right;\">1</td><td style = \"text-align: right;\">3</td><td style = \"text-align: right;\">12.5</td><td style = \"text-align: right;\">42.7</td></tr><tr><td class = \"rowNumber\" style = \"font-weight: bold; text-align: right;\">4</td><td style = \"text-align: right;\">1</td><td style = \"text-align: right;\">4</td><td style = \"text-align: right;\">20.2</td><td style = \"text-align: right;\">44.0</td></tr><tr><td class = \"rowNumber\" style = \"font-weight: bold; text-align: right;\">5</td><td style = \"text-align: right;\">2</td><td style = \"text-align: right;\">1</td><td style = \"text-align: right;\">40.9</td><td style = \"text-align: right;\">48.2</td></tr><tr><td class = \"rowNumber\" style = \"font-weight: bold; text-align: right;\">6</td><td style = \"text-align: right;\">2</td><td style = \"text-align: right;\">2</td><td style = \"text-align: right;\">46.2</td><td style = \"text-align: right;\">40.7</td></tr><tr><td class = \"rowNumber\" style = \"font-weight: bold; text-align: right;\">7</td><td style = \"text-align: right;\">2</td><td style = \"text-align: right;\">3</td><td style = \"text-align: right;\">56.6</td><td style = \"text-align: right;\">38.2</td></tr><tr><td class = \"rowNumber\" style = \"font-weight: bold; text-align: right;\">8</td><td style = \"text-align: right;\">3</td><td style = \"text-align: right;\">1</td><td style = \"text-align: right;\">44.6</td><td style = \"text-align: right;\">15.2</td></tr><tr><td class = \"rowNumber\" style = \"font-weight: bold; text-align: right;\">9</td><td style = \"text-align: right;\">3</td><td style = \"text-align: right;\">2</td><td style = \"text-align: right;\">52.0</td><td style = \"text-align: right;\">20.4</td></tr><tr><td class = \"rowNumber\" style = \"font-weight: bold; text-align: right;\">10</td><td style = \"text-align: right;\">3</td><td style = \"text-align: right;\">3</td><td style = \"text-align: right;\">48.2</td><td style = \"text-align: right;\">32.6</td></tr><tr><td class = \"rowNumber\" style = \"font-weight: bold; text-align: right;\">11</td><td style = \"text-align: right;\">3</td><td style = \"text-align: right;\">4</td><td style = \"text-align: right;\">42.9</td><td style = \"text-align: right;\">38.5</td></tr><tr><td class = \"rowNumber\" style = \"font-weight: bold; text-align: right;\">12</td><td style = \"text-align: right;\">3</td><td style = \"text-align: right;\">5</td><td style = \"text-align: right;\">36.8</td><td style = \"text-align: right;\">46.7</td></tr><tr><td class = \"rowNumber\" style = \"font-weight: bold; text-align: right;\">13</td><td style = \"text-align: right;\">3</td><td style = \"text-align: right;\">6</td><td style = \"text-align: right;\">28.7</td><td style = \"text-align: right;\">44.3</td></tr><tr><td class = \"rowNumber\" style = \"font-weight: bold; text-align: right;\">14</td><td style = \"text-align: right;\">4</td><td style = \"text-align: right;\">1</td><td style = \"text-align: right;\">26.2</td><td style = \"text-align: right;\">7.8</td></tr><tr><td class = \"rowNumber\" style = \"font-weight: bold; text-align: right;\">15</td><td style = \"text-align: right;\">4</td><td style = \"text-align: right;\">2</td><td style = \"text-align: right;\">34.4</td><td style = \"text-align: right;\">6.1</td></tr><tr><td class = \"rowNumber\" style = \"font-weight: bold; text-align: right;\">16</td><td style = \"text-align: right;\">5</td><td style = \"text-align: right;\">1</td><td style = \"text-align: right;\">23.9</td><td style = \"text-align: right;\">16.5</td></tr><tr><td class = \"rowNumber\" style = \"font-weight: bold; text-align: right;\">17</td><td style = \"text-align: right;\">5</td><td style = \"text-align: right;\">2</td><td style = \"text-align: right;\">16.0</td><td style = \"text-align: right;\">12.1</td></tr><tr><td class = \"rowNumber\" style = \"font-weight: bold; text-align: right;\">18</td><td style = \"text-align: right;\">5</td><td style = \"text-align: right;\">3</td><td style = \"text-align: right;\">10.4</td><td style = \"text-align: right;\">10.2</td></tr><tr><td class = \"rowNumber\" style = \"font-weight: bold; text-align: right;\">19</td><td style = \"text-align: right;\">5</td><td style = \"text-align: right;\">4</td><td style = \"text-align: right;\">7.8</td><td style = \"text-align: right;\">22.3</td></tr><tr><td class = \"rowNumber\" style = \"font-weight: bold; text-align: right;\">20</td><td style = \"text-align: right;\">5</td><td style = \"text-align: right;\">5</td><td style = \"text-align: right;\">9.6</td><td style = \"text-align: right;\">30.8</td></tr></tbody></table></div>"
      ],
      "text/latex": [
       "\\begin{tabular}{r|cccc}\n",
       "\t& bus\\_line\\_id & stop\\_ids & stop\\_x & stop\\_y\\\\\n",
       "\t\\hline\n",
       "\t& Int64 & Int64 & Float64 & Float64\\\\\n",
       "\t\\hline\n",
       "\t1 & 1 & 1 & 2.2 & 36.8 \\\\\n",
       "\t2 & 1 & 2 & 4.4 & 40.1 \\\\\n",
       "\t3 & 1 & 3 & 12.5 & 42.7 \\\\\n",
       "\t4 & 1 & 4 & 20.2 & 44.0 \\\\\n",
       "\t5 & 2 & 1 & 40.9 & 48.2 \\\\\n",
       "\t6 & 2 & 2 & 46.2 & 40.7 \\\\\n",
       "\t7 & 2 & 3 & 56.6 & 38.2 \\\\\n",
       "\t8 & 3 & 1 & 44.6 & 15.2 \\\\\n",
       "\t9 & 3 & 2 & 52.0 & 20.4 \\\\\n",
       "\t10 & 3 & 3 & 48.2 & 32.6 \\\\\n",
       "\t11 & 3 & 4 & 42.9 & 38.5 \\\\\n",
       "\t12 & 3 & 5 & 36.8 & 46.7 \\\\\n",
       "\t13 & 3 & 6 & 28.7 & 44.3 \\\\\n",
       "\t14 & 4 & 1 & 26.2 & 7.8 \\\\\n",
       "\t15 & 4 & 2 & 34.4 & 6.1 \\\\\n",
       "\t16 & 5 & 1 & 23.9 & 16.5 \\\\\n",
       "\t17 & 5 & 2 & 16.0 & 12.1 \\\\\n",
       "\t18 & 5 & 3 & 10.4 & 10.2 \\\\\n",
       "\t19 & 5 & 4 & 7.8 & 22.3 \\\\\n",
       "\t20 & 5 & 5 & 9.6 & 30.8 \\\\\n",
       "\\end{tabular}\n"
      ],
      "text/plain": [
       "\u001b[1m20×4 DataFrame\u001b[0m\n",
       "\u001b[1m Row \u001b[0m│\u001b[1m bus_line_id \u001b[0m\u001b[1m stop_ids \u001b[0m\u001b[1m stop_x  \u001b[0m\u001b[1m stop_y  \u001b[0m\n",
       "     │\u001b[90m Int64       \u001b[0m\u001b[90m Int64    \u001b[0m\u001b[90m Float64 \u001b[0m\u001b[90m Float64 \u001b[0m\n",
       "─────┼─────────────────────────────────────────\n",
       "   1 │           1         1      2.2     36.8\n",
       "   2 │           1         2      4.4     40.1\n",
       "   3 │           1         3     12.5     42.7\n",
       "   4 │           1         4     20.2     44.0\n",
       "   5 │           2         1     40.9     48.2\n",
       "   6 │           2         2     46.2     40.7\n",
       "   7 │           2         3     56.6     38.2\n",
       "   8 │           3         1     44.6     15.2\n",
       "  ⋮  │      ⋮          ⋮         ⋮        ⋮\n",
       "  14 │           4         1     26.2      7.8\n",
       "  15 │           4         2     34.4      6.1\n",
       "  16 │           5         1     23.9     16.5\n",
       "  17 │           5         2     16.0     12.1\n",
       "  18 │           5         3     10.4     10.2\n",
       "  19 │           5         4      7.8     22.3\n",
       "  20 │           5         5      9.6     30.8\n",
       "\u001b[36m                                 5 rows omitted\u001b[0m"
      ]
     },
     "metadata": {},
     "output_type": "display_data"
    }
   ],
   "source": [
    "lines = CSV.read(\"/Users/alexanderklaus/Desktop/Masterthesis/Code/data/lines.csv\", DataFrame)\n",
    "demand = CSV.read(\"/Users/alexanderklaus/Desktop/Masterthesis/Code/data/demand.csv\", DataFrame)\n",
    "#busses = CSV.read(\"/Users/alexanderklaus/Desktop/Masterthesis/Code/data/busses.csv\", DataFrame)\n",
    "bus_line_stops = CSV.read(\"/Users/alexanderklaus/Desktop/Masterthesis/Code/data/bus-lines.csv\", DataFrame)"
   ]
  },
  {
   "cell_type": "code",
   "execution_count": 3,
   "metadata": {},
   "outputs": [
    {
     "data": {
      "text/html": [
       "<div><div style = \"float: left;\"><span>17×3 DataFrame</span></div><div style = \"clear: both;\"></div></div><div class = \"data-frame\" style = \"overflow-x: scroll;\"><table class = \"data-frame\" style = \"margin-bottom: 6px;\"><thead><tr class = \"header\"><th class = \"rowNumber\" style = \"font-weight: bold; text-align: right;\">Row</th><th style = \"text-align: left;\">line_id</th><th style = \"text-align: left;\">bus_line_id</th><th style = \"text-align: left;\">start_time</th></tr><tr class = \"subheader headerLastRow\"><th class = \"rowNumber\" style = \"font-weight: bold; text-align: right;\"></th><th title = \"Int64\" style = \"text-align: left;\">Int64</th><th title = \"Int64\" style = \"text-align: left;\">Int64</th><th title = \"Float64\" style = \"text-align: left;\">Float64</th></tr></thead><tbody><tr><td class = \"rowNumber\" style = \"font-weight: bold; text-align: right;\">1</td><td style = \"text-align: right;\">1</td><td style = \"text-align: right;\">1</td><td style = \"text-align: right;\">20.0</td></tr><tr><td class = \"rowNumber\" style = \"font-weight: bold; text-align: right;\">2</td><td style = \"text-align: right;\">2</td><td style = \"text-align: right;\">1</td><td style = \"text-align: right;\">40.0</td></tr><tr><td class = \"rowNumber\" style = \"font-weight: bold; text-align: right;\">3</td><td style = \"text-align: right;\">3</td><td style = \"text-align: right;\">1</td><td style = \"text-align: right;\">60.0</td></tr><tr><td class = \"rowNumber\" style = \"font-weight: bold; text-align: right;\">4</td><td style = \"text-align: right;\">1</td><td style = \"text-align: right;\">2</td><td style = \"text-align: right;\">20.0</td></tr><tr><td class = \"rowNumber\" style = \"font-weight: bold; text-align: right;\">5</td><td style = \"text-align: right;\">2</td><td style = \"text-align: right;\">2</td><td style = \"text-align: right;\">35.0</td></tr><tr><td class = \"rowNumber\" style = \"font-weight: bold; text-align: right;\">6</td><td style = \"text-align: right;\">3</td><td style = \"text-align: right;\">2</td><td style = \"text-align: right;\">50.0</td></tr><tr><td class = \"rowNumber\" style = \"font-weight: bold; text-align: right;\">7</td><td style = \"text-align: right;\">1</td><td style = \"text-align: right;\">3</td><td style = \"text-align: right;\">16.0</td></tr><tr><td class = \"rowNumber\" style = \"font-weight: bold; text-align: right;\">8</td><td style = \"text-align: right;\">2</td><td style = \"text-align: right;\">3</td><td style = \"text-align: right;\">32.0</td></tr><tr><td class = \"rowNumber\" style = \"font-weight: bold; text-align: right;\">9</td><td style = \"text-align: right;\">3</td><td style = \"text-align: right;\">3</td><td style = \"text-align: right;\">48.0</td></tr><tr><td class = \"rowNumber\" style = \"font-weight: bold; text-align: right;\">10</td><td style = \"text-align: right;\">1</td><td style = \"text-align: right;\">4</td><td style = \"text-align: right;\">20.0</td></tr><tr><td class = \"rowNumber\" style = \"font-weight: bold; text-align: right;\">11</td><td style = \"text-align: right;\">2</td><td style = \"text-align: right;\">4</td><td style = \"text-align: right;\">32.0</td></tr><tr><td class = \"rowNumber\" style = \"font-weight: bold; text-align: right;\">12</td><td style = \"text-align: right;\">3</td><td style = \"text-align: right;\">4</td><td style = \"text-align: right;\">44.0</td></tr><tr><td class = \"rowNumber\" style = \"font-weight: bold; text-align: right;\">13</td><td style = \"text-align: right;\">4</td><td style = \"text-align: right;\">4</td><td style = \"text-align: right;\">56.0</td></tr><tr><td class = \"rowNumber\" style = \"font-weight: bold; text-align: right;\">14</td><td style = \"text-align: right;\">1</td><td style = \"text-align: right;\">5</td><td style = \"text-align: right;\">20.0</td></tr><tr><td class = \"rowNumber\" style = \"font-weight: bold; text-align: right;\">15</td><td style = \"text-align: right;\">2</td><td style = \"text-align: right;\">5</td><td style = \"text-align: right;\">32.0</td></tr><tr><td class = \"rowNumber\" style = \"font-weight: bold; text-align: right;\">16</td><td style = \"text-align: right;\">3</td><td style = \"text-align: right;\">5</td><td style = \"text-align: right;\">46.0</td></tr><tr><td class = \"rowNumber\" style = \"font-weight: bold; text-align: right;\">17</td><td style = \"text-align: right;\">4</td><td style = \"text-align: right;\">5</td><td style = \"text-align: right;\">58.0</td></tr></tbody></table></div>"
      ],
      "text/latex": [
       "\\begin{tabular}{r|ccc}\n",
       "\t& line\\_id & bus\\_line\\_id & start\\_time\\\\\n",
       "\t\\hline\n",
       "\t& Int64 & Int64 & Float64\\\\\n",
       "\t\\hline\n",
       "\t1 & 1 & 1 & 20.0 \\\\\n",
       "\t2 & 2 & 1 & 40.0 \\\\\n",
       "\t3 & 3 & 1 & 60.0 \\\\\n",
       "\t4 & 1 & 2 & 20.0 \\\\\n",
       "\t5 & 2 & 2 & 35.0 \\\\\n",
       "\t6 & 3 & 2 & 50.0 \\\\\n",
       "\t7 & 1 & 3 & 16.0 \\\\\n",
       "\t8 & 2 & 3 & 32.0 \\\\\n",
       "\t9 & 3 & 3 & 48.0 \\\\\n",
       "\t10 & 1 & 4 & 20.0 \\\\\n",
       "\t11 & 2 & 4 & 32.0 \\\\\n",
       "\t12 & 3 & 4 & 44.0 \\\\\n",
       "\t13 & 4 & 4 & 56.0 \\\\\n",
       "\t14 & 1 & 5 & 20.0 \\\\\n",
       "\t15 & 2 & 5 & 32.0 \\\\\n",
       "\t16 & 3 & 5 & 46.0 \\\\\n",
       "\t17 & 4 & 5 & 58.0 \\\\\n",
       "\\end{tabular}\n"
      ],
      "text/plain": [
       "\u001b[1m17×3 DataFrame\u001b[0m\n",
       "\u001b[1m Row \u001b[0m│\u001b[1m line_id \u001b[0m\u001b[1m bus_line_id \u001b[0m\u001b[1m start_time \u001b[0m\n",
       "     │\u001b[90m Int64   \u001b[0m\u001b[90m Int64       \u001b[0m\u001b[90m Float64    \u001b[0m\n",
       "─────┼──────────────────────────────────\n",
       "   1 │       1            1        20.0\n",
       "   2 │       2            1        40.0\n",
       "   3 │       3            1        60.0\n",
       "   4 │       1            2        20.0\n",
       "   5 │       2            2        35.0\n",
       "   6 │       3            2        50.0\n",
       "   7 │       1            3        16.0\n",
       "   8 │       2            3        32.0\n",
       "   9 │       3            3        48.0\n",
       "  10 │       1            4        20.0\n",
       "  11 │       2            4        32.0\n",
       "  12 │       3            4        44.0\n",
       "  13 │       4            4        56.0\n",
       "  14 │       1            5        20.0\n",
       "  15 │       2            5        32.0\n",
       "  16 │       3            5        46.0\n",
       "  17 │       4            5        58.0"
      ]
     },
     "metadata": {},
     "output_type": "display_data"
    }
   ],
   "source": [
    "lines"
   ]
  },
  {
   "cell_type": "code",
   "execution_count": 4,
   "metadata": {},
   "outputs": [
    {
     "data": {
      "text/html": [
       "<div><div style = \"float: left;\"><span>17×6 DataFrame</span></div><div style = \"clear: both;\"></div></div><div class = \"data-frame\" style = \"overflow-x: scroll;\"><table class = \"data-frame\" style = \"margin-bottom: 6px;\"><thead><tr class = \"header\"><th class = \"rowNumber\" style = \"font-weight: bold; text-align: right;\">Row</th><th style = \"text-align: left;\">demand_id</th><th style = \"text-align: left;\">line_id</th><th style = \"text-align: left;\">bus_line_id</th><th style = \"text-align: left;\">origin_stop_id</th><th style = \"text-align: left;\">destination_stop_id</th><th style = \"text-align: left;\">demand</th></tr><tr class = \"subheader headerLastRow\"><th class = \"rowNumber\" style = \"font-weight: bold; text-align: right;\"></th><th title = \"Int64\" style = \"text-align: left;\">Int64</th><th title = \"Int64\" style = \"text-align: left;\">Int64</th><th title = \"Int64\" style = \"text-align: left;\">Int64</th><th title = \"Int64\" style = \"text-align: left;\">Int64</th><th title = \"Int64\" style = \"text-align: left;\">Int64</th><th title = \"Int64\" style = \"text-align: left;\">Int64</th></tr></thead><tbody><tr><td class = \"rowNumber\" style = \"font-weight: bold; text-align: right;\">1</td><td style = \"text-align: right;\">1</td><td style = \"text-align: right;\">1</td><td style = \"text-align: right;\">1</td><td style = \"text-align: right;\">1</td><td style = \"text-align: right;\">4</td><td style = \"text-align: right;\">1</td></tr><tr><td class = \"rowNumber\" style = \"font-weight: bold; text-align: right;\">2</td><td style = \"text-align: right;\">2</td><td style = \"text-align: right;\">1</td><td style = \"text-align: right;\">1</td><td style = \"text-align: right;\">2</td><td style = \"text-align: right;\">3</td><td style = \"text-align: right;\">2</td></tr><tr><td class = \"rowNumber\" style = \"font-weight: bold; text-align: right;\">3</td><td style = \"text-align: right;\">3</td><td style = \"text-align: right;\">1</td><td style = \"text-align: right;\">1</td><td style = \"text-align: right;\">2</td><td style = \"text-align: right;\">4</td><td style = \"text-align: right;\">1</td></tr><tr><td class = \"rowNumber\" style = \"font-weight: bold; text-align: right;\">4</td><td style = \"text-align: right;\">4</td><td style = \"text-align: right;\">2</td><td style = \"text-align: right;\">1</td><td style = \"text-align: right;\">3</td><td style = \"text-align: right;\">4</td><td style = \"text-align: right;\">1</td></tr><tr><td class = \"rowNumber\" style = \"font-weight: bold; text-align: right;\">5</td><td style = \"text-align: right;\">5</td><td style = \"text-align: right;\">2</td><td style = \"text-align: right;\">1</td><td style = \"text-align: right;\">1</td><td style = \"text-align: right;\">3</td><td style = \"text-align: right;\">2</td></tr><tr><td class = \"rowNumber\" style = \"font-weight: bold; text-align: right;\">6</td><td style = \"text-align: right;\">6</td><td style = \"text-align: right;\">1</td><td style = \"text-align: right;\">2</td><td style = \"text-align: right;\">1</td><td style = \"text-align: right;\">2</td><td style = \"text-align: right;\">4</td></tr><tr><td class = \"rowNumber\" style = \"font-weight: bold; text-align: right;\">7</td><td style = \"text-align: right;\">7</td><td style = \"text-align: right;\">3</td><td style = \"text-align: right;\">2</td><td style = \"text-align: right;\">1</td><td style = \"text-align: right;\">3</td><td style = \"text-align: right;\">1</td></tr><tr><td class = \"rowNumber\" style = \"font-weight: bold; text-align: right;\">8</td><td style = \"text-align: right;\">8</td><td style = \"text-align: right;\">1</td><td style = \"text-align: right;\">3</td><td style = \"text-align: right;\">1</td><td style = \"text-align: right;\">6</td><td style = \"text-align: right;\">2</td></tr><tr><td class = \"rowNumber\" style = \"font-weight: bold; text-align: right;\">9</td><td style = \"text-align: right;\">9</td><td style = \"text-align: right;\">1</td><td style = \"text-align: right;\">3</td><td style = \"text-align: right;\">2</td><td style = \"text-align: right;\">5</td><td style = \"text-align: right;\">1</td></tr><tr><td class = \"rowNumber\" style = \"font-weight: bold; text-align: right;\">10</td><td style = \"text-align: right;\">10</td><td style = \"text-align: right;\">2</td><td style = \"text-align: right;\">3</td><td style = \"text-align: right;\">1</td><td style = \"text-align: right;\">2</td><td style = \"text-align: right;\">1</td></tr><tr><td class = \"rowNumber\" style = \"font-weight: bold; text-align: right;\">11</td><td style = \"text-align: right;\">11</td><td style = \"text-align: right;\">2</td><td style = \"text-align: right;\">3</td><td style = \"text-align: right;\">4</td><td style = \"text-align: right;\">6</td><td style = \"text-align: right;\">4</td></tr><tr><td class = \"rowNumber\" style = \"font-weight: bold; text-align: right;\">12</td><td style = \"text-align: right;\">12</td><td style = \"text-align: right;\">2</td><td style = \"text-align: right;\">4</td><td style = \"text-align: right;\">1</td><td style = \"text-align: right;\">2</td><td style = \"text-align: right;\">1</td></tr><tr><td class = \"rowNumber\" style = \"font-weight: bold; text-align: right;\">13</td><td style = \"text-align: right;\">13</td><td style = \"text-align: right;\">4</td><td style = \"text-align: right;\">4</td><td style = \"text-align: right;\">1</td><td style = \"text-align: right;\">2</td><td style = \"text-align: right;\">2</td></tr><tr><td class = \"rowNumber\" style = \"font-weight: bold; text-align: right;\">14</td><td style = \"text-align: right;\">15</td><td style = \"text-align: right;\">1</td><td style = \"text-align: right;\">5</td><td style = \"text-align: right;\">3</td><td style = \"text-align: right;\">5</td><td style = \"text-align: right;\">1</td></tr><tr><td class = \"rowNumber\" style = \"font-weight: bold; text-align: right;\">15</td><td style = \"text-align: right;\">16</td><td style = \"text-align: right;\">3</td><td style = \"text-align: right;\">5</td><td style = \"text-align: right;\">2</td><td style = \"text-align: right;\">4</td><td style = \"text-align: right;\">1</td></tr><tr><td class = \"rowNumber\" style = \"font-weight: bold; text-align: right;\">16</td><td style = \"text-align: right;\">17</td><td style = \"text-align: right;\">3</td><td style = \"text-align: right;\">5</td><td style = \"text-align: right;\">2</td><td style = \"text-align: right;\">3</td><td style = \"text-align: right;\">1</td></tr><tr><td class = \"rowNumber\" style = \"font-weight: bold; text-align: right;\">17</td><td style = \"text-align: right;\">18</td><td style = \"text-align: right;\">3</td><td style = \"text-align: right;\">5</td><td style = \"text-align: right;\">1</td><td style = \"text-align: right;\">4</td><td style = \"text-align: right;\">3</td></tr></tbody></table></div>"
      ],
      "text/latex": [
       "\\begin{tabular}{r|cccccc}\n",
       "\t& demand\\_id & line\\_id & bus\\_line\\_id & origin\\_stop\\_id & destination\\_stop\\_id & demand\\\\\n",
       "\t\\hline\n",
       "\t& Int64 & Int64 & Int64 & Int64 & Int64 & Int64\\\\\n",
       "\t\\hline\n",
       "\t1 & 1 & 1 & 1 & 1 & 4 & 1 \\\\\n",
       "\t2 & 2 & 1 & 1 & 2 & 3 & 2 \\\\\n",
       "\t3 & 3 & 1 & 1 & 2 & 4 & 1 \\\\\n",
       "\t4 & 4 & 2 & 1 & 3 & 4 & 1 \\\\\n",
       "\t5 & 5 & 2 & 1 & 1 & 3 & 2 \\\\\n",
       "\t6 & 6 & 1 & 2 & 1 & 2 & 4 \\\\\n",
       "\t7 & 7 & 3 & 2 & 1 & 3 & 1 \\\\\n",
       "\t8 & 8 & 1 & 3 & 1 & 6 & 2 \\\\\n",
       "\t9 & 9 & 1 & 3 & 2 & 5 & 1 \\\\\n",
       "\t10 & 10 & 2 & 3 & 1 & 2 & 1 \\\\\n",
       "\t11 & 11 & 2 & 3 & 4 & 6 & 4 \\\\\n",
       "\t12 & 12 & 2 & 4 & 1 & 2 & 1 \\\\\n",
       "\t13 & 13 & 4 & 4 & 1 & 2 & 2 \\\\\n",
       "\t14 & 15 & 1 & 5 & 3 & 5 & 1 \\\\\n",
       "\t15 & 16 & 3 & 5 & 2 & 4 & 1 \\\\\n",
       "\t16 & 17 & 3 & 5 & 2 & 3 & 1 \\\\\n",
       "\t17 & 18 & 3 & 5 & 1 & 4 & 3 \\\\\n",
       "\\end{tabular}\n"
      ],
      "text/plain": [
       "\u001b[1m17×6 DataFrame\u001b[0m\n",
       "\u001b[1m Row \u001b[0m│\u001b[1m demand_id \u001b[0m\u001b[1m line_id \u001b[0m\u001b[1m bus_line_id \u001b[0m\u001b[1m origin_stop_id \u001b[0m\u001b[1m destination_stop_id \u001b[0m\u001b[1m d\u001b[0m ⋯\n",
       "     │\u001b[90m Int64     \u001b[0m\u001b[90m Int64   \u001b[0m\u001b[90m Int64       \u001b[0m\u001b[90m Int64          \u001b[0m\u001b[90m Int64               \u001b[0m\u001b[90m I\u001b[0m ⋯\n",
       "─────┼──────────────────────────────────────────────────────────────────────────\n",
       "   1 │         1        1            1               1                    4    ⋯\n",
       "   2 │         2        1            1               2                    3\n",
       "   3 │         3        1            1               2                    4\n",
       "   4 │         4        2            1               3                    4\n",
       "   5 │         5        2            1               1                    3    ⋯\n",
       "   6 │         6        1            2               1                    2\n",
       "   7 │         7        3            2               1                    3\n",
       "   8 │         8        1            3               1                    6\n",
       "  ⋮  │     ⋮         ⋮          ⋮             ⋮                  ⋮             ⋱\n",
       "  11 │        11        2            3               4                    6    ⋯\n",
       "  12 │        12        2            4               1                    2\n",
       "  13 │        13        4            4               1                    2\n",
       "  14 │        15        1            5               3                    5\n",
       "  15 │        16        3            5               2                    4    ⋯\n",
       "  16 │        17        3            5               2                    3\n",
       "  17 │        18        3            5               1                    4\n",
       "\u001b[36m                                                     1 column and 2 rows omitted\u001b[0m"
      ]
     },
     "metadata": {},
     "output_type": "display_data"
    }
   ],
   "source": [
    "demand"
   ]
  },
  {
   "cell_type": "markdown",
   "metadata": {},
   "source": [
    "# Data understanding"
   ]
  },
  {
   "cell_type": "markdown",
   "metadata": {},
   "source": [
    "## Looking at the stops"
   ]
  },
  {
   "cell_type": "code",
   "execution_count": 5,
   "metadata": {},
   "outputs": [
    {
     "data": {
      "text/plain": [
       "\"/Users/alexanderklaus/Desktop/Masterthesis/Code/output/buslinien_plot.html\""
      ]
     },
     "metadata": {},
     "output_type": "display_data"
    }
   ],
   "source": [
    "using PlotlyJS\n",
    "using DataFrames\n",
    "using Statistics\n",
    "\n",
    "# Gruppiere nach bus_line_id\n",
    "grouped_data = groupby(bus_line_stops, :bus_line_id)\n",
    "\n",
    "# Sammle alle Traces\n",
    "traces = PlotlyJS.AbstractTrace[]  # use correct type\n",
    "\n",
    "# Linien- und Beschriftungstraces erzeugen\n",
    "for grp in grouped_data\n",
    "    sort!(grp, :stop_ids)\n",
    "\n",
    "    # Linien-Trace mit Markern\n",
    "    push!(traces, scatter(\n",
    "        x = grp.stop_x,\n",
    "        y = grp.stop_y,\n",
    "        mode = \"lines+markers+text\",\n",
    "        name = \"Linie $(unique(grp.bus_line_id)[1])\",\n",
    "        marker = attr(size = 8),\n",
    "        text = string.(grp.stop_ids),\n",
    "        textposition = \"top center\",\n",
    "        textfont = attr(color=\"black\", size=10)\n",
    "    ))\n",
    "\n",
    "    # Distanzen zwischen benachbarten Haltestellen\n",
    "    for i in 1:(nrow(grp) - 1)\n",
    "        x1, y1 = grp.stop_x[i], grp.stop_y[i]\n",
    "        x2, y2 = grp.stop_x[i+1], grp.stop_y[i+1]\n",
    "        dist = round(sqrt((x2 - x1)^2 + (y2 - y1)^2), digits=2)\n",
    "        mx, my = mean([x1, x2]), mean([y1, y2])\n",
    "\n",
    "        # Distanztext hinzufügen\n",
    "        push!(traces, scatter(\n",
    "            x = [mx], y = [my],\n",
    "            mode = \"text\",\n",
    "            text = [\"d = $dist\"],\n",
    "            textposition = \"bottom center\",\n",
    "            textfont = attr(size = 9, color = \"gray\"),\n",
    "            showlegend = false\n",
    "        ))\n",
    "    end\n",
    "end\n",
    "\n",
    "# Layout festlegen\n",
    "layout = Layout(\n",
    "    title = \"Buslinien und ihre Haltestellen\",\n",
    "    xaxis_title = \"X-Koordinate\",\n",
    "    yaxis_title = \"Y-Koordinate\",\n",
    "    legend = attr(x=1.02, y=1)\n",
    ")\n",
    "\n",
    "# Plot erstellen\n",
    "p = Plot(traces, layout)\n",
    "\n",
    "# In HTML-Datei speichern (im gleichen Ordner wie Code)\n",
    "PlotlyJS.savefig(p, \"/Users/alexanderklaus/Desktop/Masterthesis/Code/output/buslinien_plot.html\")\n"
   ]
  },
  {
   "cell_type": "markdown",
   "metadata": {},
   "source": [
    "# Preprocessing"
   ]
  },
  {
   "cell_type": "markdown",
   "metadata": {},
   "source": [
    "## Input settings"
   ]
  },
  {
   "cell_type": "markdown",
   "metadata": {},
   "source": [
    "### Adding the depot"
   ]
  },
  {
   "cell_type": "code",
   "execution_count": 6,
   "metadata": {},
   "outputs": [
    {
     "data": {
      "text/html": [
       "<div><div style = \"float: left;\"><span>18×3 DataFrame</span></div><div style = \"clear: both;\"></div></div><div class = \"data-frame\" style = \"overflow-x: scroll;\"><table class = \"data-frame\" style = \"margin-bottom: 6px;\"><thead><tr class = \"header\"><th class = \"rowNumber\" style = \"font-weight: bold; text-align: right;\">Row</th><th style = \"text-align: left;\">line_id</th><th style = \"text-align: left;\">bus_line_id</th><th style = \"text-align: left;\">start_time</th></tr><tr class = \"subheader headerLastRow\"><th class = \"rowNumber\" style = \"font-weight: bold; text-align: right;\"></th><th title = \"Int64\" style = \"text-align: left;\">Int64</th><th title = \"Int64\" style = \"text-align: left;\">Int64</th><th title = \"Float64\" style = \"text-align: left;\">Float64</th></tr></thead><tbody><tr><td class = \"rowNumber\" style = \"font-weight: bold; text-align: right;\">1</td><td style = \"text-align: right;\">0</td><td style = \"text-align: right;\">0</td><td style = \"text-align: right;\">0.0</td></tr><tr><td class = \"rowNumber\" style = \"font-weight: bold; text-align: right;\">2</td><td style = \"text-align: right;\">1</td><td style = \"text-align: right;\">1</td><td style = \"text-align: right;\">20.0</td></tr><tr><td class = \"rowNumber\" style = \"font-weight: bold; text-align: right;\">3</td><td style = \"text-align: right;\">2</td><td style = \"text-align: right;\">1</td><td style = \"text-align: right;\">40.0</td></tr><tr><td class = \"rowNumber\" style = \"font-weight: bold; text-align: right;\">4</td><td style = \"text-align: right;\">3</td><td style = \"text-align: right;\">1</td><td style = \"text-align: right;\">60.0</td></tr><tr><td class = \"rowNumber\" style = \"font-weight: bold; text-align: right;\">5</td><td style = \"text-align: right;\">1</td><td style = \"text-align: right;\">2</td><td style = \"text-align: right;\">20.0</td></tr><tr><td class = \"rowNumber\" style = \"font-weight: bold; text-align: right;\">6</td><td style = \"text-align: right;\">2</td><td style = \"text-align: right;\">2</td><td style = \"text-align: right;\">35.0</td></tr><tr><td class = \"rowNumber\" style = \"font-weight: bold; text-align: right;\">7</td><td style = \"text-align: right;\">3</td><td style = \"text-align: right;\">2</td><td style = \"text-align: right;\">50.0</td></tr><tr><td class = \"rowNumber\" style = \"font-weight: bold; text-align: right;\">8</td><td style = \"text-align: right;\">1</td><td style = \"text-align: right;\">3</td><td style = \"text-align: right;\">16.0</td></tr><tr><td class = \"rowNumber\" style = \"font-weight: bold; text-align: right;\">9</td><td style = \"text-align: right;\">2</td><td style = \"text-align: right;\">3</td><td style = \"text-align: right;\">32.0</td></tr><tr><td class = \"rowNumber\" style = \"font-weight: bold; text-align: right;\">10</td><td style = \"text-align: right;\">3</td><td style = \"text-align: right;\">3</td><td style = \"text-align: right;\">48.0</td></tr><tr><td class = \"rowNumber\" style = \"font-weight: bold; text-align: right;\">11</td><td style = \"text-align: right;\">1</td><td style = \"text-align: right;\">4</td><td style = \"text-align: right;\">20.0</td></tr><tr><td class = \"rowNumber\" style = \"font-weight: bold; text-align: right;\">12</td><td style = \"text-align: right;\">2</td><td style = \"text-align: right;\">4</td><td style = \"text-align: right;\">32.0</td></tr><tr><td class = \"rowNumber\" style = \"font-weight: bold; text-align: right;\">13</td><td style = \"text-align: right;\">3</td><td style = \"text-align: right;\">4</td><td style = \"text-align: right;\">44.0</td></tr><tr><td class = \"rowNumber\" style = \"font-weight: bold; text-align: right;\">14</td><td style = \"text-align: right;\">4</td><td style = \"text-align: right;\">4</td><td style = \"text-align: right;\">56.0</td></tr><tr><td class = \"rowNumber\" style = \"font-weight: bold; text-align: right;\">15</td><td style = \"text-align: right;\">1</td><td style = \"text-align: right;\">5</td><td style = \"text-align: right;\">20.0</td></tr><tr><td class = \"rowNumber\" style = \"font-weight: bold; text-align: right;\">16</td><td style = \"text-align: right;\">2</td><td style = \"text-align: right;\">5</td><td style = \"text-align: right;\">32.0</td></tr><tr><td class = \"rowNumber\" style = \"font-weight: bold; text-align: right;\">17</td><td style = \"text-align: right;\">3</td><td style = \"text-align: right;\">5</td><td style = \"text-align: right;\">46.0</td></tr><tr><td class = \"rowNumber\" style = \"font-weight: bold; text-align: right;\">18</td><td style = \"text-align: right;\">4</td><td style = \"text-align: right;\">5</td><td style = \"text-align: right;\">58.0</td></tr></tbody></table></div>"
      ],
      "text/latex": [
       "\\begin{tabular}{r|ccc}\n",
       "\t& line\\_id & bus\\_line\\_id & start\\_time\\\\\n",
       "\t\\hline\n",
       "\t& Int64 & Int64 & Float64\\\\\n",
       "\t\\hline\n",
       "\t1 & 0 & 0 & 0.0 \\\\\n",
       "\t2 & 1 & 1 & 20.0 \\\\\n",
       "\t3 & 2 & 1 & 40.0 \\\\\n",
       "\t4 & 3 & 1 & 60.0 \\\\\n",
       "\t5 & 1 & 2 & 20.0 \\\\\n",
       "\t6 & 2 & 2 & 35.0 \\\\\n",
       "\t7 & 3 & 2 & 50.0 \\\\\n",
       "\t8 & 1 & 3 & 16.0 \\\\\n",
       "\t9 & 2 & 3 & 32.0 \\\\\n",
       "\t10 & 3 & 3 & 48.0 \\\\\n",
       "\t11 & 1 & 4 & 20.0 \\\\\n",
       "\t12 & 2 & 4 & 32.0 \\\\\n",
       "\t13 & 3 & 4 & 44.0 \\\\\n",
       "\t14 & 4 & 4 & 56.0 \\\\\n",
       "\t15 & 1 & 5 & 20.0 \\\\\n",
       "\t16 & 2 & 5 & 32.0 \\\\\n",
       "\t17 & 3 & 5 & 46.0 \\\\\n",
       "\t18 & 4 & 5 & 58.0 \\\\\n",
       "\\end{tabular}\n"
      ],
      "text/plain": [
       "\u001b[1m18×3 DataFrame\u001b[0m\n",
       "\u001b[1m Row \u001b[0m│\u001b[1m line_id \u001b[0m\u001b[1m bus_line_id \u001b[0m\u001b[1m start_time \u001b[0m\n",
       "     │\u001b[90m Int64   \u001b[0m\u001b[90m Int64       \u001b[0m\u001b[90m Float64    \u001b[0m\n",
       "─────┼──────────────────────────────────\n",
       "   1 │       0            0         0.0\n",
       "   2 │       1            1        20.0\n",
       "   3 │       2            1        40.0\n",
       "   4 │       3            1        60.0\n",
       "   5 │       1            2        20.0\n",
       "   6 │       2            2        35.0\n",
       "   7 │       3            2        50.0\n",
       "   8 │       1            3        16.0\n",
       "  ⋮  │    ⋮          ⋮           ⋮\n",
       "  12 │       2            4        32.0\n",
       "  13 │       3            4        44.0\n",
       "  14 │       4            4        56.0\n",
       "  15 │       1            5        20.0\n",
       "  16 │       2            5        32.0\n",
       "  17 │       3            5        46.0\n",
       "  18 │       4            5        58.0\n",
       "\u001b[36m                          3 rows omitted\u001b[0m"
      ]
     },
     "metadata": {},
     "output_type": "display_data"
    }
   ],
   "source": [
    "depot=(bus_line_id=0,stop_ids=0,stop_x=30,stop_y=30)\n",
    "insert!(bus_line_stops,1,depot)\n",
    "depot=(line_id=0,bus_line_id=0, start_time=0)\n",
    "insert!(lines,1,depot)"
   ]
  },
  {
   "cell_type": "markdown",
   "metadata": {},
   "source": [
    "### Bus velocity"
   ]
  },
  {
   "cell_type": "code",
   "execution_count": 7,
   "metadata": {},
   "outputs": [
    {
     "data": {
      "text/plain": [
       "100"
      ]
     },
     "metadata": {},
     "output_type": "display_data"
    }
   ],
   "source": [
    "bus_velocity = 100 #in km/h"
   ]
  },
  {
   "cell_type": "markdown",
   "metadata": {},
   "source": [
    "## Processing data"
   ]
  },
  {
   "cell_type": "markdown",
   "metadata": {},
   "source": [
    "### Creating nodes for all stops, on every busline, for every tour"
   ]
  },
  {
   "cell_type": "code",
   "execution_count": 8,
   "metadata": {},
   "outputs": [],
   "source": [
    "nodes = []\n",
    "\n",
    "for r in eachrow(lines)\n",
    "    for row in eachrow(bus_line_stops)\n",
    "        if r.bus_line_id == row.bus_line_id\n",
    "            start_time_temp=0.0\n",
    "            if row.stop_ids == 1\n",
    "                start_time_temp = r.start_time\n",
    "            else\n",
    "                # alle Stopps dieser Linie sortieren\n",
    "                stops = sort(filter(r2 -> r2.bus_line_id == row.bus_line_id, eachrow(bus_line_stops)), by = r2 -> r2.stop_ids)\n",
    "                \n",
    "                # Travel time vom ersten Knoten bis aktuellen Knoten:\n",
    "                total_distance = 0.0\n",
    "                for k in 1:(row.stop_ids - 1)\n",
    "                    x1, y1 = stops[k].stop_x, stops[k].stop_y\n",
    "                    x2, y2 = stops[k+1].stop_x, stops[k+1].stop_y\n",
    "                    total_distance += sqrt((x2 - x1)^2 + (y2 - y1)^2)\n",
    "                end\n",
    "                travel_time = (total_distance / bus_velocity) * 60  # Minuten\n",
    "\n",
    "                # Startzeit = Startzeit erster Knoten + Travel Time\n",
    "                start_time_temp = r.start_time + travel_time\n",
    "            end\n",
    "            push!(nodes, (\n",
    "                bus_line_id = row.bus_line_id,\n",
    "                line_id     = r.line_id,\n",
    "                stop_id     = row.stop_ids,\n",
    "                coord_x     = row.stop_x,\n",
    "                coord_y     = row.stop_y,\n",
    "                start_time  = start_time_temp\n",
    "            ))\n",
    "                \n",
    "        end\n",
    "    end\n",
    "end"
   ]
  },
  {
   "cell_type": "code",
   "execution_count": 9,
   "metadata": {},
   "outputs": [
    {
     "name": "stdout",
     "output_type": "stream",
     "text": [
      "Nodes:"
     ]
    },
    {
     "data": {
      "text/plain": [
       "68-element Vector{Any}:\n",
       " (bus_line_id = 0, line_id = 0, stop_id = 0, coord_x = 30.0, coord_y = 30.0, start_time = 0.0)\n",
       " (bus_line_id = 1, line_id = 1, stop_id = 1, coord_x = 2.2, coord_y = 36.8, start_time = 20.0)\n",
       " (bus_line_id = 1, line_id = 1, stop_id = 2, coord_x = 4.4, coord_y = 40.1, start_time = 22.379663841806234)\n",
       " (bus_line_id = 1, line_id = 1, stop_id = 3, coord_x = 12.5, coord_y = 42.7, start_time = 27.483897378783162)\n",
       " (bus_line_id = 1, line_id = 1, stop_id = 4, coord_x = 20.2, coord_y = 44.0, start_time = 32.16927890006828)\n",
       " (bus_line_id = 1, line_id = 2, stop_id = 1, coord_x = 2.2, coord_y = 36.8, start_time = 40.0)\n",
       " (bus_line_id = 1, line_id = 2, stop_id = 2, coord_x = 4.4, coord_y = 40.1, start_time = 42.379663841806234)\n",
       " (bus_line_id = 1, line_id = 2, stop_id = 3, coord_x = 12.5, coord_y = 42.7, start_time = 47.48389737878316)\n",
       " (bus_line_id = 1, line_id = 2, stop_id = 4, coord_x = 20.2, coord_y = 44.0, start_time = 52.16927890006828)\n",
       " (bus_line_id = 1, line_id = 3, stop_id = 1, coord_x = 2.2, coord_y = 36.8, start_time = 60.0)\n",
       " ⋮\n",
       " (bus_line_id = 5, line_id = 3, stop_id = 2, coord_x = 16.0, coord_y = 12.1, start_time = 51.42560595694158)\n",
       " (bus_line_id = 5, line_id = 3, stop_id = 3, coord_x = 10.4, coord_y = 10.2, start_time = 54.97373222301499)\n",
       " (bus_line_id = 5, line_id = 3, stop_id = 4, coord_x = 7.8, coord_y = 22.3, start_time = 62.399444310081115)\n",
       " (bus_line_id = 5, line_id = 3, stop_id = 5, coord_x = 9.6, coord_y = 30.8, start_time = 67.61254319654012)\n",
       " (bus_line_id = 5, line_id = 4, stop_id = 1, coord_x = 23.9, coord_y = 16.5, start_time = 58.0)\n",
       " (bus_line_id = 5, line_id = 4, stop_id = 2, coord_x = 16.0, coord_y = 12.1, start_time = 63.42560595694158)\n",
       " (bus_line_id = 5, line_id = 4, stop_id = 3, coord_x = 10.4, coord_y = 10.2, start_time = 66.97373222301499)\n",
       " (bus_line_id = 5, line_id = 4, stop_id = 4, coord_x = 7.8, coord_y = 22.3, start_time = 74.39944431008112)\n",
       " (bus_line_id = 5, line_id = 4, stop_id = 5, coord_x = 9.6, coord_y = 30.8, start_time = 79.61254319654012)"
      ]
     },
     "metadata": {},
     "output_type": "display_data"
    }
   ],
   "source": [
    "print(\"Nodes:\")\n",
    "nodes"
   ]
  },
  {
   "cell_type": "markdown",
   "metadata": {},
   "source": [
    "### Creating connections"
   ]
  },
  {
   "cell_type": "code",
   "execution_count": 10,
   "metadata": {},
   "outputs": [
    {
     "data": {
      "text/plain": [
       "eucleadian_distance (generic function with 1 method)"
      ]
     },
     "metadata": {},
     "output_type": "display_data"
    }
   ],
   "source": [
    "function eucleadian_distance(x1, y1, x2, y2)\n",
    "    return sqrt((x1 - x2)^2 + (y1 - y2)^2)\n",
    "end"
   ]
  },
  {
   "cell_type": "code",
   "execution_count": 11,
   "metadata": {},
   "outputs": [
    {
     "name": "stdout",
     "output_type": "stream",
     "text": [
      "Connections dictionary:\n"
     ]
    },
    {
     "data": {
      "text/plain": [
       "4278-element Vector{Pair{Any, Any}}:\n",
       " ((0, 0, 0), (1, 1, 1)) => Connection(28.619573721493477, 17.17174423289609, 17.17174423289609)\n",
       " ((0, 0, 0), (1, 1, 2)) => Connection(27.520356102347225, 16.512213661408335, 16.512213661408335)\n",
       " ((0, 0, 0), (1, 1, 3)) => Connection(21.622673285234647, 12.973603971140788, 12.973603971140788)\n",
       " ((0, 0, 0), (1, 1, 4)) => Connection(17.089177862027185, 10.253506717216311, 10.253506717216311)\n",
       " ((0, 0, 0), (1, 2, 1)) => Connection(28.619573721493477, 17.17174423289609, 17.17174423289609)\n",
       " ((0, 0, 0), (1, 2, 2)) => Connection(27.520356102347225, 16.512213661408335, 16.512213661408335)\n",
       " ((0, 0, 0), (1, 2, 3)) => Connection(21.622673285234647, 12.973603971140788, 12.973603971140788)\n",
       " ((0, 0, 0), (1, 2, 4)) => Connection(17.089177862027185, 10.253506717216311, 10.253506717216311)\n",
       " ((0, 0, 0), (1, 3, 1)) => Connection(28.619573721493477, 17.17174423289609, 17.17174423289609)\n",
       " ((0, 0, 0), (1, 3, 2)) => Connection(27.520356102347225, 16.512213661408335, 16.512213661408335)\n",
       "                        ⋮\n",
       " ((5, 4, 5), (5, 1, 4)) => Connection(8.688498144098322, 5.213098886458994, 84.82564208299911)\n",
       " ((5, 4, 5), (5, 2, 1)) => Connection(20.22325394193526, 12.133952365161155, 91.74649556170127)\n",
       " ((5, 4, 5), (5, 2, 2)) => Connection(19.764867821465444, 11.858920692879266, 91.47146388941938)\n",
       " ((5, 4, 5), (5, 2, 3)) => Connection(20.615528128088304, 12.369316876852983, 91.9818600733931)\n",
       " ((5, 4, 5), (5, 2, 4)) => Connection(8.688498144098322, 5.213098886458994, 84.82564208299911)\n",
       " ((5, 4, 5), (5, 3, 1)) => Connection(20.22325394193526, 12.133952365161155, 91.74649556170127)\n",
       " ((5, 4, 5), (5, 3, 2)) => Connection(19.764867821465444, 11.858920692879266, 91.47146388941938)\n",
       " ((5, 4, 5), (5, 3, 3)) => Connection(20.615528128088304, 12.369316876852983, 91.9818600733931)\n",
       " ((5, 4, 5), (5, 3, 4)) => Connection(8.688498144098322, 5.213098886458994, 84.82564208299911)"
      ]
     },
     "metadata": {},
     "output_type": "display_data"
    }
   ],
   "source": [
    "# Define a struct to hold the travel_time and end_time\n",
    "struct Connection\n",
    "    distance::Float64\n",
    "    travel_time::Float64\n",
    "    end_time::Float64\n",
    "end\n",
    "\n",
    "# Update the dictionary to use the struct as the value type\n",
    "connections_dict = Dict()\n",
    "\n",
    "for node1 in nodes\n",
    "    for node2 in nodes\n",
    "        if node1 != node2\n",
    "            #skip if the nodes are the same\n",
    "            origin_node = (node1.bus_line_id, node1.line_id, node1.stop_id)\n",
    "            goal_node = (node2.bus_line_id, node2.line_id, node2.stop_id)\n",
    "            \n",
    "            if node1.bus_line_id == node2.bus_line_id\n",
    "                if node1.line_id == node2.line_id\n",
    "                    if node1.stop_id == node2.stop_id\n",
    "                        # Nodes are the same\n",
    "                        break\n",
    "                    else\n",
    "                        # Nodes are on the same tour\n",
    "                        stops = sort(filter(n -> n.bus_line_id == node1.bus_line_id, nodes), by = n -> n.stop_id)\n",
    "                        start_index = findfirst(n -> n.stop_id == node1.stop_id, stops)\n",
    "                        end_index = findfirst(n -> n.stop_id == node2.stop_id, stops)\n",
    "                        \n",
    "                        if start_index < end_index\n",
    "                            #if origin node comes before goal node\n",
    "                            total_distance = 0.0\n",
    "                            for i in start_index:(end_index - 1)\n",
    "                                x1, y1 = stops[i].coord_x, stops[i].coord_y\n",
    "                                x2, y2 = stops[i + 1].coord_x, stops[i + 1].coord_y\n",
    "                                total_distance += eucleadian_distance(x1, y1, x2, y2)\n",
    "                            end\n",
    "                            distance= total_distance\n",
    "                            travel_time = (total_distance / bus_velocity) * 60 #travel_time in minutes\n",
    "                            end_time = node1.start_time + travel_time\n",
    "                            connections_dict[(origin_node, goal_node)] = Connection(distance, travel_time, end_time)\n",
    "                        end\n",
    "                    end\n",
    "                else\n",
    "                    if node1.stop_id != node2.stop_id\n",
    "                        #nodes are on the same bus line but not the same tour\n",
    "                        distance = eucleadian_distance(node1.coord_x, node1.coord_y, node2.coord_x, node2.coord_y)\n",
    "                        travel_time = (distance / bus_velocity) * 60 #travel_time in minutes\n",
    "                        end_time = node1.start_time + travel_time\n",
    "                        connections_dict[(origin_node, goal_node)] = Connection(distance, travel_time, end_time)\n",
    "                    end\n",
    "                end\n",
    "            else\n",
    "                # Nodes are on different bus lines\n",
    "                distance = eucleadian_distance(node1.coord_x, node1.coord_y, node2.coord_x, node2.coord_y)\n",
    "                travel_time = (distance / bus_velocity) * 60 #travel_time in minutes\n",
    "                end_time = node1.start_time + travel_time\n",
    "                connections_dict[(origin_node, goal_node)] = Connection(distance, travel_time, end_time)\n",
    "            end\n",
    "        end\n",
    "    end\n",
    "end\n",
    "\n",
    "println(\"Connections dictionary:\")\n",
    "sort(collect(connections_dict), by = x -> x.first)"
   ]
  },
  {
   "cell_type": "markdown",
   "metadata": {},
   "source": [
    "### Dictionary mit Stopp-IDs je Linie"
   ]
  },
  {
   "cell_type": "code",
   "execution_count": 12,
   "metadata": {},
   "outputs": [
    {
     "name": "stdout",
     "output_type": "stream",
     "text": [
      "Dictionary of lines with their respective stop-sequences:\n"
     ]
    },
    {
     "data": {
      "text/plain": [
       "OrderedCollections.OrderedDict{Int64, Vector{Int64}} with 5 entries:\n",
       "  1 => [1, 2, 3, 4]\n",
       "  2 => [1, 2, 3]\n",
       "  3 => [1, 2, 3, 4, 5, 6]\n",
       "  4 => [1, 2]\n",
       "  5 => [1, 2, 3, 4, 5]"
      ]
     },
     "metadata": {},
     "output_type": "display_data"
    }
   ],
   "source": [
    "line_stops_dict = Dict{Int, Vector{Int}}()\n",
    "\n",
    "for row in eachrow(bus_line_stops)\n",
    "    l = row.bus_line_id\n",
    "    stop = row.stop_ids\n",
    "    # Depot-Zeile überspringen\n",
    "    if l == 0 && stop == 0\n",
    "        continue\n",
    "    end\n",
    "    if haskey(line_stops_dict, l)\n",
    "        push!(line_stops_dict[l], stop)\n",
    "    else\n",
    "        line_stops_dict[l] = [stop]\n",
    "    end\n",
    "end\n",
    "println(\"Dictionary of lines with their respective stop-sequences:\")\n",
    "sort(line_stops_dict)"
   ]
  },
  {
   "cell_type": "markdown",
   "metadata": {},
   "source": [
    "### Identifying Critical pairs"
   ]
  },
  {
   "cell_type": "code",
   "execution_count": 60,
   "metadata": {},
   "outputs": [
    {
     "name": "stdout",
     "output_type": "stream",
     "text": [
      "Critical pairs dictionary:\n",
      "Inner trip: ((5, 3, 2), (5, 3, 3))  contained in outer trip: ((5, 3, 1), (5, 3, 4))\n",
      "Inner trip: ((1, 1, 2), (1, 1, 3))  contained in outer trip: ((1, 1, 1), (1, 1, 4))\n",
      "Inner trip: ((3, 1, 2), (3, 1, 5))  contained in outer trip: ((3, 1, 1), (3, 1, 6))\n",
      "\n",
      "\n",
      " A_set:\n",
      "((0, 1, 0), (1, 1, 2))\n",
      "((0, 2, 0), (3, 1, 2))\n",
      "((0, 3, 0), (5, 3, 2))\n",
      "((1, 1, 1), (1, 1, 2))\n",
      "((1, 1, 2), (1, 1, 3))\n",
      "((1, 1, 2), (1, 1, 4))\n",
      "((1, 1, 3), (1, 1, 4))\n",
      "((1, 1, 3), (0, 0, 1))\n",
      "((1, 1, 4), (0, 0, 1))\n",
      "((3, 1, 2), (3, 1, 6))\n",
      "((3, 1, 2), (3, 1, 5))\n",
      "((3, 1, 5), (0, 0, 2))\n",
      "((3, 1, 6), (0, 0, 2))\n",
      "((5, 3, 1), (5, 3, 2))\n",
      "((5, 3, 2), (5, 3, 3))\n",
      "((5, 3, 2), (5, 3, 4))\n",
      "((5, 3, 3), (5, 3, 4))\n",
      "((5, 3, 3), (0, 0, 3))\n",
      "((5, 3, 4), (0, 0, 3))\n"
     ]
    }
   ],
   "source": [
    "# Initialisierung\n",
    "critical_pairs_dict = Dict{Tuple{Tuple{Int, Int, Int}, Tuple{Int, Int, Int}}, Tuple{Tuple{Int, Int, Int}, Tuple{Int, Int, Int}}}()\n",
    "A_set = Set{Tuple{Tuple{Int, Int, Int}, Tuple{Int, Int, Int}}}()\n",
    "V_all = []\n",
    "V_flow = Set{Tuple{Int, Int, Int}}()\n",
    "dup_start_set=[]\n",
    "dup_end_set=[]\n",
    "duplikate_counter = 1\n",
    "\n",
    "# Iteriere über alle Buslinien\n",
    "for bus_line in unique(demand.bus_line_id)\n",
    "    line_trips = filter(row -> row.bus_line_id == bus_line, demand)\n",
    "    #jetz gehe jede alle touren dieser bus linie durch\n",
    "    for i in 1:size(line_trips, 1)-1\n",
    "        for j in i+1:size(line_trips, 1)\n",
    "            trip1 = line_trips[i, :]\n",
    "            trip2 = line_trips[j, :]\n",
    "\n",
    "            if trip1.line_id == trip2.line_id\n",
    "\n",
    "                o1, d1 = trip1.origin_stop_id, trip1.destination_stop_id\n",
    "                o2, d2 = trip2.origin_stop_id, trip2.destination_stop_id\n",
    "\n",
    "                # check if trip1 enthält trip2\n",
    "                if o1 < o2 && d1 > d2\n",
    "\n",
    "                    inner_trip = ((trip2.bus_line_id, trip2.line_id, o2), (trip2.bus_line_id, trip2.line_id, d2))\n",
    "                    outer_trip = ((trip1.bus_line_id, trip1.line_id, o1), (trip1.bus_line_id, trip1.line_id, d1))\n",
    "                    #println(\"Critical pair found: \", inner_trip, \" contained in \", outer_trip)\n",
    "                    critical_pairs_dict[inner_trip] = outer_trip\n",
    "\n",
    "                    # Duplikate erzeugen\n",
    "                    dup1_start = inner_trip[1]\n",
    "                    dup1_end = (trip2.bus_line_id, trip2.line_id,d1) #setze das ende vom ersten duplikat auf das ende des äußeren trips\n",
    "                    dup2_start = inner_trip[1] #ist gleich dup1_start\n",
    "                    dup2_end = inner_trip[2]\n",
    "                    dup1 = (dup1_start, dup1_end)\n",
    "                    dup2 = (dup2_start, dup2_end)\n",
    "                    source_node = (0,duplikate_counter,0)\n",
    "                    sink_node   = (0,0,duplikate_counter)\n",
    "                    duplikate_counter += 1\n",
    "\n",
    "                    push!(V_all, source_node)\n",
    "                    push!(V_all, sink_node)\n",
    "                    push!(A_set, dup1)\n",
    "                    push!(A_set, dup2)\n",
    "                    push!(A_set, (source_node, dup1_start))\n",
    "                    push!(dup_start_set,(source_node, dup1_start))\n",
    "                    push!(A_set, (dup1_end, sink_node))\n",
    "                    push!(A_set, (dup2_end, sink_node))\n",
    "                    push!(dup_end_set,(dup1_end, sink_node)) #für constraint bildung\n",
    "                    push!(dup_end_set,(dup2_end, sink_node)) #für constraint bildung\n",
    "\n",
    "\n",
    "                # check if trip2 enthält trip1\n",
    "                elseif o2 < o1 && d2 > d1\n",
    "                    inner_trip = ((trip1.bus_line_id, trip1.line_id, o1), (trip1.bus_line_id, trip1.line_id, d1))\n",
    "                    outer_trip = ((trip2.bus_line_id, trip2.line_id, o2), (trip2.bus_line_id, trip2.line_id, d2))\n",
    "                    #println(\"Critical pair found: \", inner_trip, \" contained in \", outer_trip)\n",
    "                    critical_pairs_dict[inner_trip] = outer_trip\n",
    "\n",
    "                    #Duplikate erzeugen\n",
    "                    dup1_start = inner_trip[1]\n",
    "                    dup1_end = (trip1.bus_line_id, trip1.line_id,d2) #setze das ende vom ersten duplikat auf das ende des äußeren trips\n",
    "                    dup2_start = inner_trip[1] #ist gleich dup1_start\n",
    "                    dup2_end = inner_trip[2]\n",
    "                    dup1 = (dup1_start, dup1_end)\n",
    "                    dup2 = (dup2_start, dup2_end)\n",
    "                    source_node = (0,duplikate_counter,0)\n",
    "                    sink_node   = (0,0,duplikate_counter)\n",
    "                    duplikate_counter += 1\n",
    "\n",
    "                    push!(V_all, source_node)\n",
    "                    push!(V_all, sink_node)\n",
    "                    push!(A_set, dup1)\n",
    "                    push!(A_set, dup2)\n",
    "                    push!(A_set, (source_node, dup1_start))\n",
    "                    push!(dup_start_set,(source_node, dup1_start))\n",
    "                    push!(A_set, (dup1_end, sink_node))\n",
    "                    push!(A_set, (dup2_end, sink_node))\n",
    "                    push!(dup_end_set,(dup1_end, sink_node)) #für constraint bildung\n",
    "                    push!(dup_end_set,(dup2_end, sink_node)) #für constraint bildung\n",
    "                    \n",
    "                #check if trip1 und trip2 sich überschneiden, aber nicht enthalten\n",
    "                elseif (o1 < o2 && d1 < d2 && d1 > o2)\n",
    "                    # Verknüpfe: erst origin1 → origin2, dann destination1 → destination2\n",
    "                    push!(A_set, ((trip1.bus_line_id, trip1.line_id, o1), (trip2.bus_line_id, trip2.line_id, o2)))\n",
    "                    push!(A_set, ((trip1.bus_line_id, trip1.line_id, d1), (trip2.bus_line_id, trip2.line_id, d2)))\n",
    "                elseif (o2 < o1 && d2 < d1 && d2 > o1)\n",
    "                    # Fall umgekehrt: trip2 beginnt früher, endet aber innerhalb von trip1\n",
    "                    push!(A_set, ((trip2.bus_line_id, trip2.line_id, o2), (trip1.bus_line_id, trip1.line_id, o1)))\n",
    "                    push!(A_set, ((trip2.bus_line_id, trip2.line_id, d2), (trip1.bus_line_id, trip1.line_id, d1)))\n",
    "                elseif d1==d2\n",
    "                    if o1<o2\n",
    "                        push!(A_set, ((trip1.bus_line_id, trip1.line_id, o1), (trip2.bus_line_id, trip2.line_id, o2)))\n",
    "                    elseif o2<o1\n",
    "                        push!(A_set, ((trip2.bus_line_id, trip2.line_id, o2), (trip1.bus_line_id, trip1.line_id, o1)))\n",
    "                    end\n",
    "                elseif o1==o2 \n",
    "                    if d1<d2\n",
    "                        push!(A_set, ((trip1.bus_line_id, trip1.line_id, d1), (trip2.bus_line_id, trip2.line_id, d2)))\n",
    "                    elseif d2<d1\n",
    "                        push!(A_set, ((trip2.bus_line_id, trip2.line_id, d2), (trip1.bus_line_id, trip1.line_id, d1)))\n",
    "                    end\n",
    "                end\n",
    "            else\n",
    "                continue\n",
    "            end\n",
    "        end\n",
    "    end\n",
    "end\n",
    "\n",
    "# Ausgabe prüfen\n",
    "println(\"Critical pairs dictionary:\")\n",
    "for (k, v) in critical_pairs_dict\n",
    "    println(\"Inner trip: \", k, \"  contained in outer trip: \", v)\n",
    "end\n",
    "sorted_A=sort(collect(A_set), by = x -> x[1])\n",
    "println(\"\\n\\n A_set:\")\n",
    "for a in sorted_A\n",
    "    println(a)\n",
    "end\n"
   ]
  },
  {
   "cell_type": "markdown",
   "metadata": {},
   "source": [
    "### Populating set A"
   ]
  },
  {
   "cell_type": "code",
   "execution_count": 61,
   "metadata": {},
   "outputs": [
    {
     "name": "stdout",
     "output_type": "stream",
     "text": [
      " Verbindung ((1, 1, 2), (1, 1, 3)) bereits in A_set.\n",
      " Verbindung ((1, 1, 2), (1, 1, 4)) bereits in A_set.\n",
      " Verbindung ((3, 1, 2), (3, 1, 5)) bereits in A_set.\n",
      " Verbindung ((5, 3, 2), (5, 3, 4)) bereits in A_set.\n",
      " Verbindung ((5, 3, 2), (5, 3, 3)) bereits in A_set.\n"
     ]
    }
   ],
   "source": [
    "depot = (0, 0, 0)\n",
    "for row in eachrow(demand)\n",
    "    from_node = (row.bus_line_id, row.line_id, row.origin_stop_id)\n",
    "    to_node   = (row.bus_line_id, row.line_id, row.destination_stop_id)\n",
    "    trip_key  = (from_node, to_node)\n",
    "    # Depot -> origin\n",
    "    push!(A_set, (depot, from_node))\n",
    "    # destination -> Depot\n",
    "    push!(A_set, (to_node, depot))\n",
    "    if !((from_node, to_node) in A_set)\n",
    "        # origin -> destination\n",
    "        if haskey(connections_dict, (from_node, to_node))\n",
    "            push!(A_set, (from_node, to_node))\n",
    "        else\n",
    "            println(\"WARNUNG - Verbindung fehlt in connections_dict: \", (from_node, to_node))\n",
    "        end\n",
    "    else\n",
    "        connection=(from_node, to_node)\n",
    "        println(\" Verbindung $connection bereits in A_set.\")\n",
    "    end\n",
    "end\n"
   ]
  },
  {
   "cell_type": "code",
   "execution_count": 62,
   "metadata": {},
   "outputs": [
    {
     "name": "stdout",
     "output_type": "stream",
     "text": [
      "\n",
      "\n",
      " A_set:\n",
      "((0, 0, 0), (1, 1, 1))\n",
      "((0, 0, 0), (1, 1, 2))\n",
      "((0, 0, 0), (1, 2, 1))\n",
      "((0, 0, 0), (1, 2, 3))\n",
      "((0, 0, 0), (2, 1, 1))\n",
      "((0, 0, 0), (2, 3, 1))\n",
      "((0, 0, 0), (3, 1, 1))\n",
      "((0, 0, 0), (3, 1, 2))\n",
      "((0, 0, 0), (3, 2, 1))\n",
      "((0, 0, 0), (3, 2, 4))\n",
      "((0, 0, 0), (4, 2, 1))\n",
      "((0, 0, 0), (4, 4, 1))\n",
      "((0, 0, 0), (5, 1, 3))\n",
      "((0, 0, 0), (5, 3, 1))\n",
      "((0, 0, 0), (5, 3, 2))\n",
      "((0, 1, 0), (1, 1, 2))\n",
      "((0, 2, 0), (3, 1, 2))\n",
      "((0, 3, 0), (5, 3, 2))\n",
      "((1, 1, 1), (1, 1, 2))\n",
      "((1, 1, 1), (1, 1, 4))\n",
      "((1, 1, 2), (1, 1, 3))\n",
      "((1, 1, 2), (1, 1, 4))\n",
      "((1, 1, 3), (0, 0, 0))\n",
      "((1, 1, 3), (0, 0, 1))\n",
      "((1, 1, 3), (1, 1, 4))\n",
      "((1, 1, 4), (0, 0, 0))\n",
      "((1, 1, 4), (0, 0, 1))\n",
      "((1, 2, 1), (1, 2, 3))\n",
      "((1, 2, 3), (0, 0, 0))\n",
      "((1, 2, 3), (1, 2, 4))\n",
      "((1, 2, 4), (0, 0, 0))\n",
      "((2, 1, 1), (2, 1, 2))\n",
      "((2, 1, 2), (0, 0, 0))\n",
      "((2, 3, 1), (2, 3, 3))\n",
      "((2, 3, 3), (0, 0, 0))\n",
      "((3, 1, 1), (3, 1, 6))\n",
      "((3, 1, 2), (3, 1, 5))\n",
      "((3, 1, 2), (3, 1, 6))\n",
      "((3, 1, 5), (0, 0, 0))\n",
      "((3, 1, 5), (0, 0, 2))\n",
      "((3, 1, 6), (0, 0, 0))\n",
      "((3, 1, 6), (0, 0, 2))\n",
      "((3, 2, 1), (3, 2, 2))\n",
      "((3, 2, 2), (0, 0, 0))\n",
      "((3, 2, 4), (3, 2, 6))\n",
      "((3, 2, 6), (0, 0, 0))\n",
      "((4, 2, 1), (4, 2, 2))\n",
      "((4, 2, 2), (0, 0, 0))\n",
      "((4, 4, 1), (4, 4, 2))\n",
      "((4, 4, 2), (0, 0, 0))\n",
      "((5, 1, 3), (5, 1, 5))\n",
      "((5, 1, 5), (0, 0, 0))\n",
      "((5, 3, 1), (5, 3, 2))\n",
      "((5, 3, 1), (5, 3, 4))\n",
      "((5, 3, 2), (5, 3, 3))\n",
      "((5, 3, 2), (5, 3, 4))\n",
      "((5, 3, 3), (0, 0, 0))\n",
      "((5, 3, 3), (0, 0, 3))\n",
      "((5, 3, 3), (5, 3, 4))\n",
      "((5, 3, 4), (0, 0, 0))\n",
      "((5, 3, 4), (0, 0, 3))\n"
     ]
    }
   ],
   "source": [
    "sorted_A=sort(collect(A_set))\n",
    "println(\"\\n\\n A_set:\")\n",
    "for a in sorted_A\n",
    "    println(a)\n",
    "end"
   ]
  },
  {
   "cell_type": "code",
   "execution_count": null,
   "metadata": {},
   "outputs": [],
   "source": []
  },
  {
   "cell_type": "code",
   "execution_count": 68,
   "metadata": {},
   "outputs": [
    {
     "name": "stdout",
     "output_type": "stream",
     "text": [
      "\u001b[1m5×6 DataFrame\u001b[0m\n",
      "\u001b[1m Row \u001b[0m│\u001b[1m demand_id \u001b[0m\u001b[1m line_id \u001b[0m\u001b[1m bus_line_id \u001b[0m\u001b[1m origin_stop_id \u001b[0m\u001b[1m destination_stop_id \u001b[0m\u001b[1m demand \u001b[0m\n",
      "     │\u001b[90m Int64     \u001b[0m\u001b[90m Int64   \u001b[0m\u001b[90m Int64       \u001b[0m\u001b[90m Int64          \u001b[0m\u001b[90m Int64               \u001b[0m\u001b[90m Int64  \u001b[0m\n",
      "─────┼──────────────────────────────────────────────────────────────────────────────\n",
      "   1 │         1        1            1               1                    4       1\n",
      "   2 │         2        1            1               2                    3       2\n",
      "   3 │         3        1            1               2                    4       1\n",
      "   4 │         4        2            1               3                    4       1\n",
      "   5 │         5        2            1               1                    3       2\n",
      "\u001b[1m3×6 DataFrame\u001b[0m\n",
      "\u001b[1m Row \u001b[0m│\u001b[1m demand_id \u001b[0m\u001b[1m line_id \u001b[0m\u001b[1m bus_line_id \u001b[0m\u001b[1m origin_stop_id \u001b[0m\u001b[1m destination_stop_id \u001b[0m\u001b[1m demand \u001b[0m\n",
      "     │\u001b[90m Int64     \u001b[0m\u001b[90m Int64   \u001b[0m\u001b[90m Int64       \u001b[0m\u001b[90m Int64          \u001b[0m\u001b[90m Int64               \u001b[0m\u001b[90m Int64  \u001b[0m\n",
      "─────┼──────────────────────────────────────────────────────────────────────────────\n",
      "   1 │         1        1            1               1                    4       1\n",
      "   2 │         2        1            1               2                    3       2\n",
      "   3 │         3        1            1               2                    4       1\n",
      "\u001b[1m2×6 DataFrame\u001b[0m\n",
      "\u001b[1m Row \u001b[0m│\u001b[1m demand_id \u001b[0m\u001b[1m line_id \u001b[0m\u001b[1m bus_line_id \u001b[0m\u001b[1m origin_stop_id \u001b[0m\u001b[1m destination_stop_id \u001b[0m\u001b[1m demand \u001b[0m\n",
      "     │\u001b[90m Int64     \u001b[0m\u001b[90m Int64   \u001b[0m\u001b[90m Int64       \u001b[0m\u001b[90m Int64          \u001b[0m\u001b[90m Int64               \u001b[0m\u001b[90m Int64  \u001b[0m\n",
      "─────┼──────────────────────────────────────────────────────────────────────────────\n",
      "   1 │         4        2            1               3                    4       1\n",
      "   2 │         5        2            1               1                    3       2\n",
      "\u001b[1m2×6 DataFrame\u001b[0m\n",
      "\u001b[1m Row \u001b[0m│\u001b[1m demand_id \u001b[0m\u001b[1m line_id \u001b[0m\u001b[1m bus_line_id \u001b[0m\u001b[1m origin_stop_id \u001b[0m\u001b[1m destination_stop_id \u001b[0m\u001b[1m demand \u001b[0m\n",
      "     │\u001b[90m Int64     \u001b[0m\u001b[90m Int64   \u001b[0m\u001b[90m Int64       \u001b[0m\u001b[90m Int64          \u001b[0m\u001b[90m Int64               \u001b[0m\u001b[90m Int64  \u001b[0m\n",
      "─────┼──────────────────────────────────────────────────────────────────────────────\n",
      "   1 │         6        1            2               1                    2       4\n",
      "   2 │         7        3            2               1                    3       1\n",
      "\u001b[1m1×6 DataFrame\u001b[0m\n",
      "\u001b[1m Row \u001b[0m│\u001b[1m demand_id \u001b[0m\u001b[1m line_id \u001b[0m\u001b[1m bus_line_id \u001b[0m\u001b[1m origin_stop_id \u001b[0m\u001b[1m destination_stop_id \u001b[0m\u001b[1m demand \u001b[0m\n",
      "     │\u001b[90m Int64     \u001b[0m\u001b[90m Int64   \u001b[0m\u001b[90m Int64       \u001b[0m\u001b[90m Int64          \u001b[0m\u001b[90m Int64               \u001b[0m\u001b[90m Int64  \u001b[0m\n",
      "─────┼──────────────────────────────────────────────────────────────────────────────\n",
      "   1 │         6        1            2               1                    2       4\n",
      "\u001b[1m1×6 DataFrame\u001b[0m\n",
      "\u001b[1m Row \u001b[0m│\u001b[1m demand_id \u001b[0m\u001b[1m line_id \u001b[0m\u001b[1m bus_line_id \u001b[0m\u001b[1m origin_stop_id \u001b[0m\u001b[1m destination_stop_id \u001b[0m\u001b[1m demand \u001b[0m\n",
      "     │\u001b[90m Int64     \u001b[0m\u001b[90m Int64   \u001b[0m\u001b[90m Int64       \u001b[0m\u001b[90m Int64          \u001b[0m\u001b[90m Int64               \u001b[0m\u001b[90m Int64  \u001b[0m\n",
      "─────┼──────────────────────────────────────────────────────────────────────────────\n",
      "   1 │         7        3            2               1                    3       1\n",
      "\u001b[1m4×6 DataFrame\u001b[0m\n",
      "\u001b[1m Row \u001b[0m│\u001b[1m demand_id \u001b[0m\u001b[1m line_id \u001b[0m\u001b[1m bus_line_id \u001b[0m\u001b[1m origin_stop_id \u001b[0m\u001b[1m destination_stop_id \u001b[0m\u001b[1m demand \u001b[0m\n",
      "     │\u001b[90m Int64     \u001b[0m\u001b[90m Int64   \u001b[0m\u001b[90m Int64       \u001b[0m\u001b[90m Int64          \u001b[0m\u001b[90m Int64               \u001b[0m\u001b[90m Int64  \u001b[0m\n",
      "─────┼──────────────────────────────────────────────────────────────────────────────\n",
      "   1 │         8        1            3               1                    6       2\n",
      "   2 │         9        1            3               2                    5       1\n",
      "   3 │        10        2            3               1                    2       1\n",
      "   4 │        11        2            3               4                    6       4\n",
      "\u001b[1m2×6 DataFrame\u001b[0m\n",
      "\u001b[1m Row \u001b[0m│\u001b[1m demand_id \u001b[0m\u001b[1m line_id \u001b[0m\u001b[1m bus_line_id \u001b[0m\u001b[1m origin_stop_id \u001b[0m\u001b[1m destination_stop_id \u001b[0m\u001b[1m demand \u001b[0m\n",
      "     │\u001b[90m Int64     \u001b[0m\u001b[90m Int64   \u001b[0m\u001b[90m Int64       \u001b[0m\u001b[90m Int64          \u001b[0m\u001b[90m Int64               \u001b[0m\u001b[90m Int64  \u001b[0m\n",
      "─────┼──────────────────────────────────────────────────────────────────────────────\n",
      "   1 │         8        1            3               1                    6       2\n",
      "   2 │         9        1            3               2                    5       1\n",
      "\u001b[1m2×6 DataFrame\u001b[0m\n",
      "\u001b[1m Row \u001b[0m│\u001b[1m demand_id \u001b[0m\u001b[1m line_id \u001b[0m\u001b[1m bus_line_id \u001b[0m\u001b[1m origin_stop_id \u001b[0m\u001b[1m destination_stop_id \u001b[0m\u001b[1m demand \u001b[0m\n",
      "     │\u001b[90m Int64     \u001b[0m\u001b[90m Int64   \u001b[0m\u001b[90m Int64       \u001b[0m\u001b[90m Int64          \u001b[0m\u001b[90m Int64               \u001b[0m\u001b[90m Int64  \u001b[0m\n",
      "─────┼──────────────────────────────────────────────────────────────────────────────\n",
      "   1 │        10        2            3               1                    2       1\n",
      "   2 │        11        2            3               4                    6       4\n",
      "\u001b[1m2×6 DataFrame\u001b[0m\n",
      "\u001b[1m Row \u001b[0m│\u001b[1m demand_id \u001b[0m\u001b[1m line_id \u001b[0m\u001b[1m bus_line_id \u001b[0m\u001b[1m origin_stop_id \u001b[0m\u001b[1m destination_stop_id \u001b[0m\u001b[1m demand \u001b[0m\n",
      "     │\u001b[90m Int64     \u001b[0m\u001b[90m Int64   \u001b[0m\u001b[90m Int64       \u001b[0m\u001b[90m Int64          \u001b[0m\u001b[90m Int64               \u001b[0m\u001b[90m Int64  \u001b[0m\n",
      "─────┼──────────────────────────────────────────────────────────────────────────────\n",
      "   1 │        12        2            4               1                    2       1\n",
      "   2 │        13        4            4               1                    2       2\n",
      "\u001b[1m1×6 DataFrame\u001b[0m\n",
      "\u001b[1m Row \u001b[0m│\u001b[1m demand_id \u001b[0m\u001b[1m line_id \u001b[0m\u001b[1m bus_line_id \u001b[0m\u001b[1m origin_stop_id \u001b[0m\u001b[1m destination_stop_id \u001b[0m\u001b[1m demand \u001b[0m\n",
      "     │\u001b[90m Int64     \u001b[0m\u001b[90m Int64   \u001b[0m\u001b[90m Int64       \u001b[0m\u001b[90m Int64          \u001b[0m\u001b[90m Int64               \u001b[0m\u001b[90m Int64  \u001b[0m\n",
      "─────┼──────────────────────────────────────────────────────────────────────────────\n",
      "   1 │        12        2            4               1                    2       1\n",
      "\u001b[1m1×6 DataFrame\u001b[0m\n",
      "\u001b[1m Row \u001b[0m│\u001b[1m demand_id \u001b[0m\u001b[1m line_id \u001b[0m\u001b[1m bus_line_id \u001b[0m\u001b[1m origin_stop_id \u001b[0m\u001b[1m destination_stop_id \u001b[0m\u001b[1m demand \u001b[0m\n",
      "     │\u001b[90m Int64     \u001b[0m\u001b[90m Int64   \u001b[0m\u001b[90m Int64       \u001b[0m\u001b[90m Int64          \u001b[0m\u001b[90m Int64               \u001b[0m\u001b[90m Int64  \u001b[0m\n",
      "─────┼──────────────────────────────────────────────────────────────────────────────\n",
      "   1 │        13        4            4               1                    2       2\n",
      "\u001b[1m4×6 DataFrame\u001b[0m\n",
      "\u001b[1m Row \u001b[0m│\u001b[1m demand_id \u001b[0m\u001b[1m line_id \u001b[0m\u001b[1m bus_line_id \u001b[0m\u001b[1m origin_stop_id \u001b[0m\u001b[1m destination_stop_id \u001b[0m\u001b[1m demand \u001b[0m\n",
      "     │\u001b[90m Int64     \u001b[0m\u001b[90m Int64   \u001b[0m\u001b[90m Int64       \u001b[0m\u001b[90m Int64          \u001b[0m\u001b[90m Int64               \u001b[0m\u001b[90m Int64  \u001b[0m\n",
      "─────┼──────────────────────────────────────────────────────────────────────────────\n",
      "   1 │        15        1            5               3                    5       1\n",
      "   2 │        16        3            5               2                    4       1\n",
      "   3 │        17        3            5               2                    3       1\n",
      "   4 │        18        3            5               1                    4       3\n",
      "\u001b[1m1×6 DataFrame\u001b[0m\n",
      "\u001b[1m Row \u001b[0m│\u001b[1m demand_id \u001b[0m\u001b[1m line_id \u001b[0m\u001b[1m bus_line_id \u001b[0m\u001b[1m origin_stop_id \u001b[0m\u001b[1m destination_stop_id \u001b[0m\u001b[1m demand \u001b[0m\n",
      "     │\u001b[90m Int64     \u001b[0m\u001b[90m Int64   \u001b[0m\u001b[90m Int64       \u001b[0m\u001b[90m Int64          \u001b[0m\u001b[90m Int64               \u001b[0m\u001b[90m Int64  \u001b[0m\n",
      "─────┼──────────────────────────────────────────────────────────────────────────────\n",
      "   1 │        15        1            5               3                    5       1\n",
      "\u001b[1m3×6 DataFrame\u001b[0m\n",
      "\u001b[1m Row \u001b[0m│\u001b[1m demand_id \u001b[0m\u001b[1m line_id \u001b[0m\u001b[1m bus_line_id \u001b[0m\u001b[1m origin_stop_id \u001b[0m\u001b[1m destination_stop_id \u001b[0m\u001b[1m demand \u001b[0m\n",
      "     │\u001b[90m Int64     \u001b[0m\u001b[90m Int64   \u001b[0m\u001b[90m Int64       \u001b[0m\u001b[90m Int64          \u001b[0m\u001b[90m Int64               \u001b[0m\u001b[90m Int64  \u001b[0m\n",
      "─────┼──────────────────────────────────────────────────────────────────────────────\n",
      "   1 │        16        3            5               2                    4       1\n",
      "   2 │        17        3            5               2                    3       1\n",
      "   3 │        18        3            5               1                    4       3\n"
     ]
    }
   ],
   "source": [
    "\n",
    "# Iteriere über alle Buslinien\n",
    "for bus_line in unique(demand.bus_line_id)\n",
    "    line_trips = filter(row -> row.bus_line_id == bus_line, demand)\n",
    "    println(line_trips)\n",
    "    for line_id in unique(line_trips.line_id)\n",
    "        single_line_trips = filter(row -> row.line_id == line_id, line_trips)\n",
    "        println(single_line_trips)\n",
    "        first_stop_of_tour=minimum(unique(single_line_trips.origin_stop_id))\n",
    "        last_stop_of_tour=maximum(unique(single_line_trips.destination_stop_id))   \n",
    "        \n",
    "    end\n",
    "\n",
    "\n",
    "end"
   ]
  },
  {
   "cell_type": "markdown",
   "metadata": {},
   "source": [
    "### Populating set V"
   ]
  },
  {
   "cell_type": "code",
   "execution_count": 17,
   "metadata": {},
   "outputs": [
    {
     "ename": "UndefVarError",
     "evalue": "UndefVarError: `V_set` not defined in `Main`\nSuggestion: check for spelling errors or missing imports.",
     "output_type": "error",
     "traceback": [
      "UndefVarError: `V_set` not defined in `Main`\n",
      "Suggestion: check for spelling errors or missing imports.\n",
      "\n",
      "Stacktrace:\n",
      " [1] top-level scope\n",
      "   @ ~/Desktop/Masterthesis/Code/Models/jl_notebook_cell_df34fa98e69747e1a8f8a730347b8e2f_X42sZmlsZQ==.jl:2"
     ]
    }
   ],
   "source": [
    "using OrderedCollections  \n",
    "push!(V_set, (0, 0, 0))  # Add the depot D\n",
    "for row in eachrow(demand)\n",
    "    origin_tuple = (row.bus_line_id, row.line_id, row.origin_stop_id)\n",
    "    destination_tuple = (row.bus_line_id, row.line_id, row.destination_stop_id)\n",
    "    push!(V_set, origin_tuple)\n",
    "    push!(V_set, destination_tuple)\n",
    "end\n",
    "\n",
    "V_set = sort(collect(V_set))\n",
    "full_output = join(string.(V_set), \"\\n\")\n",
    "println(\"V_set:\")\n",
    "println(full_output) "
   ]
  },
  {
   "cell_type": "markdown",
   "metadata": {},
   "source": [
    "# Model definition"
   ]
  },
  {
   "cell_type": "markdown",
   "metadata": {},
   "source": [
    "## Initialize model instance"
   ]
  },
  {
   "cell_type": "code",
   "execution_count": 18,
   "metadata": {},
   "outputs": [
    {
     "data": {
      "text/plain": [
       "A JuMP Model\n",
       "├ solver: HiGHS\n",
       "├ objective_sense: FEASIBILITY_SENSE\n",
       "├ num_variables: 0\n",
       "├ num_constraints: 0\n",
       "└ Names registered in the model: none"
      ]
     },
     "metadata": {},
     "output_type": "display_data"
    }
   ],
   "source": [
    "model= Model(HiGHS.Optimizer)"
   ]
  },
  {
   "cell_type": "markdown",
   "metadata": {},
   "source": [
    "## Initialize variables"
   ]
  },
  {
   "cell_type": "code",
   "execution_count": 19,
   "metadata": {},
   "outputs": [
    {
     "data": {
      "text/plain": [
       "1-dimensional DenseAxisArray{VariableRef,1,...} with index sets:\n",
       "    Dimension 1, [((5, 3, 1), (5, 3, 4)), ((4, 4, 1), (4, 4, 2)), ((0, 0, 0), (2, 3, 1)), ((2, 1, 1), (2, 1, 2)), ((0, 0, 0), (1, 2, 3)), ((1, 1, 2), (1, 1, 3)), ((0, 0, 0), (3, 1, 1)), ((3, 2, 2), (0, 0, 0)), ((5, 1, 5), (0, 0, 0)), ((3, 1, 2), (3, 1, 6))  …  ((1, 2, 4), (0, 0, 0)), ((1, 2, 1), (1, 2, 3)), ((5, 3, 2), (5, 3, 4)), ((1, 2, 3), (0, 0, 0)), ((0, 0, 0), (4, 2, 1)), ((1, 1, 4), (0, 0, 1)), ((1, 1, 3), (0, 0, 1)), ((2, 3, 1), (2, 3, 3)), ((0, 2, 0), (3, 1, 2)), ((3, 2, 1), (3, 2, 2))]\n",
       "And data, a 51-element Vector{VariableRef}:\n",
       " x[((5, 3, 1), (5, 3, 4))]\n",
       " x[((4, 4, 1), (4, 4, 2))]\n",
       " x[((0, 0, 0), (2, 3, 1))]\n",
       " x[((2, 1, 1), (2, 1, 2))]\n",
       " x[((0, 0, 0), (1, 2, 3))]\n",
       " x[((1, 1, 2), (1, 1, 3))]\n",
       " x[((0, 0, 0), (3, 1, 1))]\n",
       " x[((3, 2, 2), (0, 0, 0))]\n",
       " x[((5, 1, 5), (0, 0, 0))]\n",
       " x[((3, 1, 2), (3, 1, 6))]\n",
       " ⋮\n",
       " x[((1, 2, 1), (1, 2, 3))]\n",
       " x[((5, 3, 2), (5, 3, 4))]\n",
       " x[((1, 2, 3), (0, 0, 0))]\n",
       " x[((0, 0, 0), (4, 2, 1))]\n",
       " x[((1, 1, 4), (0, 0, 1))]\n",
       " x[((1, 1, 3), (0, 0, 1))]\n",
       " x[((2, 3, 1), (2, 3, 3))]\n",
       " x[((0, 2, 0), (3, 1, 2))]\n",
       " x[((3, 2, 1), (3, 2, 2))]"
      ]
     },
     "metadata": {},
     "output_type": "display_data"
    }
   ],
   "source": [
    "@variable(model, x[connection in A_set], Bin)"
   ]
  },
  {
   "cell_type": "markdown",
   "metadata": {},
   "source": [
    "## Objective function"
   ]
  },
  {
   "cell_type": "code",
   "execution_count": 20,
   "metadata": {},
   "outputs": [
    {
     "data": {
      "text/latex": [
       "$ x_{((0, 0, 0), (2, 3, 1))} + x_{((0, 0, 0), (1, 2, 3))} + x_{((0, 0, 0), (3, 1, 1))} + x_{((0, 0, 0), (5, 3, 1))} + x_{((0, 0, 0), (5, 1, 3))} + x_{((0, 0, 0), (2, 1, 1))} + x_{((0, 0, 0), (1, 2, 1))} + x_{((0, 0, 0), (4, 4, 1))} + x_{((0, 0, 0), (3, 2, 1))} + x_{((0, 0, 0), (3, 2, 4))} + x_{((0, 0, 0), (1, 1, 1))} + x_{((0, 0, 0), (4, 2, 1))} $"
      ],
      "text/plain": [
       "x[((0, 0, 0), (2, 3, 1))] + x[((0, 0, 0), (1, 2, 3))] + x[((0, 0, 0), (3, 1, 1))] + x[((0, 0, 0), (5, 3, 1))] + x[((0, 0, 0), (5, 1, 3))] + x[((0, 0, 0), (2, 1, 1))] + x[((0, 0, 0), (1, 2, 1))] + x[((0, 0, 0), (4, 4, 1))] + x[((0, 0, 0), (3, 2, 1))] + x[((0, 0, 0), (3, 2, 4))] + x[((0, 0, 0), (1, 1, 1))] + x[((0, 0, 0), (4, 2, 1))]"
      ]
     },
     "metadata": {},
     "output_type": "display_data"
    }
   ],
   "source": [
    "@objective(model, Min, sum(x[connection] for connection in A_set if connection[1] == (0,0,0)))"
   ]
  },
  {
   "cell_type": "markdown",
   "metadata": {},
   "source": [
    "## Initialize constraints"
   ]
  },
  {
   "cell_type": "markdown",
   "metadata": {},
   "source": [
    "### Duplikate"
   ]
  },
  {
   "cell_type": "code",
   "execution_count": 21,
   "metadata": {},
   "outputs": [
    {
     "ename": "UndefVarError",
     "evalue": "UndefVarError: `source_node` not defined in `Main`\nSuggestion: check for spelling errors or missing imports.",
     "output_type": "error",
     "traceback": [
      "UndefVarError: `source_node` not defined in `Main`\n",
      "Suggestion: check for spelling errors or missing imports.\n",
      "\n",
      "Stacktrace:\n",
      "  [1] macro expansion\n",
      "    @ ~/.julia/packages/MutableArithmetics/sjjl8/src/rewrite.jl:340 [inlined]\n",
      "  [2] macro expansion\n",
      "    @ ~/.julia/packages/JuMP/V9nZm/src/macros.jl:257 [inlined]\n",
      "  [3] macro expansion\n",
      "    @ ~/.julia/packages/JuMP/V9nZm/src/macros/@constraint.jl:171 [inlined]\n",
      "  [4] (::var\"#35#36\"{Model})(connection::Tuple{Tuple{Int64, Int64, Int64}, Tuple{Int64, Int64, Int64}})\n",
      "    @ Main ~/.julia/packages/JuMP/V9nZm/src/Containers/macro.jl:545\n",
      "  [5] (::JuMP.Containers.var\"#87#89\"{var\"#35#36\"{Model}})(I::Tuple{Tuple{Tuple{Int64, Int64, Int64}, Tuple{Int64, Int64, Int64}}})\n",
      "    @ JuMP.Containers ~/.julia/packages/JuMP/V9nZm/src/Containers/container.jl:124\n",
      "  [6] iterate\n",
      "    @ ./generator.jl:48 [inlined]\n",
      "  [7] collect(itr::Base.Generator{JuMP.Containers.VectorizedProductIterator{Tuple{Vector{Any}}}, JuMP.Containers.var\"#87#89\"{var\"#35#36\"{Model}}})\n",
      "    @ Base ./array.jl:780\n",
      "  [8] map(f::Function, A::JuMP.Containers.VectorizedProductIterator{Tuple{Vector{Any}}})\n",
      "    @ Base ./abstractarray.jl:3399\n",
      "  [9] container(f::Function, indices::JuMP.Containers.VectorizedProductIterator{Tuple{Vector{Any}}}, ::Type{JuMP.Containers.DenseAxisArray}, names::Vector{Any})\n",
      "    @ JuMP.Containers ~/.julia/packages/JuMP/V9nZm/src/Containers/container.jl:123\n",
      " [10] container(f::Function, indices::JuMP.Containers.VectorizedProductIterator{Tuple{Vector{Any}}}, ::Type{JuMP.Containers.AutoContainerType}, names::Vector{Any})\n",
      "    @ JuMP.Containers ~/.julia/packages/JuMP/V9nZm/src/Containers/container.jl:75\n",
      " [11] macro expansion\n",
      "    @ ~/.julia/packages/JuMP/V9nZm/src/macros.jl:393 [inlined]\n",
      " [12] top-level scope\n",
      "    @ ~/Desktop/Masterthesis/Code/Models/jl_notebook_cell_df34fa98e69747e1a8f8a730347b8e2f_Y150sZmlsZQ==.jl:1"
     ]
    }
   ],
   "source": [
    "@constraint(model, duplikat[connection in dup_start_set], x[(source_node, dup1_start)] + x[(source_node, dup2_start)] == 1)\n",
    "@constraint(model, duplikat[connection in dup_end_set], x[(dup1_end, sink_node)] + x[(dup2_end, sink_node)] == 1)"
   ]
  },
  {
   "cell_type": "markdown",
   "metadata": {},
   "source": [
    "### Flusserhaltung"
   ]
  },
  {
   "cell_type": "code",
   "execution_count": 22,
   "metadata": {},
   "outputs": [
    {
     "data": {
      "text/plain": [
       "1-dimensional DenseAxisArray{Any,1,...} with index sets:\n",
       "    Dimension 1, Tuple{Int64, Int64, Int64}[]\n",
       "And data, a 0-element Vector{Any}"
      ]
     },
     "metadata": {},
     "output_type": "display_data"
    }
   ],
   "source": [
    "@constraint(model, \n",
    "    flow_conservation[node in V_flow],\n",
    "    sum(x[connection] for connection in A_set if connection[2] == node) - \n",
    "    sum(x[connection] for connection in A_set if connection[1] == node) == 0\n",
    ")\n"
   ]
  },
  {
   "cell_type": "markdown",
   "metadata": {},
   "source": [
    "### All bus lines are served entirely"
   ]
  },
  {
   "cell_type": "code",
   "execution_count": 23,
   "metadata": {},
   "outputs": [],
   "source": [
    "#@constraint(model,[connection in A_set; connection[1] != (0,0,0) && connection[1][1] == connection[2][1] && connection[1][2] == connection[2][2]],x[connection] == 1)"
   ]
  },
  {
   "cell_type": "markdown",
   "metadata": {},
   "source": [
    "### Chat GPT"
   ]
  },
  {
   "cell_type": "markdown",
   "metadata": {},
   "source": [
    "#### Übergeordnet"
   ]
  },
  {
   "cell_type": "code",
   "execution_count": 24,
   "metadata": {},
   "outputs": [
    {
     "ename": "UndefVarError",
     "evalue": "UndefVarError: `s1_l1` not defined in `Main`\nSuggestion: check for spelling errors or missing imports.",
     "output_type": "error",
     "traceback": [
      "UndefVarError: `s1_l1` not defined in `Main`\n",
      "Suggestion: check for spelling errors or missing imports.\n",
      "\n",
      "Stacktrace:\n",
      " [1] macro expansion\n",
      "   @ ~/.julia/packages/MutableArithmetics/sjjl8/src/rewrite.jl:340 [inlined]\n",
      " [2] macro expansion\n",
      "   @ ~/.julia/packages/JuMP/V9nZm/src/macros.jl:257 [inlined]\n",
      " [3] macro expansion\n",
      "   @ ~/.julia/packages/JuMP/V9nZm/src/macros/@constraint.jl:171 [inlined]\n",
      " [4] macro expansion\n",
      "   @ ~/.julia/packages/JuMP/V9nZm/src/macros.jl:393 [inlined]\n",
      " [5] top-level scope\n",
      "   @ ~/Desktop/Masterthesis/Code/Models/jl_notebook_cell_df34fa98e69747e1a8f8a730347b8e2f_Y116sZmlsZQ==.jl:2"
     ]
    }
   ],
   "source": [
    "#Code wahrscheinlich redundant zu Zelle unterhalb\n",
    "@constraint(model, sum(x[source_l', s] for s in [s1_l1, s1_l2]) == 1)\n",
    "@constraint(model, sum(x[s, sink_l'] for s in [s2_l1, s2_l2]) == 1)"
   ]
  },
  {
   "cell_type": "code",
   "execution_count": 25,
   "metadata": {},
   "outputs": [
    {
     "ename": "ErrorException",
     "evalue": "An object of name x is already attached to this model. If this\n    is intended, consider using the anonymous construction syntax, for example,\n    `x = @variable(model, [1:N], ...)` where the name of the object does\n    not appear inside the macro.\n\n    Alternatively, use `unregister(model, :x)` to first unregister\n    the existing name from the model. Note that this will not delete the\n    object; it will just remove the reference at `model[:x]`.\n",
     "output_type": "error",
     "traceback": [
      "An object of name x is already attached to this model. If this\n",
      "    is intended, consider using the anonymous construction syntax, for example,\n",
      "    `x = @variable(model, [1:N], ...)` where the name of the object does\n",
      "    not appear inside the macro.\n",
      "\n",
      "    Alternatively, use `unregister(model, :x)` to first unregister\n",
      "    the existing name from the model. Note that this will not delete the\n",
      "    object; it will just remove the reference at `model[:x]`.\n",
      "\n",
      "\n",
      "Stacktrace:\n",
      " [1] error(s::String)\n",
      "   @ Base ./error.jl:35\n",
      " [2] _error_if_cannot_register(model::Model, name::Symbol)\n",
      "   @ JuMP ~/.julia/packages/JuMP/V9nZm/src/macros.jl:411\n",
      " [3] macro expansion\n",
      "   @ ~/.julia/packages/JuMP/V9nZm/src/macros.jl:400 [inlined]\n",
      " [4] top-level scope\n",
      "   @ ~/Desktop/Masterthesis/Code/Models/jl_notebook_cell_df34fa98e69747e1a8f8a730347b8e2f_Y113sZmlsZQ==.jl:1"
     ]
    }
   ],
   "source": [
    "@variable(model, x[edges], Bin)\n",
    "\n",
    "# Quelle gibt 1 Einheit ab\n",
    "@constraint(model, \n",
    "    sum(x[(:source_l, j)] for j in [:l1′, :l2′]) == 1)\n",
    "\n",
    "# Senke nimmt 1 Einheit auf\n",
    "@constraint(model, \n",
    "    sum(x[(j, :sink_l)] for j in [l1_end, l2_end]) == 1)\n"
   ]
  },
  {
   "cell_type": "markdown",
   "metadata": {},
   "source": [
    "#### Fall B"
   ]
  },
  {
   "cell_type": "code",
   "execution_count": 26,
   "metadata": {},
   "outputs": [
    {
     "ename": "UndefVarError",
     "evalue": "UndefVarError: `critical_pairs` not defined in `Main`\nSuggestion: check for spelling errors or missing imports.",
     "output_type": "error",
     "traceback": [
      "UndefVarError: `critical_pairs` not defined in `Main`\n",
      "Suggestion: check for spelling errors or missing imports.\n",
      "\n",
      "Stacktrace:\n",
      " [1] top-level scope\n",
      "   @ ~/Desktop/Masterthesis/Code/Models/jl_notebook_cell_df34fa98e69747e1a8f8a730347b8e2f_X62sZmlsZQ==.jl:3"
     ]
    }
   ],
   "source": [
    "#Schritt 3: Constraints für Fluss 1 von source → sink pro Paar\n",
    "\n",
    "for (i, (dup1, dup2)) in enumerate(critical_pairs)\n",
    "    src = Symbol(\"source_l\", i)\n",
    "    snk = Symbol(\"sink_l\", i)\n",
    "\n",
    "    end1 = Symbol(\"end_\", dup1)\n",
    "    end2 = Symbol(\"end_\", dup2)\n",
    "\n",
    "    # Nur ein Weg vom source zu einem der beiden Startknoten\n",
    "    @constraint(model, x[(src, dup1)] + x[(src, dup2)] == 1)\n",
    "\n",
    "    # Nur ein Weg von einem der beiden Enden zur sink\n",
    "    @constraint(model, x[(end1, snk)] + x[(end2, snk)] == 1)\n",
    "end\n"
   ]
  },
  {
   "cell_type": "markdown",
   "metadata": {},
   "source": [
    "# Solve model"
   ]
  },
  {
   "cell_type": "code",
   "execution_count": 27,
   "metadata": {},
   "outputs": [
    {
     "name": "stdout",
     "output_type": "stream",
     "text": [
      "Running HiGHS 1.8.0 (git hash: fcfb53414): Copyright (c) 2024 HiGHS under MIT licence terms\n",
      "Coefficient ranges:\n",
      "  Cost   [1e+00, 1e+00]\n",
      "  Bound  [1e+00, 1e+00]\n",
      "Presolving model\n",
      "0 rows, 0 cols, 0 nonzeros  0s\n",
      "0 rows, 0 cols, 0 nonzeros  0s\n",
      "Presolve: Optimal\n",
      "\n",
      "        Nodes      |    B&B Tree     |            Objective Bounds              |  Dynamic Constraints |       Work      \n",
      "     Proc. InQueue |  Leaves   Expl. | BestBound       BestSol              Gap |   Cuts   InLp Confl. | LpIters     Time\n",
      "\n",
      "         0       0         0   0.00%   0               0                  0.00%        0      0      0         0     0.0s\n",
      "\n",
      "Solving report\n",
      "  Status            Optimal\n",
      "  Primal bound      0\n",
      "  Dual bound        0\n",
      "  Gap               0% (tolerance: 0.01%)\n",
      "  Solution status   feasible\n",
      "                    0 (objective)\n",
      "                    0 (bound viol.)\n",
      "                    0 (int. viol.)\n",
      "                    0 (row viol.)\n",
      "  Timing            0.00 (total)\n",
      "                    0.00 (presolve)\n",
      "                    0.00 (postsolve)\n",
      "  Nodes             0\n",
      "  LP iterations     0 (total)\n",
      "                    0 (strong br.)\n",
      "                    0 (separation)\n",
      "                    0 (heuristics)\n"
     ]
    }
   ],
   "source": [
    "optimize!(model)"
   ]
  },
  {
   "cell_type": "code",
   "execution_count": 28,
   "metadata": {},
   "outputs": [
    {
     "name": "stdout",
     "output_type": "stream",
     "text": [
      "Termination status: OPTIMAL\n",
      "Primal status: FEASIBLE_POINT\n"
     ]
    },
    {
     "ename": "UndefVarError",
     "evalue": "UndefVarError: `status` not defined in `Main`\nSuggestion: check for spelling errors or missing imports.\nHint: a global variable of this name also exists in Pkg.\nHint: a global variable of this name also exists in DataStructures.",
     "output_type": "error",
     "traceback": [
      "UndefVarError: `status` not defined in `Main`\n",
      "Suggestion: check for spelling errors or missing imports.\n",
      "Hint: a global variable of this name also exists in Pkg.\n",
      "Hint: a global variable of this name also exists in DataStructures.\n",
      "\n",
      "Stacktrace:\n",
      " [1] top-level scope\n",
      "   @ ~/Desktop/Masterthesis/Code/Models/jl_notebook_cell_df34fa98e69747e1a8f8a730347b8e2f_X66sZmlsZQ==.jl:4"
     ]
    }
   ],
   "source": [
    "println(\"Termination status: \", termination_status(model))\n",
    "println(\"Primal status: \", primal_status(model))\n",
    "\n",
    "if status == MOI.OPTIMAL\n",
    "    println(\"Optimale Lösung gefunden!\")\n",
    "    println(\"Zielfunktionswert: \", objective_value(model))\n",
    "    active_connections = []\n",
    "    for connection in A_set \n",
    "        if value(x[connection]) > 1e-6\n",
    "            push!(active_connections, connection)\n",
    "        end\n",
    "    end\n",
    "    sort(active_connections, by = x -> x[1][1][1])\n",
    "    full_output = join(string.(active_connections), \"\\n\")\n",
    "    println(full_output)\n",
    "\n",
    "else\n",
    "    println(\"Kein Optimum – Solver-Status: \", status)\n",
    "end\n",
    "    "
   ]
  },
  {
   "cell_type": "markdown",
   "metadata": {},
   "source": [
    "# Visualization"
   ]
  },
  {
   "cell_type": "code",
   "execution_count": 29,
   "metadata": {},
   "outputs": [
    {
     "ename": "UndefVarError",
     "evalue": "UndefVarError: `active_connections` not defined in `Main`\nSuggestion: check for spelling errors or missing imports.",
     "output_type": "error",
     "traceback": [
      "UndefVarError: `active_connections` not defined in `Main`\n",
      "Suggestion: check for spelling errors or missing imports.\n",
      "\n",
      "Stacktrace:\n",
      " [1] top-level scope\n",
      "   @ ~/Desktop/Masterthesis/Code/Models/jl_notebook_cell_df34fa98e69747e1a8f8a730347b8e2f_Y101sZmlsZQ==.jl:3"
     ]
    }
   ],
   "source": [
    "# Store full node struct as value for lookup\n",
    "nodes_dict = Dict{Tuple{Int, Int, Int}, typeof(nodes[1])}()\n",
    "for connection in active_connections\n",
    "    origin,goal=connection\n",
    "    a,b,c = origin\n",
    "    d,e,f = goal\n",
    "    node=findfirst(x -> x.bus_line_id == a && x.line_id == b && x.stop_id == c, nodes)\n",
    "    if !(node in keys(nodes_dict))\n",
    "        nodes_dict[origin] = nodes[node]\n",
    "    end\n",
    "    node=findfirst(x -> x.bus_line_id == d && x.line_id == e && x.stop_id == f, nodes)\n",
    "    if !(node in keys(nodes_dict))\n",
    "        nodes_dict[goal] = nodes[node]\n",
    "    end\n",
    "end\n",
    "sort(collect(nodes_dict))"
   ]
  },
  {
   "cell_type": "markdown",
   "metadata": {},
   "source": [
    "## Plot"
   ]
  },
  {
   "cell_type": "code",
   "execution_count": 30,
   "metadata": {},
   "outputs": [
    {
     "data": {
      "text/plain": [
       "\"/Users/alexanderklaus/Desktop/Masterthesis/Code/output/3d_plot_new.html\""
      ]
     },
     "metadata": {},
     "output_type": "display_data"
    }
   ],
   "source": [
    "# 1. Prepare node coordinates and hover labels\n",
    "xs = [n.coord_x for n in nodes]\n",
    "ys = [n.coord_y for n in nodes]\n",
    "zs = [n.start_time for n in nodes]\n",
    "\n",
    "labels = [string(\"(\", n.bus_line_id, \", \", n.line_id, \", \", n.stop_id, \")\\n\", \"t=\", round(n.start_time, digits=1)) for n in nodes]\n",
    "\n",
    "trace_nodes = scatter3d(\n",
    "    x=xs, y=ys, z=zs,\n",
    "    mode=\"markers\",\n",
    "    marker=attr(size=3, color=\"blue\"),\n",
    "    text=labels,\n",
    "    hoverinfo=\"text\",\n",
    "    name=\"Nodes\"\n",
    ")\n",
    "\n",
    "# 2. Extract active connections from the model\n",
    "active_connections = [(i, j) for (i, j) in A_set if value(x[(i, j)]) > 1e-6]\n",
    "\n",
    "# 3. Generate path-based edges\n",
    "traces_edges = []\n",
    "\n",
    "for (start_key, end_key) in active_connections\n",
    "    start_bus, start_line, _ = start_key\n",
    "    end_bus, end_line, _ = end_key\n",
    "\n",
    "    if start_bus == end_bus && start_line == end_line\n",
    "        # Get all stops for this line\n",
    "        path_nodes = sort(\n",
    "            filter(n -> n.bus_line_id == start_bus && n.line_id == start_line, nodes),\n",
    "            by = n -> n.stop_id\n",
    "        )\n",
    "\n",
    "        push!(traces_edges, scatter3d(\n",
    "            x = [n.coord_x for n in path_nodes],\n",
    "            y = [n.coord_y for n in path_nodes],\n",
    "            z = [n.start_time for n in path_nodes],\n",
    "            mode = \"lines\",\n",
    "            line = attr(width=2),\n",
    "            hoverinfo = \"none\",\n",
    "            showlegend = false\n",
    "        ))\n",
    "    else\n",
    "        # Just draw a direct line between tours (e.g., depot → first stop or end → new line)\n",
    "        x_vals = [nodes_dict[start_key].coord_x, nodes_dict[end_key].coord_x]\n",
    "        y_vals = [nodes_dict[start_key].coord_y, nodes_dict[end_key].coord_y]\n",
    "        z_vals = [nodes_dict[start_key].start_time, nodes_dict[end_key].start_time]\n",
    "\n",
    "        push!(traces_edges, scatter3d(\n",
    "            x = x_vals, y = y_vals, z = z_vals,\n",
    "            mode = \"lines\",\n",
    "            line = attr(width=2, dash=\"dot\"),\n",
    "            hoverinfo = \"none\",\n",
    "            showlegend = false\n",
    "        ))\n",
    "    end\n",
    "end\n",
    "\n",
    "# 4. Combine and plot\n",
    "layout = Layout(\n",
    "    title=\"Tour Sequences with Full Paths\",\n",
    "    scene=attr(\n",
    "        xaxis=attr(title=\"X\"),\n",
    "        yaxis=attr(title=\"Y\"),\n",
    "        zaxis=attr(title=\"Start Time\")\n",
    "    ),\n",
    "    showlegend=false\n",
    ")\n",
    "\n",
    "plot_obj = Plot([trace_nodes; traces_edges...], layout)\n",
    "\n",
    "# 5. Save plot to interactive HTML file\n",
    "PlotlyJS.savefig(plot_obj,\"/Users/alexanderklaus/Desktop/Masterthesis/Code/output/3d_plot_new.html\")\n"
   ]
  },
  {
   "cell_type": "code",
   "execution_count": 31,
   "metadata": {},
   "outputs": [],
   "source": []
  }
 ],
 "metadata": {
  "kernelspec": {
   "display_name": "Julia 1.11.0",
   "language": "julia",
   "name": "julia-1.11"
  },
  "language_info": {
   "file_extension": ".jl",
   "mimetype": "application/julia",
   "name": "julia",
   "version": "1.11.0"
  }
 },
 "nbformat": 4,
 "nbformat_minor": 2
}
