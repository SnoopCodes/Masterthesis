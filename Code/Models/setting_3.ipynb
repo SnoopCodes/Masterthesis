{
 "cells": [
  {
   "cell_type": "markdown",
   "metadata": {},
   "source": [
    "# Loading data"
   ]
  },
  {
   "cell_type": "code",
   "execution_count": 1,
   "metadata": {},
   "outputs": [
    {
     "ename": "ArgumentError",
     "evalue": "ArgumentError: Package statistics not found in current path.\n- Run `import Pkg; Pkg.add(\"statistics\")` to install the statistics package.",
     "output_type": "error",
     "traceback": [
      "ArgumentError: Package statistics not found in current path.\n",
      "- Run `import Pkg; Pkg.add(\"statistics\")` to install the statistics package.\n",
      "\n",
      "Stacktrace:\n",
      "  [1] macro expansion\n",
      "    @ ./loading.jl:2208 [inlined]\n",
      "  [2] macro expansion\n",
      "    @ ./lock.jl:273 [inlined]\n",
      "  [3] __require(into::Module, mod::Symbol)\n",
      "    @ Base ./loading.jl:2183\n",
      "  [4] #invoke_in_world#3\n",
      "    @ ./essentials.jl:1088 [inlined]\n",
      "  [5] invoke_in_world\n",
      "    @ ./essentials.jl:1085 [inlined]\n",
      "  [6] require(into::Module, mod::Symbol)\n",
      "    @ Base ./loading.jl:2176\n",
      "  [7] eval\n",
      "    @ ./boot.jl:430 [inlined]\n",
      "  [8] include_string(mapexpr::typeof(REPL.softscope), mod::Module, code::String, filename::String)\n",
      "    @ Base ./loading.jl:2628\n",
      "  [9] #invokelatest#2\n",
      "    @ ./essentials.jl:1054 [inlined]\n",
      " [10] invokelatest\n",
      "    @ ./essentials.jl:1051 [inlined]\n",
      " [11] (::VSCodeServer.var\"#217#218\"{VSCodeServer.NotebookRunCellArguments, String})()\n",
      "    @ VSCodeServer ~/.vscode/extensions/julialang.language-julia-1.127.2/scripts/packages/VSCodeServer/src/serve_notebook.jl:24\n",
      " [12] withpath(f::VSCodeServer.var\"#217#218\"{VSCodeServer.NotebookRunCellArguments, String}, path::String)\n",
      "    @ VSCodeServer ~/.vscode/extensions/julialang.language-julia-1.127.2/scripts/packages/VSCodeServer/src/repl.jl:276\n",
      " [13] notebook_runcell_request(conn::VSCodeServer.JSONRPC.JSONRPCEndpoint{Base.PipeEndpoint, Base.PipeEndpoint}, params::VSCodeServer.NotebookRunCellArguments)\n",
      "    @ VSCodeServer ~/.vscode/extensions/julialang.language-julia-1.127.2/scripts/packages/VSCodeServer/src/serve_notebook.jl:13\n",
      " [14] dispatch_msg(x::VSCodeServer.JSONRPC.JSONRPCEndpoint{Base.PipeEndpoint, Base.PipeEndpoint}, dispatcher::VSCodeServer.JSONRPC.MsgDispatcher, msg::Dict{String, Any})\n",
      "    @ VSCodeServer.JSONRPC ~/.vscode/extensions/julialang.language-julia-1.127.2/scripts/packages/JSONRPC/src/typed.jl:67\n",
      " [15] serve_notebook(pipename::String, debugger_pipename::String, outputchannel_logger::Base.CoreLogging.SimpleLogger; error_handler::var\"#5#10\"{String})\n",
      "    @ VSCodeServer ~/.vscode/extensions/julialang.language-julia-1.127.2/scripts/packages/VSCodeServer/src/serve_notebook.jl:147\n",
      " [16] top-level scope\n",
      "    @ ~/.vscode/extensions/julialang.language-julia-1.127.2/scripts/notebook/notebook.jl:35"
     ]
    }
   ],
   "source": [
    "using JuMP\n",
    "using CSV\n",
    "using DataFrames\n",
    "using HiGHS\n",
    "using PlotlyJS\n",
    "using StatsBase\n",
    "using statistics"
   ]
  },
  {
   "cell_type": "code",
   "execution_count": 2,
   "metadata": {},
   "outputs": [
    {
     "data": {
      "text/html": [
       "<div><div style = \"float: left;\"><span>20×4 DataFrame</span></div><div style = \"clear: both;\"></div></div><div class = \"data-frame\" style = \"overflow-x: scroll;\"><table class = \"data-frame\" style = \"margin-bottom: 6px;\"><thead><tr class = \"header\"><th class = \"rowNumber\" style = \"font-weight: bold; text-align: right;\">Row</th><th style = \"text-align: left;\">bus_line_id</th><th style = \"text-align: left;\">stop_ids</th><th style = \"text-align: left;\">stop_x</th><th style = \"text-align: left;\">stop_y</th></tr><tr class = \"subheader headerLastRow\"><th class = \"rowNumber\" style = \"font-weight: bold; text-align: right;\"></th><th title = \"Int64\" style = \"text-align: left;\">Int64</th><th title = \"Int64\" style = \"text-align: left;\">Int64</th><th title = \"Float64\" style = \"text-align: left;\">Float64</th><th title = \"Float64\" style = \"text-align: left;\">Float64</th></tr></thead><tbody><tr><td class = \"rowNumber\" style = \"font-weight: bold; text-align: right;\">1</td><td style = \"text-align: right;\">1</td><td style = \"text-align: right;\">1</td><td style = \"text-align: right;\">2.2</td><td style = \"text-align: right;\">36.8</td></tr><tr><td class = \"rowNumber\" style = \"font-weight: bold; text-align: right;\">2</td><td style = \"text-align: right;\">1</td><td style = \"text-align: right;\">2</td><td style = \"text-align: right;\">4.4</td><td style = \"text-align: right;\">40.1</td></tr><tr><td class = \"rowNumber\" style = \"font-weight: bold; text-align: right;\">3</td><td style = \"text-align: right;\">1</td><td style = \"text-align: right;\">3</td><td style = \"text-align: right;\">12.5</td><td style = \"text-align: right;\">42.7</td></tr><tr><td class = \"rowNumber\" style = \"font-weight: bold; text-align: right;\">4</td><td style = \"text-align: right;\">1</td><td style = \"text-align: right;\">4</td><td style = \"text-align: right;\">20.2</td><td style = \"text-align: right;\">44.0</td></tr><tr><td class = \"rowNumber\" style = \"font-weight: bold; text-align: right;\">5</td><td style = \"text-align: right;\">2</td><td style = \"text-align: right;\">1</td><td style = \"text-align: right;\">40.9</td><td style = \"text-align: right;\">48.2</td></tr><tr><td class = \"rowNumber\" style = \"font-weight: bold; text-align: right;\">6</td><td style = \"text-align: right;\">2</td><td style = \"text-align: right;\">2</td><td style = \"text-align: right;\">46.2</td><td style = \"text-align: right;\">40.7</td></tr><tr><td class = \"rowNumber\" style = \"font-weight: bold; text-align: right;\">7</td><td style = \"text-align: right;\">2</td><td style = \"text-align: right;\">3</td><td style = \"text-align: right;\">56.6</td><td style = \"text-align: right;\">38.2</td></tr><tr><td class = \"rowNumber\" style = \"font-weight: bold; text-align: right;\">8</td><td style = \"text-align: right;\">3</td><td style = \"text-align: right;\">1</td><td style = \"text-align: right;\">44.6</td><td style = \"text-align: right;\">15.2</td></tr><tr><td class = \"rowNumber\" style = \"font-weight: bold; text-align: right;\">9</td><td style = \"text-align: right;\">3</td><td style = \"text-align: right;\">2</td><td style = \"text-align: right;\">52.0</td><td style = \"text-align: right;\">20.4</td></tr><tr><td class = \"rowNumber\" style = \"font-weight: bold; text-align: right;\">10</td><td style = \"text-align: right;\">3</td><td style = \"text-align: right;\">3</td><td style = \"text-align: right;\">48.2</td><td style = \"text-align: right;\">32.6</td></tr><tr><td class = \"rowNumber\" style = \"font-weight: bold; text-align: right;\">11</td><td style = \"text-align: right;\">3</td><td style = \"text-align: right;\">4</td><td style = \"text-align: right;\">42.9</td><td style = \"text-align: right;\">38.5</td></tr><tr><td class = \"rowNumber\" style = \"font-weight: bold; text-align: right;\">12</td><td style = \"text-align: right;\">3</td><td style = \"text-align: right;\">5</td><td style = \"text-align: right;\">36.8</td><td style = \"text-align: right;\">46.7</td></tr><tr><td class = \"rowNumber\" style = \"font-weight: bold; text-align: right;\">13</td><td style = \"text-align: right;\">3</td><td style = \"text-align: right;\">6</td><td style = \"text-align: right;\">28.7</td><td style = \"text-align: right;\">44.3</td></tr><tr><td class = \"rowNumber\" style = \"font-weight: bold; text-align: right;\">14</td><td style = \"text-align: right;\">4</td><td style = \"text-align: right;\">1</td><td style = \"text-align: right;\">26.2</td><td style = \"text-align: right;\">7.8</td></tr><tr><td class = \"rowNumber\" style = \"font-weight: bold; text-align: right;\">15</td><td style = \"text-align: right;\">4</td><td style = \"text-align: right;\">2</td><td style = \"text-align: right;\">34.4</td><td style = \"text-align: right;\">6.1</td></tr><tr><td class = \"rowNumber\" style = \"font-weight: bold; text-align: right;\">16</td><td style = \"text-align: right;\">5</td><td style = \"text-align: right;\">1</td><td style = \"text-align: right;\">23.9</td><td style = \"text-align: right;\">16.5</td></tr><tr><td class = \"rowNumber\" style = \"font-weight: bold; text-align: right;\">17</td><td style = \"text-align: right;\">5</td><td style = \"text-align: right;\">2</td><td style = \"text-align: right;\">16.0</td><td style = \"text-align: right;\">12.1</td></tr><tr><td class = \"rowNumber\" style = \"font-weight: bold; text-align: right;\">18</td><td style = \"text-align: right;\">5</td><td style = \"text-align: right;\">3</td><td style = \"text-align: right;\">10.4</td><td style = \"text-align: right;\">10.2</td></tr><tr><td class = \"rowNumber\" style = \"font-weight: bold; text-align: right;\">19</td><td style = \"text-align: right;\">5</td><td style = \"text-align: right;\">4</td><td style = \"text-align: right;\">7.8</td><td style = \"text-align: right;\">22.3</td></tr><tr><td class = \"rowNumber\" style = \"font-weight: bold; text-align: right;\">20</td><td style = \"text-align: right;\">5</td><td style = \"text-align: right;\">5</td><td style = \"text-align: right;\">9.6</td><td style = \"text-align: right;\">30.8</td></tr></tbody></table></div>"
      ],
      "text/latex": [
       "\\begin{tabular}{r|cccc}\n",
       "\t& bus\\_line\\_id & stop\\_ids & stop\\_x & stop\\_y\\\\\n",
       "\t\\hline\n",
       "\t& Int64 & Int64 & Float64 & Float64\\\\\n",
       "\t\\hline\n",
       "\t1 & 1 & 1 & 2.2 & 36.8 \\\\\n",
       "\t2 & 1 & 2 & 4.4 & 40.1 \\\\\n",
       "\t3 & 1 & 3 & 12.5 & 42.7 \\\\\n",
       "\t4 & 1 & 4 & 20.2 & 44.0 \\\\\n",
       "\t5 & 2 & 1 & 40.9 & 48.2 \\\\\n",
       "\t6 & 2 & 2 & 46.2 & 40.7 \\\\\n",
       "\t7 & 2 & 3 & 56.6 & 38.2 \\\\\n",
       "\t8 & 3 & 1 & 44.6 & 15.2 \\\\\n",
       "\t9 & 3 & 2 & 52.0 & 20.4 \\\\\n",
       "\t10 & 3 & 3 & 48.2 & 32.6 \\\\\n",
       "\t11 & 3 & 4 & 42.9 & 38.5 \\\\\n",
       "\t12 & 3 & 5 & 36.8 & 46.7 \\\\\n",
       "\t13 & 3 & 6 & 28.7 & 44.3 \\\\\n",
       "\t14 & 4 & 1 & 26.2 & 7.8 \\\\\n",
       "\t15 & 4 & 2 & 34.4 & 6.1 \\\\\n",
       "\t16 & 5 & 1 & 23.9 & 16.5 \\\\\n",
       "\t17 & 5 & 2 & 16.0 & 12.1 \\\\\n",
       "\t18 & 5 & 3 & 10.4 & 10.2 \\\\\n",
       "\t19 & 5 & 4 & 7.8 & 22.3 \\\\\n",
       "\t20 & 5 & 5 & 9.6 & 30.8 \\\\\n",
       "\\end{tabular}\n"
      ],
      "text/plain": [
       "\u001b[1m20×4 DataFrame\u001b[0m\n",
       "\u001b[1m Row \u001b[0m│\u001b[1m bus_line_id \u001b[0m\u001b[1m stop_ids \u001b[0m\u001b[1m stop_x  \u001b[0m\u001b[1m stop_y  \u001b[0m\n",
       "     │\u001b[90m Int64       \u001b[0m\u001b[90m Int64    \u001b[0m\u001b[90m Float64 \u001b[0m\u001b[90m Float64 \u001b[0m\n",
       "─────┼─────────────────────────────────────────\n",
       "   1 │           1         1      2.2     36.8\n",
       "   2 │           1         2      4.4     40.1\n",
       "   3 │           1         3     12.5     42.7\n",
       "   4 │           1         4     20.2     44.0\n",
       "   5 │           2         1     40.9     48.2\n",
       "   6 │           2         2     46.2     40.7\n",
       "   7 │           2         3     56.6     38.2\n",
       "   8 │           3         1     44.6     15.2\n",
       "  ⋮  │      ⋮          ⋮         ⋮        ⋮\n",
       "  14 │           4         1     26.2      7.8\n",
       "  15 │           4         2     34.4      6.1\n",
       "  16 │           5         1     23.9     16.5\n",
       "  17 │           5         2     16.0     12.1\n",
       "  18 │           5         3     10.4     10.2\n",
       "  19 │           5         4      7.8     22.3\n",
       "  20 │           5         5      9.6     30.8\n",
       "\u001b[36m                                 5 rows omitted\u001b[0m"
      ]
     },
     "metadata": {},
     "output_type": "display_data"
    }
   ],
   "source": [
    "lines = CSV.read(\"/Users/alexanderklaus/Desktop/Masterthesis/Code/data/lines.csv\", DataFrame)\n",
    "demand = CSV.read(\"/Users/alexanderklaus/Desktop/Masterthesis/Code/data/demand.csv\", DataFrame)\n",
    "busses = CSV.read(\"/Users/alexanderklaus/Desktop/Masterthesis/Code/data/busses.csv\", DataFrame)\n",
    "bus_line_stops = CSV.read(\"/Users/alexanderklaus/Desktop/Masterthesis/Code/data/bus-lines.csv\", DataFrame)"
   ]
  },
  {
   "cell_type": "markdown",
   "metadata": {},
   "source": [
    "### Bus line stops"
   ]
  },
  {
   "cell_type": "code",
   "execution_count": 3,
   "metadata": {},
   "outputs": [
    {
     "data": {
      "text/html": [
       "<div><div style = \"float: left;\"><span>20×4 DataFrame</span></div><div style = \"clear: both;\"></div></div><div class = \"data-frame\" style = \"overflow-x: scroll;\"><table class = \"data-frame\" style = \"margin-bottom: 6px;\"><thead><tr class = \"header\"><th class = \"rowNumber\" style = \"font-weight: bold; text-align: right;\">Row</th><th style = \"text-align: left;\">bus_line_id</th><th style = \"text-align: left;\">stop_ids</th><th style = \"text-align: left;\">stop_x</th><th style = \"text-align: left;\">stop_y</th></tr><tr class = \"subheader headerLastRow\"><th class = \"rowNumber\" style = \"font-weight: bold; text-align: right;\"></th><th title = \"Int64\" style = \"text-align: left;\">Int64</th><th title = \"Int64\" style = \"text-align: left;\">Int64</th><th title = \"Float64\" style = \"text-align: left;\">Float64</th><th title = \"Float64\" style = \"text-align: left;\">Float64</th></tr></thead><tbody><tr><td class = \"rowNumber\" style = \"font-weight: bold; text-align: right;\">1</td><td style = \"text-align: right;\">1</td><td style = \"text-align: right;\">1</td><td style = \"text-align: right;\">2.2</td><td style = \"text-align: right;\">36.8</td></tr><tr><td class = \"rowNumber\" style = \"font-weight: bold; text-align: right;\">2</td><td style = \"text-align: right;\">1</td><td style = \"text-align: right;\">2</td><td style = \"text-align: right;\">4.4</td><td style = \"text-align: right;\">40.1</td></tr><tr><td class = \"rowNumber\" style = \"font-weight: bold; text-align: right;\">3</td><td style = \"text-align: right;\">1</td><td style = \"text-align: right;\">3</td><td style = \"text-align: right;\">12.5</td><td style = \"text-align: right;\">42.7</td></tr><tr><td class = \"rowNumber\" style = \"font-weight: bold; text-align: right;\">4</td><td style = \"text-align: right;\">1</td><td style = \"text-align: right;\">4</td><td style = \"text-align: right;\">20.2</td><td style = \"text-align: right;\">44.0</td></tr><tr><td class = \"rowNumber\" style = \"font-weight: bold; text-align: right;\">5</td><td style = \"text-align: right;\">2</td><td style = \"text-align: right;\">1</td><td style = \"text-align: right;\">40.9</td><td style = \"text-align: right;\">48.2</td></tr><tr><td class = \"rowNumber\" style = \"font-weight: bold; text-align: right;\">6</td><td style = \"text-align: right;\">2</td><td style = \"text-align: right;\">2</td><td style = \"text-align: right;\">46.2</td><td style = \"text-align: right;\">40.7</td></tr><tr><td class = \"rowNumber\" style = \"font-weight: bold; text-align: right;\">7</td><td style = \"text-align: right;\">2</td><td style = \"text-align: right;\">3</td><td style = \"text-align: right;\">56.6</td><td style = \"text-align: right;\">38.2</td></tr><tr><td class = \"rowNumber\" style = \"font-weight: bold; text-align: right;\">8</td><td style = \"text-align: right;\">3</td><td style = \"text-align: right;\">1</td><td style = \"text-align: right;\">44.6</td><td style = \"text-align: right;\">15.2</td></tr><tr><td class = \"rowNumber\" style = \"font-weight: bold; text-align: right;\">9</td><td style = \"text-align: right;\">3</td><td style = \"text-align: right;\">2</td><td style = \"text-align: right;\">52.0</td><td style = \"text-align: right;\">20.4</td></tr><tr><td class = \"rowNumber\" style = \"font-weight: bold; text-align: right;\">10</td><td style = \"text-align: right;\">3</td><td style = \"text-align: right;\">3</td><td style = \"text-align: right;\">48.2</td><td style = \"text-align: right;\">32.6</td></tr><tr><td class = \"rowNumber\" style = \"font-weight: bold; text-align: right;\">11</td><td style = \"text-align: right;\">3</td><td style = \"text-align: right;\">4</td><td style = \"text-align: right;\">42.9</td><td style = \"text-align: right;\">38.5</td></tr><tr><td class = \"rowNumber\" style = \"font-weight: bold; text-align: right;\">12</td><td style = \"text-align: right;\">3</td><td style = \"text-align: right;\">5</td><td style = \"text-align: right;\">36.8</td><td style = \"text-align: right;\">46.7</td></tr><tr><td class = \"rowNumber\" style = \"font-weight: bold; text-align: right;\">13</td><td style = \"text-align: right;\">3</td><td style = \"text-align: right;\">6</td><td style = \"text-align: right;\">28.7</td><td style = \"text-align: right;\">44.3</td></tr><tr><td class = \"rowNumber\" style = \"font-weight: bold; text-align: right;\">14</td><td style = \"text-align: right;\">4</td><td style = \"text-align: right;\">1</td><td style = \"text-align: right;\">26.2</td><td style = \"text-align: right;\">7.8</td></tr><tr><td class = \"rowNumber\" style = \"font-weight: bold; text-align: right;\">15</td><td style = \"text-align: right;\">4</td><td style = \"text-align: right;\">2</td><td style = \"text-align: right;\">34.4</td><td style = \"text-align: right;\">6.1</td></tr><tr><td class = \"rowNumber\" style = \"font-weight: bold; text-align: right;\">16</td><td style = \"text-align: right;\">5</td><td style = \"text-align: right;\">1</td><td style = \"text-align: right;\">23.9</td><td style = \"text-align: right;\">16.5</td></tr><tr><td class = \"rowNumber\" style = \"font-weight: bold; text-align: right;\">17</td><td style = \"text-align: right;\">5</td><td style = \"text-align: right;\">2</td><td style = \"text-align: right;\">16.0</td><td style = \"text-align: right;\">12.1</td></tr><tr><td class = \"rowNumber\" style = \"font-weight: bold; text-align: right;\">18</td><td style = \"text-align: right;\">5</td><td style = \"text-align: right;\">3</td><td style = \"text-align: right;\">10.4</td><td style = \"text-align: right;\">10.2</td></tr><tr><td class = \"rowNumber\" style = \"font-weight: bold; text-align: right;\">19</td><td style = \"text-align: right;\">5</td><td style = \"text-align: right;\">4</td><td style = \"text-align: right;\">7.8</td><td style = \"text-align: right;\">22.3</td></tr><tr><td class = \"rowNumber\" style = \"font-weight: bold; text-align: right;\">20</td><td style = \"text-align: right;\">5</td><td style = \"text-align: right;\">5</td><td style = \"text-align: right;\">9.6</td><td style = \"text-align: right;\">30.8</td></tr></tbody></table></div>"
      ],
      "text/latex": [
       "\\begin{tabular}{r|cccc}\n",
       "\t& bus\\_line\\_id & stop\\_ids & stop\\_x & stop\\_y\\\\\n",
       "\t\\hline\n",
       "\t& Int64 & Int64 & Float64 & Float64\\\\\n",
       "\t\\hline\n",
       "\t1 & 1 & 1 & 2.2 & 36.8 \\\\\n",
       "\t2 & 1 & 2 & 4.4 & 40.1 \\\\\n",
       "\t3 & 1 & 3 & 12.5 & 42.7 \\\\\n",
       "\t4 & 1 & 4 & 20.2 & 44.0 \\\\\n",
       "\t5 & 2 & 1 & 40.9 & 48.2 \\\\\n",
       "\t6 & 2 & 2 & 46.2 & 40.7 \\\\\n",
       "\t7 & 2 & 3 & 56.6 & 38.2 \\\\\n",
       "\t8 & 3 & 1 & 44.6 & 15.2 \\\\\n",
       "\t9 & 3 & 2 & 52.0 & 20.4 \\\\\n",
       "\t10 & 3 & 3 & 48.2 & 32.6 \\\\\n",
       "\t11 & 3 & 4 & 42.9 & 38.5 \\\\\n",
       "\t12 & 3 & 5 & 36.8 & 46.7 \\\\\n",
       "\t13 & 3 & 6 & 28.7 & 44.3 \\\\\n",
       "\t14 & 4 & 1 & 26.2 & 7.8 \\\\\n",
       "\t15 & 4 & 2 & 34.4 & 6.1 \\\\\n",
       "\t16 & 5 & 1 & 23.9 & 16.5 \\\\\n",
       "\t17 & 5 & 2 & 16.0 & 12.1 \\\\\n",
       "\t18 & 5 & 3 & 10.4 & 10.2 \\\\\n",
       "\t19 & 5 & 4 & 7.8 & 22.3 \\\\\n",
       "\t20 & 5 & 5 & 9.6 & 30.8 \\\\\n",
       "\\end{tabular}\n"
      ],
      "text/plain": [
       "\u001b[1m20×4 DataFrame\u001b[0m\n",
       "\u001b[1m Row \u001b[0m│\u001b[1m bus_line_id \u001b[0m\u001b[1m stop_ids \u001b[0m\u001b[1m stop_x  \u001b[0m\u001b[1m stop_y  \u001b[0m\n",
       "     │\u001b[90m Int64       \u001b[0m\u001b[90m Int64    \u001b[0m\u001b[90m Float64 \u001b[0m\u001b[90m Float64 \u001b[0m\n",
       "─────┼─────────────────────────────────────────\n",
       "   1 │           1         1      2.2     36.8\n",
       "   2 │           1         2      4.4     40.1\n",
       "   3 │           1         3     12.5     42.7\n",
       "   4 │           1         4     20.2     44.0\n",
       "   5 │           2         1     40.9     48.2\n",
       "   6 │           2         2     46.2     40.7\n",
       "   7 │           2         3     56.6     38.2\n",
       "   8 │           3         1     44.6     15.2\n",
       "  ⋮  │      ⋮          ⋮         ⋮        ⋮\n",
       "  14 │           4         1     26.2      7.8\n",
       "  15 │           4         2     34.4      6.1\n",
       "  16 │           5         1     23.9     16.5\n",
       "  17 │           5         2     16.0     12.1\n",
       "  18 │           5         3     10.4     10.2\n",
       "  19 │           5         4      7.8     22.3\n",
       "  20 │           5         5      9.6     30.8\n",
       "\u001b[36m                                 5 rows omitted\u001b[0m"
      ]
     },
     "metadata": {},
     "output_type": "display_data"
    }
   ],
   "source": [
    "bus_line_stops"
   ]
  },
  {
   "cell_type": "markdown",
   "metadata": {},
   "source": [
    "### Lines"
   ]
  },
  {
   "cell_type": "code",
   "execution_count": 4,
   "metadata": {},
   "outputs": [
    {
     "data": {
      "text/html": [
       "<div><div style = \"float: left;\"><span>17×3 DataFrame</span></div><div style = \"clear: both;\"></div></div><div class = \"data-frame\" style = \"overflow-x: scroll;\"><table class = \"data-frame\" style = \"margin-bottom: 6px;\"><thead><tr class = \"header\"><th class = \"rowNumber\" style = \"font-weight: bold; text-align: right;\">Row</th><th style = \"text-align: left;\">line_id</th><th style = \"text-align: left;\">bus_line_id</th><th style = \"text-align: left;\">start_time</th></tr><tr class = \"subheader headerLastRow\"><th class = \"rowNumber\" style = \"font-weight: bold; text-align: right;\"></th><th title = \"Int64\" style = \"text-align: left;\">Int64</th><th title = \"Int64\" style = \"text-align: left;\">Int64</th><th title = \"Float64\" style = \"text-align: left;\">Float64</th></tr></thead><tbody><tr><td class = \"rowNumber\" style = \"font-weight: bold; text-align: right;\">1</td><td style = \"text-align: right;\">1</td><td style = \"text-align: right;\">1</td><td style = \"text-align: right;\">20.0</td></tr><tr><td class = \"rowNumber\" style = \"font-weight: bold; text-align: right;\">2</td><td style = \"text-align: right;\">2</td><td style = \"text-align: right;\">1</td><td style = \"text-align: right;\">40.0</td></tr><tr><td class = \"rowNumber\" style = \"font-weight: bold; text-align: right;\">3</td><td style = \"text-align: right;\">3</td><td style = \"text-align: right;\">1</td><td style = \"text-align: right;\">60.0</td></tr><tr><td class = \"rowNumber\" style = \"font-weight: bold; text-align: right;\">4</td><td style = \"text-align: right;\">1</td><td style = \"text-align: right;\">2</td><td style = \"text-align: right;\">20.0</td></tr><tr><td class = \"rowNumber\" style = \"font-weight: bold; text-align: right;\">5</td><td style = \"text-align: right;\">2</td><td style = \"text-align: right;\">2</td><td style = \"text-align: right;\">35.0</td></tr><tr><td class = \"rowNumber\" style = \"font-weight: bold; text-align: right;\">6</td><td style = \"text-align: right;\">3</td><td style = \"text-align: right;\">2</td><td style = \"text-align: right;\">50.0</td></tr><tr><td class = \"rowNumber\" style = \"font-weight: bold; text-align: right;\">7</td><td style = \"text-align: right;\">1</td><td style = \"text-align: right;\">3</td><td style = \"text-align: right;\">16.0</td></tr><tr><td class = \"rowNumber\" style = \"font-weight: bold; text-align: right;\">8</td><td style = \"text-align: right;\">2</td><td style = \"text-align: right;\">3</td><td style = \"text-align: right;\">32.0</td></tr><tr><td class = \"rowNumber\" style = \"font-weight: bold; text-align: right;\">9</td><td style = \"text-align: right;\">3</td><td style = \"text-align: right;\">3</td><td style = \"text-align: right;\">48.0</td></tr><tr><td class = \"rowNumber\" style = \"font-weight: bold; text-align: right;\">10</td><td style = \"text-align: right;\">1</td><td style = \"text-align: right;\">4</td><td style = \"text-align: right;\">20.0</td></tr><tr><td class = \"rowNumber\" style = \"font-weight: bold; text-align: right;\">11</td><td style = \"text-align: right;\">2</td><td style = \"text-align: right;\">4</td><td style = \"text-align: right;\">32.0</td></tr><tr><td class = \"rowNumber\" style = \"font-weight: bold; text-align: right;\">12</td><td style = \"text-align: right;\">3</td><td style = \"text-align: right;\">4</td><td style = \"text-align: right;\">44.0</td></tr><tr><td class = \"rowNumber\" style = \"font-weight: bold; text-align: right;\">13</td><td style = \"text-align: right;\">4</td><td style = \"text-align: right;\">4</td><td style = \"text-align: right;\">56.0</td></tr><tr><td class = \"rowNumber\" style = \"font-weight: bold; text-align: right;\">14</td><td style = \"text-align: right;\">1</td><td style = \"text-align: right;\">5</td><td style = \"text-align: right;\">20.0</td></tr><tr><td class = \"rowNumber\" style = \"font-weight: bold; text-align: right;\">15</td><td style = \"text-align: right;\">2</td><td style = \"text-align: right;\">5</td><td style = \"text-align: right;\">32.0</td></tr><tr><td class = \"rowNumber\" style = \"font-weight: bold; text-align: right;\">16</td><td style = \"text-align: right;\">3</td><td style = \"text-align: right;\">5</td><td style = \"text-align: right;\">46.0</td></tr><tr><td class = \"rowNumber\" style = \"font-weight: bold; text-align: right;\">17</td><td style = \"text-align: right;\">4</td><td style = \"text-align: right;\">5</td><td style = \"text-align: right;\">58.0</td></tr></tbody></table></div>"
      ],
      "text/latex": [
       "\\begin{tabular}{r|ccc}\n",
       "\t& line\\_id & bus\\_line\\_id & start\\_time\\\\\n",
       "\t\\hline\n",
       "\t& Int64 & Int64 & Float64\\\\\n",
       "\t\\hline\n",
       "\t1 & 1 & 1 & 20.0 \\\\\n",
       "\t2 & 2 & 1 & 40.0 \\\\\n",
       "\t3 & 3 & 1 & 60.0 \\\\\n",
       "\t4 & 1 & 2 & 20.0 \\\\\n",
       "\t5 & 2 & 2 & 35.0 \\\\\n",
       "\t6 & 3 & 2 & 50.0 \\\\\n",
       "\t7 & 1 & 3 & 16.0 \\\\\n",
       "\t8 & 2 & 3 & 32.0 \\\\\n",
       "\t9 & 3 & 3 & 48.0 \\\\\n",
       "\t10 & 1 & 4 & 20.0 \\\\\n",
       "\t11 & 2 & 4 & 32.0 \\\\\n",
       "\t12 & 3 & 4 & 44.0 \\\\\n",
       "\t13 & 4 & 4 & 56.0 \\\\\n",
       "\t14 & 1 & 5 & 20.0 \\\\\n",
       "\t15 & 2 & 5 & 32.0 \\\\\n",
       "\t16 & 3 & 5 & 46.0 \\\\\n",
       "\t17 & 4 & 5 & 58.0 \\\\\n",
       "\\end{tabular}\n"
      ],
      "text/plain": [
       "\u001b[1m17×3 DataFrame\u001b[0m\n",
       "\u001b[1m Row \u001b[0m│\u001b[1m line_id \u001b[0m\u001b[1m bus_line_id \u001b[0m\u001b[1m start_time \u001b[0m\n",
       "     │\u001b[90m Int64   \u001b[0m\u001b[90m Int64       \u001b[0m\u001b[90m Float64    \u001b[0m\n",
       "─────┼──────────────────────────────────\n",
       "   1 │       1            1        20.0\n",
       "   2 │       2            1        40.0\n",
       "   3 │       3            1        60.0\n",
       "   4 │       1            2        20.0\n",
       "   5 │       2            2        35.0\n",
       "   6 │       3            2        50.0\n",
       "   7 │       1            3        16.0\n",
       "   8 │       2            3        32.0\n",
       "   9 │       3            3        48.0\n",
       "  10 │       1            4        20.0\n",
       "  11 │       2            4        32.0\n",
       "  12 │       3            4        44.0\n",
       "  13 │       4            4        56.0\n",
       "  14 │       1            5        20.0\n",
       "  15 │       2            5        32.0\n",
       "  16 │       3            5        46.0\n",
       "  17 │       4            5        58.0"
      ]
     },
     "metadata": {},
     "output_type": "display_data"
    }
   ],
   "source": [
    "lines"
   ]
  },
  {
   "cell_type": "markdown",
   "metadata": {},
   "source": [
    "### Demand"
   ]
  },
  {
   "cell_type": "code",
   "execution_count": 5,
   "metadata": {},
   "outputs": [
    {
     "data": {
      "text/html": [
       "<div><div style = \"float: left;\"><span>17×6 DataFrame</span></div><div style = \"clear: both;\"></div></div><div class = \"data-frame\" style = \"overflow-x: scroll;\"><table class = \"data-frame\" style = \"margin-bottom: 6px;\"><thead><tr class = \"header\"><th class = \"rowNumber\" style = \"font-weight: bold; text-align: right;\">Row</th><th style = \"text-align: left;\">demand_id</th><th style = \"text-align: left;\">line_id</th><th style = \"text-align: left;\">bus_line_id</th><th style = \"text-align: left;\">origin_stop_id</th><th style = \"text-align: left;\">destination_stop_id</th><th style = \"text-align: left;\">demand</th></tr><tr class = \"subheader headerLastRow\"><th class = \"rowNumber\" style = \"font-weight: bold; text-align: right;\"></th><th title = \"Int64\" style = \"text-align: left;\">Int64</th><th title = \"Int64\" style = \"text-align: left;\">Int64</th><th title = \"Int64\" style = \"text-align: left;\">Int64</th><th title = \"Int64\" style = \"text-align: left;\">Int64</th><th title = \"Int64\" style = \"text-align: left;\">Int64</th><th title = \"Int64\" style = \"text-align: left;\">Int64</th></tr></thead><tbody><tr><td class = \"rowNumber\" style = \"font-weight: bold; text-align: right;\">1</td><td style = \"text-align: right;\">1</td><td style = \"text-align: right;\">1</td><td style = \"text-align: right;\">1</td><td style = \"text-align: right;\">1</td><td style = \"text-align: right;\">4</td><td style = \"text-align: right;\">1</td></tr><tr><td class = \"rowNumber\" style = \"font-weight: bold; text-align: right;\">2</td><td style = \"text-align: right;\">2</td><td style = \"text-align: right;\">1</td><td style = \"text-align: right;\">1</td><td style = \"text-align: right;\">2</td><td style = \"text-align: right;\">3</td><td style = \"text-align: right;\">2</td></tr><tr><td class = \"rowNumber\" style = \"font-weight: bold; text-align: right;\">3</td><td style = \"text-align: right;\">3</td><td style = \"text-align: right;\">1</td><td style = \"text-align: right;\">1</td><td style = \"text-align: right;\">2</td><td style = \"text-align: right;\">4</td><td style = \"text-align: right;\">1</td></tr><tr><td class = \"rowNumber\" style = \"font-weight: bold; text-align: right;\">4</td><td style = \"text-align: right;\">4</td><td style = \"text-align: right;\">2</td><td style = \"text-align: right;\">1</td><td style = \"text-align: right;\">3</td><td style = \"text-align: right;\">4</td><td style = \"text-align: right;\">1</td></tr><tr><td class = \"rowNumber\" style = \"font-weight: bold; text-align: right;\">5</td><td style = \"text-align: right;\">5</td><td style = \"text-align: right;\">2</td><td style = \"text-align: right;\">1</td><td style = \"text-align: right;\">1</td><td style = \"text-align: right;\">3</td><td style = \"text-align: right;\">2</td></tr><tr><td class = \"rowNumber\" style = \"font-weight: bold; text-align: right;\">6</td><td style = \"text-align: right;\">6</td><td style = \"text-align: right;\">1</td><td style = \"text-align: right;\">2</td><td style = \"text-align: right;\">1</td><td style = \"text-align: right;\">2</td><td style = \"text-align: right;\">4</td></tr><tr><td class = \"rowNumber\" style = \"font-weight: bold; text-align: right;\">7</td><td style = \"text-align: right;\">7</td><td style = \"text-align: right;\">3</td><td style = \"text-align: right;\">2</td><td style = \"text-align: right;\">1</td><td style = \"text-align: right;\">3</td><td style = \"text-align: right;\">1</td></tr><tr><td class = \"rowNumber\" style = \"font-weight: bold; text-align: right;\">8</td><td style = \"text-align: right;\">8</td><td style = \"text-align: right;\">1</td><td style = \"text-align: right;\">3</td><td style = \"text-align: right;\">1</td><td style = \"text-align: right;\">6</td><td style = \"text-align: right;\">2</td></tr><tr><td class = \"rowNumber\" style = \"font-weight: bold; text-align: right;\">9</td><td style = \"text-align: right;\">9</td><td style = \"text-align: right;\">1</td><td style = \"text-align: right;\">3</td><td style = \"text-align: right;\">2</td><td style = \"text-align: right;\">5</td><td style = \"text-align: right;\">1</td></tr><tr><td class = \"rowNumber\" style = \"font-weight: bold; text-align: right;\">10</td><td style = \"text-align: right;\">10</td><td style = \"text-align: right;\">2</td><td style = \"text-align: right;\">3</td><td style = \"text-align: right;\">1</td><td style = \"text-align: right;\">2</td><td style = \"text-align: right;\">1</td></tr><tr><td class = \"rowNumber\" style = \"font-weight: bold; text-align: right;\">11</td><td style = \"text-align: right;\">11</td><td style = \"text-align: right;\">2</td><td style = \"text-align: right;\">3</td><td style = \"text-align: right;\">4</td><td style = \"text-align: right;\">6</td><td style = \"text-align: right;\">4</td></tr><tr><td class = \"rowNumber\" style = \"font-weight: bold; text-align: right;\">12</td><td style = \"text-align: right;\">12</td><td style = \"text-align: right;\">2</td><td style = \"text-align: right;\">4</td><td style = \"text-align: right;\">1</td><td style = \"text-align: right;\">2</td><td style = \"text-align: right;\">1</td></tr><tr><td class = \"rowNumber\" style = \"font-weight: bold; text-align: right;\">13</td><td style = \"text-align: right;\">13</td><td style = \"text-align: right;\">4</td><td style = \"text-align: right;\">4</td><td style = \"text-align: right;\">1</td><td style = \"text-align: right;\">2</td><td style = \"text-align: right;\">2</td></tr><tr><td class = \"rowNumber\" style = \"font-weight: bold; text-align: right;\">14</td><td style = \"text-align: right;\">15</td><td style = \"text-align: right;\">1</td><td style = \"text-align: right;\">5</td><td style = \"text-align: right;\">3</td><td style = \"text-align: right;\">5</td><td style = \"text-align: right;\">1</td></tr><tr><td class = \"rowNumber\" style = \"font-weight: bold; text-align: right;\">15</td><td style = \"text-align: right;\">16</td><td style = \"text-align: right;\">3</td><td style = \"text-align: right;\">5</td><td style = \"text-align: right;\">2</td><td style = \"text-align: right;\">4</td><td style = \"text-align: right;\">1</td></tr><tr><td class = \"rowNumber\" style = \"font-weight: bold; text-align: right;\">16</td><td style = \"text-align: right;\">17</td><td style = \"text-align: right;\">3</td><td style = \"text-align: right;\">5</td><td style = \"text-align: right;\">2</td><td style = \"text-align: right;\">3</td><td style = \"text-align: right;\">1</td></tr><tr><td class = \"rowNumber\" style = \"font-weight: bold; text-align: right;\">17</td><td style = \"text-align: right;\">18</td><td style = \"text-align: right;\">3</td><td style = \"text-align: right;\">5</td><td style = \"text-align: right;\">1</td><td style = \"text-align: right;\">4</td><td style = \"text-align: right;\">3</td></tr></tbody></table></div>"
      ],
      "text/latex": [
       "\\begin{tabular}{r|cccccc}\n",
       "\t& demand\\_id & line\\_id & bus\\_line\\_id & origin\\_stop\\_id & destination\\_stop\\_id & demand\\\\\n",
       "\t\\hline\n",
       "\t& Int64 & Int64 & Int64 & Int64 & Int64 & Int64\\\\\n",
       "\t\\hline\n",
       "\t1 & 1 & 1 & 1 & 1 & 4 & 1 \\\\\n",
       "\t2 & 2 & 1 & 1 & 2 & 3 & 2 \\\\\n",
       "\t3 & 3 & 1 & 1 & 2 & 4 & 1 \\\\\n",
       "\t4 & 4 & 2 & 1 & 3 & 4 & 1 \\\\\n",
       "\t5 & 5 & 2 & 1 & 1 & 3 & 2 \\\\\n",
       "\t6 & 6 & 1 & 2 & 1 & 2 & 4 \\\\\n",
       "\t7 & 7 & 3 & 2 & 1 & 3 & 1 \\\\\n",
       "\t8 & 8 & 1 & 3 & 1 & 6 & 2 \\\\\n",
       "\t9 & 9 & 1 & 3 & 2 & 5 & 1 \\\\\n",
       "\t10 & 10 & 2 & 3 & 1 & 2 & 1 \\\\\n",
       "\t11 & 11 & 2 & 3 & 4 & 6 & 4 \\\\\n",
       "\t12 & 12 & 2 & 4 & 1 & 2 & 1 \\\\\n",
       "\t13 & 13 & 4 & 4 & 1 & 2 & 2 \\\\\n",
       "\t14 & 15 & 1 & 5 & 3 & 5 & 1 \\\\\n",
       "\t15 & 16 & 3 & 5 & 2 & 4 & 1 \\\\\n",
       "\t16 & 17 & 3 & 5 & 2 & 3 & 1 \\\\\n",
       "\t17 & 18 & 3 & 5 & 1 & 4 & 3 \\\\\n",
       "\\end{tabular}\n"
      ],
      "text/plain": [
       "\u001b[1m17×6 DataFrame\u001b[0m\n",
       "\u001b[1m Row \u001b[0m│\u001b[1m demand_id \u001b[0m\u001b[1m line_id \u001b[0m\u001b[1m bus_line_id \u001b[0m\u001b[1m origin_stop_id \u001b[0m\u001b[1m destination_stop_id \u001b[0m\u001b[1m d\u001b[0m ⋯\n",
       "     │\u001b[90m Int64     \u001b[0m\u001b[90m Int64   \u001b[0m\u001b[90m Int64       \u001b[0m\u001b[90m Int64          \u001b[0m\u001b[90m Int64               \u001b[0m\u001b[90m I\u001b[0m ⋯\n",
       "─────┼──────────────────────────────────────────────────────────────────────────\n",
       "   1 │         1        1            1               1                    4    ⋯\n",
       "   2 │         2        1            1               2                    3\n",
       "   3 │         3        1            1               2                    4\n",
       "   4 │         4        2            1               3                    4\n",
       "   5 │         5        2            1               1                    3    ⋯\n",
       "   6 │         6        1            2               1                    2\n",
       "   7 │         7        3            2               1                    3\n",
       "   8 │         8        1            3               1                    6\n",
       "  ⋮  │     ⋮         ⋮          ⋮             ⋮                  ⋮             ⋱\n",
       "  11 │        11        2            3               4                    6    ⋯\n",
       "  12 │        12        2            4               1                    2\n",
       "  13 │        13        4            4               1                    2\n",
       "  14 │        15        1            5               3                    5\n",
       "  15 │        16        3            5               2                    4    ⋯\n",
       "  16 │        17        3            5               2                    3\n",
       "  17 │        18        3            5               1                    4\n",
       "\u001b[36m                                                     1 column and 2 rows omitted\u001b[0m"
      ]
     },
     "metadata": {},
     "output_type": "display_data"
    }
   ],
   "source": [
    "demand"
   ]
  },
  {
   "cell_type": "markdown",
   "metadata": {},
   "source": [
    "### Busses"
   ]
  },
  {
   "cell_type": "code",
   "execution_count": 6,
   "metadata": {},
   "outputs": [
    {
     "data": {
      "text/html": [
       "<div><div style = \"float: left;\"><span>10×8 DataFrame</span></div><div style = \"clear: both;\"></div></div><div class = \"data-frame\" style = \"overflow-x: scroll;\"><table class = \"data-frame\" style = \"margin-bottom: 6px;\"><thead><tr class = \"header\"><th class = \"rowNumber\" style = \"font-weight: bold; text-align: right;\">Row</th><th style = \"text-align: left;\">bus_id</th><th style = \"text-align: left;\">capacity</th><th style = \"text-align: left;\">shift_start</th><th style = \"text-align: left;\">break_start_1</th><th style = \"text-align: left;\">break_end_1</th><th style = \"text-align: left;\">break_start_2</th><th style = \"text-align: left;\">break_end_2</th><th style = \"text-align: left;\">shift_end</th></tr><tr class = \"subheader headerLastRow\"><th class = \"rowNumber\" style = \"font-weight: bold; text-align: right;\"></th><th title = \"Int64\" style = \"text-align: left;\">Int64</th><th title = \"Int64\" style = \"text-align: left;\">Int64</th><th title = \"Int64\" style = \"text-align: left;\">Int64</th><th title = \"Int64\" style = \"text-align: left;\">Int64</th><th title = \"Int64\" style = \"text-align: left;\">Int64</th><th title = \"Int64\" style = \"text-align: left;\">Int64</th><th title = \"Int64\" style = \"text-align: left;\">Int64</th><th title = \"Int64\" style = \"text-align: left;\">Int64</th></tr></thead><tbody><tr><td class = \"rowNumber\" style = \"font-weight: bold; text-align: right;\">1</td><td style = \"text-align: right;\">1</td><td style = \"text-align: right;\">10</td><td style = \"text-align: right;\">0</td><td style = \"text-align: right;\">0</td><td style = \"text-align: right;\">0</td><td style = \"text-align: right;\">30</td><td style = \"text-align: right;\">40</td><td style = \"text-align: right;\">70</td></tr><tr><td class = \"rowNumber\" style = \"font-weight: bold; text-align: right;\">2</td><td style = \"text-align: right;\">2</td><td style = \"text-align: right;\">10</td><td style = \"text-align: right;\">5</td><td style = \"text-align: right;\">35</td><td style = \"text-align: right;\">40</td><td style = \"text-align: right;\">50</td><td style = \"text-align: right;\">55</td><td style = \"text-align: right;\">75</td></tr><tr><td class = \"rowNumber\" style = \"font-weight: bold; text-align: right;\">3</td><td style = \"text-align: right;\">3</td><td style = \"text-align: right;\">10</td><td style = \"text-align: right;\">10</td><td style = \"text-align: right;\">10</td><td style = \"text-align: right;\">10</td><td style = \"text-align: right;\">40</td><td style = \"text-align: right;\">50</td><td style = \"text-align: right;\">80</td></tr><tr><td class = \"rowNumber\" style = \"font-weight: bold; text-align: right;\">4</td><td style = \"text-align: right;\">4</td><td style = \"text-align: right;\">10</td><td style = \"text-align: right;\">10</td><td style = \"text-align: right;\">55</td><td style = \"text-align: right;\">60</td><td style = \"text-align: right;\">75</td><td style = \"text-align: right;\">80</td><td style = \"text-align: right;\">90</td></tr><tr><td class = \"rowNumber\" style = \"font-weight: bold; text-align: right;\">5</td><td style = \"text-align: right;\">5</td><td style = \"text-align: right;\">10</td><td style = \"text-align: right;\">0</td><td style = \"text-align: right;\">20</td><td style = \"text-align: right;\">30</td><td style = \"text-align: right;\">50</td><td style = \"text-align: right;\">60</td><td style = \"text-align: right;\">90</td></tr><tr><td class = \"rowNumber\" style = \"font-weight: bold; text-align: right;\">6</td><td style = \"text-align: right;\">6</td><td style = \"text-align: right;\">10</td><td style = \"text-align: right;\">0</td><td style = \"text-align: right;\">0</td><td style = \"text-align: right;\">0</td><td style = \"text-align: right;\">45</td><td style = \"text-align: right;\">55</td><td style = \"text-align: right;\">75</td></tr><tr><td class = \"rowNumber\" style = \"font-weight: bold; text-align: right;\">7</td><td style = \"text-align: right;\">7</td><td style = \"text-align: right;\">10</td><td style = \"text-align: right;\">0</td><td style = \"text-align: right;\">25</td><td style = \"text-align: right;\">35</td><td style = \"text-align: right;\">55</td><td style = \"text-align: right;\">65</td><td style = \"text-align: right;\">90</td></tr><tr><td class = \"rowNumber\" style = \"font-weight: bold; text-align: right;\">8</td><td style = \"text-align: right;\">8</td><td style = \"text-align: right;\">10</td><td style = \"text-align: right;\">30</td><td style = \"text-align: right;\">45</td><td style = \"text-align: right;\">55</td><td style = \"text-align: right;\">75</td><td style = \"text-align: right;\">85</td><td style = \"text-align: right;\">100</td></tr><tr><td class = \"rowNumber\" style = \"font-weight: bold; text-align: right;\">9</td><td style = \"text-align: right;\">9</td><td style = \"text-align: right;\">10</td><td style = \"text-align: right;\">0</td><td style = \"text-align: right;\">20</td><td style = \"text-align: right;\">30</td><td style = \"text-align: right;\">50</td><td style = \"text-align: right;\">55</td><td style = \"text-align: right;\">100</td></tr><tr><td class = \"rowNumber\" style = \"font-weight: bold; text-align: right;\">10</td><td style = \"text-align: right;\">10</td><td style = \"text-align: right;\">10</td><td style = \"text-align: right;\">10</td><td style = \"text-align: right;\">30</td><td style = \"text-align: right;\">35</td><td style = \"text-align: right;\">60</td><td style = \"text-align: right;\">65</td><td style = \"text-align: right;\">100</td></tr></tbody></table></div>"
      ],
      "text/latex": [
       "\\begin{tabular}{r|cccccccc}\n",
       "\t& bus\\_id & capacity & shift\\_start & break\\_start\\_1 & break\\_end\\_1 & break\\_start\\_2 & break\\_end\\_2 & \\\\\n",
       "\t\\hline\n",
       "\t& Int64 & Int64 & Int64 & Int64 & Int64 & Int64 & Int64 & \\\\\n",
       "\t\\hline\n",
       "\t1 & 1 & 10 & 0 & 0 & 0 & 30 & 40 & $\\dots$ \\\\\n",
       "\t2 & 2 & 10 & 5 & 35 & 40 & 50 & 55 & $\\dots$ \\\\\n",
       "\t3 & 3 & 10 & 10 & 10 & 10 & 40 & 50 & $\\dots$ \\\\\n",
       "\t4 & 4 & 10 & 10 & 55 & 60 & 75 & 80 & $\\dots$ \\\\\n",
       "\t5 & 5 & 10 & 0 & 20 & 30 & 50 & 60 & $\\dots$ \\\\\n",
       "\t6 & 6 & 10 & 0 & 0 & 0 & 45 & 55 & $\\dots$ \\\\\n",
       "\t7 & 7 & 10 & 0 & 25 & 35 & 55 & 65 & $\\dots$ \\\\\n",
       "\t8 & 8 & 10 & 30 & 45 & 55 & 75 & 85 & $\\dots$ \\\\\n",
       "\t9 & 9 & 10 & 0 & 20 & 30 & 50 & 55 & $\\dots$ \\\\\n",
       "\t10 & 10 & 10 & 10 & 30 & 35 & 60 & 65 & $\\dots$ \\\\\n",
       "\\end{tabular}\n"
      ],
      "text/plain": [
       "\u001b[1m10×8 DataFrame\u001b[0m\n",
       "\u001b[1m Row \u001b[0m│\u001b[1m bus_id \u001b[0m\u001b[1m capacity \u001b[0m\u001b[1m shift_start \u001b[0m\u001b[1m break_start_1 \u001b[0m\u001b[1m break_end_1 \u001b[0m\u001b[1m break_start_\u001b[0m ⋯\n",
       "     │\u001b[90m Int64  \u001b[0m\u001b[90m Int64    \u001b[0m\u001b[90m Int64       \u001b[0m\u001b[90m Int64         \u001b[0m\u001b[90m Int64       \u001b[0m\u001b[90m Int64       \u001b[0m ⋯\n",
       "─────┼──────────────────────────────────────────────────────────────────────────\n",
       "   1 │      1        10            0              0            0             3 ⋯\n",
       "   2 │      2        10            5             35           40             5\n",
       "   3 │      3        10           10             10           10             4\n",
       "   4 │      4        10           10             55           60             7\n",
       "   5 │      5        10            0             20           30             5 ⋯\n",
       "   6 │      6        10            0              0            0             4\n",
       "   7 │      7        10            0             25           35             5\n",
       "   8 │      8        10           30             45           55             7\n",
       "   9 │      9        10            0             20           30             5 ⋯\n",
       "  10 │     10        10           10             30           35             6\n",
       "\u001b[36m                                                               3 columns omitted\u001b[0m"
      ]
     },
     "metadata": {},
     "output_type": "display_data"
    }
   ],
   "source": [
    "busses"
   ]
  },
  {
   "cell_type": "markdown",
   "metadata": {},
   "source": [
    "# Data understanding"
   ]
  },
  {
   "cell_type": "markdown",
   "metadata": {},
   "source": [
    "## Looking at the stops"
   ]
  },
  {
   "cell_type": "code",
   "execution_count": 7,
   "metadata": {},
   "outputs": [
    {
     "data": {
      "text/plain": [
       "plot_initial_stops (generic function with 1 method)"
      ]
     },
     "metadata": {},
     "output_type": "display_data"
    }
   ],
   "source": [
    "using PlotlyJS\n",
    "using DataFrames\n",
    "using Statistics\n",
    "\n",
    "# Gruppiere nach bus_line_id\n",
    "grouped_data = groupby(bus_line_stops, :bus_line_id)\n",
    "\n",
    "# Sammle alle Traces\n",
    "traces = PlotlyJS.AbstractTrace[]  # use correct type\n",
    "\n",
    "# Linien- und Beschriftungstraces erzeugen\n",
    "for grp in grouped_data\n",
    "    sort!(grp, :stop_ids)\n",
    "\n",
    "    # Linien-Trace mit Markern\n",
    "    push!(traces, scatter(\n",
    "        x = grp.stop_x,\n",
    "        y = grp.stop_y,\n",
    "        mode = \"lines+markers+text\",\n",
    "        name = \"Linie $(unique(grp.bus_line_id)[1])\",\n",
    "        marker = attr(size = 8),\n",
    "        text = string.(grp.stop_ids),\n",
    "        textposition = \"top center\",\n",
    "        textfont = attr(color=\"black\", size=10)\n",
    "    ))\n",
    "\n",
    "    # Distanzen zwischen benachbarten Haltestellen\n",
    "    for i in 1:(nrow(grp) - 1)\n",
    "        x1, y1 = grp.stop_x[i], grp.stop_y[i]\n",
    "        x2, y2 = grp.stop_x[i+1], grp.stop_y[i+1]\n",
    "        dist = round(sqrt((x2 - x1)^2 + (y2 - y1)^2), digits=2)\n",
    "        mx, my = mean([x1, x2]), mean([y1, y2])\n",
    "\n",
    "        # Distanztext hinzufügen\n",
    "        push!(traces, scatter(\n",
    "            x = [mx], y = [my],\n",
    "            mode = \"text\",\n",
    "            text = [\"d = $dist\"],\n",
    "            textposition = \"bottom center\",\n",
    "            textfont = attr(size = 9, color = \"gray\"),\n",
    "            showlegend = false\n",
    "        ))\n",
    "    end\n",
    "end\n",
    "\n",
    "# Layout festlegen\n",
    "layout = Layout(\n",
    "    title = \"Buslinien und ihre Haltestellen\",\n",
    "    xaxis_title = \"X-Koordinate\",\n",
    "    yaxis_title = \"Y-Koordinate\",\n",
    "    legend = attr(x=1.02, y=1)\n",
    ")\n",
    "\n",
    "# Plot erstellen\n",
    "p = Plot(traces, layout)\n",
    "\n",
    "# In HTML-Datei speichern (im gleichen Ordner wie Code)\n",
    "PlotlyJS.savefig(p, \"/Users/alexanderklaus/Desktop/Masterthesis/Code/output/buslinien_plot.html\")\n"
   ]
  },
  {
   "cell_type": "markdown",
   "metadata": {},
   "source": [
    "# Preprocessing"
   ]
  },
  {
   "cell_type": "markdown",
   "metadata": {},
   "source": [
    "## Input settings"
   ]
  },
  {
   "cell_type": "markdown",
   "metadata": {},
   "source": [
    "### Adding the depot"
   ]
  },
  {
   "cell_type": "code",
   "execution_count": 9,
   "metadata": {},
   "outputs": [
    {
     "data": {
      "text/html": [
       "<div><div style = \"float: left;\"><span>18×3 DataFrame</span></div><div style = \"clear: both;\"></div></div><div class = \"data-frame\" style = \"overflow-x: scroll;\"><table class = \"data-frame\" style = \"margin-bottom: 6px;\"><thead><tr class = \"header\"><th class = \"rowNumber\" style = \"font-weight: bold; text-align: right;\">Row</th><th style = \"text-align: left;\">line_id</th><th style = \"text-align: left;\">bus_line_id</th><th style = \"text-align: left;\">start_time</th></tr><tr class = \"subheader headerLastRow\"><th class = \"rowNumber\" style = \"font-weight: bold; text-align: right;\"></th><th title = \"Int64\" style = \"text-align: left;\">Int64</th><th title = \"Int64\" style = \"text-align: left;\">Int64</th><th title = \"Float64\" style = \"text-align: left;\">Float64</th></tr></thead><tbody><tr><td class = \"rowNumber\" style = \"font-weight: bold; text-align: right;\">1</td><td style = \"text-align: right;\">0</td><td style = \"text-align: right;\">0</td><td style = \"text-align: right;\">0.0</td></tr><tr><td class = \"rowNumber\" style = \"font-weight: bold; text-align: right;\">2</td><td style = \"text-align: right;\">1</td><td style = \"text-align: right;\">1</td><td style = \"text-align: right;\">20.0</td></tr><tr><td class = \"rowNumber\" style = \"font-weight: bold; text-align: right;\">3</td><td style = \"text-align: right;\">2</td><td style = \"text-align: right;\">1</td><td style = \"text-align: right;\">40.0</td></tr><tr><td class = \"rowNumber\" style = \"font-weight: bold; text-align: right;\">4</td><td style = \"text-align: right;\">3</td><td style = \"text-align: right;\">1</td><td style = \"text-align: right;\">60.0</td></tr><tr><td class = \"rowNumber\" style = \"font-weight: bold; text-align: right;\">5</td><td style = \"text-align: right;\">1</td><td style = \"text-align: right;\">2</td><td style = \"text-align: right;\">20.0</td></tr><tr><td class = \"rowNumber\" style = \"font-weight: bold; text-align: right;\">6</td><td style = \"text-align: right;\">2</td><td style = \"text-align: right;\">2</td><td style = \"text-align: right;\">35.0</td></tr><tr><td class = \"rowNumber\" style = \"font-weight: bold; text-align: right;\">7</td><td style = \"text-align: right;\">3</td><td style = \"text-align: right;\">2</td><td style = \"text-align: right;\">50.0</td></tr><tr><td class = \"rowNumber\" style = \"font-weight: bold; text-align: right;\">8</td><td style = \"text-align: right;\">1</td><td style = \"text-align: right;\">3</td><td style = \"text-align: right;\">16.0</td></tr><tr><td class = \"rowNumber\" style = \"font-weight: bold; text-align: right;\">9</td><td style = \"text-align: right;\">2</td><td style = \"text-align: right;\">3</td><td style = \"text-align: right;\">32.0</td></tr><tr><td class = \"rowNumber\" style = \"font-weight: bold; text-align: right;\">10</td><td style = \"text-align: right;\">3</td><td style = \"text-align: right;\">3</td><td style = \"text-align: right;\">48.0</td></tr><tr><td class = \"rowNumber\" style = \"font-weight: bold; text-align: right;\">11</td><td style = \"text-align: right;\">1</td><td style = \"text-align: right;\">4</td><td style = \"text-align: right;\">20.0</td></tr><tr><td class = \"rowNumber\" style = \"font-weight: bold; text-align: right;\">12</td><td style = \"text-align: right;\">2</td><td style = \"text-align: right;\">4</td><td style = \"text-align: right;\">32.0</td></tr><tr><td class = \"rowNumber\" style = \"font-weight: bold; text-align: right;\">13</td><td style = \"text-align: right;\">3</td><td style = \"text-align: right;\">4</td><td style = \"text-align: right;\">44.0</td></tr><tr><td class = \"rowNumber\" style = \"font-weight: bold; text-align: right;\">14</td><td style = \"text-align: right;\">4</td><td style = \"text-align: right;\">4</td><td style = \"text-align: right;\">56.0</td></tr><tr><td class = \"rowNumber\" style = \"font-weight: bold; text-align: right;\">15</td><td style = \"text-align: right;\">1</td><td style = \"text-align: right;\">5</td><td style = \"text-align: right;\">20.0</td></tr><tr><td class = \"rowNumber\" style = \"font-weight: bold; text-align: right;\">16</td><td style = \"text-align: right;\">2</td><td style = \"text-align: right;\">5</td><td style = \"text-align: right;\">32.0</td></tr><tr><td class = \"rowNumber\" style = \"font-weight: bold; text-align: right;\">17</td><td style = \"text-align: right;\">3</td><td style = \"text-align: right;\">5</td><td style = \"text-align: right;\">46.0</td></tr><tr><td class = \"rowNumber\" style = \"font-weight: bold; text-align: right;\">18</td><td style = \"text-align: right;\">4</td><td style = \"text-align: right;\">5</td><td style = \"text-align: right;\">58.0</td></tr></tbody></table></div>"
      ],
      "text/latex": [
       "\\begin{tabular}{r|ccc}\n",
       "\t& line\\_id & bus\\_line\\_id & start\\_time\\\\\n",
       "\t\\hline\n",
       "\t& Int64 & Int64 & Float64\\\\\n",
       "\t\\hline\n",
       "\t1 & 0 & 0 & 0.0 \\\\\n",
       "\t2 & 1 & 1 & 20.0 \\\\\n",
       "\t3 & 2 & 1 & 40.0 \\\\\n",
       "\t4 & 3 & 1 & 60.0 \\\\\n",
       "\t5 & 1 & 2 & 20.0 \\\\\n",
       "\t6 & 2 & 2 & 35.0 \\\\\n",
       "\t7 & 3 & 2 & 50.0 \\\\\n",
       "\t8 & 1 & 3 & 16.0 \\\\\n",
       "\t9 & 2 & 3 & 32.0 \\\\\n",
       "\t10 & 3 & 3 & 48.0 \\\\\n",
       "\t11 & 1 & 4 & 20.0 \\\\\n",
       "\t12 & 2 & 4 & 32.0 \\\\\n",
       "\t13 & 3 & 4 & 44.0 \\\\\n",
       "\t14 & 4 & 4 & 56.0 \\\\\n",
       "\t15 & 1 & 5 & 20.0 \\\\\n",
       "\t16 & 2 & 5 & 32.0 \\\\\n",
       "\t17 & 3 & 5 & 46.0 \\\\\n",
       "\t18 & 4 & 5 & 58.0 \\\\\n",
       "\\end{tabular}\n"
      ],
      "text/plain": [
       "\u001b[1m18×3 DataFrame\u001b[0m\n",
       "\u001b[1m Row \u001b[0m│\u001b[1m line_id \u001b[0m\u001b[1m bus_line_id \u001b[0m\u001b[1m start_time \u001b[0m\n",
       "     │\u001b[90m Int64   \u001b[0m\u001b[90m Int64       \u001b[0m\u001b[90m Float64    \u001b[0m\n",
       "─────┼──────────────────────────────────\n",
       "   1 │       0            0         0.0\n",
       "   2 │       1            1        20.0\n",
       "   3 │       2            1        40.0\n",
       "   4 │       3            1        60.0\n",
       "   5 │       1            2        20.0\n",
       "   6 │       2            2        35.0\n",
       "   7 │       3            2        50.0\n",
       "   8 │       1            3        16.0\n",
       "  ⋮  │    ⋮          ⋮           ⋮\n",
       "  12 │       2            4        32.0\n",
       "  13 │       3            4        44.0\n",
       "  14 │       4            4        56.0\n",
       "  15 │       1            5        20.0\n",
       "  16 │       2            5        32.0\n",
       "  17 │       3            5        46.0\n",
       "  18 │       4            5        58.0\n",
       "\u001b[36m                          3 rows omitted\u001b[0m"
      ]
     },
     "metadata": {},
     "output_type": "display_data"
    }
   ],
   "source": [
    "depot=(bus_line_id=0,stop_ids=0,stop_x=30,stop_y=30)\n",
    "insert!(bus_line_stops,1,depot)\n",
    "depot=(line_id=0,bus_line_id=0, start_time=0)\n",
    "insert!(lines,1,depot)"
   ]
  },
  {
   "cell_type": "markdown",
   "metadata": {},
   "source": [
    "### Bus velocity"
   ]
  },
  {
   "cell_type": "code",
   "execution_count": 10,
   "metadata": {},
   "outputs": [
    {
     "data": {
      "text/plain": [
       "100"
      ]
     },
     "metadata": {},
     "output_type": "display_data"
    }
   ],
   "source": [
    "bus_velocity = 100 #in km/h"
   ]
  },
  {
   "cell_type": "markdown",
   "metadata": {},
   "source": [
    "### Break Time"
   ]
  },
  {
   "cell_type": "code",
   "execution_count": 11,
   "metadata": {},
   "outputs": [
    {
     "data": {
      "text/plain": [
       "\"break1\""
      ]
     },
     "metadata": {},
     "output_type": "display_data"
    }
   ],
   "source": [
    "break_time= \"break1\" #oder \"break1\""
   ]
  },
  {
   "cell_type": "markdown",
   "metadata": {},
   "source": [
    "## Processing data"
   ]
  },
  {
   "cell_type": "markdown",
   "metadata": {},
   "source": [
    "### Customer trips"
   ]
  },
  {
   "cell_type": "code",
   "execution_count": 12,
   "metadata": {},
   "outputs": [
    {
     "data": {
      "text/plain": [
       "17-element Vector{Tuple{Tuple{Int64, Int64, Int64}, Tuple{Int64, Int64, Int64}}}:\n",
       " ((1, 1, 1), (1, 1, 4))\n",
       " ((1, 1, 2), (1, 1, 3))\n",
       " ((1, 1, 2), (1, 1, 4))\n",
       " ((1, 2, 3), (1, 2, 4))\n",
       " ((1, 2, 1), (1, 2, 3))\n",
       " ((2, 1, 1), (2, 1, 2))\n",
       " ((2, 3, 1), (2, 3, 3))\n",
       " ((3, 1, 1), (3, 1, 6))\n",
       " ((3, 1, 2), (3, 1, 5))\n",
       " ((3, 2, 1), (3, 2, 2))\n",
       " ((3, 2, 4), (3, 2, 6))\n",
       " ((4, 2, 1), (4, 2, 2))\n",
       " ((4, 4, 1), (4, 4, 2))\n",
       " ((5, 1, 3), (5, 1, 5))\n",
       " ((5, 3, 2), (5, 3, 4))\n",
       " ((5, 3, 2), (5, 3, 3))\n",
       " ((5, 3, 1), (5, 3, 4))"
      ]
     },
     "metadata": {},
     "output_type": "display_data"
    }
   ],
   "source": [
    "customer_trips = [((r.bus_line_id, r.line_id, r.origin_stop_id), (r.bus_line_id, r.line_id, r.destination_stop_id)) for r in eachrow(demand)]"
   ]
  },
  {
   "cell_type": "markdown",
   "metadata": {},
   "source": [
    "### Creating nodes for all stops, on every busline, for every tour"
   ]
  },
  {
   "cell_type": "code",
   "execution_count": 13,
   "metadata": {},
   "outputs": [],
   "source": [
    "nodes = []\n",
    "\n",
    "for r in eachrow(lines)\n",
    "    for row in eachrow(bus_line_stops)\n",
    "        if r.bus_line_id == row.bus_line_id\n",
    "            start_time_temp=0.0\n",
    "            if row.stop_ids == 1\n",
    "                start_time_temp = r.start_time\n",
    "            else\n",
    "                # alle Stopps dieser Linie sortieren\n",
    "                stops = sort(filter(r2 -> r2.bus_line_id == row.bus_line_id, eachrow(bus_line_stops)), by = r2 -> r2.stop_ids)\n",
    "                \n",
    "                # Travel time vom ersten Knoten bis aktuellen Knoten:\n",
    "                total_distance = 0.0\n",
    "                for k in 1:(row.stop_ids - 1)\n",
    "                    x1, y1 = stops[k].stop_x, stops[k].stop_y\n",
    "                    x2, y2 = stops[k+1].stop_x, stops[k+1].stop_y\n",
    "                    total_distance += sqrt((x2 - x1)^2 + (y2 - y1)^2)\n",
    "                end\n",
    "                travel_time = (total_distance / bus_velocity) * 60  # Minuten\n",
    "\n",
    "                # Startzeit = Startzeit erster Knoten + Travel Time\n",
    "                start_time_temp = r.start_time + travel_time\n",
    "            end\n",
    "            push!(nodes, (\n",
    "                bus_line_id = row.bus_line_id,\n",
    "                line_id     = r.line_id,\n",
    "                stop_id     = row.stop_ids,\n",
    "                coord_x     = row.stop_x,\n",
    "                coord_y     = row.stop_y,\n",
    "                start_time  = start_time_temp\n",
    "            ))\n",
    "                \n",
    "        end\n",
    "    end\n",
    "end"
   ]
  },
  {
   "cell_type": "code",
   "execution_count": 14,
   "metadata": {},
   "outputs": [
    {
     "name": "stdout",
     "output_type": "stream",
     "text": [
      "Nodes:"
     ]
    },
    {
     "data": {
      "text/plain": [
       "68-element Vector{Any}:\n",
       " (bus_line_id = 0, line_id = 0, stop_id = 0, coord_x = 30.0, coord_y = 30.0, start_time = 0.0)\n",
       " (bus_line_id = 1, line_id = 1, stop_id = 1, coord_x = 2.2, coord_y = 36.8, start_time = 20.0)\n",
       " (bus_line_id = 1, line_id = 1, stop_id = 2, coord_x = 4.4, coord_y = 40.1, start_time = 22.379663841806234)\n",
       " (bus_line_id = 1, line_id = 1, stop_id = 3, coord_x = 12.5, coord_y = 42.7, start_time = 27.483897378783162)\n",
       " (bus_line_id = 1, line_id = 1, stop_id = 4, coord_x = 20.2, coord_y = 44.0, start_time = 32.16927890006828)\n",
       " (bus_line_id = 1, line_id = 2, stop_id = 1, coord_x = 2.2, coord_y = 36.8, start_time = 40.0)\n",
       " (bus_line_id = 1, line_id = 2, stop_id = 2, coord_x = 4.4, coord_y = 40.1, start_time = 42.379663841806234)\n",
       " (bus_line_id = 1, line_id = 2, stop_id = 3, coord_x = 12.5, coord_y = 42.7, start_time = 47.48389737878316)\n",
       " (bus_line_id = 1, line_id = 2, stop_id = 4, coord_x = 20.2, coord_y = 44.0, start_time = 52.16927890006828)\n",
       " (bus_line_id = 1, line_id = 3, stop_id = 1, coord_x = 2.2, coord_y = 36.8, start_time = 60.0)\n",
       " ⋮\n",
       " (bus_line_id = 5, line_id = 3, stop_id = 2, coord_x = 16.0, coord_y = 12.1, start_time = 51.42560595694158)\n",
       " (bus_line_id = 5, line_id = 3, stop_id = 3, coord_x = 10.4, coord_y = 10.2, start_time = 54.97373222301499)\n",
       " (bus_line_id = 5, line_id = 3, stop_id = 4, coord_x = 7.8, coord_y = 22.3, start_time = 62.399444310081115)\n",
       " (bus_line_id = 5, line_id = 3, stop_id = 5, coord_x = 9.6, coord_y = 30.8, start_time = 67.61254319654012)\n",
       " (bus_line_id = 5, line_id = 4, stop_id = 1, coord_x = 23.9, coord_y = 16.5, start_time = 58.0)\n",
       " (bus_line_id = 5, line_id = 4, stop_id = 2, coord_x = 16.0, coord_y = 12.1, start_time = 63.42560595694158)\n",
       " (bus_line_id = 5, line_id = 4, stop_id = 3, coord_x = 10.4, coord_y = 10.2, start_time = 66.97373222301499)\n",
       " (bus_line_id = 5, line_id = 4, stop_id = 4, coord_x = 7.8, coord_y = 22.3, start_time = 74.39944431008112)\n",
       " (bus_line_id = 5, line_id = 4, stop_id = 5, coord_x = 9.6, coord_y = 30.8, start_time = 79.61254319654012)"
      ]
     },
     "metadata": {},
     "output_type": "display_data"
    }
   ],
   "source": [
    "print(\"Nodes:\")\n",
    "nodes"
   ]
  },
  {
   "cell_type": "markdown",
   "metadata": {},
   "source": [
    "### Creating connections"
   ]
  },
  {
   "cell_type": "code",
   "execution_count": 15,
   "metadata": {},
   "outputs": [
    {
     "data": {
      "text/plain": [
       "eucleadian_distance (generic function with 1 method)"
      ]
     },
     "metadata": {},
     "output_type": "display_data"
    }
   ],
   "source": [
    "function eucleadian_distance(x1, y1, x2, y2)\n",
    "    return sqrt((x1 - x2)^2 + (y1 - y2)^2)\n",
    "end"
   ]
  },
  {
   "cell_type": "code",
   "execution_count": 16,
   "metadata": {},
   "outputs": [
    {
     "name": "stdout",
     "output_type": "stream",
     "text": [
      "Connections dictionary:\n",
      "(origin_node, goal_node) -> (distance, travel_time, end_time)\n"
     ]
    },
    {
     "data": {
      "text/plain": [
       "4556-element Vector{Pair{Any, Any}}:\n",
       " ((0, 0, 0), (1, 1, 1)) => Connection(28.619573721493477, 17.17174423289609, 17.17174423289609)\n",
       " ((0, 0, 0), (1, 1, 2)) => Connection(27.520356102347225, 16.512213661408335, 16.512213661408335)\n",
       " ((0, 0, 0), (1, 1, 3)) => Connection(21.622673285234647, 12.973603971140788, 12.973603971140788)\n",
       " ((0, 0, 0), (1, 1, 4)) => Connection(17.089177862027185, 10.253506717216311, 10.253506717216311)\n",
       " ((0, 0, 0), (1, 2, 1)) => Connection(28.619573721493477, 17.17174423289609, 17.17174423289609)\n",
       " ((0, 0, 0), (1, 2, 2)) => Connection(27.520356102347225, 16.512213661408335, 16.512213661408335)\n",
       " ((0, 0, 0), (1, 2, 3)) => Connection(21.622673285234647, 12.973603971140788, 12.973603971140788)\n",
       " ((0, 0, 0), (1, 2, 4)) => Connection(17.089177862027185, 10.253506717216311, 10.253506717216311)\n",
       " ((0, 0, 0), (1, 3, 1)) => Connection(28.619573721493477, 17.17174423289609, 17.17174423289609)\n",
       " ((0, 0, 0), (1, 3, 2)) => Connection(27.520356102347225, 16.512213661408335, 16.512213661408335)\n",
       "                        ⋮\n",
       " ((5, 4, 5), (5, 3, 1)) => Connection(20.22325394193526, 12.133952365161155, 91.74649556170127)\n",
       " ((5, 4, 5), (5, 3, 2)) => Connection(19.764867821465444, 11.858920692879266, 91.47146388941938)\n",
       " ((5, 4, 5), (5, 3, 3)) => Connection(20.615528128088304, 12.369316876852983, 91.9818600733931)\n",
       " ((5, 4, 5), (5, 3, 4)) => Connection(8.688498144098322, 5.213098886458994, 84.82564208299911)\n",
       " ((5, 4, 5), (5, 3, 5)) => Connection(0.0, 0.0, 79.61254319654012)\n",
       " ((5, 4, 5), (5, 4, 1)) => Connection(20.22325394193526, 12.133952365161155, 91.74649556170127)\n",
       " ((5, 4, 5), (5, 4, 2)) => Connection(19.764867821465444, 11.858920692879266, 91.47146388941938)\n",
       " ((5, 4, 5), (5, 4, 3)) => Connection(20.615528128088304, 12.369316876852983, 91.9818600733931)\n",
       " ((5, 4, 5), (5, 4, 4)) => Connection(8.688498144098322, 5.213098886458994, 84.82564208299911)"
      ]
     },
     "metadata": {},
     "output_type": "display_data"
    }
   ],
   "source": [
    "# Define a struct to hold the travel_time and end_time\n",
    "struct Connection\n",
    "    distance::Float64\n",
    "    travel_time::Float64\n",
    "    end_time::Float64\n",
    "end\n",
    "\n",
    "# Update the dictionary to use the struct as the value type\n",
    "connections_dict = Dict()\n",
    "\n",
    "for node1 in nodes\n",
    "    for node2 in nodes\n",
    "        if node1 != node2\n",
    "            #skip if the nodes are the same\n",
    "            origin_node = (node1.bus_line_id, node1.line_id, node1.stop_id)\n",
    "            goal_node = (node2.bus_line_id, node2.line_id, node2.stop_id)\n",
    "            if node1.bus_line_id == node2.bus_line_id\n",
    "                if node1.line_id == node2.line_id\n",
    "                    if node1.stop_id == node2.stop_id\n",
    "                        # Nodes are the same\n",
    "                        break\n",
    "                    else\n",
    "                        # Nodes are on the same tour\n",
    "                        stops = sort(filter(n -> n.bus_line_id == node1.bus_line_id && n.line_id==node1.line_id, nodes), by = n -> n.stop_id)\n",
    "                        start_index = findfirst(n -> n.stop_id == node1.stop_id, stops)\n",
    "                        end_index = findfirst(n -> n.stop_id == node2.stop_id, stops)            \n",
    "                        if start_index < end_index\n",
    "                            #if origin node comes before goal node\n",
    "                            total_distance = 0.0\n",
    "                            for i in start_index:(end_index - 1)\n",
    "                                x1, y1 = stops[i].coord_x, stops[i].coord_y\n",
    "                                x2, y2 = stops[i + 1].coord_x, stops[i + 1].coord_y\n",
    "                                total_distance += eucleadian_distance(x1, y1, x2, y2)\n",
    "                            end\n",
    "                            distance= total_distance\n",
    "                            travel_time = (distance / bus_velocity) * 60 #travel_time in minutes\n",
    "                            end_time = node1.start_time + travel_time\n",
    "                            connections_dict[(origin_node, goal_node)] = Connection(distance, travel_time, end_time)\n",
    "                        elseif start_index > end_index\n",
    "                            #=\n",
    "                            total_distance = 0.0\n",
    "                            for i in start_index:(end_index - 1)\n",
    "                                x1, y1 = stops[i].coord_x, stops[i].coord_y\n",
    "                                x2, y2 = stops[i + 1].coord_x, stops[i + 1].coord_y\n",
    "                                total_distance += eucleadian_distance(x1, y1, x2, y2)\n",
    "                            end\n",
    "                            distance= total_distance\n",
    "                            =#\n",
    "                            distance=eucleadian_distance(node1.coord_x, node1.coord_y, node2.coord_x, node2.coord_y)\n",
    "                            travel_time = (distance / bus_velocity) * 60 #travel_time in minutes\n",
    "                            end_time = node1.start_time + travel_time\n",
    "                            connections_dict[(origin_node, goal_node)] = Connection(distance, travel_time, end_time)\n",
    "                        end\n",
    "                    end\n",
    "                else\n",
    "                    #nodes are on the same bus line but not the same tour\n",
    "                    distance = eucleadian_distance(node1.coord_x, node1.coord_y, node2.coord_x, node2.coord_y)\n",
    "                    travel_time = (distance / bus_velocity) * 60 #travel_time in minutes\n",
    "                    end_time = node1.start_time + travel_time\n",
    "                    connections_dict[(origin_node, goal_node)] = Connection(distance, travel_time, end_time)\n",
    "                end\n",
    "            else\n",
    "                # Nodes are on different bus lines\n",
    "                distance = eucleadian_distance(node1.coord_x, node1.coord_y, node2.coord_x, node2.coord_y)\n",
    "                travel_time = (distance / bus_velocity) * 60 #travel_time in minutes\n",
    "                end_time = node1.start_time + travel_time\n",
    "                connections_dict[(origin_node, goal_node)] = Connection(distance, travel_time, end_time)\n",
    "            end\n",
    "        end\n",
    "    end\n",
    "end\n",
    "\n",
    "println(\"Connections dictionary:\\n(origin_node, goal_node) -> (distance, travel_time, end_time)\")\n",
    "sort(collect(connections_dict), by = x -> x.first)"
   ]
  },
  {
   "cell_type": "code",
   "execution_count": 17,
   "metadata": {},
   "outputs": [
    {
     "data": {
      "text/plain": [
       "Connection(28.619573721493477, 17.17174423289609, 17.17174423289609)"
      ]
     },
     "metadata": {},
     "output_type": "display_data"
    }
   ],
   "source": [
    "connections_dict[(0,0,0),(1,1,1)]"
   ]
  },
  {
   "cell_type": "markdown",
   "metadata": {},
   "source": [
    "### Dictionary mit Stopp-IDs je Linie"
   ]
  },
  {
   "cell_type": "code",
   "execution_count": 18,
   "metadata": {},
   "outputs": [
    {
     "name": "stdout",
     "output_type": "stream",
     "text": [
      "Dictionary of lines with their respective stop-sequences:\n"
     ]
    },
    {
     "data": {
      "text/plain": [
       "OrderedCollections.OrderedDict{Int64, Vector{Int64}} with 5 entries:\n",
       "  1 => [1, 2, 3, 4]\n",
       "  2 => [1, 2, 3]\n",
       "  3 => [1, 2, 3, 4, 5, 6]\n",
       "  4 => [1, 2]\n",
       "  5 => [1, 2, 3, 4, 5]"
      ]
     },
     "metadata": {},
     "output_type": "display_data"
    }
   ],
   "source": [
    "line_stops_dict = Dict{Int, Vector{Int}}()\n",
    "\n",
    "for row in eachrow(bus_line_stops)\n",
    "    l = row.bus_line_id\n",
    "    stop = row.stop_ids\n",
    "    # Depot-Zeile überspringen\n",
    "    if l == 0 && stop == 0\n",
    "        continue\n",
    "    end\n",
    "    if haskey(line_stops_dict, l)\n",
    "        push!(line_stops_dict[l], stop)\n",
    "    else\n",
    "        line_stops_dict[l] = [stop]\n",
    "    end\n",
    "end\n",
    "println(\"Dictionary of lines with their respective stop-sequences:\")\n",
    "sort(line_stops_dict)"
   ]
  },
  {
   "cell_type": "markdown",
   "metadata": {},
   "source": [
    "### Populating set A"
   ]
  },
  {
   "cell_type": "markdown",
   "metadata": {},
   "source": [
    "#### Depot & O-D connections"
   ]
  },
  {
   "cell_type": "code",
   "execution_count": 19,
   "metadata": {},
   "outputs": [],
   "source": [
    "A_set = Set{Tuple{Tuple{Int, Int, Int}, Tuple{Int, Int, Int}}}()\n",
    "depot = (0, 0, 0)\n",
    "for row in eachrow(demand)\n",
    "    from_node = (row.bus_line_id, row.line_id, row.origin_stop_id)\n",
    "    to_node   = (row.bus_line_id, row.line_id, row.destination_stop_id)\n",
    "    trip_key  = (from_node, to_node)\n",
    "    idx_origin = findfirst(x -> x.bus_line_id == from_node[1] && x.line_id == from_node[2] && x.stop_id == from_node[3], nodes)\n",
    "    \n",
    "    t_start_origin_tour = nodes[idx_origin].start_time\n",
    "    t_depot_origin_stop = connections_dict[(depot,from_node)].travel_time\n",
    "    \n",
    "    if t_depot_origin_stop < t_start_origin_tour\n",
    "        # Depot -> origin\n",
    "        if haskey(connections_dict, (depot, from_node))\n",
    "            push!(A_set, (depot, from_node))\n",
    "        else\n",
    "            display(\"WARNUNG - Verbindung fehlt in connections_dict: \", (depot, from_node))\n",
    "        end\n",
    "        # destination -> Depot\n",
    "        if haskey(connections_dict, (to_node, depot))\n",
    "            push!(A_set, (to_node, depot))\n",
    "        else\n",
    "            display(\"WARNUNG - Verbindung fehlt in connections_dict: \", (to_node, depot))\n",
    "        end\n",
    "        # origin -> destination\n",
    "        if !(trip_key in A_set)\n",
    "            if haskey(connections_dict, trip_key)\n",
    "                push!(A_set, trip_key)\n",
    "            else\n",
    "                display(\"WARNUNG - Verbindung fehlt in connections_dict: \", trip_key)\n",
    "            end\n",
    "        else\n",
    "            display(\" Verbindung $trip_key bereits in A_set.\")\n",
    "        end\n",
    "    else\n",
    "        display(\"Tour $trip_key kann nicht rechtzeitig gestartet werden, da die Reisezeit zwischen Depot und dem Start-Knoten der Tour zu lang ist.\")\n",
    "    end\n",
    "end\n"
   ]
  },
  {
   "cell_type": "code",
   "execution_count": 20,
   "metadata": {},
   "outputs": [
    {
     "name": "stdout",
     "output_type": "stream",
     "text": [
      "\n",
      "\n",
      " A_set:\n",
      "((0, 0, 0), (1, 1, 1))\n",
      "((0, 0, 0), (1, 1, 2))\n",
      "((0, 0, 0), (1, 2, 1))\n",
      "((0, 0, 0), (1, 2, 3))\n",
      "((0, 0, 0), (2, 1, 1))\n",
      "((0, 0, 0), (2, 3, 1))\n",
      "((0, 0, 0), (3, 1, 1))\n",
      "((0, 0, 0), (3, 1, 2))\n",
      "((0, 0, 0), (3, 2, 1))\n",
      "((0, 0, 0), (3, 2, 4))\n",
      "((0, 0, 0), (4, 2, 1))\n",
      "((0, 0, 0), (4, 4, 1))\n",
      "((0, 0, 0), (5, 1, 3))\n",
      "((0, 0, 0), (5, 3, 1))\n",
      "((0, 0, 0), (5, 3, 2))\n",
      "((1, 1, 1), (1, 1, 4))\n",
      "((1, 1, 2), (1, 1, 3))\n",
      "((1, 1, 2), (1, 1, 4))\n",
      "((1, 1, 3), (0, 0, 0))\n",
      "((1, 1, 4), (0, 0, 0))\n",
      "((1, 2, 1), (1, 2, 3))\n",
      "((1, 2, 3), (0, 0, 0))\n",
      "((1, 2, 3), (1, 2, 4))\n",
      "((1, 2, 4), (0, 0, 0))\n",
      "((2, 1, 1), (2, 1, 2))\n",
      "((2, 1, 2), (0, 0, 0))\n",
      "((2, 3, 1), (2, 3, 3))\n",
      "((2, 3, 3), (0, 0, 0))\n",
      "((3, 1, 1), (3, 1, 6))\n",
      "((3, 1, 2), (3, 1, 5))\n",
      "((3, 1, 5), (0, 0, 0))\n",
      "((3, 1, 6), (0, 0, 0))\n",
      "((3, 2, 1), (3, 2, 2))\n",
      "((3, 2, 2), (0, 0, 0))\n",
      "((3, 2, 4), (3, 2, 6))\n",
      "((3, 2, 6), (0, 0, 0))\n",
      "((4, 2, 1), (4, 2, 2))\n",
      "((4, 2, 2), (0, 0, 0))\n",
      "((4, 4, 1), (4, 4, 2))\n",
      "((4, 4, 2), (0, 0, 0))\n",
      "((5, 1, 3), (5, 1, 5))\n",
      "((5, 1, 5), (0, 0, 0))\n",
      "((5, 3, 1), (5, 3, 4))\n",
      "((5, 3, 2), (5, 3, 3))\n",
      "((5, 3, 2), (5, 3, 4))\n",
      "((5, 3, 3), (0, 0, 0))\n",
      "((5, 3, 4), (0, 0, 0))\n"
     ]
    }
   ],
   "source": [
    "sorted_A=sort(collect(A_set))\n",
    "println(\"\\n\\n A_set:\")\n",
    "for a in sorted_A\n",
    "    println(a)\n",
    "end"
   ]
  },
  {
   "cell_type": "markdown",
   "metadata": {},
   "source": [
    "#### D-O connections"
   ]
  },
  {
   "cell_type": "code",
   "execution_count": 21,
   "metadata": {},
   "outputs": [
    {
     "name": "stdout",
     "output_type": "stream",
     "text": [
      "Added connection: ((1, 1, 4), (1, 2, 3))\n",
      "Added connection: ((1, 1, 4), (2, 3, 1))\n",
      "Added connection: ((1, 1, 4), (3, 2, 4))\n",
      "Added connection: ((1, 1, 4), (4, 4, 1))\n",
      "Added connection: ((1, 1, 3), (1, 2, 3))\n",
      "Added connection: ((1, 1, 3), (1, 2, 1))\n",
      "Added connection: ((1, 1, 3), (2, 3, 1))\n",
      "Added connection: ((1, 1, 3), (3, 2, 4))\n",
      "Added connection: ((1, 1, 3), (4, 4, 1))\n",
      "Added connection: ((1, 1, 3), (5, 3, 2))\n",
      "Connection ((1, 1, 3), (5, 3, 2)) already in A_set.\n",
      "Added connection: ((1, 1, 3), (5, 3, 1))\n",
      "Connection ((1, 1, 4), (1, 2, 3)) already in A_set.\n",
      "Connection ((1, 1, 4), (2, 3, 1)) already in A_set.\n",
      "Connection ((1, 1, 4), (3, 2, 4)) already in A_set.\n",
      "Connection ((1, 1, 4), (4, 4, 1)) already in A_set.\n",
      "WARNUNG - Verbindung ((1, 2, 3), (1, 2, 3)) fehlt in connections_dict.\n",
      "Added connection: ((2, 1, 2), (1, 2, 3))\n",
      "Added connection: ((2, 1, 2), (2, 3, 1))\n",
      "Added connection: ((2, 1, 2), (3, 2, 4))\n",
      "Added connection: ((2, 1, 2), (4, 4, 1))\n",
      "Added connection: ((2, 1, 2), (5, 3, 2))\n",
      "Connection ((2, 1, 2), (5, 3, 2)) already in A_set.\n",
      "Added connection: ((2, 1, 2), (5, 3, 1))\n",
      "Added connection: ((3, 1, 5), (2, 3, 1))\n",
      "Added connection: ((3, 1, 5), (3, 2, 4))\n",
      "Added connection: ((3, 2, 2), (3, 2, 4))\n",
      "Added connection: ((3, 2, 2), (4, 4, 1))\n",
      "Added connection: ((4, 2, 2), (4, 4, 1))\n",
      "Added connection: ((4, 2, 2), (5, 3, 2))\n",
      "Connection ((4, 2, 2), (5, 3, 2)) already in A_set.\n",
      "Added connection: ((4, 2, 2), (5, 3, 1))\n"
     ]
    }
   ],
   "source": [
    "missing_trips_in_connections_dict =[]\n",
    "for i in 1:nrow(demand)\n",
    "    row1 = demand[i, :]\n",
    "    from_node_orig = (row1.bus_line_id, row1.line_id, row1.origin_stop_id)\n",
    "    from_node_dest = (row1.bus_line_id, row1.line_id, row1.destination_stop_id)\n",
    "    #println(\"\\n\\nChecking connections for trip from $from_node_dest to $depot...\")\n",
    "    if (from_node_dest, depot) in A_set\n",
    "        #println(\"  Connection from $from_node_dest to $depot exists in A_set.\")\n",
    "        for j in 1:nrow(demand)\n",
    "            if i == j\n",
    "                continue\n",
    "            end\n",
    "            row2 = demand[j, :]\n",
    "            to_node = (row2.bus_line_id, row2.line_id, row2.origin_stop_id)\n",
    "            trip_key = (from_node_dest, to_node)\n",
    "            #println(\"   Checking if connection $from_node_dest to $to_node in A_set...\")\n",
    "            if !(trip_key in A_set) \n",
    "                if haskey(connections_dict, (from_node_dest, to_node))\n",
    "                    t_end_origin_line = connections_dict[(from_node_orig, from_node_dest)].end_time\n",
    "                    t_between_lines = connections_dict[(from_node_dest, to_node)].travel_time\n",
    "                    idx_goal = findfirst(x -> x.bus_line_id == to_node[1] && x.line_id == to_node[2] && x.stop_id == to_node[3], nodes)\n",
    "                    t_start_second_tour = nodes[idx_goal].start_time\n",
    "                    #println(\"    Checking if time constraint holds for connection $trip_key...\")\n",
    "                    if t_end_origin_line + t_between_lines <= t_start_second_tour\n",
    "                        #prinln(\"     Added connection $trip_key, because end of tour $from_node_dest is $t_end_origin_line and start of tour $to_node is $t_start_second_tour.\")\n",
    "                        if !(trip_key in A_set)\n",
    "                            push!(A_set, trip_key)\n",
    "                            println(\"Added connection: \", trip_key)\n",
    "                        end\n",
    "                    else\n",
    "                        #println(\"      Time constraint does not hold for connection $trip_key.\")\n",
    "                        continue\n",
    "                    end\n",
    "                else \n",
    "                    println(\"WARNUNG - Verbindung $trip_key fehlt in connections_dict.\")\n",
    "                    push!(missing_trips_in_connections_dict, trip_key)\n",
    "                end\n",
    "            else\n",
    "                println(\"Connection $trip_key already in A_set.\")\n",
    "            end\n",
    "        end\n",
    "    else\n",
    "        continue\n",
    "    end\n",
    "end\n"
   ]
  },
  {
   "cell_type": "markdown",
   "metadata": {},
   "source": [
    "#### Backwards connections between overlapping trips"
   ]
  },
  {
   "cell_type": "code",
   "execution_count": 22,
   "metadata": {},
   "outputs": [
    {
     "name": "stdout",
     "output_type": "stream",
     "text": [
      "Added ((1, 1, 4), (1, 1, 2)) to A_set.\n",
      "\n",
      "Connection ((1, 1, 4), (1, 1, 2)) already in A_set.\n",
      "\n",
      "Added ((3, 1, 6), (3, 1, 2)) to A_set.\n",
      "\n",
      "Added ((5, 3, 4), (5, 3, 2)) to A_set.\n",
      "\n",
      "Connection ((5, 3, 4), (5, 3, 2)) already in A_set.\n",
      "\n"
     ]
    }
   ],
   "source": [
    "for i in 1:nrow(demand)\n",
    "    trip1= demand[i, :]\n",
    "    key1 = (trip1.bus_line_id, trip1.line_id)\n",
    "    for j in 1:nrow(demand)\n",
    "        trip2 = demand[j, :]\n",
    "        key2 = (trip2.bus_line_id, trip2.line_id)\n",
    "        if trip1 != trip2 && key1==key2\n",
    "            s_k= trip1.origin_stop_id\n",
    "            s_i= trip1.destination_stop_id\n",
    "            s_j= trip2.origin_stop_id\n",
    "            s_h= trip2.destination_stop_id\n",
    "            #println(\"\\nFor line $key1: Checking tours (k:$s_k - i:$s_i) and (j:$s_j - h:$s_h)...\")\n",
    "            if s_i > s_j && s_k < s_j < s_i && s_h > s_j && trip1.demand > 0 && trip2.demand >0\n",
    "                #print(\"k: $s_k, j: $s_j,  i: $s_i, h: $s_h, demand from k to i: $(trip1.demand), demand from j to h: $(trip2.demand)...\\n\")\n",
    "                connection= ((trip1.bus_line_id, trip1.line_id,trip1.destination_stop_id),(trip2.bus_line_id, trip2.line_id,trip2.origin_stop_id))\n",
    "                if !(connection in A_set)\n",
    "                    push!(A_set, connection)\n",
    "                    println(\"Added $connection to A_set.\\n\")\n",
    "                else\n",
    "                    println(\"Connection $connection already in A_set.\\n\")\n",
    "                end\n",
    "            else \n",
    "                #println(\"Connection from $s_i to $s_j not added, because on of the following is not true: i:$s_i > j:$s_j && k:$s_k < j:$s_j < i:$s_i && h:$s_h > j:$s_j or one of the demands is 0.\\n\")\n",
    "            end\n",
    "        end\n",
    "    end\n",
    "end"
   ]
  },
  {
   "cell_type": "markdown",
   "metadata": {},
   "source": [
    "### Populating set V"
   ]
  },
  {
   "cell_type": "code",
   "execution_count": 23,
   "metadata": {},
   "outputs": [
    {
     "name": "stdout",
     "output_type": "stream",
     "text": [
      "V_set:\n",
      "(0, 0, 0)\n",
      "(1, 1, 1)\n",
      "(1, 1, 2)\n",
      "(1, 1, 3)\n",
      "(1, 1, 4)\n",
      "(1, 2, 1)\n",
      "(1, 2, 3)\n",
      "(1, 2, 4)\n",
      "(2, 1, 1)\n",
      "(2, 1, 2)\n",
      "(2, 3, 1)\n",
      "(2, 3, 3)\n",
      "(3, 1, 1)\n",
      "(3, 1, 2)\n",
      "(3, 1, 5)\n",
      "(3, 1, 6)\n",
      "(3, 2, 1)\n",
      "(3, 2, 2)\n",
      "(3, 2, 4)\n",
      "(3, 2, 6)\n",
      "(4, 2, 1)\n",
      "(4, 2, 2)\n",
      "(4, 4, 1)\n",
      "(4, 4, 2)\n",
      "(5, 1, 3)\n",
      "(5, 1, 5)\n",
      "(5, 3, 1)\n",
      "(5, 3, 2)\n",
      "(5, 3, 3)\n",
      "(5, 3, 4)\n"
     ]
    }
   ],
   "source": [
    "V_set= Set{Tuple{Int, Int, Int}}()  # Set to hold all nodes\n",
    "using OrderedCollections  \n",
    "push!(V_set, depot)  # Add the depot D\n",
    "for row in eachrow(demand)\n",
    "    origin_tuple = (row.bus_line_id, row.line_id, row.origin_stop_id)\n",
    "    destination_tuple = (row.bus_line_id, row.line_id, row.destination_stop_id)\n",
    "    if !(origin_tuple in V_set)\n",
    "        push!(V_set, origin_tuple)\n",
    "    end\n",
    "    if !(destination_tuple in V_set)\n",
    "        push!(V_set, destination_tuple)\n",
    "    end\n",
    "end\n",
    "\n",
    "V_set = sort(collect(V_set))\n",
    "full_output = join(string.(V_set), \"\\n\")\n",
    "println(\"V_set:\")\n",
    "println(full_output) "
   ]
  },
  {
   "cell_type": "markdown",
   "metadata": {},
   "source": [
    "# Model definition"
   ]
  },
  {
   "cell_type": "markdown",
   "metadata": {},
   "source": [
    "## Initialize model instance"
   ]
  },
  {
   "cell_type": "code",
   "execution_count": 24,
   "metadata": {},
   "outputs": [
    {
     "data": {
      "text/plain": [
       "A JuMP Model\n",
       "├ solver: HiGHS\n",
       "├ objective_sense: FEASIBILITY_SENSE\n",
       "├ num_variables: 0\n",
       "├ num_constraints: 0\n",
       "└ Names registered in the model: none"
      ]
     },
     "metadata": {},
     "output_type": "display_data"
    }
   ],
   "source": [
    "model= Model(HiGHS.Optimizer)"
   ]
  },
  {
   "cell_type": "markdown",
   "metadata": {},
   "source": [
    "## Initialize variables"
   ]
  },
  {
   "cell_type": "code",
   "execution_count": 25,
   "metadata": {},
   "outputs": [
    {
     "data": {
      "text/plain": [
       "2-dimensional DenseAxisArray{VariableRef,2,...} with index sets:\n",
       "    Dimension 1, [((5, 3, 1), (5, 3, 4)), ((4, 4, 1), (4, 4, 2)), ((0, 0, 0), (2, 3, 1)), ((2, 1, 1), (2, 1, 2)), ((0, 0, 0), (1, 2, 3)), ((3, 1, 5), (0, 0, 0)), ((1, 1, 2), (1, 1, 3)), ((1, 1, 4), (2, 3, 1)), ((0, 0, 0), (3, 1, 1)), ((3, 2, 2), (0, 0, 0))  …  ((0, 0, 0), (4, 2, 1)), ((2, 1, 2), (5, 3, 2)), ((5, 3, 4), (5, 3, 2)), ((1, 1, 3), (4, 4, 1)), ((1, 1, 3), (5, 3, 2)), ((1, 1, 4), (3, 2, 4)), ((2, 1, 2), (3, 2, 4)), ((2, 3, 1), (2, 3, 3)), ((3, 2, 1), (3, 2, 2)), ((1, 1, 3), (3, 2, 4))]\n",
       "    Dimension 2, [1, 2, 3, 4, 5, 6, 7, 8, 9, 10]\n",
       "And data, a 74×10 Matrix{VariableRef}:\n",
       " x[((5, 3, 1), (5, 3, 4)),1]  …  x[((5, 3, 1), (5, 3, 4)),10]\n",
       " x[((4, 4, 1), (4, 4, 2)),1]     x[((4, 4, 1), (4, 4, 2)),10]\n",
       " x[((0, 0, 0), (2, 3, 1)),1]     x[((0, 0, 0), (2, 3, 1)),10]\n",
       " x[((2, 1, 1), (2, 1, 2)),1]     x[((2, 1, 1), (2, 1, 2)),10]\n",
       " x[((0, 0, 0), (1, 2, 3)),1]     x[((0, 0, 0), (1, 2, 3)),10]\n",
       " x[((3, 1, 5), (0, 0, 0)),1]  …  x[((3, 1, 5), (0, 0, 0)),10]\n",
       " x[((1, 1, 2), (1, 1, 3)),1]     x[((1, 1, 2), (1, 1, 3)),10]\n",
       " x[((1, 1, 4), (2, 3, 1)),1]     x[((1, 1, 4), (2, 3, 1)),10]\n",
       " x[((0, 0, 0), (3, 1, 1)),1]     x[((0, 0, 0), (3, 1, 1)),10]\n",
       " x[((3, 2, 2), (0, 0, 0)),1]     x[((3, 2, 2), (0, 0, 0)),10]\n",
       " ⋮                            ⋱  \n",
       " x[((2, 1, 2), (5, 3, 2)),1]  …  x[((2, 1, 2), (5, 3, 2)),10]\n",
       " x[((5, 3, 4), (5, 3, 2)),1]     x[((5, 3, 4), (5, 3, 2)),10]\n",
       " x[((1, 1, 3), (4, 4, 1)),1]     x[((1, 1, 3), (4, 4, 1)),10]\n",
       " x[((1, 1, 3), (5, 3, 2)),1]     x[((1, 1, 3), (5, 3, 2)),10]\n",
       " x[((1, 1, 4), (3, 2, 4)),1]     x[((1, 1, 4), (3, 2, 4)),10]\n",
       " x[((2, 1, 2), (3, 2, 4)),1]  …  x[((2, 1, 2), (3, 2, 4)),10]\n",
       " x[((2, 3, 1), (2, 3, 3)),1]     x[((2, 3, 1), (2, 3, 3)),10]\n",
       " x[((3, 2, 1), (3, 2, 2)),1]     x[((3, 2, 1), (3, 2, 2)),10]\n",
       " x[((1, 1, 3), (3, 2, 4)),1]     x[((1, 1, 3), (3, 2, 4)),10]"
      ]
     },
     "metadata": {},
     "output_type": "display_data"
    }
   ],
   "source": [
    "@variable(model, x[connection in A_set, bus in unique(busses.bus_id)], Bin)"
   ]
  },
  {
   "cell_type": "markdown",
   "metadata": {},
   "source": [
    "### Auf 0 fixieren"
   ]
  },
  {
   "cell_type": "code",
   "execution_count": 26,
   "metadata": {},
   "outputs": [
    {
     "data": {
      "text/plain": [
       "violates_shift_or_break (generic function with 1 method)"
      ]
     },
     "metadata": {},
     "output_type": "display_data"
    }
   ],
   "source": [
    "function violates_shift_or_break((i, j), bus, busses, nodes, demand, connections_dict)\n",
    "    start_time_i = nodes[findfirst(x -> x.bus_line_id == i[1] && x.line_id==i[2] && x.stop_id==i[3], nodes)].start_time #start time of node i\n",
    "    start_time_j = nodes[findfirst(x -> x.bus_line_id == j[1] && x.line_id==j[2] && x.stop_id==j[3], nodes)].start_time #start time of node j\n",
    "    t_ij = connections_dict[(i,j)].travel_time #travel time from i to j\n",
    "    shift_start = busses[findfirst(x -> x.bus_id == bus, eachrow(busses)),:shift_start] #shift start time\n",
    "    shift_end = busses[findfirst(x -> x.bus_id == bus, eachrow(busses)), :shift_end] #shift end time\n",
    "    if break_time == \"break1\"\n",
    "        break_time_start = busses[findfirst(x -> x.bus_id == bus, eachrow(busses)), :break_start_1]  #break1 start time\n",
    "        break_time_end= busses[findfirst(x -> x.bus_id == bus, eachrow(busses)), :break_end_1]  #break1 end time\n",
    "    elseif break_time == \"break2\"\n",
    "        break_time_start = busses[findfirst(x -> x.bus_id == bus, eachrow(busses)), :break_start_2]  #break2 start time\n",
    "        break_time_end= busses[findfirst(x -> x.bus_id == bus, eachrow(busses)), :break_end_2]  #break2 end time\n",
    "    else\n",
    "        println(\"Warning: break_time is neither 'break1' nor 'break2'.\")\n",
    "    end\n",
    "    \n",
    "\n",
    "    #=\n",
    "    println(\"Variables:\")\n",
    "    println(\"t_i: $t_i\")\n",
    "    println(\"t_j: $t_j\")\n",
    "    println(\"t_ij: $t_ij\")\n",
    "    println(\"shift_start: $shift_start\")\n",
    "    println(\"shift_end: $shift_end\")\n",
    "    println(\"break_time_start: $break_time_start\")\n",
    "    println(\"break2_start: $break2_start\")\n",
    "    =#\n",
    "\n",
    "    # Fall (i): Start zu früh vom Depot\n",
    "    if i == (0,0,0) && start_time_j - t_ij < shift_start\n",
    "        reason= \"Start zu früh vom Depot: start_j $start_time_j - t_ij $t_ij < shift_start $shift_start\"\n",
    "        return true, reason\n",
    "    end\n",
    "\n",
    "    # Fall (ii): Ankunft zu spät am Depot\n",
    "    if j == (0,0,0) && start_time_i + t_ij > shift_end\n",
    "        reason=\"Ankunft zu spät am Depot: start_i $start_time_i + t_ij $t_ij > shift_end $shift_end\"\n",
    "        return true, reason\n",
    "    end\n",
    "\n",
    "    # Fall (iii): Fahrt auf gleicher Linie – Pause betroffen\n",
    "    if i[1]==j[1] && i[2]==j[2] # gleiche Linie und Tour\n",
    "        if (break_time_start < start_time_i < break_time_end) ||        # Start des Trips liegt in der zweiten Pause\n",
    "           (break_time_start < start_time_j < break_time_end) ||        # Ende des Trips liegt in der zweiten Pause\n",
    "           (start_time_i < break_time_start && start_time_j > break_time_end)    # Trip überspannt die erste Pause\n",
    "            reason=\"Fahrt auf gleicher Linie – Pause betroffen: start_i $start_time_i oder start_j $start_time_j in break1 ($break_time_start, $break_time_end)\"\n",
    "            return true, reason\n",
    "        end\n",
    "    else\n",
    "        # Fall (iv): Linienwechsel – Pause muss dazwischen passen\n",
    "        if (break_time_start < start_time_i < break_time_end) ||        # Start des Trips liegt in der zweiten Pause\n",
    "           (break_time_start < start_time_j < break_time_end) ||        # Ende des Trips liegt in der zweiten Pause\n",
    "           (start_time_j - start_time_i - t_ij < break_time_end - break_time_start && start_time_i < break_time_start && start_time_j > break_time_end)  # dazwischen reicht nicht\n",
    "            reason=\"Linienwechsel – start_i: $start_time_i, start_j: $start_time_j, break1: ($break_time_start, $break_time_end)\"\n",
    "            return true, reason\n",
    "        end\n",
    "    end\n",
    "\n",
    "    return false, \"No Trips violate any breaks.\"\n",
    "end\n"
   ]
  },
  {
   "cell_type": "code",
   "execution_count": 27,
   "metadata": {},
   "outputs": [
    {
     "name": "stdout",
     "output_type": "stream",
     "text": [
      "Fixated: x[((2, 3, 3),(0, 0, 0)), 1] to 0 due to Ankunft zu spät am Depot: start_i 61.92796532486692 + t_ij 16.701137685798535 > shift_end 70.\n",
      "Fixated: x[((4, 4, 2),(0, 0, 0)), 1] to 0 due to Ankunft zu spät am Depot: start_i 61.02461938857064 + t_ij 14.580987620871227 > shift_end 70.\n",
      "Fixated: x[((5, 3, 4),(0, 0, 0)), 1] to 0 due to Ankunft zu spät am Depot: start_i 62.399444310081115 + t_ij 14.098468001878787 > shift_end 70.\n",
      "Fixated: x[((5, 3, 3),(0, 0, 0)), 1] to 0 due to Ankunft zu spät am Depot: start_i 54.97373222301499 + t_ij 16.716219668334105 > shift_end 70.\n",
      "Fixated: x[((3, 1, 5),(0, 0, 0)), 2] to 0 due to Linienwechsel – start_i: 39.98408309247563, start_j: 0.0, break1: (35, 40).\n",
      "Fixated: x[((0, 0, 0),(3, 1, 1)), 2] to 0 due to Start zu früh vom Depot: start_j 16.0 - t_ij 12.473652231804444 < shift_start 5.\n",
      "Fixated: x[((3, 2, 2),(0, 0, 0)), 2] to 0 due to Linienwechsel – start_i: 37.426601146205606, start_j: 0.0, break1: (35, 40).\n",
      "Fixated: x[((4, 2, 2),(5, 3, 1)), 2] to 0 due to Linienwechsel – start_i: 37.02461938857064, start_j: 46.0, break1: (35, 40).\n",
      "Fixated: x[((2, 3, 3),(0, 0, 0)), 2] to 0 due to Ankunft zu spät am Depot: start_i 61.92796532486692 + t_ij 16.701137685798535 > shift_end 75.\n",
      "Fixated: x[((2, 1, 2),(1, 2, 3)), 2] to 0 due to Linienwechsel – start_i: 25.510208707481056, start_j: 47.48389737878316, break1: (35, 40).\n",
      "Fixated: x[((3, 1, 5),(3, 2, 4)), 2] to 0 due to Linienwechsel – start_i: 39.98408309247563, start_j: 49.85203612592359, break1: (35, 40).\n",
      "Fixated: x[((3, 2, 2),(4, 4, 1)), 2] to 0 due to Linienwechsel – start_i: 37.426601146205606, start_j: 56.0, break1: (35, 40).\n",
      "Fixated: x[((4, 4, 2),(0, 0, 0)), 2] to 0 due to Ankunft zu spät am Depot: start_i 61.02461938857064 + t_ij 14.580987620871227 > shift_end 75.\n",
      "Fixated: x[((3, 1, 2),(3, 1, 5)), 2] to 0 due to Fahrt auf gleicher Linie – Pause betroffen: start_i 21.426601146205606 oder start_j 39.98408309247563 in break1 (35, 40).\n",
      "Fixated: x[((3, 2, 2),(3, 2, 4)), 2] to 0 due to Fahrt auf gleicher Linie – Pause betroffen: start_i 37.426601146205606 oder start_j 49.85203612592359 in break1 (35, 40).\n",
      "Fixated: x[((3, 1, 1),(3, 1, 6)), 2] to 0 due to Fahrt auf gleicher Linie – Pause betroffen: start_i 16.0 oder start_j 45.052929114993965 in break1 (35, 40).\n",
      "Fixated: x[((4, 2, 1),(4, 2, 2)), 2] to 0 due to Fahrt auf gleicher Linie – Pause betroffen: start_i 32.0 oder start_j 37.02461938857064 in break1 (35, 40).\n",
      "Fixated: x[((2, 1, 2),(5, 3, 1)), 2] to 0 due to Linienwechsel – start_i: 25.510208707481056, start_j: 46.0, break1: (35, 40).\n",
      "Fixated: x[((5, 1, 3),(5, 1, 5)), 2] to 0 due to Fahrt auf gleicher Linie – Pause betroffen: start_i 28.973732223014988 oder start_j 41.61254319654011 in break1 (35, 40).\n",
      "Fixated: x[((1, 1, 3),(5, 3, 1)), 2] to 0 due to Linienwechsel – start_i: 27.483897378783162, start_j: 46.0, break1: (35, 40).\n",
      "Fixated: x[((4, 2, 2),(0, 0, 0)), 2] to 0 due to Linienwechsel – start_i: 37.02461938857064, start_j: 0.0, break1: (35, 40).\n",
      "Fixated: x[((3, 1, 5),(2, 3, 1)), 2] to 0 due to Linienwechsel – start_i: 39.98408309247563, start_j: 50.0, break1: (35, 40).\n",
      "Fixated: x[((4, 2, 2),(4, 4, 1)), 2] to 0 due to Linienwechsel – start_i: 37.02461938857064, start_j: 56.0, break1: (35, 40).\n",
      "Fixated: x[((4, 2, 2),(5, 3, 2)), 2] to 0 due to Linienwechsel – start_i: 37.02461938857064, start_j: 51.42560595694158, break1: (35, 40).\n",
      "Fixated: x[((5, 3, 4),(0, 0, 0)), 2] to 0 due to Ankunft zu spät am Depot: start_i 62.399444310081115 + t_ij 14.098468001878787 > shift_end 75.\n",
      "Fixated: x[((0, 0, 0),(1, 1, 1)), 2] to 0 due to Start zu früh vom Depot: start_j 20.0 - t_ij 17.17174423289609 < shift_start 5.\n",
      "Fixated: x[((1, 1, 4),(4, 4, 1)), 2] to 0 due to Linienwechsel – start_i: 32.16927890006828, start_j: 56.0, break1: (35, 40).\n",
      "Fixated: x[((2, 1, 2),(5, 3, 2)), 2] to 0 due to Linienwechsel – start_i: 25.510208707481056, start_j: 51.42560595694158, break1: (35, 40).\n",
      "Fixated: x[((1, 1, 4),(3, 2, 4)), 2] to 0 due to Linienwechsel – start_i: 32.16927890006828, start_j: 49.85203612592359, break1: (35, 40).\n",
      "Fixated: x[((3, 2, 1),(3, 2, 2)), 2] to 0 due to Fahrt auf gleicher Linie – Pause betroffen: start_i 32.0 oder start_j 37.426601146205606 in break1 (35, 40).\n",
      "Fixated: x[((1, 1, 3),(3, 2, 4)), 2] to 0 due to Linienwechsel – start_i: 27.483897378783162, start_j: 49.85203612592359, break1: (35, 40).\n",
      "Fixated: x[((0, 0, 0),(3, 1, 1)), 3] to 0 due to Start zu früh vom Depot: start_j 16.0 - t_ij 12.473652231804444 < shift_start 10.\n",
      "Fixated: x[((0, 0, 0),(1, 1, 2)), 3] to 0 due to Start zu früh vom Depot: start_j 22.379663841806234 - t_ij 16.512213661408335 < shift_start 10.\n",
      "Fixated: x[((0, 0, 0),(2, 1, 1)), 3] to 0 due to Start zu früh vom Depot: start_j 20.0 - t_ij 12.72862914849828 < shift_start 10.\n",
      "Fixated: x[((0, 0, 0),(3, 1, 2)), 3] to 0 due to Start zu früh vom Depot: start_j 21.426601146205606 - t_ij 14.4019998611304 < shift_start 10.\n",
      "Fixated: x[((0, 0, 0),(1, 1, 1)), 3] to 0 due to Start zu früh vom Depot: start_j 20.0 - t_ij 17.17174423289609 < shift_start 10.\n",
      "Fixated: x[((5, 3, 1),(5, 3, 4)), 4] to 0 due to Fahrt auf gleicher Linie – Pause betroffen: start_i 46.0 oder start_j 62.399444310081115 in break1 (55, 60).\n",
      "Fixated: x[((4, 4, 1),(4, 4, 2)), 4] to 0 due to Fahrt auf gleicher Linie – Pause betroffen: start_i 56.0 oder start_j 61.02461938857064 in break1 (55, 60).\n",
      "Fixated: x[((0, 0, 0),(3, 1, 1)), 4] to 0 due to Start zu früh vom Depot: start_j 16.0 - t_ij 12.473652231804444 < shift_start 10.\n",
      "Fixated: x[((0, 0, 0),(1, 1, 2)), 4] to 0 due to Start zu früh vom Depot: start_j 22.379663841806234 - t_ij 16.512213661408335 < shift_start 10.\n",
      "Fixated: x[((0, 0, 0),(2, 1, 1)), 4] to 0 due to Start zu früh vom Depot: start_j 20.0 - t_ij 12.72862914849828 < shift_start 10.\n",
      "Fixated: x[((3, 2, 2),(4, 4, 1)), 4] to 0 due to Linienwechsel – start_i: 37.426601146205606, start_j: 56.0, break1: (55, 60).\n",
      "Fixated: x[((3, 2, 4),(3, 2, 6)), 4] to 0 due to Fahrt auf gleicher Linie – Pause betroffen: start_i 49.85203612592359 oder start_j 61.052929114993965 in break1 (55, 60).\n",
      "Fixated: x[((0, 0, 0),(3, 1, 2)), 4] to 0 due to Start zu früh vom Depot: start_j 21.426601146205606 - t_ij 14.4019998611304 < shift_start 10.\n",
      "Fixated: x[((4, 2, 2),(4, 4, 1)), 4] to 0 due to Linienwechsel – start_i: 37.02461938857064, start_j: 56.0, break1: (55, 60).\n",
      "Fixated: x[((0, 0, 0),(4, 4, 1)), 4] to 0 due to Linienwechsel – start_i: 0.0, start_j: 56.0, break1: (55, 60).\n",
      "Fixated: x[((0, 0, 0),(1, 1, 1)), 4] to 0 due to Start zu früh vom Depot: start_j 20.0 - t_ij 17.17174423289609 < shift_start 10.\n",
      "Fixated: x[((5, 3, 2),(5, 3, 4)), 4] to 0 due to Fahrt auf gleicher Linie – Pause betroffen: start_i 51.42560595694158 oder start_j 62.399444310081115 in break1 (55, 60).\n",
      "Fixated: x[((1, 1, 4),(4, 4, 1)), 4] to 0 due to Linienwechsel – start_i: 32.16927890006828, start_j: 56.0, break1: (55, 60).\n",
      "Fixated: x[((2, 1, 2),(4, 4, 1)), 4] to 0 due to Linienwechsel – start_i: 25.510208707481056, start_j: 56.0, break1: (55, 60).\n",
      "Fixated: x[((1, 1, 3),(4, 4, 1)), 4] to 0 due to Linienwechsel – start_i: 27.483897378783162, start_j: 56.0, break1: (55, 60).\n",
      "Fixated: x[((2, 3, 1),(2, 3, 3)), 4] to 0 due to Fahrt auf gleicher Linie – Pause betroffen: start_i 50.0 oder start_j 61.92796532486692 in break1 (55, 60).\n",
      "Fixated: x[((2, 1, 1),(2, 1, 2)), 5] to 0 due to Fahrt auf gleicher Linie – Pause betroffen: start_i 20.0 oder start_j 25.510208707481056 in break1 (20, 30).\n",
      "Fixated: x[((1, 1, 2),(1, 1, 3)), 5] to 0 due to Fahrt auf gleicher Linie – Pause betroffen: start_i 22.379663841806234 oder start_j 27.483897378783162 in break1 (20, 30).\n",
      "Fixated: x[((0, 0, 0),(1, 1, 2)), 5] to 0 due to Linienwechsel – start_i: 0.0, start_j: 22.379663841806234, break1: (20, 30).\n",
      "Fixated: x[((2, 1, 2),(2, 3, 1)), 5] to 0 due to Linienwechsel – start_i: 25.510208707481056, start_j: 50.0, break1: (20, 30).\n",
      "Fixated: x[((1, 1, 3),(2, 3, 1)), 5] to 0 due to Linienwechsel – start_i: 27.483897378783162, start_j: 50.0, break1: (20, 30).\n",
      "Fixated: x[((2, 1, 2),(1, 2, 3)), 5] to 0 due to Linienwechsel – start_i: 25.510208707481056, start_j: 47.48389737878316, break1: (20, 30).\n",
      "Fixated: x[((0, 0, 0),(5, 1, 3)), 5] to 0 due to Linienwechsel – start_i: 0.0, start_j: 28.973732223014988, break1: (20, 30).\n",
      "Fixated: x[((1, 1, 3),(1, 2, 3)), 5] to 0 due to Linienwechsel – start_i: 27.483897378783162, start_j: 47.48389737878316, break1: (20, 30).\n",
      "Fixated: x[((3, 1, 2),(3, 1, 5)), 5] to 0 due to Fahrt auf gleicher Linie – Pause betroffen: start_i 21.426601146205606 oder start_j 39.98408309247563 in break1 (20, 30).\n",
      "Fixated: x[((1, 1, 2),(1, 1, 4)), 5] to 0 due to Fahrt auf gleicher Linie – Pause betroffen: start_i 22.379663841806234 oder start_j 32.16927890006828 in break1 (20, 30).\n",
      "Fixated: x[((1, 1, 4),(1, 1, 2)), 5] to 0 due to Fahrt auf gleicher Linie – Pause betroffen: start_i 32.16927890006828 oder start_j 22.379663841806234 in break1 (20, 30).\n",
      "Fixated: x[((3, 1, 1),(3, 1, 6)), 5] to 0 due to Fahrt auf gleicher Linie – Pause betroffen: start_i 16.0 oder start_j 45.052929114993965 in break1 (20, 30).\n",
      "Fixated: x[((2, 1, 2),(5, 3, 1)), 5] to 0 due to Linienwechsel – start_i: 25.510208707481056, start_j: 46.0, break1: (20, 30).\n",
      "Fixated: x[((5, 1, 3),(5, 1, 5)), 5] to 0 due to Fahrt auf gleicher Linie – Pause betroffen: start_i 28.973732223014988 oder start_j 41.61254319654011 in break1 (20, 30).\n",
      "Fixated: x[((1, 1, 3),(5, 3, 1)), 5] to 0 due to Linienwechsel – start_i: 27.483897378783162, start_j: 46.0, break1: (20, 30).\n",
      "Fixated: x[((1, 1, 3),(1, 2, 1)), 5] to 0 due to Linienwechsel – start_i: 27.483897378783162, start_j: 40.0, break1: (20, 30).\n",
      "Fixated: x[((0, 0, 0),(3, 1, 2)), 5] to 0 due to Linienwechsel – start_i: 0.0, start_j: 21.426601146205606, break1: (20, 30).\n",
      "Fixated: x[((2, 1, 2),(0, 0, 0)), 5] to 0 due to Linienwechsel – start_i: 25.510208707481056, start_j: 0.0, break1: (20, 30).\n",
      "Fixated: x[((3, 1, 6),(3, 1, 2)), 5] to 0 due to Fahrt auf gleicher Linie – Pause betroffen: start_i 45.052929114993965 oder start_j 21.426601146205606 in break1 (20, 30).\n",
      "Fixated: x[((1, 1, 3),(0, 0, 0)), 5] to 0 due to Linienwechsel – start_i: 27.483897378783162, start_j: 0.0, break1: (20, 30).\n",
      "Fixated: x[((2, 1, 2),(4, 4, 1)), 5] to 0 due to Linienwechsel – start_i: 25.510208707481056, start_j: 56.0, break1: (20, 30).\n",
      "Fixated: x[((2, 1, 2),(5, 3, 2)), 5] to 0 due to Linienwechsel – start_i: 25.510208707481056, start_j: 51.42560595694158, break1: (20, 30).\n",
      "Fixated: x[((1, 1, 3),(4, 4, 1)), 5] to 0 due to Linienwechsel – start_i: 27.483897378783162, start_j: 56.0, break1: (20, 30).\n",
      "Fixated: x[((1, 1, 3),(5, 3, 2)), 5] to 0 due to Linienwechsel – start_i: 27.483897378783162, start_j: 51.42560595694158, break1: (20, 30).\n",
      "Fixated: x[((2, 1, 2),(3, 2, 4)), 5] to 0 due to Linienwechsel – start_i: 25.510208707481056, start_j: 49.85203612592359, break1: (20, 30).\n",
      "Fixated: x[((1, 1, 3),(3, 2, 4)), 5] to 0 due to Linienwechsel – start_i: 27.483897378783162, start_j: 49.85203612592359, break1: (20, 30).\n",
      "Fixated: x[((2, 3, 3),(0, 0, 0)), 6] to 0 due to Ankunft zu spät am Depot: start_i 61.92796532486692 + t_ij 16.701137685798535 > shift_end 75.\n",
      "Fixated: x[((4, 4, 2),(0, 0, 0)), 6] to 0 due to Ankunft zu spät am Depot: start_i 61.02461938857064 + t_ij 14.580987620871227 > shift_end 75.\n",
      "Fixated: x[((5, 3, 4),(0, 0, 0)), 6] to 0 due to Ankunft zu spät am Depot: start_i 62.399444310081115 + t_ij 14.098468001878787 > shift_end 75.\n",
      "Fixated: x[((2, 1, 1),(2, 1, 2)), 7] to 0 due to Fahrt auf gleicher Linie – Pause betroffen: start_i 20.0 oder start_j 25.510208707481056 in break1 (25, 35).\n",
      "Fixated: x[((1, 1, 2),(1, 1, 3)), 7] to 0 due to Fahrt auf gleicher Linie – Pause betroffen: start_i 22.379663841806234 oder start_j 27.483897378783162 in break1 (25, 35).\n",
      "Fixated: x[((1, 1, 4),(2, 3, 1)), 7] to 0 due to Linienwechsel – start_i: 32.16927890006828, start_j: 50.0, break1: (25, 35).\n",
      "Fixated: x[((2, 1, 2),(2, 3, 1)), 7] to 0 due to Linienwechsel – start_i: 25.510208707481056, start_j: 50.0, break1: (25, 35).\n",
      "Fixated: x[((1, 1, 4),(1, 2, 3)), 7] to 0 due to Linienwechsel – start_i: 32.16927890006828, start_j: 47.48389737878316, break1: (25, 35).\n",
      "Fixated: x[((1, 1, 3),(2, 3, 1)), 7] to 0 due to Linienwechsel – start_i: 27.483897378783162, start_j: 50.0, break1: (25, 35).\n",
      "Fixated: x[((2, 1, 2),(1, 2, 3)), 7] to 0 due to Linienwechsel – start_i: 25.510208707481056, start_j: 47.48389737878316, break1: (25, 35).\n",
      "Fixated: x[((0, 0, 0),(5, 1, 3)), 7] to 0 due to Linienwechsel – start_i: 0.0, start_j: 28.973732223014988, break1: (25, 35).\n",
      "Fixated: x[((1, 1, 3),(1, 2, 3)), 7] to 0 due to Linienwechsel – start_i: 27.483897378783162, start_j: 47.48389737878316, break1: (25, 35).\n",
      "Fixated: x[((3, 1, 2),(3, 1, 5)), 7] to 0 due to Fahrt auf gleicher Linie – Pause betroffen: start_i 21.426601146205606 oder start_j 39.98408309247563 in break1 (25, 35).\n",
      "Fixated: x[((1, 1, 2),(1, 1, 4)), 7] to 0 due to Fahrt auf gleicher Linie – Pause betroffen: start_i 22.379663841806234 oder start_j 32.16927890006828 in break1 (25, 35).\n",
      "Fixated: x[((1, 1, 4),(1, 1, 2)), 7] to 0 due to Fahrt auf gleicher Linie – Pause betroffen: start_i 32.16927890006828 oder start_j 22.379663841806234 in break1 (25, 35).\n",
      "Fixated: x[((3, 1, 1),(3, 1, 6)), 7] to 0 due to Fahrt auf gleicher Linie – Pause betroffen: start_i 16.0 oder start_j 45.052929114993965 in break1 (25, 35).\n",
      "Fixated: x[((4, 2, 1),(4, 2, 2)), 7] to 0 due to Fahrt auf gleicher Linie – Pause betroffen: start_i 32.0 oder start_j 37.02461938857064 in break1 (25, 35).\n",
      "Fixated: x[((2, 1, 2),(5, 3, 1)), 7] to 0 due to Linienwechsel – start_i: 25.510208707481056, start_j: 46.0, break1: (25, 35).\n",
      "Fixated: x[((5, 1, 3),(5, 1, 5)), 7] to 0 due to Fahrt auf gleicher Linie – Pause betroffen: start_i 28.973732223014988 oder start_j 41.61254319654011 in break1 (25, 35).\n",
      "Fixated: x[((1, 1, 3),(5, 3, 1)), 7] to 0 due to Linienwechsel – start_i: 27.483897378783162, start_j: 46.0, break1: (25, 35).\n",
      "Fixated: x[((1, 1, 1),(1, 1, 4)), 7] to 0 due to Fahrt auf gleicher Linie – Pause betroffen: start_i 20.0 oder start_j 32.16927890006828 in break1 (25, 35).\n",
      "Fixated: x[((1, 1, 3),(1, 2, 1)), 7] to 0 due to Linienwechsel – start_i: 27.483897378783162, start_j: 40.0, break1: (25, 35).\n",
      "Fixated: x[((0, 0, 0),(3, 2, 1)), 7] to 0 due to Linienwechsel – start_i: 0.0, start_j: 32.0, break1: (25, 35).\n",
      "Fixated: x[((1, 1, 4),(0, 0, 0)), 7] to 0 due to Linienwechsel – start_i: 32.16927890006828, start_j: 0.0, break1: (25, 35).\n",
      "Fixated: x[((2, 1, 2),(0, 0, 0)), 7] to 0 due to Linienwechsel – start_i: 25.510208707481056, start_j: 0.0, break1: (25, 35).\n",
      "Fixated: x[((1, 1, 3),(0, 0, 0)), 7] to 0 due to Linienwechsel – start_i: 27.483897378783162, start_j: 0.0, break1: (25, 35).\n",
      "Fixated: x[((1, 1, 4),(4, 4, 1)), 7] to 0 due to Linienwechsel – start_i: 32.16927890006828, start_j: 56.0, break1: (25, 35).\n",
      "Fixated: x[((2, 1, 2),(4, 4, 1)), 7] to 0 due to Linienwechsel – start_i: 25.510208707481056, start_j: 56.0, break1: (25, 35).\n",
      "Fixated: x[((0, 0, 0),(4, 2, 1)), 7] to 0 due to Linienwechsel – start_i: 0.0, start_j: 32.0, break1: (25, 35).\n",
      "Fixated: x[((2, 1, 2),(5, 3, 2)), 7] to 0 due to Linienwechsel – start_i: 25.510208707481056, start_j: 51.42560595694158, break1: (25, 35).\n",
      "Fixated: x[((1, 1, 3),(4, 4, 1)), 7] to 0 due to Linienwechsel – start_i: 27.483897378783162, start_j: 56.0, break1: (25, 35).\n",
      "Fixated: x[((1, 1, 3),(5, 3, 2)), 7] to 0 due to Linienwechsel – start_i: 27.483897378783162, start_j: 51.42560595694158, break1: (25, 35).\n",
      "Fixated: x[((1, 1, 4),(3, 2, 4)), 7] to 0 due to Linienwechsel – start_i: 32.16927890006828, start_j: 49.85203612592359, break1: (25, 35).\n",
      "Fixated: x[((2, 1, 2),(3, 2, 4)), 7] to 0 due to Linienwechsel – start_i: 25.510208707481056, start_j: 49.85203612592359, break1: (25, 35).\n",
      "Fixated: x[((3, 2, 1),(3, 2, 2)), 7] to 0 due to Fahrt auf gleicher Linie – Pause betroffen: start_i 32.0 oder start_j 37.426601146205606 in break1 (25, 35).\n",
      "Fixated: x[((1, 1, 3),(3, 2, 4)), 7] to 0 due to Linienwechsel – start_i: 27.483897378783162, start_j: 49.85203612592359, break1: (25, 35).\n",
      "Fixated: x[((5, 3, 1),(5, 3, 4)), 8] to 0 due to Fahrt auf gleicher Linie – Pause betroffen: start_i 46.0 oder start_j 62.399444310081115 in break1 (45, 55).\n",
      "Fixated: x[((0, 0, 0),(2, 3, 1)), 8] to 0 due to Linienwechsel – start_i: 0.0, start_j: 50.0, break1: (45, 55).\n",
      "Fixated: x[((0, 0, 0),(1, 2, 3)), 8] to 0 due to Linienwechsel – start_i: 0.0, start_j: 47.48389737878316, break1: (45, 55).\n",
      "Fixated: x[((1, 1, 4),(2, 3, 1)), 8] to 0 due to Linienwechsel – start_i: 32.16927890006828, start_j: 50.0, break1: (45, 55).\n",
      "Fixated: x[((0, 0, 0),(3, 1, 1)), 8] to 0 due to Start zu früh vom Depot: start_j 16.0 - t_ij 12.473652231804444 < shift_start 30.\n",
      "Fixated: x[((0, 0, 0),(1, 1, 2)), 8] to 0 due to Start zu früh vom Depot: start_j 22.379663841806234 - t_ij 16.512213661408335 < shift_start 30.\n",
      "Fixated: x[((2, 1, 2),(2, 3, 1)), 8] to 0 due to Linienwechsel – start_i: 25.510208707481056, start_j: 50.0, break1: (45, 55).\n",
      "Fixated: x[((4, 2, 2),(5, 3, 1)), 8] to 0 due to Linienwechsel – start_i: 37.02461938857064, start_j: 46.0, break1: (45, 55).\n",
      "Fixated: x[((1, 1, 4),(1, 2, 3)), 8] to 0 due to Linienwechsel – start_i: 32.16927890006828, start_j: 47.48389737878316, break1: (45, 55).\n",
      "Fixated: x[((1, 1, 3),(2, 3, 1)), 8] to 0 due to Linienwechsel – start_i: 27.483897378783162, start_j: 50.0, break1: (45, 55).\n",
      "Fixated: x[((0, 0, 0),(5, 3, 1)), 8] to 0 due to Linienwechsel – start_i: 0.0, start_j: 46.0, break1: (45, 55).\n",
      "Fixated: x[((2, 1, 2),(1, 2, 3)), 8] to 0 due to Linienwechsel – start_i: 25.510208707481056, start_j: 47.48389737878316, break1: (45, 55).\n",
      "Fixated: x[((3, 1, 5),(3, 2, 4)), 8] to 0 due to Linienwechsel – start_i: 39.98408309247563, start_j: 49.85203612592359, break1: (45, 55).\n",
      "Fixated: x[((0, 0, 0),(5, 1, 3)), 8] to 0 due to Start zu früh vom Depot: start_j 28.973732223014988 - t_ij 16.716219668334105 < shift_start 30.\n",
      "Fixated: x[((0, 0, 0),(2, 1, 1)), 8] to 0 due to Start zu früh vom Depot: start_j 20.0 - t_ij 12.72862914849828 < shift_start 30.\n",
      "Fixated: x[((1, 1, 3),(1, 2, 3)), 8] to 0 due to Linienwechsel – start_i: 27.483897378783162, start_j: 47.48389737878316, break1: (45, 55).\n",
      "Fixated: x[((0, 0, 0),(1, 2, 1)), 8] to 0 due to Start zu früh vom Depot: start_j 40.0 - t_ij 17.17174423289609 < shift_start 30.\n",
      "Fixated: x[((3, 2, 2),(4, 4, 1)), 8] to 0 due to Linienwechsel – start_i: 37.426601146205606, start_j: 56.0, break1: (45, 55).\n",
      "Fixated: x[((3, 2, 2),(3, 2, 4)), 8] to 0 due to Fahrt auf gleicher Linie – Pause betroffen: start_i 37.426601146205606 oder start_j 49.85203612592359 in break1 (45, 55).\n",
      "Fixated: x[((3, 1, 1),(3, 1, 6)), 8] to 0 due to Fahrt auf gleicher Linie – Pause betroffen: start_i 16.0 oder start_j 45.052929114993965 in break1 (45, 55).\n",
      "Fixated: x[((2, 1, 2),(5, 3, 1)), 8] to 0 due to Linienwechsel – start_i: 25.510208707481056, start_j: 46.0, break1: (45, 55).\n",
      "Fixated: x[((3, 2, 4),(3, 2, 6)), 8] to 0 due to Fahrt auf gleicher Linie – Pause betroffen: start_i 49.85203612592359 oder start_j 61.052929114993965 in break1 (45, 55).\n",
      "Fixated: x[((1, 1, 3),(5, 3, 1)), 8] to 0 due to Linienwechsel – start_i: 27.483897378783162, start_j: 46.0, break1: (45, 55).\n",
      "Fixated: x[((3, 1, 5),(2, 3, 1)), 8] to 0 due to Linienwechsel – start_i: 39.98408309247563, start_j: 50.0, break1: (45, 55).\n",
      "Fixated: x[((5, 3, 2),(5, 3, 3)), 8] to 0 due to Fahrt auf gleicher Linie – Pause betroffen: start_i 51.42560595694158 oder start_j 54.97373222301499 in break1 (45, 55).\n",
      "Fixated: x[((1, 2, 3),(1, 2, 4)), 8] to 0 due to Fahrt auf gleicher Linie – Pause betroffen: start_i 47.48389737878316 oder start_j 52.16927890006828 in break1 (45, 55).\n",
      "Fixated: x[((0, 0, 0),(3, 1, 2)), 8] to 0 due to Start zu früh vom Depot: start_j 21.426601146205606 - t_ij 14.4019998611304 < shift_start 30.\n",
      "Fixated: x[((4, 2, 2),(5, 3, 2)), 8] to 0 due to Linienwechsel – start_i: 37.02461938857064, start_j: 51.42560595694158, break1: (45, 55).\n",
      "Fixated: x[((0, 0, 0),(5, 3, 2)), 8] to 0 due to Linienwechsel – start_i: 0.0, start_j: 51.42560595694158, break1: (45, 55).\n",
      "Fixated: x[((3, 1, 6),(0, 0, 0)), 8] to 0 due to Linienwechsel – start_i: 45.052929114993965, start_j: 0.0, break1: (45, 55).\n",
      "Fixated: x[((0, 0, 0),(3, 2, 1)), 8] to 0 due to Start zu früh vom Depot: start_j 32.0 - t_ij 12.473652231804444 < shift_start 30.\n",
      "Fixated: x[((0, 0, 0),(3, 2, 4)), 8] to 0 due to Linienwechsel – start_i: 0.0, start_j: 49.85203612592359, break1: (45, 55).\n",
      "Fixated: x[((3, 1, 6),(3, 1, 2)), 8] to 0 due to Fahrt auf gleicher Linie – Pause betroffen: start_i 45.052929114993965 oder start_j 21.426601146205606 in break1 (45, 55).\n",
      "Fixated: x[((0, 0, 0),(1, 1, 1)), 8] to 0 due to Start zu früh vom Depot: start_j 20.0 - t_ij 17.17174423289609 < shift_start 30.\n",
      "Fixated: x[((1, 2, 4),(0, 0, 0)), 8] to 0 due to Linienwechsel – start_i: 52.16927890006828, start_j: 0.0, break1: (45, 55).\n",
      "Fixated: x[((5, 3, 3),(0, 0, 0)), 8] to 0 due to Linienwechsel – start_i: 54.97373222301499, start_j: 0.0, break1: (45, 55).\n",
      "Fixated: x[((1, 2, 1),(1, 2, 3)), 8] to 0 due to Fahrt auf gleicher Linie – Pause betroffen: start_i 40.0 oder start_j 47.48389737878316 in break1 (45, 55).\n",
      "Fixated: x[((1, 2, 3),(0, 0, 0)), 8] to 0 due to Linienwechsel – start_i: 47.48389737878316, start_j: 0.0, break1: (45, 55).\n",
      "Fixated: x[((5, 3, 2),(5, 3, 4)), 8] to 0 due to Fahrt auf gleicher Linie – Pause betroffen: start_i 51.42560595694158 oder start_j 62.399444310081115 in break1 (45, 55).\n",
      "Fixated: x[((1, 1, 4),(4, 4, 1)), 8] to 0 due to Linienwechsel – start_i: 32.16927890006828, start_j: 56.0, break1: (45, 55).\n",
      "Fixated: x[((2, 1, 2),(4, 4, 1)), 8] to 0 due to Linienwechsel – start_i: 25.510208707481056, start_j: 56.0, break1: (45, 55).\n",
      "Fixated: x[((0, 0, 0),(4, 2, 1)), 8] to 0 due to Start zu früh vom Depot: start_j 32.0 - t_ij 13.5137263550806 < shift_start 30.\n",
      "Fixated: x[((2, 1, 2),(5, 3, 2)), 8] to 0 due to Linienwechsel – start_i: 25.510208707481056, start_j: 51.42560595694158, break1: (45, 55).\n",
      "Fixated: x[((5, 3, 4),(5, 3, 2)), 8] to 0 due to Fahrt auf gleicher Linie – Pause betroffen: start_i 62.399444310081115 oder start_j 51.42560595694158 in break1 (45, 55).\n",
      "Fixated: x[((1, 1, 3),(4, 4, 1)), 8] to 0 due to Linienwechsel – start_i: 27.483897378783162, start_j: 56.0, break1: (45, 55).\n",
      "Fixated: x[((1, 1, 3),(5, 3, 2)), 8] to 0 due to Linienwechsel – start_i: 27.483897378783162, start_j: 51.42560595694158, break1: (45, 55).\n",
      "Fixated: x[((1, 1, 4),(3, 2, 4)), 8] to 0 due to Linienwechsel – start_i: 32.16927890006828, start_j: 49.85203612592359, break1: (45, 55).\n",
      "Fixated: x[((2, 1, 2),(3, 2, 4)), 8] to 0 due to Linienwechsel – start_i: 25.510208707481056, start_j: 49.85203612592359, break1: (45, 55).\n",
      "Fixated: x[((2, 3, 1),(2, 3, 3)), 8] to 0 due to Fahrt auf gleicher Linie – Pause betroffen: start_i 50.0 oder start_j 61.92796532486692 in break1 (45, 55).\n",
      "Fixated: x[((1, 1, 3),(3, 2, 4)), 8] to 0 due to Linienwechsel – start_i: 27.483897378783162, start_j: 49.85203612592359, break1: (45, 55).\n",
      "Fixated: x[((2, 1, 1),(2, 1, 2)), 9] to 0 due to Fahrt auf gleicher Linie – Pause betroffen: start_i 20.0 oder start_j 25.510208707481056 in break1 (20, 30).\n",
      "Fixated: x[((1, 1, 2),(1, 1, 3)), 9] to 0 due to Fahrt auf gleicher Linie – Pause betroffen: start_i 22.379663841806234 oder start_j 27.483897378783162 in break1 (20, 30).\n",
      "Fixated: x[((0, 0, 0),(1, 1, 2)), 9] to 0 due to Linienwechsel – start_i: 0.0, start_j: 22.379663841806234, break1: (20, 30).\n",
      "Fixated: x[((2, 1, 2),(2, 3, 1)), 9] to 0 due to Linienwechsel – start_i: 25.510208707481056, start_j: 50.0, break1: (20, 30).\n",
      "Fixated: x[((1, 1, 3),(2, 3, 1)), 9] to 0 due to Linienwechsel – start_i: 27.483897378783162, start_j: 50.0, break1: (20, 30).\n",
      "Fixated: x[((2, 1, 2),(1, 2, 3)), 9] to 0 due to Linienwechsel – start_i: 25.510208707481056, start_j: 47.48389737878316, break1: (20, 30).\n",
      "Fixated: x[((0, 0, 0),(5, 1, 3)), 9] to 0 due to Linienwechsel – start_i: 0.0, start_j: 28.973732223014988, break1: (20, 30).\n",
      "Fixated: x[((1, 1, 3),(1, 2, 3)), 9] to 0 due to Linienwechsel – start_i: 27.483897378783162, start_j: 47.48389737878316, break1: (20, 30).\n",
      "Fixated: x[((3, 1, 2),(3, 1, 5)), 9] to 0 due to Fahrt auf gleicher Linie – Pause betroffen: start_i 21.426601146205606 oder start_j 39.98408309247563 in break1 (20, 30).\n",
      "Fixated: x[((1, 1, 2),(1, 1, 4)), 9] to 0 due to Fahrt auf gleicher Linie – Pause betroffen: start_i 22.379663841806234 oder start_j 32.16927890006828 in break1 (20, 30).\n",
      "Fixated: x[((1, 1, 4),(1, 1, 2)), 9] to 0 due to Fahrt auf gleicher Linie – Pause betroffen: start_i 32.16927890006828 oder start_j 22.379663841806234 in break1 (20, 30).\n",
      "Fixated: x[((3, 1, 1),(3, 1, 6)), 9] to 0 due to Fahrt auf gleicher Linie – Pause betroffen: start_i 16.0 oder start_j 45.052929114993965 in break1 (20, 30).\n",
      "Fixated: x[((2, 1, 2),(5, 3, 1)), 9] to 0 due to Linienwechsel – start_i: 25.510208707481056, start_j: 46.0, break1: (20, 30).\n",
      "Fixated: x[((5, 1, 3),(5, 1, 5)), 9] to 0 due to Fahrt auf gleicher Linie – Pause betroffen: start_i 28.973732223014988 oder start_j 41.61254319654011 in break1 (20, 30).\n",
      "Fixated: x[((1, 1, 3),(5, 3, 1)), 9] to 0 due to Linienwechsel – start_i: 27.483897378783162, start_j: 46.0, break1: (20, 30).\n",
      "Fixated: x[((1, 1, 3),(1, 2, 1)), 9] to 0 due to Linienwechsel – start_i: 27.483897378783162, start_j: 40.0, break1: (20, 30).\n",
      "Fixated: x[((0, 0, 0),(3, 1, 2)), 9] to 0 due to Linienwechsel – start_i: 0.0, start_j: 21.426601146205606, break1: (20, 30).\n",
      "Fixated: x[((2, 1, 2),(0, 0, 0)), 9] to 0 due to Linienwechsel – start_i: 25.510208707481056, start_j: 0.0, break1: (20, 30).\n",
      "Fixated: x[((3, 1, 6),(3, 1, 2)), 9] to 0 due to Fahrt auf gleicher Linie – Pause betroffen: start_i 45.052929114993965 oder start_j 21.426601146205606 in break1 (20, 30).\n",
      "Fixated: x[((1, 1, 3),(0, 0, 0)), 9] to 0 due to Linienwechsel – start_i: 27.483897378783162, start_j: 0.0, break1: (20, 30).\n",
      "Fixated: x[((2, 1, 2),(4, 4, 1)), 9] to 0 due to Linienwechsel – start_i: 25.510208707481056, start_j: 56.0, break1: (20, 30).\n",
      "Fixated: x[((2, 1, 2),(5, 3, 2)), 9] to 0 due to Linienwechsel – start_i: 25.510208707481056, start_j: 51.42560595694158, break1: (20, 30).\n",
      "Fixated: x[((1, 1, 3),(4, 4, 1)), 9] to 0 due to Linienwechsel – start_i: 27.483897378783162, start_j: 56.0, break1: (20, 30).\n",
      "Fixated: x[((1, 1, 3),(5, 3, 2)), 9] to 0 due to Linienwechsel – start_i: 27.483897378783162, start_j: 51.42560595694158, break1: (20, 30).\n",
      "Fixated: x[((2, 1, 2),(3, 2, 4)), 9] to 0 due to Linienwechsel – start_i: 25.510208707481056, start_j: 49.85203612592359, break1: (20, 30).\n",
      "Fixated: x[((1, 1, 3),(3, 2, 4)), 9] to 0 due to Linienwechsel – start_i: 27.483897378783162, start_j: 49.85203612592359, break1: (20, 30).\n",
      "Fixated: x[((1, 1, 4),(2, 3, 1)), 10] to 0 due to Linienwechsel – start_i: 32.16927890006828, start_j: 50.0, break1: (30, 35).\n",
      "Fixated: x[((0, 0, 0),(3, 1, 1)), 10] to 0 due to Start zu früh vom Depot: start_j 16.0 - t_ij 12.473652231804444 < shift_start 10.\n",
      "Fixated: x[((0, 0, 0),(1, 1, 2)), 10] to 0 due to Start zu früh vom Depot: start_j 22.379663841806234 - t_ij 16.512213661408335 < shift_start 10.\n",
      "Fixated: x[((1, 1, 4),(1, 2, 3)), 10] to 0 due to Linienwechsel – start_i: 32.16927890006828, start_j: 47.48389737878316, break1: (30, 35).\n",
      "Fixated: x[((2, 1, 2),(1, 2, 3)), 10] to 0 due to Linienwechsel – start_i: 25.510208707481056, start_j: 47.48389737878316, break1: (30, 35).\n",
      "Fixated: x[((0, 0, 0),(2, 1, 1)), 10] to 0 due to Start zu früh vom Depot: start_j 20.0 - t_ij 12.72862914849828 < shift_start 10.\n",
      "Fixated: x[((3, 1, 2),(3, 1, 5)), 10] to 0 due to Fahrt auf gleicher Linie – Pause betroffen: start_i 21.426601146205606 oder start_j 39.98408309247563 in break1 (30, 35).\n",
      "Fixated: x[((1, 1, 2),(1, 1, 4)), 10] to 0 due to Fahrt auf gleicher Linie – Pause betroffen: start_i 22.379663841806234 oder start_j 32.16927890006828 in break1 (30, 35).\n",
      "Fixated: x[((1, 1, 4),(1, 1, 2)), 10] to 0 due to Fahrt auf gleicher Linie – Pause betroffen: start_i 32.16927890006828 oder start_j 22.379663841806234 in break1 (30, 35).\n",
      "Fixated: x[((3, 1, 1),(3, 1, 6)), 10] to 0 due to Fahrt auf gleicher Linie – Pause betroffen: start_i 16.0 oder start_j 45.052929114993965 in break1 (30, 35).\n",
      "Fixated: x[((4, 2, 1),(4, 2, 2)), 10] to 0 due to Fahrt auf gleicher Linie – Pause betroffen: start_i 32.0 oder start_j 37.02461938857064 in break1 (30, 35).\n",
      "Fixated: x[((2, 1, 2),(5, 3, 1)), 10] to 0 due to Linienwechsel – start_i: 25.510208707481056, start_j: 46.0, break1: (30, 35).\n",
      "Fixated: x[((5, 1, 3),(5, 1, 5)), 10] to 0 due to Fahrt auf gleicher Linie – Pause betroffen: start_i 28.973732223014988 oder start_j 41.61254319654011 in break1 (30, 35).\n",
      "Fixated: x[((1, 1, 3),(5, 3, 1)), 10] to 0 due to Linienwechsel – start_i: 27.483897378783162, start_j: 46.0, break1: (30, 35).\n",
      "Fixated: x[((1, 1, 1),(1, 1, 4)), 10] to 0 due to Fahrt auf gleicher Linie – Pause betroffen: start_i 20.0 oder start_j 32.16927890006828 in break1 (30, 35).\n",
      "Fixated: x[((0, 0, 0),(3, 1, 2)), 10] to 0 due to Start zu früh vom Depot: start_j 21.426601146205606 - t_ij 14.4019998611304 < shift_start 10.\n",
      "Fixated: x[((0, 0, 0),(3, 2, 1)), 10] to 0 due to Linienwechsel – start_i: 0.0, start_j: 32.0, break1: (30, 35).\n",
      "Fixated: x[((1, 1, 4),(0, 0, 0)), 10] to 0 due to Linienwechsel – start_i: 32.16927890006828, start_j: 0.0, break1: (30, 35).\n",
      "Fixated: x[((0, 0, 0),(1, 1, 1)), 10] to 0 due to Start zu früh vom Depot: start_j 20.0 - t_ij 17.17174423289609 < shift_start 10.\n",
      "Fixated: x[((1, 1, 4),(4, 4, 1)), 10] to 0 due to Linienwechsel – start_i: 32.16927890006828, start_j: 56.0, break1: (30, 35).\n",
      "Fixated: x[((0, 0, 0),(4, 2, 1)), 10] to 0 due to Linienwechsel – start_i: 0.0, start_j: 32.0, break1: (30, 35).\n",
      "Fixated: x[((2, 1, 2),(5, 3, 2)), 10] to 0 due to Linienwechsel – start_i: 25.510208707481056, start_j: 51.42560595694158, break1: (30, 35).\n",
      "Fixated: x[((1, 1, 4),(3, 2, 4)), 10] to 0 due to Linienwechsel – start_i: 32.16927890006828, start_j: 49.85203612592359, break1: (30, 35).\n",
      "Fixated: x[((3, 2, 1),(3, 2, 2)), 10] to 0 due to Fahrt auf gleicher Linie – Pause betroffen: start_i 32.0 oder start_j 37.426601146205606 in break1 (30, 35).\n",
      "Fixated: x[((1, 1, 3),(3, 2, 4)), 10] to 0 due to Linienwechsel – start_i: 27.483897378783162, start_j: 49.85203612592359, break1: (30, 35).\n"
     ]
    }
   ],
   "source": [
    "for bus in unique(busses.bus_id)\n",
    "    for (i, j) in A_set\n",
    "        violated, reason=violates_shift_or_break((i, j), bus, busses, nodes, demand, connections_dict)\n",
    "        if violated\n",
    "            fix(x[(i, j), bus], 0.0; force = true)\n",
    "            println(\"Fixated: x[($i,$j), $bus] to 0 due to $reason.\")\n",
    "        end\n",
    "    end\n",
    "end\n"
   ]
  },
  {
   "cell_type": "markdown",
   "metadata": {},
   "source": [
    "## Objective function"
   ]
  },
  {
   "cell_type": "code",
   "execution_count": 28,
   "metadata": {},
   "outputs": [
    {
     "data": {
      "text/latex": [
       "$ x_{((0, 0, 0), (2, 3, 1)),1} + x_{((0, 0, 0), (1, 2, 3)),1} + x_{((0, 0, 0), (3, 1, 1)),1} + x_{((0, 0, 0), (1, 1, 2)),1} + x_{((0, 0, 0), (5, 3, 1)),1} + x_{((0, 0, 0), (5, 1, 3)),1} + x_{((0, 0, 0), (2, 1, 1)),1} + x_{((0, 0, 0), (1, 2, 1)),1} + x_{((0, 0, 0), (3, 1, 2)),1} + x_{((0, 0, 0), (4, 4, 1)),1} + x_{((0, 0, 0), (5, 3, 2)),1} + x_{((0, 0, 0), (3, 2, 1)),1} + x_{((0, 0, 0), (3, 2, 4)),1} + x_{((0, 0, 0), (1, 1, 1)),1} + x_{((0, 0, 0), (4, 2, 1)),1} + x_{((0, 0, 0), (2, 3, 1)),2} + x_{((0, 0, 0), (1, 2, 3)),2} + x_{((0, 0, 0), (3, 1, 1)),2} + x_{((0, 0, 0), (1, 1, 2)),2} + x_{((0, 0, 0), (5, 3, 1)),2} + x_{((0, 0, 0), (5, 1, 3)),2} + x_{((0, 0, 0), (2, 1, 1)),2} + x_{((0, 0, 0), (1, 2, 1)),2} + x_{((0, 0, 0), (3, 1, 2)),2} + x_{((0, 0, 0), (4, 4, 1)),2} + x_{((0, 0, 0), (5, 3, 2)),2} + x_{((0, 0, 0), (3, 2, 1)),2} + x_{((0, 0, 0), (3, 2, 4)),2} + x_{((0, 0, 0), (1, 1, 1)),2} + x_{((0, 0, 0), (4, 2, 1)),2} + [[\\ldots\\text{90 terms omitted}\\ldots]] + x_{((0, 0, 0), (2, 3, 1)),9} + x_{((0, 0, 0), (1, 2, 3)),9} + x_{((0, 0, 0), (3, 1, 1)),9} + x_{((0, 0, 0), (1, 1, 2)),9} + x_{((0, 0, 0), (5, 3, 1)),9} + x_{((0, 0, 0), (5, 1, 3)),9} + x_{((0, 0, 0), (2, 1, 1)),9} + x_{((0, 0, 0), (1, 2, 1)),9} + x_{((0, 0, 0), (3, 1, 2)),9} + x_{((0, 0, 0), (4, 4, 1)),9} + x_{((0, 0, 0), (5, 3, 2)),9} + x_{((0, 0, 0), (3, 2, 1)),9} + x_{((0, 0, 0), (3, 2, 4)),9} + x_{((0, 0, 0), (1, 1, 1)),9} + x_{((0, 0, 0), (4, 2, 1)),9} + x_{((0, 0, 0), (2, 3, 1)),10} + x_{((0, 0, 0), (1, 2, 3)),10} + x_{((0, 0, 0), (3, 1, 1)),10} + x_{((0, 0, 0), (1, 1, 2)),10} + x_{((0, 0, 0), (5, 3, 1)),10} + x_{((0, 0, 0), (5, 1, 3)),10} + x_{((0, 0, 0), (2, 1, 1)),10} + x_{((0, 0, 0), (1, 2, 1)),10} + x_{((0, 0, 0), (3, 1, 2)),10} + x_{((0, 0, 0), (4, 4, 1)),10} + x_{((0, 0, 0), (5, 3, 2)),10} + x_{((0, 0, 0), (3, 2, 1)),10} + x_{((0, 0, 0), (3, 2, 4)),10} + x_{((0, 0, 0), (1, 1, 1)),10} + x_{((0, 0, 0), (4, 2, 1)),10} $"
      ],
      "text/plain": [
       "x[((0, 0, 0), (2, 3, 1)),1] + x[((0, 0, 0), (1, 2, 3)),1] + x[((0, 0, 0), (3, 1, 1)),1] + x[((0, 0, 0), (1, 1, 2)),1] + x[((0, 0, 0), (5, 3, 1)),1] + x[((0, 0, 0), (5, 1, 3)),1] + x[((0, 0, 0), (2, 1, 1)),1] + x[((0, 0, 0), (1, 2, 1)),1] + x[((0, 0, 0), (3, 1, 2)),1] + x[((0, 0, 0), (4, 4, 1)),1] + x[((0, 0, 0), (5, 3, 2)),1] + x[((0, 0, 0), (3, 2, 1)),1] + x[((0, 0, 0), (3, 2, 4)),1] + x[((0, 0, 0), (1, 1, 1)),1] + x[((0, 0, 0), (4, 2, 1)),1] + x[((0, 0, 0), (2, 3, 1)),2] + x[((0, 0, 0), (1, 2, 3)),2] + x[((0, 0, 0), (3, 1, 1)),2] + x[((0, 0, 0), (1, 1, 2)),2] + x[((0, 0, 0), (5, 3, 1)),2] + x[((0, 0, 0), (5, 1, 3)),2] + x[((0, 0, 0), (2, 1, 1)),2] + x[((0, 0, 0), (1, 2, 1)),2] + x[((0, 0, 0), (3, 1, 2)),2] + x[((0, 0, 0), (4, 4, 1)),2] + x[((0, 0, 0), (5, 3, 2)),2] + x[((0, 0, 0), (3, 2, 1)),2] + x[((0, 0, 0), (3, 2, 4)),2] + x[((0, 0, 0), (1, 1, 1)),2] + x[((0, 0, 0), (4, 2, 1)),2] + [[...90 terms omitted...]] + x[((0, 0, 0), (2, 3, 1)),9] + x[((0, 0, 0), (1, 2, 3)),9] + x[((0, 0, 0), (3, 1, 1)),9] + x[((0, 0, 0), (1, 1, 2)),9] + x[((0, 0, 0), (5, 3, 1)),9] + x[((0, 0, 0), (5, 1, 3)),9] + x[((0, 0, 0), (2, 1, 1)),9] + x[((0, 0, 0), (1, 2, 1)),9] + x[((0, 0, 0), (3, 1, 2)),9] + x[((0, 0, 0), (4, 4, 1)),9] + x[((0, 0, 0), (5, 3, 2)),9] + x[((0, 0, 0), (3, 2, 1)),9] + x[((0, 0, 0), (3, 2, 4)),9] + x[((0, 0, 0), (1, 1, 1)),9] + x[((0, 0, 0), (4, 2, 1)),9] + x[((0, 0, 0), (2, 3, 1)),10] + x[((0, 0, 0), (1, 2, 3)),10] + x[((0, 0, 0), (3, 1, 1)),10] + x[((0, 0, 0), (1, 1, 2)),10] + x[((0, 0, 0), (5, 3, 1)),10] + x[((0, 0, 0), (5, 1, 3)),10] + x[((0, 0, 0), (2, 1, 1)),10] + x[((0, 0, 0), (1, 2, 1)),10] + x[((0, 0, 0), (3, 1, 2)),10] + x[((0, 0, 0), (4, 4, 1)),10] + x[((0, 0, 0), (5, 3, 2)),10] + x[((0, 0, 0), (3, 2, 1)),10] + x[((0, 0, 0), (3, 2, 4)),10] + x[((0, 0, 0), (1, 1, 1)),10] + x[((0, 0, 0), (4, 2, 1)),10]"
      ]
     },
     "metadata": {},
     "output_type": "display_data"
    }
   ],
   "source": [
    "@objective(model, Min, sum(x[connection, bus] for bus in unique(busses.bus_id), connection in A_set if connection[1] == (0, 0, 0)))"
   ]
  },
  {
   "cell_type": "markdown",
   "metadata": {},
   "source": [
    "## Constraints"
   ]
  },
  {
   "cell_type": "markdown",
   "metadata": {},
   "source": [
    "### Flusserhaltung"
   ]
  },
  {
   "cell_type": "code",
   "execution_count": 29,
   "metadata": {},
   "outputs": [
    {
     "data": {
      "text/plain": [
       "2-dimensional DenseAxisArray{ConstraintRef{Model, MathOptInterface.ConstraintIndex{MathOptInterface.ScalarAffineFunction{Float64}, MathOptInterface.EqualTo{Float64}}, ScalarShape},2,...} with index sets:\n",
       "    Dimension 1, [(0, 0, 0), (1, 1, 1), (1, 1, 2), (1, 1, 3), (1, 1, 4), (1, 2, 1), (1, 2, 3), (1, 2, 4), (2, 1, 1), (2, 1, 2)  …  (4, 2, 1), (4, 2, 2), (4, 4, 1), (4, 4, 2), (5, 1, 3), (5, 1, 5), (5, 3, 1), (5, 3, 2), (5, 3, 3), (5, 3, 4)]\n",
       "    Dimension 2, [1, 2, 3, 4, 5, 6, 7, 8, 9, 10]\n",
       "And data, a 30×10 Matrix{ConstraintRef{Model, MathOptInterface.ConstraintIndex{MathOptInterface.ScalarAffineFunction{Float64}, MathOptInterface.EqualTo{Float64}}, ScalarShape}}:\n",
       " flow_conservation[(0, 0, 0),1] : -x[((0, 0, 0), (2, 3, 1)),1] - x[((0, 0, 0), (1, 2, 3)),1] + x[((3, 1, 5), (0, 0, 0)),1] - x[((0, 0, 0), (3, 1, 1)),1] + x[((3, 2, 2), (0, 0, 0)),1] + x[((5, 1, 5), (0, 0, 0)),1] - x[((0, 0, 0), (1, 1, 2)),1] + x[((2, 3, 3), (0, 0, 0)),1] - x[((0, 0, 0), (5, 3, 1)),1] - x[((0, 0, 0), (5, 1, 3)),1] - x[((0, 0, 0), (2, 1, 1)),1] - x[((0, 0, 0), (1, 2, 1)),1] + x[((4, 4, 2), (0, 0, 0)),1] + x[((4, 2, 2), (0, 0, 0)),1] - x[((0, 0, 0), (3, 1, 2)),1] - x[((0, 0, 0), (4, 4, 1)),1] - x[((0, 0, 0), (5, 3, 2)),1] + x[((3, 1, 6), (0, 0, 0)),1] - x[((0, 0, 0), (3, 2, 1)),1] + x[((1, 1, 4), (0, 0, 0)),1] + x[((2, 1, 2), (0, 0, 0)),1] - x[((0, 0, 0), (3, 2, 4)),1] + x[((3, 2, 6), (0, 0, 0)),1] + x[((5, 3, 4), (0, 0, 0)),1] + x[((1, 1, 3), (0, 0, 0)),1] - x[((0, 0, 0), (1, 1, 1)),1] + x[((1, 2, 4), (0, 0, 0)),1] + x[((5, 3, 3), (0, 0, 0)),1] + x[((1, 2, 3), (0, 0, 0)),1] - x[((0, 0, 0), (4, 2, 1)),1] = 0  …  flow_conservation[(0, 0, 0),10] : -x[((0, 0, 0), (2, 3, 1)),10] - x[((0, 0, 0), (1, 2, 3)),10] + x[((3, 1, 5), (0, 0, 0)),10] - x[((0, 0, 0), (3, 1, 1)),10] + x[((3, 2, 2), (0, 0, 0)),10] + x[((5, 1, 5), (0, 0, 0)),10] - x[((0, 0, 0), (1, 1, 2)),10] + x[((2, 3, 3), (0, 0, 0)),10] - x[((0, 0, 0), (5, 3, 1)),10] - x[((0, 0, 0), (5, 1, 3)),10] - x[((0, 0, 0), (2, 1, 1)),10] - x[((0, 0, 0), (1, 2, 1)),10] + x[((4, 4, 2), (0, 0, 0)),10] + x[((4, 2, 2), (0, 0, 0)),10] - x[((0, 0, 0), (3, 1, 2)),10] - x[((0, 0, 0), (4, 4, 1)),10] - x[((0, 0, 0), (5, 3, 2)),10] + x[((3, 1, 6), (0, 0, 0)),10] - x[((0, 0, 0), (3, 2, 1)),10] + x[((1, 1, 4), (0, 0, 0)),10] + x[((2, 1, 2), (0, 0, 0)),10] - x[((0, 0, 0), (3, 2, 4)),10] + x[((3, 2, 6), (0, 0, 0)),10] + x[((5, 3, 4), (0, 0, 0)),10] + x[((1, 1, 3), (0, 0, 0)),10] - x[((0, 0, 0), (1, 1, 1)),10] + x[((1, 2, 4), (0, 0, 0)),10] + x[((5, 3, 3), (0, 0, 0)),10] + x[((1, 2, 3), (0, 0, 0)),10] - x[((0, 0, 0), (4, 2, 1)),10] = 0\n",
       " flow_conservation[(1, 1, 1),1] : -x[((1, 1, 1), (1, 1, 4)),1] + x[((0, 0, 0), (1, 1, 1)),1] = 0                                                                                                                                                                                                                                                                                                                                                                                                                                                                                                                                                                                                                                                                                                                                                                                                                                                                             flow_conservation[(1, 1, 1),10] : -x[((1, 1, 1), (1, 1, 4)),10] + x[((0, 0, 0), (1, 1, 1)),10] = 0\n",
       " flow_conservation[(1, 1, 2),1] : -x[((1, 1, 2), (1, 1, 3)),1] + x[((0, 0, 0), (1, 1, 2)),1] - x[((1, 1, 2), (1, 1, 4)),1] + x[((1, 1, 4), (1, 1, 2)),1] = 0                                                                                                                                                                                                                                                                                                                                                                                                                                                                                                                                                                                                                                                                                                                                                                                                                 flow_conservation[(1, 1, 2),10] : -x[((1, 1, 2), (1, 1, 3)),10] + x[((0, 0, 0), (1, 1, 2)),10] - x[((1, 1, 2), (1, 1, 4)),10] + x[((1, 1, 4), (1, 1, 2)),10] = 0\n",
       " flow_conservation[(1, 1, 3),1] : x[((1, 1, 2), (1, 1, 3)),1] - x[((1, 1, 3), (2, 3, 1)),1] - x[((1, 1, 3), (1, 2, 3)),1] - x[((1, 1, 3), (5, 3, 1)),1] - x[((1, 1, 3), (1, 2, 1)),1] - x[((1, 1, 3), (0, 0, 0)),1] - x[((1, 1, 3), (4, 4, 1)),1] - x[((1, 1, 3), (5, 3, 2)),1] - x[((1, 1, 3), (3, 2, 4)),1] = 0                                                                                                                                                                                                                                                                                                                                                                                                                                                                                                                                                                                                                                                            flow_conservation[(1, 1, 3),10] : x[((1, 1, 2), (1, 1, 3)),10] - x[((1, 1, 3), (2, 3, 1)),10] - x[((1, 1, 3), (1, 2, 3)),10] - x[((1, 1, 3), (5, 3, 1)),10] - x[((1, 1, 3), (1, 2, 1)),10] - x[((1, 1, 3), (0, 0, 0)),10] - x[((1, 1, 3), (4, 4, 1)),10] - x[((1, 1, 3), (5, 3, 2)),10] - x[((1, 1, 3), (3, 2, 4)),10] = 0\n",
       " flow_conservation[(1, 1, 4),1] : -x[((1, 1, 4), (2, 3, 1)),1] - x[((1, 1, 4), (1, 2, 3)),1] + x[((1, 1, 2), (1, 1, 4)),1] - x[((1, 1, 4), (1, 1, 2)),1] + x[((1, 1, 1), (1, 1, 4)),1] - x[((1, 1, 4), (0, 0, 0)),1] - x[((1, 1, 4), (4, 4, 1)),1] - x[((1, 1, 4), (3, 2, 4)),1] = 0                                                                                                                                                                                                                                                                                                                                                                                                                                                                                                                                                                                                                                                                                         flow_conservation[(1, 1, 4),10] : -x[((1, 1, 4), (2, 3, 1)),10] - x[((1, 1, 4), (1, 2, 3)),10] + x[((1, 1, 2), (1, 1, 4)),10] - x[((1, 1, 4), (1, 1, 2)),10] + x[((1, 1, 1), (1, 1, 4)),10] - x[((1, 1, 4), (0, 0, 0)),10] - x[((1, 1, 4), (4, 4, 1)),10] - x[((1, 1, 4), (3, 2, 4)),10] = 0\n",
       " flow_conservation[(1, 2, 1),1] : x[((0, 0, 0), (1, 2, 1)),1] + x[((1, 1, 3), (1, 2, 1)),1] - x[((1, 2, 1), (1, 2, 3)),1] = 0                                                                                                                                                                                                                                                                                                                                                                                                                                                                                                                                                                                                                                                                                                                                                                                                                                             …  flow_conservation[(1, 2, 1),10] : x[((0, 0, 0), (1, 2, 1)),10] + x[((1, 1, 3), (1, 2, 1)),10] - x[((1, 2, 1), (1, 2, 3)),10] = 0\n",
       " flow_conservation[(1, 2, 3),1] : x[((0, 0, 0), (1, 2, 3)),1] + x[((1, 1, 4), (1, 2, 3)),1] + x[((2, 1, 2), (1, 2, 3)),1] + x[((1, 1, 3), (1, 2, 3)),1] - x[((1, 2, 3), (1, 2, 4)),1] + x[((1, 2, 1), (1, 2, 3)),1] - x[((1, 2, 3), (0, 0, 0)),1] = 0                                                                                                                                                                                                                                                                                                                                                                                                                                                                                                                                                                                                                                                                                                                        flow_conservation[(1, 2, 3),10] : x[((0, 0, 0), (1, 2, 3)),10] + x[((1, 1, 4), (1, 2, 3)),10] + x[((2, 1, 2), (1, 2, 3)),10] + x[((1, 1, 3), (1, 2, 3)),10] - x[((1, 2, 3), (1, 2, 4)),10] + x[((1, 2, 1), (1, 2, 3)),10] - x[((1, 2, 3), (0, 0, 0)),10] = 0\n",
       " flow_conservation[(1, 2, 4),1] : x[((1, 2, 3), (1, 2, 4)),1] - x[((1, 2, 4), (0, 0, 0)),1] = 0                                                                                                                                                                                                                                                                                                                                                                                                                                                                                                                                                                                                                                                                                                                                                                                                                                                                              flow_conservation[(1, 2, 4),10] : x[((1, 2, 3), (1, 2, 4)),10] - x[((1, 2, 4), (0, 0, 0)),10] = 0\n",
       " flow_conservation[(2, 1, 1),1] : -x[((2, 1, 1), (2, 1, 2)),1] + x[((0, 0, 0), (2, 1, 1)),1] = 0                                                                                                                                                                                                                                                                                                                                                                                                                                                                                                                                                                                                                                                                                                                                                                                                                                                                             flow_conservation[(2, 1, 1),10] : -x[((2, 1, 1), (2, 1, 2)),10] + x[((0, 0, 0), (2, 1, 1)),10] = 0\n",
       " flow_conservation[(2, 1, 2),1] : x[((2, 1, 1), (2, 1, 2)),1] - x[((2, 1, 2), (2, 3, 1)),1] - x[((2, 1, 2), (1, 2, 3)),1] - x[((2, 1, 2), (5, 3, 1)),1] - x[((2, 1, 2), (0, 0, 0)),1] - x[((2, 1, 2), (4, 4, 1)),1] - x[((2, 1, 2), (5, 3, 2)),1] - x[((2, 1, 2), (3, 2, 4)),1] = 0                                                                                                                                                                                                                                                                                                                                                                                                                                                                                                                                                                                                                                                                                          flow_conservation[(2, 1, 2),10] : x[((2, 1, 1), (2, 1, 2)),10] - x[((2, 1, 2), (2, 3, 1)),10] - x[((2, 1, 2), (1, 2, 3)),10] - x[((2, 1, 2), (5, 3, 1)),10] - x[((2, 1, 2), (0, 0, 0)),10] - x[((2, 1, 2), (4, 4, 1)),10] - x[((2, 1, 2), (5, 3, 2)),10] - x[((2, 1, 2), (3, 2, 4)),10] = 0\n",
       " ⋮                                                                                                                                                                                                                                                                                                                                                                                                                                                                                                                                                                                                                                                                                                                                                                                                                                                                                                                                                                        ⋱  \n",
       " flow_conservation[(4, 2, 2),1] : -x[((4, 2, 2), (5, 3, 1)),1] + x[((4, 2, 1), (4, 2, 2)),1] - x[((4, 2, 2), (0, 0, 0)),1] - x[((4, 2, 2), (4, 4, 1)),1] - x[((4, 2, 2), (5, 3, 2)),1] = 0                                                                                                                                                                                                                                                                                                                                                                                                                                                                                                                                                                                                                                                                                                                                                                                   flow_conservation[(4, 2, 2),10] : -x[((4, 2, 2), (5, 3, 1)),10] + x[((4, 2, 1), (4, 2, 2)),10] - x[((4, 2, 2), (0, 0, 0)),10] - x[((4, 2, 2), (4, 4, 1)),10] - x[((4, 2, 2), (5, 3, 2)),10] = 0\n",
       " flow_conservation[(4, 4, 1),1] : -x[((4, 4, 1), (4, 4, 2)),1] + x[((3, 2, 2), (4, 4, 1)),1] + x[((4, 2, 2), (4, 4, 1)),1] + x[((0, 0, 0), (4, 4, 1)),1] + x[((1, 1, 4), (4, 4, 1)),1] + x[((2, 1, 2), (4, 4, 1)),1] + x[((1, 1, 3), (4, 4, 1)),1] = 0                                                                                                                                                                                                                                                                                                                                                                                                                                                                                                                                                                                                                                                                                                                       flow_conservation[(4, 4, 1),10] : -x[((4, 4, 1), (4, 4, 2)),10] + x[((3, 2, 2), (4, 4, 1)),10] + x[((4, 2, 2), (4, 4, 1)),10] + x[((0, 0, 0), (4, 4, 1)),10] + x[((1, 1, 4), (4, 4, 1)),10] + x[((2, 1, 2), (4, 4, 1)),10] + x[((1, 1, 3), (4, 4, 1)),10] = 0\n",
       " flow_conservation[(4, 4, 2),1] : x[((4, 4, 1), (4, 4, 2)),1] - x[((4, 4, 2), (0, 0, 0)),1] = 0                                                                                                                                                                                                                                                                                                                                                                                                                                                                                                                                                                                                                                                                                                                                                                                                                                                                              flow_conservation[(4, 4, 2),10] : x[((4, 4, 1), (4, 4, 2)),10] - x[((4, 4, 2), (0, 0, 0)),10] = 0\n",
       " flow_conservation[(5, 1, 3),1] : x[((0, 0, 0), (5, 1, 3)),1] - x[((5, 1, 3), (5, 1, 5)),1] = 0                                                                                                                                                                                                                                                                                                                                                                                                                                                                                                                                                                                                                                                                                                                                                                                                                                                                              flow_conservation[(5, 1, 3),10] : x[((0, 0, 0), (5, 1, 3)),10] - x[((5, 1, 3), (5, 1, 5)),10] = 0\n",
       " flow_conservation[(5, 1, 5),1] : -x[((5, 1, 5), (0, 0, 0)),1] + x[((5, 1, 3), (5, 1, 5)),1] = 0                                                                                                                                                                                                                                                                                                                                                                                                                                                                                                                                                                                                                                                                                                                                                                                                                                                                          …  flow_conservation[(5, 1, 5),10] : -x[((5, 1, 5), (0, 0, 0)),10] + x[((5, 1, 3), (5, 1, 5)),10] = 0\n",
       " flow_conservation[(5, 3, 1),1] : -x[((5, 3, 1), (5, 3, 4)),1] + x[((4, 2, 2), (5, 3, 1)),1] + x[((0, 0, 0), (5, 3, 1)),1] + x[((2, 1, 2), (5, 3, 1)),1] + x[((1, 1, 3), (5, 3, 1)),1] = 0                                                                                                                                                                                                                                                                                                                                                                                                                                                                                                                                                                                                                                                                                                                                                                                   flow_conservation[(5, 3, 1),10] : -x[((5, 3, 1), (5, 3, 4)),10] + x[((4, 2, 2), (5, 3, 1)),10] + x[((0, 0, 0), (5, 3, 1)),10] + x[((2, 1, 2), (5, 3, 1)),10] + x[((1, 1, 3), (5, 3, 1)),10] = 0\n",
       " flow_conservation[(5, 3, 2),1] : -x[((5, 3, 2), (5, 3, 3)),1] + x[((4, 2, 2), (5, 3, 2)),1] + x[((0, 0, 0), (5, 3, 2)),1] - x[((5, 3, 2), (5, 3, 4)),1] + x[((2, 1, 2), (5, 3, 2)),1] + x[((5, 3, 4), (5, 3, 2)),1] + x[((1, 1, 3), (5, 3, 2)),1] = 0                                                                                                                                                                                                                                                                                                                                                                                                                                                                                                                                                                                                                                                                                                                       flow_conservation[(5, 3, 2),10] : -x[((5, 3, 2), (5, 3, 3)),10] + x[((4, 2, 2), (5, 3, 2)),10] + x[((0, 0, 0), (5, 3, 2)),10] - x[((5, 3, 2), (5, 3, 4)),10] + x[((2, 1, 2), (5, 3, 2)),10] + x[((5, 3, 4), (5, 3, 2)),10] + x[((1, 1, 3), (5, 3, 2)),10] = 0\n",
       " flow_conservation[(5, 3, 3),1] : x[((5, 3, 2), (5, 3, 3)),1] - x[((5, 3, 3), (0, 0, 0)),1] = 0                                                                                                                                                                                                                                                                                                                                                                                                                                                                                                                                                                                                                                                                                                                                                                                                                                                                              flow_conservation[(5, 3, 3),10] : x[((5, 3, 2), (5, 3, 3)),10] - x[((5, 3, 3), (0, 0, 0)),10] = 0\n",
       " flow_conservation[(5, 3, 4),1] : x[((5, 3, 1), (5, 3, 4)),1] - x[((5, 3, 4), (0, 0, 0)),1] + x[((5, 3, 2), (5, 3, 4)),1] - x[((5, 3, 4), (5, 3, 2)),1] = 0                                                                                                                                                                                                                                                                                                                                                                                                                                                                                                                                                                                                                                                                                                                                                                                                                  flow_conservation[(5, 3, 4),10] : x[((5, 3, 1), (5, 3, 4)),10] - x[((5, 3, 4), (0, 0, 0)),10] + x[((5, 3, 2), (5, 3, 4)),10] - x[((5, 3, 4), (5, 3, 2)),10] = 0"
      ]
     },
     "metadata": {},
     "output_type": "display_data"
    }
   ],
   "source": [
    "@constraint(model, \n",
    "    flow_conservation[node in V_set, bus in unique(busses.bus_id)],\n",
    "    sum(x[connection,bus] for connection in A_set if connection[2] == node) - \n",
    "    sum(x[connection,bus] for connection in A_set if connection[1] == node) == 0\n",
    ")\n"
   ]
  },
  {
   "cell_type": "markdown",
   "metadata": {},
   "source": [
    "### All customer trips are served"
   ]
  },
  {
   "cell_type": "code",
   "execution_count": 30,
   "metadata": {},
   "outputs": [
    {
     "data": {
      "text/plain": [
       "1-dimensional DenseAxisArray{ConstraintRef{Model, MathOptInterface.ConstraintIndex{MathOptInterface.ScalarAffineFunction{Float64}, MathOptInterface.EqualTo{Float64}}, ScalarShape},1,...} with index sets:\n",
       "    Dimension 1, [((1, 1, 1), (1, 1, 4)), ((1, 1, 2), (1, 1, 3)), ((1, 1, 2), (1, 1, 4)), ((1, 2, 3), (1, 2, 4)), ((1, 2, 1), (1, 2, 3)), ((2, 1, 1), (2, 1, 2)), ((2, 3, 1), (2, 3, 3)), ((3, 1, 1), (3, 1, 6)), ((3, 1, 2), (3, 1, 5)), ((3, 2, 1), (3, 2, 2)), ((3, 2, 4), (3, 2, 6)), ((4, 2, 1), (4, 2, 2)), ((4, 4, 1), (4, 4, 2)), ((5, 1, 3), (5, 1, 5)), ((5, 3, 2), (5, 3, 4)), ((5, 3, 2), (5, 3, 3)), ((5, 3, 1), (5, 3, 4))]\n",
       "And data, a 17-element Vector{ConstraintRef{Model, MathOptInterface.ConstraintIndex{MathOptInterface.ScalarAffineFunction{Float64}, MathOptInterface.EqualTo{Float64}}, ScalarShape}}:\n",
       " x[((1, 1, 1), (1, 1, 4)),1] + x[((1, 1, 1), (1, 1, 4)),2] + x[((1, 1, 1), (1, 1, 4)),3] + x[((1, 1, 1), (1, 1, 4)),4] + x[((1, 1, 1), (1, 1, 4)),5] + x[((1, 1, 1), (1, 1, 4)),6] + x[((1, 1, 1), (1, 1, 4)),7] + x[((1, 1, 1), (1, 1, 4)),8] + x[((1, 1, 1), (1, 1, 4)),9] + x[((1, 1, 1), (1, 1, 4)),10] = 1\n",
       " x[((1, 1, 2), (1, 1, 3)),1] + x[((1, 1, 2), (1, 1, 3)),2] + x[((1, 1, 2), (1, 1, 3)),3] + x[((1, 1, 2), (1, 1, 3)),4] + x[((1, 1, 2), (1, 1, 3)),5] + x[((1, 1, 2), (1, 1, 3)),6] + x[((1, 1, 2), (1, 1, 3)),7] + x[((1, 1, 2), (1, 1, 3)),8] + x[((1, 1, 2), (1, 1, 3)),9] + x[((1, 1, 2), (1, 1, 3)),10] = 1\n",
       " x[((1, 1, 2), (1, 1, 4)),1] + x[((1, 1, 2), (1, 1, 4)),2] + x[((1, 1, 2), (1, 1, 4)),3] + x[((1, 1, 2), (1, 1, 4)),4] + x[((1, 1, 2), (1, 1, 4)),5] + x[((1, 1, 2), (1, 1, 4)),6] + x[((1, 1, 2), (1, 1, 4)),7] + x[((1, 1, 2), (1, 1, 4)),8] + x[((1, 1, 2), (1, 1, 4)),9] + x[((1, 1, 2), (1, 1, 4)),10] = 1\n",
       " x[((1, 2, 3), (1, 2, 4)),1] + x[((1, 2, 3), (1, 2, 4)),2] + x[((1, 2, 3), (1, 2, 4)),3] + x[((1, 2, 3), (1, 2, 4)),4] + x[((1, 2, 3), (1, 2, 4)),5] + x[((1, 2, 3), (1, 2, 4)),6] + x[((1, 2, 3), (1, 2, 4)),7] + x[((1, 2, 3), (1, 2, 4)),8] + x[((1, 2, 3), (1, 2, 4)),9] + x[((1, 2, 3), (1, 2, 4)),10] = 1\n",
       " x[((1, 2, 1), (1, 2, 3)),1] + x[((1, 2, 1), (1, 2, 3)),2] + x[((1, 2, 1), (1, 2, 3)),3] + x[((1, 2, 1), (1, 2, 3)),4] + x[((1, 2, 1), (1, 2, 3)),5] + x[((1, 2, 1), (1, 2, 3)),6] + x[((1, 2, 1), (1, 2, 3)),7] + x[((1, 2, 1), (1, 2, 3)),8] + x[((1, 2, 1), (1, 2, 3)),9] + x[((1, 2, 1), (1, 2, 3)),10] = 1\n",
       " x[((2, 1, 1), (2, 1, 2)),1] + x[((2, 1, 1), (2, 1, 2)),2] + x[((2, 1, 1), (2, 1, 2)),3] + x[((2, 1, 1), (2, 1, 2)),4] + x[((2, 1, 1), (2, 1, 2)),5] + x[((2, 1, 1), (2, 1, 2)),6] + x[((2, 1, 1), (2, 1, 2)),7] + x[((2, 1, 1), (2, 1, 2)),8] + x[((2, 1, 1), (2, 1, 2)),9] + x[((2, 1, 1), (2, 1, 2)),10] = 1\n",
       " x[((2, 3, 1), (2, 3, 3)),1] + x[((2, 3, 1), (2, 3, 3)),2] + x[((2, 3, 1), (2, 3, 3)),3] + x[((2, 3, 1), (2, 3, 3)),4] + x[((2, 3, 1), (2, 3, 3)),5] + x[((2, 3, 1), (2, 3, 3)),6] + x[((2, 3, 1), (2, 3, 3)),7] + x[((2, 3, 1), (2, 3, 3)),8] + x[((2, 3, 1), (2, 3, 3)),9] + x[((2, 3, 1), (2, 3, 3)),10] = 1\n",
       " x[((3, 1, 1), (3, 1, 6)),1] + x[((3, 1, 1), (3, 1, 6)),2] + x[((3, 1, 1), (3, 1, 6)),3] + x[((3, 1, 1), (3, 1, 6)),4] + x[((3, 1, 1), (3, 1, 6)),5] + x[((3, 1, 1), (3, 1, 6)),6] + x[((3, 1, 1), (3, 1, 6)),7] + x[((3, 1, 1), (3, 1, 6)),8] + x[((3, 1, 1), (3, 1, 6)),9] + x[((3, 1, 1), (3, 1, 6)),10] = 1\n",
       " x[((3, 1, 2), (3, 1, 5)),1] + x[((3, 1, 2), (3, 1, 5)),2] + x[((3, 1, 2), (3, 1, 5)),3] + x[((3, 1, 2), (3, 1, 5)),4] + x[((3, 1, 2), (3, 1, 5)),5] + x[((3, 1, 2), (3, 1, 5)),6] + x[((3, 1, 2), (3, 1, 5)),7] + x[((3, 1, 2), (3, 1, 5)),8] + x[((3, 1, 2), (3, 1, 5)),9] + x[((3, 1, 2), (3, 1, 5)),10] = 1\n",
       " x[((3, 2, 1), (3, 2, 2)),1] + x[((3, 2, 1), (3, 2, 2)),2] + x[((3, 2, 1), (3, 2, 2)),3] + x[((3, 2, 1), (3, 2, 2)),4] + x[((3, 2, 1), (3, 2, 2)),5] + x[((3, 2, 1), (3, 2, 2)),6] + x[((3, 2, 1), (3, 2, 2)),7] + x[((3, 2, 1), (3, 2, 2)),8] + x[((3, 2, 1), (3, 2, 2)),9] + x[((3, 2, 1), (3, 2, 2)),10] = 1\n",
       " x[((3, 2, 4), (3, 2, 6)),1] + x[((3, 2, 4), (3, 2, 6)),2] + x[((3, 2, 4), (3, 2, 6)),3] + x[((3, 2, 4), (3, 2, 6)),4] + x[((3, 2, 4), (3, 2, 6)),5] + x[((3, 2, 4), (3, 2, 6)),6] + x[((3, 2, 4), (3, 2, 6)),7] + x[((3, 2, 4), (3, 2, 6)),8] + x[((3, 2, 4), (3, 2, 6)),9] + x[((3, 2, 4), (3, 2, 6)),10] = 1\n",
       " x[((4, 2, 1), (4, 2, 2)),1] + x[((4, 2, 1), (4, 2, 2)),2] + x[((4, 2, 1), (4, 2, 2)),3] + x[((4, 2, 1), (4, 2, 2)),4] + x[((4, 2, 1), (4, 2, 2)),5] + x[((4, 2, 1), (4, 2, 2)),6] + x[((4, 2, 1), (4, 2, 2)),7] + x[((4, 2, 1), (4, 2, 2)),8] + x[((4, 2, 1), (4, 2, 2)),9] + x[((4, 2, 1), (4, 2, 2)),10] = 1\n",
       " x[((4, 4, 1), (4, 4, 2)),1] + x[((4, 4, 1), (4, 4, 2)),2] + x[((4, 4, 1), (4, 4, 2)),3] + x[((4, 4, 1), (4, 4, 2)),4] + x[((4, 4, 1), (4, 4, 2)),5] + x[((4, 4, 1), (4, 4, 2)),6] + x[((4, 4, 1), (4, 4, 2)),7] + x[((4, 4, 1), (4, 4, 2)),8] + x[((4, 4, 1), (4, 4, 2)),9] + x[((4, 4, 1), (4, 4, 2)),10] = 1\n",
       " x[((5, 1, 3), (5, 1, 5)),1] + x[((5, 1, 3), (5, 1, 5)),2] + x[((5, 1, 3), (5, 1, 5)),3] + x[((5, 1, 3), (5, 1, 5)),4] + x[((5, 1, 3), (5, 1, 5)),5] + x[((5, 1, 3), (5, 1, 5)),6] + x[((5, 1, 3), (5, 1, 5)),7] + x[((5, 1, 3), (5, 1, 5)),8] + x[((5, 1, 3), (5, 1, 5)),9] + x[((5, 1, 3), (5, 1, 5)),10] = 1\n",
       " x[((5, 3, 2), (5, 3, 4)),1] + x[((5, 3, 2), (5, 3, 4)),2] + x[((5, 3, 2), (5, 3, 4)),3] + x[((5, 3, 2), (5, 3, 4)),4] + x[((5, 3, 2), (5, 3, 4)),5] + x[((5, 3, 2), (5, 3, 4)),6] + x[((5, 3, 2), (5, 3, 4)),7] + x[((5, 3, 2), (5, 3, 4)),8] + x[((5, 3, 2), (5, 3, 4)),9] + x[((5, 3, 2), (5, 3, 4)),10] = 1\n",
       " x[((5, 3, 2), (5, 3, 3)),1] + x[((5, 3, 2), (5, 3, 3)),2] + x[((5, 3, 2), (5, 3, 3)),3] + x[((5, 3, 2), (5, 3, 3)),4] + x[((5, 3, 2), (5, 3, 3)),5] + x[((5, 3, 2), (5, 3, 3)),6] + x[((5, 3, 2), (5, 3, 3)),7] + x[((5, 3, 2), (5, 3, 3)),8] + x[((5, 3, 2), (5, 3, 3)),9] + x[((5, 3, 2), (5, 3, 3)),10] = 1\n",
       " x[((5, 3, 1), (5, 3, 4)),1] + x[((5, 3, 1), (5, 3, 4)),2] + x[((5, 3, 1), (5, 3, 4)),3] + x[((5, 3, 1), (5, 3, 4)),4] + x[((5, 3, 1), (5, 3, 4)),5] + x[((5, 3, 1), (5, 3, 4)),6] + x[((5, 3, 1), (5, 3, 4)),7] + x[((5, 3, 1), (5, 3, 4)),8] + x[((5, 3, 1), (5, 3, 4)),9] + x[((5, 3, 1), (5, 3, 4)),10] = 1"
      ]
     },
     "metadata": {},
     "output_type": "display_data"
    }
   ],
   "source": [
    "@constraint(model,[connection in customer_trips],\n",
    "    sum(x[connection,bus] for bus in unique(busses.bus_id)) == 1\n",
    ")\n",
    "#ich habe hier die erneute Prüfung nach dem positiven demand weggelassen, weil nur Verbindungen in A_set aufgenommen werden, die einen positiven demand haben"
   ]
  },
  {
   "cell_type": "markdown",
   "metadata": {},
   "source": [
    "### Each bus only once"
   ]
  },
  {
   "cell_type": "code",
   "execution_count": 31,
   "metadata": {},
   "outputs": [
    {
     "data": {
      "text/plain": [
       "1-dimensional DenseAxisArray{ConstraintRef{Model, MathOptInterface.ConstraintIndex{MathOptInterface.ScalarAffineFunction{Float64}, MathOptInterface.LessThan{Float64}}, ScalarShape},1,...} with index sets:\n",
       "    Dimension 1, [1, 2, 3, 4, 5, 6, 7, 8, 9, 10]\n",
       "And data, a 10-element Vector{ConstraintRef{Model, MathOptInterface.ConstraintIndex{MathOptInterface.ScalarAffineFunction{Float64}, MathOptInterface.LessThan{Float64}}, ScalarShape}}:\n",
       " bus_usage[1] : x[((0, 0, 0), (2, 3, 1)),1] + x[((0, 0, 0), (1, 2, 3)),1] + x[((0, 0, 0), (3, 1, 1)),1] + x[((0, 0, 0), (1, 1, 2)),1] + x[((0, 0, 0), (5, 3, 1)),1] + x[((0, 0, 0), (5, 1, 3)),1] + x[((0, 0, 0), (2, 1, 1)),1] + x[((0, 0, 0), (1, 2, 1)),1] + x[((0, 0, 0), (3, 1, 2)),1] + x[((0, 0, 0), (4, 4, 1)),1] + x[((0, 0, 0), (5, 3, 2)),1] + x[((0, 0, 0), (3, 2, 1)),1] + x[((0, 0, 0), (3, 2, 4)),1] + x[((0, 0, 0), (1, 1, 1)),1] + x[((0, 0, 0), (4, 2, 1)),1] ≤ 1\n",
       " bus_usage[2] : x[((0, 0, 0), (2, 3, 1)),2] + x[((0, 0, 0), (1, 2, 3)),2] + x[((0, 0, 0), (3, 1, 1)),2] + x[((0, 0, 0), (1, 1, 2)),2] + x[((0, 0, 0), (5, 3, 1)),2] + x[((0, 0, 0), (5, 1, 3)),2] + x[((0, 0, 0), (2, 1, 1)),2] + x[((0, 0, 0), (1, 2, 1)),2] + x[((0, 0, 0), (3, 1, 2)),2] + x[((0, 0, 0), (4, 4, 1)),2] + x[((0, 0, 0), (5, 3, 2)),2] + x[((0, 0, 0), (3, 2, 1)),2] + x[((0, 0, 0), (3, 2, 4)),2] + x[((0, 0, 0), (1, 1, 1)),2] + x[((0, 0, 0), (4, 2, 1)),2] ≤ 1\n",
       " bus_usage[3] : x[((0, 0, 0), (2, 3, 1)),3] + x[((0, 0, 0), (1, 2, 3)),3] + x[((0, 0, 0), (3, 1, 1)),3] + x[((0, 0, 0), (1, 1, 2)),3] + x[((0, 0, 0), (5, 3, 1)),3] + x[((0, 0, 0), (5, 1, 3)),3] + x[((0, 0, 0), (2, 1, 1)),3] + x[((0, 0, 0), (1, 2, 1)),3] + x[((0, 0, 0), (3, 1, 2)),3] + x[((0, 0, 0), (4, 4, 1)),3] + x[((0, 0, 0), (5, 3, 2)),3] + x[((0, 0, 0), (3, 2, 1)),3] + x[((0, 0, 0), (3, 2, 4)),3] + x[((0, 0, 0), (1, 1, 1)),3] + x[((0, 0, 0), (4, 2, 1)),3] ≤ 1\n",
       " bus_usage[4] : x[((0, 0, 0), (2, 3, 1)),4] + x[((0, 0, 0), (1, 2, 3)),4] + x[((0, 0, 0), (3, 1, 1)),4] + x[((0, 0, 0), (1, 1, 2)),4] + x[((0, 0, 0), (5, 3, 1)),4] + x[((0, 0, 0), (5, 1, 3)),4] + x[((0, 0, 0), (2, 1, 1)),4] + x[((0, 0, 0), (1, 2, 1)),4] + x[((0, 0, 0), (3, 1, 2)),4] + x[((0, 0, 0), (4, 4, 1)),4] + x[((0, 0, 0), (5, 3, 2)),4] + x[((0, 0, 0), (3, 2, 1)),4] + x[((0, 0, 0), (3, 2, 4)),4] + x[((0, 0, 0), (1, 1, 1)),4] + x[((0, 0, 0), (4, 2, 1)),4] ≤ 1\n",
       " bus_usage[5] : x[((0, 0, 0), (2, 3, 1)),5] + x[((0, 0, 0), (1, 2, 3)),5] + x[((0, 0, 0), (3, 1, 1)),5] + x[((0, 0, 0), (1, 1, 2)),5] + x[((0, 0, 0), (5, 3, 1)),5] + x[((0, 0, 0), (5, 1, 3)),5] + x[((0, 0, 0), (2, 1, 1)),5] + x[((0, 0, 0), (1, 2, 1)),5] + x[((0, 0, 0), (3, 1, 2)),5] + x[((0, 0, 0), (4, 4, 1)),5] + x[((0, 0, 0), (5, 3, 2)),5] + x[((0, 0, 0), (3, 2, 1)),5] + x[((0, 0, 0), (3, 2, 4)),5] + x[((0, 0, 0), (1, 1, 1)),5] + x[((0, 0, 0), (4, 2, 1)),5] ≤ 1\n",
       " bus_usage[6] : x[((0, 0, 0), (2, 3, 1)),6] + x[((0, 0, 0), (1, 2, 3)),6] + x[((0, 0, 0), (3, 1, 1)),6] + x[((0, 0, 0), (1, 1, 2)),6] + x[((0, 0, 0), (5, 3, 1)),6] + x[((0, 0, 0), (5, 1, 3)),6] + x[((0, 0, 0), (2, 1, 1)),6] + x[((0, 0, 0), (1, 2, 1)),6] + x[((0, 0, 0), (3, 1, 2)),6] + x[((0, 0, 0), (4, 4, 1)),6] + x[((0, 0, 0), (5, 3, 2)),6] + x[((0, 0, 0), (3, 2, 1)),6] + x[((0, 0, 0), (3, 2, 4)),6] + x[((0, 0, 0), (1, 1, 1)),6] + x[((0, 0, 0), (4, 2, 1)),6] ≤ 1\n",
       " bus_usage[7] : x[((0, 0, 0), (2, 3, 1)),7] + x[((0, 0, 0), (1, 2, 3)),7] + x[((0, 0, 0), (3, 1, 1)),7] + x[((0, 0, 0), (1, 1, 2)),7] + x[((0, 0, 0), (5, 3, 1)),7] + x[((0, 0, 0), (5, 1, 3)),7] + x[((0, 0, 0), (2, 1, 1)),7] + x[((0, 0, 0), (1, 2, 1)),7] + x[((0, 0, 0), (3, 1, 2)),7] + x[((0, 0, 0), (4, 4, 1)),7] + x[((0, 0, 0), (5, 3, 2)),7] + x[((0, 0, 0), (3, 2, 1)),7] + x[((0, 0, 0), (3, 2, 4)),7] + x[((0, 0, 0), (1, 1, 1)),7] + x[((0, 0, 0), (4, 2, 1)),7] ≤ 1\n",
       " bus_usage[8] : x[((0, 0, 0), (2, 3, 1)),8] + x[((0, 0, 0), (1, 2, 3)),8] + x[((0, 0, 0), (3, 1, 1)),8] + x[((0, 0, 0), (1, 1, 2)),8] + x[((0, 0, 0), (5, 3, 1)),8] + x[((0, 0, 0), (5, 1, 3)),8] + x[((0, 0, 0), (2, 1, 1)),8] + x[((0, 0, 0), (1, 2, 1)),8] + x[((0, 0, 0), (3, 1, 2)),8] + x[((0, 0, 0), (4, 4, 1)),8] + x[((0, 0, 0), (5, 3, 2)),8] + x[((0, 0, 0), (3, 2, 1)),8] + x[((0, 0, 0), (3, 2, 4)),8] + x[((0, 0, 0), (1, 1, 1)),8] + x[((0, 0, 0), (4, 2, 1)),8] ≤ 1\n",
       " bus_usage[9] : x[((0, 0, 0), (2, 3, 1)),9] + x[((0, 0, 0), (1, 2, 3)),9] + x[((0, 0, 0), (3, 1, 1)),9] + x[((0, 0, 0), (1, 1, 2)),9] + x[((0, 0, 0), (5, 3, 1)),9] + x[((0, 0, 0), (5, 1, 3)),9] + x[((0, 0, 0), (2, 1, 1)),9] + x[((0, 0, 0), (1, 2, 1)),9] + x[((0, 0, 0), (3, 1, 2)),9] + x[((0, 0, 0), (4, 4, 1)),9] + x[((0, 0, 0), (5, 3, 2)),9] + x[((0, 0, 0), (3, 2, 1)),9] + x[((0, 0, 0), (3, 2, 4)),9] + x[((0, 0, 0), (1, 1, 1)),9] + x[((0, 0, 0), (4, 2, 1)),9] ≤ 1\n",
       " bus_usage[10] : x[((0, 0, 0), (2, 3, 1)),10] + x[((0, 0, 0), (1, 2, 3)),10] + x[((0, 0, 0), (3, 1, 1)),10] + x[((0, 0, 0), (1, 1, 2)),10] + x[((0, 0, 0), (5, 3, 1)),10] + x[((0, 0, 0), (5, 1, 3)),10] + x[((0, 0, 0), (2, 1, 1)),10] + x[((0, 0, 0), (1, 2, 1)),10] + x[((0, 0, 0), (3, 1, 2)),10] + x[((0, 0, 0), (4, 4, 1)),10] + x[((0, 0, 0), (5, 3, 2)),10] + x[((0, 0, 0), (3, 2, 1)),10] + x[((0, 0, 0), (3, 2, 4)),10] + x[((0, 0, 0), (1, 1, 1)),10] + x[((0, 0, 0), (4, 2, 1)),10] ≤ 1"
      ]
     },
     "metadata": {},
     "output_type": "display_data"
    }
   ],
   "source": [
    "@constraint(model, bus_usage[bus in unique(busses.bus_id)], sum(x[connection, bus] for connection in A_set if connection[1] == (0, 0, 0))<=1)"
   ]
  },
  {
   "cell_type": "markdown",
   "metadata": {},
   "source": [
    "### Backard connection with line change"
   ]
  },
  {
   "cell_type": "code",
   "execution_count": 32,
   "metadata": {},
   "outputs": [
    {
     "name": "stdout",
     "output_type": "stream",
     "text": [
      "        Constraint added for bus 1: x[((3, 1, 5), (0, 0, 0)), 1] <= 1 - x[((3, 1, 1), (3, 1, 6)), 1]\n",
      "        Constraint added for bus 1: x[((3, 1, 5), (3, 2, 4)), 1] <= 1 - x[((3, 1, 1), (3, 1, 6)), 1]\n",
      "        Constraint added for bus 1: x[((1, 1, 3), (5, 3, 1)), 1] <= 1 - x[((1, 1, 2), (1, 1, 4)), 1]\n",
      "        Constraint added for bus 1: x[((1, 1, 3), (5, 3, 1)), 1] <= 1 - x[((1, 1, 1), (1, 1, 4)), 1]\n",
      "        Constraint added for bus 1: x[((1, 1, 3), (0, 0, 0)), 1] <= 1 - x[((1, 1, 2), (1, 1, 4)), 1]\n",
      "        Constraint added for bus 1: x[((1, 1, 3), (0, 0, 0)), 1] <= 1 - x[((1, 1, 1), (1, 1, 4)), 1]\n",
      "        Constraint added for bus 1: x[((5, 3, 3), (0, 0, 0)), 1] <= 1 - x[((5, 3, 1), (5, 3, 4)), 1]\n",
      "        Constraint added for bus 1: x[((5, 3, 3), (0, 0, 0)), 1] <= 1 - x[((5, 3, 2), (5, 3, 4)), 1]\n",
      "        Constraint added for bus 1: x[((1, 2, 3), (0, 0, 0)), 1] <= 1 - x[((1, 2, 3), (1, 2, 4)), 1]\n",
      "        Constraint added for bus 1: x[((1, 1, 3), (3, 2, 4)), 1] <= 1 - x[((1, 1, 2), (1, 1, 4)), 1]\n",
      "        Constraint added for bus 1: x[((1, 1, 3), (3, 2, 4)), 1] <= 1 - x[((1, 1, 1), (1, 1, 4)), 1]\n",
      "        Constraint added for bus 2: x[((3, 1, 5), (0, 0, 0)), 2] <= 1 - x[((3, 1, 1), (3, 1, 6)), 2]\n",
      "        Constraint added for bus 2: x[((3, 1, 5), (3, 2, 4)), 2] <= 1 - x[((3, 1, 1), (3, 1, 6)), 2]\n",
      "        Constraint added for bus 2: x[((1, 1, 3), (5, 3, 1)), 2] <= 1 - x[((1, 1, 2), (1, 1, 4)), 2]\n",
      "        Constraint added for bus 2: x[((1, 1, 3), (5, 3, 1)), 2] <= 1 - x[((1, 1, 1), (1, 1, 4)), 2]\n",
      "        Constraint added for bus 2: x[((1, 1, 3), (0, 0, 0)), 2] <= 1 - x[((1, 1, 2), (1, 1, 4)), 2]\n",
      "        Constraint added for bus 2: x[((1, 1, 3), (0, 0, 0)), 2] <= 1 - x[((1, 1, 1), (1, 1, 4)), 2]\n",
      "        Constraint added for bus 2: x[((5, 3, 3), (0, 0, 0)), 2] <= 1 - x[((5, 3, 1), (5, 3, 4)), 2]\n",
      "        Constraint added for bus 2: x[((5, 3, 3), (0, 0, 0)), 2] <= 1 - x[((5, 3, 2), (5, 3, 4)), 2]\n",
      "        Constraint added for bus 2: x[((1, 2, 3), (0, 0, 0)), 2] <= 1 - x[((1, 2, 3), (1, 2, 4)), 2]\n",
      "        Constraint added for bus 2: x[((1, 1, 3), (3, 2, 4)), 2] <= 1 - x[((1, 1, 2), (1, 1, 4)), 2]\n",
      "        Constraint added for bus 2: x[((1, 1, 3), (3, 2, 4)), 2] <= 1 - x[((1, 1, 1), (1, 1, 4)), 2]\n",
      "        Constraint added for bus 3: x[((3, 1, 5), (0, 0, 0)), 3] <= 1 - x[((3, 1, 1), (3, 1, 6)), 3]\n",
      "        Constraint added for bus 3: x[((3, 1, 5), (3, 2, 4)), 3] <= 1 - x[((3, 1, 1), (3, 1, 6)), 3]\n",
      "        Constraint added for bus 3: x[((1, 1, 3), (5, 3, 1)), 3] <= 1 - x[((1, 1, 2), (1, 1, 4)), 3]\n",
      "        Constraint added for bus 3: x[((1, 1, 3), (5, 3, 1)), 3] <= 1 - x[((1, 1, 1), (1, 1, 4)), 3]\n",
      "        Constraint added for bus 3: x[((1, 1, 3), (0, 0, 0)), 3] <= 1 - x[((1, 1, 2), (1, 1, 4)), 3]\n",
      "        Constraint added for bus 3: x[((1, 1, 3), (0, 0, 0)), 3] <= 1 - x[((1, 1, 1), (1, 1, 4)), 3]\n",
      "        Constraint added for bus 3: x[((5, 3, 3), (0, 0, 0)), 3] <= 1 - x[((5, 3, 1), (5, 3, 4)), 3]\n",
      "        Constraint added for bus 3: x[((5, 3, 3), (0, 0, 0)), 3] <= 1 - x[((5, 3, 2), (5, 3, 4)), 3]\n",
      "        Constraint added for bus 3: x[((1, 2, 3), (0, 0, 0)), 3] <= 1 - x[((1, 2, 3), (1, 2, 4)), 3]\n",
      "        Constraint added for bus 3: x[((1, 1, 3), (3, 2, 4)), 3] <= 1 - x[((1, 1, 2), (1, 1, 4)), 3]\n",
      "        Constraint added for bus 3: x[((1, 1, 3), (3, 2, 4)), 3] <= 1 - x[((1, 1, 1), (1, 1, 4)), 3]\n",
      "        Constraint added for bus 4: x[((3, 1, 5), (0, 0, 0)), 4] <= 1 - x[((3, 1, 1), (3, 1, 6)), 4]\n",
      "        Constraint added for bus 4: x[((3, 1, 5), (3, 2, 4)), 4] <= 1 - x[((3, 1, 1), (3, 1, 6)), 4]\n",
      "        Constraint added for bus 4: x[((1, 1, 3), (5, 3, 1)), 4] <= 1 - x[((1, 1, 2), (1, 1, 4)), 4]\n",
      "        Constraint added for bus 4: x[((1, 1, 3), (5, 3, 1)), 4] <= 1 - x[((1, 1, 1), (1, 1, 4)), 4]\n",
      "        Constraint added for bus 4: x[((1, 1, 3), (0, 0, 0)), 4] <= 1 - x[((1, 1, 2), (1, 1, 4)), 4]\n",
      "        Constraint added for bus 4: x[((1, 1, 3), (0, 0, 0)), 4] <= 1 - x[((1, 1, 1), (1, 1, 4)), 4]\n",
      "        Constraint added for bus 4: x[((5, 3, 3), (0, 0, 0)), 4] <= 1 - x[((5, 3, 1), (5, 3, 4)), 4]\n",
      "        Constraint added for bus 4: x[((5, 3, 3), (0, 0, 0)), 4] <= 1 - x[((5, 3, 2), (5, 3, 4)), 4]\n",
      "        Constraint added for bus 4: x[((1, 2, 3), (0, 0, 0)), 4] <= 1 - x[((1, 2, 3), (1, 2, 4)), 4]\n",
      "        Constraint added for bus 4: x[((1, 1, 3), (3, 2, 4)), 4] <= 1 - x[((1, 1, 2), (1, 1, 4)), 4]\n",
      "        Constraint added for bus 4: x[((1, 1, 3), (3, 2, 4)), 4] <= 1 - x[((1, 1, 1), (1, 1, 4)), 4]\n",
      "        Constraint added for bus 5: x[((3, 1, 5), (0, 0, 0)), 5] <= 1 - x[((3, 1, 1), (3, 1, 6)), 5]\n",
      "        Constraint added for bus 5: x[((3, 1, 5), (3, 2, 4)), 5] <= 1 - x[((3, 1, 1), (3, 1, 6)), 5]\n",
      "        Constraint added for bus 5: x[((1, 1, 3), (5, 3, 1)), 5] <= 1 - x[((1, 1, 2), (1, 1, 4)), 5]\n",
      "        Constraint added for bus 5: x[((1, 1, 3), (5, 3, 1)), 5] <= 1 - x[((1, 1, 1), (1, 1, 4)), 5]\n",
      "        Constraint added for bus 5: x[((1, 1, 3), (0, 0, 0)), 5] <= 1 - x[((1, 1, 2), (1, 1, 4)), 5]\n",
      "        Constraint added for bus 5: x[((1, 1, 3), (0, 0, 0)), 5] <= 1 - x[((1, 1, 1), (1, 1, 4)), 5]\n",
      "        Constraint added for bus 5: x[((5, 3, 3), (0, 0, 0)), 5] <= 1 - x[((5, 3, 1), (5, 3, 4)), 5]\n",
      "        Constraint added for bus 5: x[((5, 3, 3), (0, 0, 0)), 5] <= 1 - x[((5, 3, 2), (5, 3, 4)), 5]\n",
      "        Constraint added for bus 5: x[((1, 2, 3), (0, 0, 0)), 5] <= 1 - x[((1, 2, 3), (1, 2, 4)), 5]\n",
      "        Constraint added for bus 5: x[((1, 1, 3), (3, 2, 4)), 5] <= 1 - x[((1, 1, 2), (1, 1, 4)), 5]\n",
      "        Constraint added for bus 5: x[((1, 1, 3), (3, 2, 4)), 5] <= 1 - x[((1, 1, 1), (1, 1, 4)), 5]\n",
      "        Constraint added for bus 6: x[((3, 1, 5), (0, 0, 0)), 6] <= 1 - x[((3, 1, 1), (3, 1, 6)), 6]\n",
      "        Constraint added for bus 6: x[((3, 1, 5), (3, 2, 4)), 6] <= 1 - x[((3, 1, 1), (3, 1, 6)), 6]\n",
      "        Constraint added for bus 6: x[((1, 1, 3), (5, 3, 1)), 6] <= 1 - x[((1, 1, 2), (1, 1, 4)), 6]\n",
      "        Constraint added for bus 6: x[((1, 1, 3), (5, 3, 1)), 6] <= 1 - x[((1, 1, 1), (1, 1, 4)), 6]\n",
      "        Constraint added for bus 6: x[((1, 1, 3), (0, 0, 0)), 6] <= 1 - x[((1, 1, 2), (1, 1, 4)), 6]\n",
      "        Constraint added for bus 6: x[((1, 1, 3), (0, 0, 0)), 6] <= 1 - x[((1, 1, 1), (1, 1, 4)), 6]\n",
      "        Constraint added for bus 6: x[((5, 3, 3), (0, 0, 0)), 6] <= 1 - x[((5, 3, 1), (5, 3, 4)), 6]\n",
      "        Constraint added for bus 6: x[((5, 3, 3), (0, 0, 0)), 6] <= 1 - x[((5, 3, 2), (5, 3, 4)), 6]\n",
      "        Constraint added for bus 6: x[((1, 2, 3), (0, 0, 0)), 6] <= 1 - x[((1, 2, 3), (1, 2, 4)), 6]\n",
      "        Constraint added for bus 6: x[((1, 1, 3), (3, 2, 4)), 6] <= 1 - x[((1, 1, 2), (1, 1, 4)), 6]\n",
      "        Constraint added for bus 6: x[((1, 1, 3), (3, 2, 4)), 6] <= 1 - x[((1, 1, 1), (1, 1, 4)), 6]\n",
      "        Constraint added for bus 7: x[((3, 1, 5), (0, 0, 0)), 7] <= 1 - x[((3, 1, 1), (3, 1, 6)), 7]\n",
      "        Constraint added for bus 7: x[((3, 1, 5), (3, 2, 4)), 7] <= 1 - x[((3, 1, 1), (3, 1, 6)), 7]\n",
      "        Constraint added for bus 7: x[((1, 1, 3), (5, 3, 1)), 7] <= 1 - x[((1, 1, 2), (1, 1, 4)), 7]\n",
      "        Constraint added for bus 7: x[((1, 1, 3), (5, 3, 1)), 7] <= 1 - x[((1, 1, 1), (1, 1, 4)), 7]\n",
      "        Constraint added for bus 7: x[((1, 1, 3), (0, 0, 0)), 7] <= 1 - x[((1, 1, 2), (1, 1, 4)), 7]\n",
      "        Constraint added for bus 7: x[((1, 1, 3), (0, 0, 0)), 7] <= 1 - x[((1, 1, 1), (1, 1, 4)), 7]\n",
      "        Constraint added for bus 7: x[((5, 3, 3), (0, 0, 0)), 7] <= 1 - x[((5, 3, 1), (5, 3, 4)), 7]\n",
      "        Constraint added for bus 7: x[((5, 3, 3), (0, 0, 0)), 7] <= 1 - x[((5, 3, 2), (5, 3, 4)), 7]\n",
      "        Constraint added for bus 7: x[((1, 2, 3), (0, 0, 0)), 7] <= 1 - x[((1, 2, 3), (1, 2, 4)), 7]\n",
      "        Constraint added for bus 7: x[((1, 1, 3), (3, 2, 4)), 7] <= 1 - x[((1, 1, 2), (1, 1, 4)), 7]\n",
      "        Constraint added for bus 7: x[((1, 1, 3), (3, 2, 4)), 7] <= 1 - x[((1, 1, 1), (1, 1, 4)), 7]\n",
      "        Constraint added for bus 8: x[((3, 1, 5), (0, 0, 0)), 8] <= 1 - x[((3, 1, 1), (3, 1, 6)), 8]\n",
      "        Constraint added for bus 8: x[((3, 1, 5), (3, 2, 4)), 8] <= 1 - x[((3, 1, 1), (3, 1, 6)), 8]\n",
      "        Constraint added for bus 8: x[((1, 1, 3), (5, 3, 1)), 8] <= 1 - x[((1, 1, 2), (1, 1, 4)), 8]\n",
      "        Constraint added for bus 8: x[((1, 1, 3), (5, 3, 1)), 8] <= 1 - x[((1, 1, 1), (1, 1, 4)), 8]\n",
      "        Constraint added for bus 8: x[((1, 1, 3), (0, 0, 0)), 8] <= 1 - x[((1, 1, 2), (1, 1, 4)), 8]\n",
      "        Constraint added for bus 8: x[((1, 1, 3), (0, 0, 0)), 8] <= 1 - x[((1, 1, 1), (1, 1, 4)), 8]\n",
      "        Constraint added for bus 8: x[((5, 3, 3), (0, 0, 0)), 8] <= 1 - x[((5, 3, 1), (5, 3, 4)), 8]\n",
      "        Constraint added for bus 8: x[((5, 3, 3), (0, 0, 0)), 8] <= 1 - x[((5, 3, 2), (5, 3, 4)), 8]\n",
      "        Constraint added for bus 8: x[((1, 2, 3), (0, 0, 0)), 8] <= 1 - x[((1, 2, 3), (1, 2, 4)), 8]\n",
      "        Constraint added for bus 8: x[((1, 1, 3), (3, 2, 4)), 8] <= 1 - x[((1, 1, 2), (1, 1, 4)), 8]\n",
      "        Constraint added for bus 8: x[((1, 1, 3), (3, 2, 4)), 8] <= 1 - x[((1, 1, 1), (1, 1, 4)), 8]\n",
      "        Constraint added for bus 9: x[((3, 1, 5), (0, 0, 0)), 9] <= 1 - x[((3, 1, 1), (3, 1, 6)), 9]\n",
      "        Constraint added for bus 9: x[((3, 1, 5), (3, 2, 4)), 9] <= 1 - x[((3, 1, 1), (3, 1, 6)), 9]\n",
      "        Constraint added for bus 9: x[((1, 1, 3), (5, 3, 1)), 9] <= 1 - x[((1, 1, 2), (1, 1, 4)), 9]\n",
      "        Constraint added for bus 9: x[((1, 1, 3), (5, 3, 1)), 9] <= 1 - x[((1, 1, 1), (1, 1, 4)), 9]\n",
      "        Constraint added for bus 9: x[((1, 1, 3), (0, 0, 0)), 9] <= 1 - x[((1, 1, 2), (1, 1, 4)), 9]\n",
      "        Constraint added for bus 9: x[((1, 1, 3), (0, 0, 0)), 9] <= 1 - x[((1, 1, 1), (1, 1, 4)), 9]\n",
      "        Constraint added for bus 9: x[((5, 3, 3), (0, 0, 0)), 9] <= 1 - x[((5, 3, 1), (5, 3, 4)), 9]\n",
      "        Constraint added for bus 9: x[((5, 3, 3), (0, 0, 0)), 9] <= 1 - x[((5, 3, 2), (5, 3, 4)), 9]\n",
      "        Constraint added for bus 9: x[((1, 2, 3), (0, 0, 0)), 9] <= 1 - x[((1, 2, 3), (1, 2, 4)), 9]\n",
      "        Constraint added for bus 9: x[((1, 1, 3), (3, 2, 4)), 9] <= 1 - x[((1, 1, 2), (1, 1, 4)), 9]\n",
      "        Constraint added for bus 9: x[((1, 1, 3), (3, 2, 4)), 9] <= 1 - x[((1, 1, 1), (1, 1, 4)), 9]\n",
      "        Constraint added for bus 10: x[((3, 1, 5), (0, 0, 0)), 10] <= 1 - x[((3, 1, 1), (3, 1, 6)), 10]\n",
      "        Constraint added for bus 10: x[((3, 1, 5), (3, 2, 4)), 10] <= 1 - x[((3, 1, 1), (3, 1, 6)), 10]\n",
      "        Constraint added for bus 10: x[((1, 1, 3), (5, 3, 1)), 10] <= 1 - x[((1, 1, 2), (1, 1, 4)), 10]\n",
      "        Constraint added for bus 10: x[((1, 1, 3), (5, 3, 1)), 10] <= 1 - x[((1, 1, 1), (1, 1, 4)), 10]\n",
      "        Constraint added for bus 10: x[((1, 1, 3), (0, 0, 0)), 10] <= 1 - x[((1, 1, 2), (1, 1, 4)), 10]\n",
      "        Constraint added for bus 10: x[((1, 1, 3), (0, 0, 0)), 10] <= 1 - x[((1, 1, 1), (1, 1, 4)), 10]\n",
      "        Constraint added for bus 10: x[((5, 3, 3), (0, 0, 0)), 10] <= 1 - x[((5, 3, 1), (5, 3, 4)), 10]\n",
      "        Constraint added for bus 10: x[((5, 3, 3), (0, 0, 0)), 10] <= 1 - x[((5, 3, 2), (5, 3, 4)), 10]\n",
      "        Constraint added for bus 10: x[((1, 2, 3), (0, 0, 0)), 10] <= 1 - x[((1, 2, 3), (1, 2, 4)), 10]\n",
      "        Constraint added for bus 10: x[((1, 1, 3), (3, 2, 4)), 10] <= 1 - x[((1, 1, 2), (1, 1, 4)), 10]\n",
      "        Constraint added for bus 10: x[((1, 1, 3), (3, 2, 4)), 10] <= 1 - x[((1, 1, 1), (1, 1, 4)), 10]\n"
     ]
    }
   ],
   "source": [
    "for k in unique(busses.bus_id)\n",
    "    for connection1 in A_set\n",
    "        (i,j)=connection1\n",
    "        #println(\"Adding constraints for connection $connection and bus $k...\")\n",
    "        #=Checking if i and j are either\n",
    "            a)stops on the same bus-line, but different tours\n",
    "            b)stops on different bus lines =#\n",
    "        if (i[1] == j[1] && i[2] != j[2]) || i[1] != j[1]\n",
    "            for connection2 in A_set\n",
    "                (h, h_)=connection2\n",
    "                if h[1] == h_[1] == i[1] && h[2] == h_[2] == i[2]  \n",
    "                    #println(\"  h:$h and h_:$h_ are on the same bus line and tour as i:$i...\")\n",
    "                    #println(\"     Checking if h[3] <= i[3] < h_[3]...\")\n",
    "                    if h[3] <= i[3] < h_[3]\n",
    "                        idx = findfirst(row -> row.bus_line_id == h[1] && row.line_id == h[2] && row.origin_stop_id == h[3] && row.destination_stop_id == h_[3], eachrow(demand))\n",
    "                        has_demand = !isnothing(idx) && demand[idx, :demand] > 0    \n",
    "                        #println(\"      Checking if demand is positive and if time constraint holds...\" )\n",
    "                        if has_demand && nodes[findfirst(n -> n.bus_line_id == h_[1] && n.line_id == h_[2] && n.stop_id == h_[3], nodes)].start_time + connections_dict[(i, j)].travel_time > nodes[findfirst(n -> n.bus_line_id == j[1] && n.line_id == j[2] && n.stop_id == j[3], nodes)].start_time\n",
    "                            @constraint(model, x[(i, j), k] <= 1 - x[(h, h_), k])\n",
    "                            println(\"        Constraint added for bus $k: x[($i, $j), $k] <= 1 - x[($h, $h_), $k]\")\n",
    "                        end\n",
    "                    end\n",
    "                end\n",
    "            end\n",
    "        end\n",
    "    end\n",
    "end\n"
   ]
  },
  {
   "cell_type": "markdown",
   "metadata": {},
   "source": [
    "### Capacity constraint"
   ]
  },
  {
   "cell_type": "code",
   "execution_count": 33,
   "metadata": {},
   "outputs": [
    {
     "data": {
      "text/plain": [
       "JuMP.Containers.SparseAxisArray{ConstraintRef{Model, MathOptInterface.ConstraintIndex{MathOptInterface.ScalarAffineFunction{Float64}, MathOptInterface.LessThan{Float64}}, ScalarShape}, 2, Tuple{Int64, Tuple{Int64, Int64, Int64}}} with 290 entries:\n",
       "  [1, (1, 1, 1) ]  =  3 x[((5, 3, 1), (5, 3, 4)),1] + 2 x[((4, 4, 1), (4, 4, 2)),1] + 4 x[((2, 1, 1), (2, 1, 2)),1] + 2 x[((3, 1, 1), (3, 1, 6)),1] + x[((4, 2, 1), (4, 2, 2)),1] + x[((1, 1, 1), (1, 1, 4)),1] + 2 x[((1, 2, 1), (1, 2, 3)),1] + x[((2, 3, 1), (2, 3, 3)),1] + x[((3, 2, 1), (3, 2, 2)),1] ≤ 10\n",
       "  [1, (1, 1, 2) ]  =  3 x[((5, 3, 1), (5, 3, 4)),1] + 2 x[((1, 1, 2), (1, 1, 3)),1] + x[((3, 1, 2), (3, 1, 5)),1] + x[((1, 1, 2), (1, 1, 4)),1] + 2 x[((3, 1, 1), (3, 1, 6)),1] + x[((1, 1, 1), (1, 1, 4)),1] + x[((5, 3, 2), (5, 3, 3)),1] + 2 x[((1, 2, 1), (1, 2, 3)),1] + x[((5, 3, 2), (5, 3, 4)),1] + x[((2, 3, 1), (2, 3, 3)),1] ≤ 10\n",
       "  [1, (1, 1, 3) ]  =  3 x[((5, 3, 1), (5, 3, 4)),1] + x[((3, 1, 2), (3, 1, 5)),1] + x[((1, 1, 2), (1, 1, 4)),1] + 2 x[((3, 1, 1), (3, 1, 6)),1] + x[((5, 1, 3), (5, 1, 5)),1] + x[((1, 1, 1), (1, 1, 4)),1] + x[((1, 2, 3), (1, 2, 4)),1] + x[((5, 3, 2), (5, 3, 4)),1] ≤ 10\n",
       "  [1, (1, 1, 4) ]  =  x[((3, 1, 2), (3, 1, 5)),1] + 2 x[((3, 1, 1), (3, 1, 6)),1] + x[((5, 1, 3), (5, 1, 5)),1] + 4 x[((3, 2, 4), (3, 2, 6)),1] ≤ 10\n",
       "  [1, (1, 2, 1) ]  =  3 x[((5, 3, 1), (5, 3, 4)),1] + 2 x[((4, 4, 1), (4, 4, 2)),1] + 4 x[((2, 1, 1), (2, 1, 2)),1] + 2 x[((3, 1, 1), (3, 1, 6)),1] + x[((4, 2, 1), (4, 2, 2)),1] + x[((1, 1, 1), (1, 1, 4)),1] + 2 x[((1, 2, 1), (1, 2, 3)),1] + x[((2, 3, 1), (2, 3, 3)),1] + x[((3, 2, 1), (3, 2, 2)),1] ≤ 10\n",
       "  [1, (1, 2, 3) ]  =  3 x[((5, 3, 1), (5, 3, 4)),1] + x[((3, 1, 2), (3, 1, 5)),1] + x[((1, 1, 2), (1, 1, 4)),1] + 2 x[((3, 1, 1), (3, 1, 6)),1] + x[((5, 1, 3), (5, 1, 5)),1] + x[((1, 1, 1), (1, 1, 4)),1] + x[((1, 2, 3), (1, 2, 4)),1] + x[((5, 3, 2), (5, 3, 4)),1] ≤ 10\n",
       "  [1, (1, 2, 4) ]  =  x[((3, 1, 2), (3, 1, 5)),1] + 2 x[((3, 1, 1), (3, 1, 6)),1] + x[((5, 1, 3), (5, 1, 5)),1] + 4 x[((3, 2, 4), (3, 2, 6)),1] ≤ 10\n",
       "  [10, (4, 4, 1)]  =  3 x[((5, 3, 1), (5, 3, 4)),10] + 2 x[((4, 4, 1), (4, 4, 2)),10] + 4 x[((2, 1, 1), (2, 1, 2)),10] + 2 x[((3, 1, 1), (3, 1, 6)),10] + x[((4, 2, 1), (4, 2, 2)),10] + x[((1, 1, 1), (1, 1, 4)),10] + 2 x[((1, 2, 1), (1, 2, 3)),10] + x[((2, 3, 1), (2, 3, 3)),10] + x[((3, 2, 1), (3, 2, 2)),10] ≤ 10\n",
       "                   ⋮\n",
       "  [10, (4, 4, 2)]  =  3 x[((5, 3, 1), (5, 3, 4)),10] + 2 x[((1, 1, 2), (1, 1, 3)),10] + x[((3, 1, 2), (3, 1, 5)),10] + x[((1, 1, 2), (1, 1, 4)),10] + 2 x[((3, 1, 1), (3, 1, 6)),10] + x[((1, 1, 1), (1, 1, 4)),10] + x[((5, 3, 2), (5, 3, 3)),10] + 2 x[((1, 2, 1), (1, 2, 3)),10] + x[((5, 3, 2), (5, 3, 4)),10] + x[((2, 3, 1), (2, 3, 3)),10] ≤ 10\n",
       "  [10, (5, 1, 3)]  =  3 x[((5, 3, 1), (5, 3, 4)),10] + x[((3, 1, 2), (3, 1, 5)),10] + x[((1, 1, 2), (1, 1, 4)),10] + 2 x[((3, 1, 1), (3, 1, 6)),10] + x[((5, 1, 3), (5, 1, 5)),10] + x[((1, 1, 1), (1, 1, 4)),10] + x[((1, 2, 3), (1, 2, 4)),10] + x[((5, 3, 2), (5, 3, 4)),10] ≤ 10\n",
       "  [10, (5, 1, 5)]  =  2 x[((3, 1, 1), (3, 1, 6)),10] + 4 x[((3, 2, 4), (3, 2, 6)),10] ≤ 10\n",
       "  [10, (5, 3, 1)]  =  3 x[((5, 3, 1), (5, 3, 4)),10] + 2 x[((4, 4, 1), (4, 4, 2)),10] + 4 x[((2, 1, 1), (2, 1, 2)),10] + 2 x[((3, 1, 1), (3, 1, 6)),10] + x[((4, 2, 1), (4, 2, 2)),10] + x[((1, 1, 1), (1, 1, 4)),10] + 2 x[((1, 2, 1), (1, 2, 3)),10] + x[((2, 3, 1), (2, 3, 3)),10] + x[((3, 2, 1), (3, 2, 2)),10] ≤ 10\n",
       "  [10, (5, 3, 2)]  =  3 x[((5, 3, 1), (5, 3, 4)),10] + 2 x[((1, 1, 2), (1, 1, 3)),10] + x[((3, 1, 2), (3, 1, 5)),10] + x[((1, 1, 2), (1, 1, 4)),10] + 2 x[((3, 1, 1), (3, 1, 6)),10] + x[((1, 1, 1), (1, 1, 4)),10] + x[((5, 3, 2), (5, 3, 3)),10] + 2 x[((1, 2, 1), (1, 2, 3)),10] + x[((5, 3, 2), (5, 3, 4)),10] + x[((2, 3, 1), (2, 3, 3)),10] ≤ 10\n",
       "  [10, (5, 3, 3)]  =  3 x[((5, 3, 1), (5, 3, 4)),10] + x[((3, 1, 2), (3, 1, 5)),10] + x[((1, 1, 2), (1, 1, 4)),10] + 2 x[((3, 1, 1), (3, 1, 6)),10] + x[((5, 1, 3), (5, 1, 5)),10] + x[((1, 1, 1), (1, 1, 4)),10] + x[((1, 2, 3), (1, 2, 4)),10] + x[((5, 3, 2), (5, 3, 4)),10] ≤ 10\n",
       "  [10, (5, 3, 4)]  =  x[((3, 1, 2), (3, 1, 5)),10] + 2 x[((3, 1, 1), (3, 1, 6)),10] + x[((5, 1, 3), (5, 1, 5)),10] + 4 x[((3, 2, 4), (3, 2, 6)),10] ≤ 10"
      ]
     },
     "metadata": {},
     "output_type": "display_data"
    }
   ],
   "source": [
    "@constraint(model, [bus in unique(busses.bus_id), node in V_set ; node != (0,0,0)], \n",
    "    sum(demand[findfirst(row -> row.bus_line_id == connection[1][1] && row.line_id == connection[1][2] && row.origin_stop_id == connection[1][3] && row.destination_stop_id == connection[2][3], eachrow(demand)),:demand] * x[connection,bus] for connection in customer_trips if connection[1][1]==connection[2][1] && connection[1][2]==connection[2][2] && connection[1][3]<= node[3] < connection[2][3]) <= busses[findfirst(row -> row.bus_id == bus, eachrow(busses)), :capacity]\n",
    "    \n",
    ")"
   ]
  },
  {
   "cell_type": "markdown",
   "metadata": {},
   "source": [
    "# Solve model"
   ]
  },
  {
   "cell_type": "code",
   "execution_count": 34,
   "metadata": {},
   "outputs": [
    {
     "name": "stdout",
     "output_type": "stream",
     "text": [
      "Running HiGHS 1.8.0 (git hash: fcfb53414): Copyright (c) 2024 HiGHS under MIT licence terms\n",
      "Coefficient ranges:\n",
      "  Matrix [1e+00, 4e+00]\n",
      "  Cost   [1e+00, 1e+00]\n",
      "  Bound  [1e+00, 1e+00]\n",
      "  RHS    [1e+00, 1e+01]\n",
      "Presolving model\n",
      "244 rows, 314 cols, 1389 nonzeros  0s\n",
      "202 rows, 248 cols, 1308 nonzeros  0s\n",
      "167 rows, 214 cols, 1061 nonzeros  0s\n",
      "108 rows, 196 cols, 712 nonzeros  0s\n",
      "98 rows, 152 cols, 591 nonzeros  0s\n",
      "Presolve: Infeasible\n",
      "\n",
      "        Nodes      |    B&B Tree     |            Objective Bounds              |  Dynamic Constraints |       Work      \n",
      "     Proc. InQueue |  Leaves   Expl. | BestBound       BestSol              Gap |   Cuts   InLp Confl. | LpIters     Time\n",
      "\n",
      "         0       0         0   0.00%   -inf            inf                  inf        0    -80      0         0     0.0s\n",
      "\n",
      "Solving report\n",
      "  Status            Infeasible\n",
      "  Primal bound      inf\n",
      "  Dual bound        -inf\n",
      "  Gap               inf\n",
      "  Solution status   -\n",
      "  Timing            0.01 (total)\n",
      "                    0.00 (presolve)\n",
      "                    0.00 (postsolve)\n",
      "  Nodes             0\n",
      "  LP iterations     0 (total)\n",
      "                    0 (strong br.)\n",
      "                    0 (separation)\n",
      "                    0 (heuristics)\n"
     ]
    }
   ],
   "source": [
    "optimize!(model)"
   ]
  },
  {
   "cell_type": "markdown",
   "metadata": {},
   "source": [
    "## Termination status"
   ]
  },
  {
   "cell_type": "code",
   "execution_count": 35,
   "metadata": {},
   "outputs": [
    {
     "name": "stdout",
     "output_type": "stream",
     "text": [
      "Termination status: INFEASIBLE\n",
      "Primal status: NO_SOLUTION\n",
      "Dual status: NO_SOLUTION\n",
      "Kein Optimum – Solver-Status: INFEASIBLE\n"
     ]
    }
   ],
   "source": [
    "println(\"Termination status: \", termination_status(model))\n",
    "println(\"Primal status: \", primal_status(model))\n",
    "println(\"Dual status: \", dual_status(model))\n",
    "\n",
    "if termination_status(model) == MOI.OPTIMAL\n",
    "    println(\"Optimale Lösung gefunden!\")\n",
    "    println(\"Zielfunktionswert: \", objective_value(model))\n",
    "else\n",
    "    println(\"Kein Optimum – Solver-Status: \", termination_status(model))\n",
    "end\n",
    "    "
   ]
  },
  {
   "cell_type": "markdown",
   "metadata": {},
   "source": [
    "## Active Connections"
   ]
  },
  {
   "cell_type": "code",
   "execution_count": 36,
   "metadata": {},
   "outputs": [
    {
     "ename": "MathOptInterface.ResultIndexBoundsError{MathOptInterface.VariablePrimal}",
     "evalue": "Result index of attribute MathOptInterface.VariablePrimal(1) out of bounds. There are currently 0 solution(s) in the model.",
     "output_type": "error",
     "traceback": [
      "Result index of attribute MathOptInterface.VariablePrimal(1) out of bounds. There are currently 0 solution(s) in the model.\n",
      "\n",
      "Stacktrace:\n",
      " [1] check_result_index_bounds\n",
      "   @ ~/.julia/packages/MathOptInterface/HB8aJ/src/attributes.jl:207 [inlined]\n",
      " [2] get\n",
      "   @ ~/.julia/packages/HiGHS/cECIu/src/MOI_wrapper.jl:2251 [inlined]\n",
      " [3] get(b::MathOptInterface.Bridges.LazyBridgeOptimizer{HiGHS.Optimizer}, attr::MathOptInterface.VariablePrimal, index::MathOptInterface.VariableIndex)\n",
      "   @ MathOptInterface.Bridges ~/.julia/packages/MathOptInterface/HB8aJ/src/Bridges/bridge_optimizer.jl:1252\n",
      " [4] get(model::MathOptInterface.Utilities.CachingOptimizer{MathOptInterface.Bridges.LazyBridgeOptimizer{HiGHS.Optimizer}, MathOptInterface.Utilities.UniversalFallback{MathOptInterface.Utilities.Model{Float64}}}, attr::MathOptInterface.VariablePrimal, index::MathOptInterface.VariableIndex)\n",
      "   @ MathOptInterface.Utilities ~/.julia/packages/MathOptInterface/HB8aJ/src/Utilities/cachingoptimizer.jl:937\n",
      " [5] _moi_get_result(::MathOptInterface.Utilities.CachingOptimizer{MathOptInterface.Bridges.LazyBridgeOptimizer{HiGHS.Optimizer}, MathOptInterface.Utilities.UniversalFallback{MathOptInterface.Utilities.Model{Float64}}}, ::MathOptInterface.VariablePrimal, ::Vararg{Any})\n",
      "   @ JuMP ~/.julia/packages/JuMP/V9nZm/src/optimizer_interface.jl:1053\n",
      " [6] get(model::Model, attr::MathOptInterface.VariablePrimal, v::VariableRef)\n",
      "   @ JuMP ~/.julia/packages/JuMP/V9nZm/src/optimizer_interface.jl:1093\n",
      " [7] value(v::VariableRef; result::Int64)\n",
      "   @ JuMP ~/.julia/packages/JuMP/V9nZm/src/variables.jl:1906\n",
      " [8] value(v::VariableRef)\n",
      "   @ JuMP ~/.julia/packages/JuMP/V9nZm/src/variables.jl:1905\n",
      " [9] top-level scope\n",
      "   @ ~/Desktop/Masterthesis/Code/Models/jl_notebook_cell_df34fa98e69747e1a8f8a730347b8e2f_Y130sZmlsZQ==.jl:3"
     ]
    }
   ],
   "source": [
    "active_connections = []\n",
    "for connection in A_set , bus in unique(busses.bus_id)\n",
    "    if value(x[connection,bus]) > 1e-6\n",
    "        push!(active_connections, connection)\n",
    "    end\n",
    "end\n",
    "\n",
    "#= sort(active_connections, by = x -> x[1][1][1])\n",
    "full_output = join(string.(active_connections), \"\\n\")\n",
    "println(full_output) =#"
   ]
  },
  {
   "cell_type": "markdown",
   "metadata": {},
   "source": [
    "## Chosen routes"
   ]
  },
  {
   "cell_type": "code",
   "execution_count": 37,
   "metadata": {},
   "outputs": [],
   "source": [
    "function try_path(current_node, route_temp, path, visited)\n",
    "    #println(\"➡️ Suche Weiterführung ab: \", current_node)\n",
    "    next_edges = filter(conn -> conn[1] == current_node && !(conn in visited), route_temp)\n",
    "    #println(\"   🔎 Gefundene Anschlusskanten: \", next_edges)\n",
    "\n",
    "    if isempty(next_edges)\n",
    "        if current_node == (0, 0, 0)\n",
    "            #println(\"Pfad endet korrekt im Depot.\")\n",
    "            return copy(path)\n",
    "        else\n",
    "            #println(\"Sackgasse erreicht bei \", current_node)\n",
    "            return nothing\n",
    "        end\n",
    "    end\n",
    "\n",
    "    for conn in next_edges\n",
    "        push!(path, conn)\n",
    "        push!(visited, conn)\n",
    "        #println(\"Kante hinzugefügt: \", conn)\n",
    "        result = try_path(conn[2], route_temp, path, visited)\n",
    "        if result != nothing\n",
    "            return result\n",
    "        else\n",
    "            #println(\"Backtracking von \", conn)\n",
    "            pop!(path)\n",
    "            delete!(visited, conn)\n",
    "        end\n",
    "    end\n",
    "    return nothing\n",
    "end\n",
    "\n",
    "function find_complete_path(route_temp)\n",
    "    #println(\"🔍 Suche Pfad in: \", route_temp)\n",
    "    start_edges = filter(conn -> conn[1] == (0, 0, 0), route_temp)\n",
    "    if length(start_edges) != 1\n",
    "        #println(\"Kein eindeutiger Startknoten gefunden.\")\n",
    "        return [], false\n",
    "    end\n",
    "\n",
    "    start_conn = start_edges[1]\n",
    "    #println(\"Starte Pfadsuche mit: \", start_conn)\n",
    "    path = [start_conn]\n",
    "    visited = Set([start_conn])\n",
    "    result = try_path(start_conn[2], route_temp, path, visited)\n",
    "\n",
    "    return result === nothing ? ([], false) : (result, true)\n",
    "end\n",
    "\n",
    "# Hauptfunktion: Routen sortieren\n",
    "routes_dict = Dict{Int, Vector{Tuple{Tuple{Int, Int, Int}, Tuple{Int, Int, Int}}}}()\n",
    "\n",
    "for bus in unique(busses.bus_id)\n",
    "    route_temp = [conn for conn in active_connections if value(x[conn, bus]) > 1e-6]\n",
    "\n",
    "    if !isempty(route_temp)\n",
    "        full_path, ok = find_complete_path(route_temp)\n",
    "        if ok\n",
    "            #println(\"Vollständiger Pfad für Bus $bus: \", full_path)\n",
    "            routes_dict[bus] = full_path\n",
    "        else\n",
    "            #println(\"Kein gültiger Pfad für Bus $bus gefunden.\")\n",
    "            routes_dict[bus] = []\n",
    "        end\n",
    "    else\n",
    "        #println(\"Keine aktiven Verbindungen für Bus $bus.\")\n",
    "        routes_dict[bus] = []\n",
    "    end\n",
    "end\n",
    "\n"
   ]
  },
  {
   "cell_type": "code",
   "execution_count": 38,
   "metadata": {},
   "outputs": [
    {
     "name": "stdout",
     "output_type": "stream",
     "text": [
      "Route für Bus 1:Tuple{Tuple{Int64, Int64, Int64}, Tuple{Int64, Int64, Int64}}[]\n",
      "Route für Bus 2:Tuple{Tuple{Int64, Int64, Int64}, Tuple{Int64, Int64, Int64}}[]\n",
      "Route für Bus 3:Tuple{Tuple{Int64, Int64, Int64}, Tuple{Int64, Int64, Int64}}[]\n",
      "Route für Bus 4:Tuple{Tuple{Int64, Int64, Int64}, Tuple{Int64, Int64, Int64}}[]\n",
      "Route für Bus 5:Tuple{Tuple{Int64, Int64, Int64}, Tuple{Int64, Int64, Int64}}[]\n",
      "Route für Bus 6:Tuple{Tuple{Int64, Int64, Int64}, Tuple{Int64, Int64, Int64}}[]\n",
      "Route für Bus 7:Tuple{Tuple{Int64, Int64, Int64}, Tuple{Int64, Int64, Int64}}[]\n",
      "Route für Bus 8:Tuple{Tuple{Int64, Int64, Int64}, Tuple{Int64, Int64, Int64}}[]\n",
      "Route für Bus 9:Tuple{Tuple{Int64, Int64, Int64}, Tuple{Int64, Int64, Int64}}[]\n",
      "Route für Bus 10:Tuple{Tuple{Int64, Int64, Int64}, Tuple{Int64, Int64, Int64}}[]\n"
     ]
    }
   ],
   "source": [
    "for key in 1:length(keys(routes_dict))\n",
    "    println(\"Route für Bus $key:\", routes_dict[key])\n",
    "end"
   ]
  },
  {
   "cell_type": "code",
   "execution_count": 39,
   "metadata": {},
   "outputs": [
    {
     "data": {
      "text/plain": [
       "get_served_customer_trips (generic function with 1 method)"
      ]
     },
     "metadata": {},
     "output_type": "display_data"
    }
   ],
   "source": [
    "function get_served_customer_trips(routes_dict, customer_trips)\n",
    "    served_trips = Dict{Int, Vector{Tuple{Tuple{Int, Int, Int}, Tuple{Int, Int, Int}}}}()\n",
    "\n",
    "    for (bus, route) in routes_dict\n",
    "        served = Tuple{Tuple{Int, Int, Int}, Tuple{Int, Int, Int}}[]  # leere Liste für diesen Bus\n",
    "\n",
    "        for cust_trip in customer_trips\n",
    "            if cust_trip in route\n",
    "                push!(served, cust_trip)\n",
    "            end\n",
    "        end\n",
    "\n",
    "        served_trips[bus] = served\n",
    "    end\n",
    "\n",
    "    return served_trips\n",
    "end\n"
   ]
  },
  {
   "cell_type": "code",
   "execution_count": 40,
   "metadata": {},
   "outputs": [
    {
     "name": "stdout",
     "output_type": "stream",
     "text": [
      "Bus 5 bedient folgende Customer Trips:\n",
      "    Keine Trips bedient.\n",
      "Bus 4 bedient folgende Customer Trips:\n",
      "    Keine Trips bedient.\n",
      "Bus 6 bedient folgende Customer Trips:\n",
      "    Keine Trips bedient.\n",
      "Bus 7 bedient folgende Customer Trips:\n",
      "    Keine Trips bedient.\n",
      "Bus 2 bedient folgende Customer Trips:\n",
      "    Keine Trips bedient.\n",
      "Bus 10 bedient folgende Customer Trips:\n",
      "    Keine Trips bedient.\n",
      "Bus 9 bedient folgende Customer Trips:\n",
      "    Keine Trips bedient.\n",
      "Bus 8 bedient folgende Customer Trips:\n",
      "    Keine Trips bedient.\n",
      "Bus 3 bedient folgende Customer Trips:\n",
      "    Keine Trips bedient.\n",
      "Bus 1 bedient folgende Customer Trips:\n",
      "    Keine Trips bedient.\n"
     ]
    }
   ],
   "source": [
    "served_trips = get_served_customer_trips(routes_dict, customer_trips)\n",
    "\n",
    "for (bus, trips) in served_trips\n",
    "    println(\"Bus $bus bedient folgende Customer Trips:\")\n",
    "    if trips == []\n",
    "        println(\"    Keine Trips bedient.\")\n",
    "        continue\n",
    "    else\n",
    "        for t in trips\n",
    "            println(\"    $t\")\n",
    "        end\n",
    "    end\n",
    "end"
   ]
  },
  {
   "cell_type": "markdown",
   "metadata": {},
   "source": [
    "# Visualization"
   ]
  },
  {
   "cell_type": "code",
   "execution_count": 41,
   "metadata": {},
   "outputs": [
    {
     "data": {
      "text/plain": [
       "Pair{Tuple{Int64, Int64, Int64}, @NamedTuple{bus_line_id::Int64, line_id::Int64, stop_id::Int64, coord_x::Float64, coord_y::Float64, start_time::Float64}}[]"
      ]
     },
     "metadata": {},
     "output_type": "display_data"
    }
   ],
   "source": [
    "# Store full node struct as value for lookup\n",
    "active_nodes_dict = Dict{Tuple{Int, Int, Int}, typeof(nodes[1])}()\n",
    "for connection in active_connections\n",
    "    origin,goal=connection\n",
    "    a,b,c = origin\n",
    "    d,e,f = goal\n",
    "    node=findfirst(x -> x.bus_line_id == a && x.line_id == b && x.stop_id == c, nodes)\n",
    "    if !(node in keys(active_nodes_dict))\n",
    "        active_nodes_dict[origin] = nodes[node]\n",
    "    end\n",
    "    node=findfirst(x -> x.bus_line_id == d && x.line_id == e && x.stop_id == f, nodes)\n",
    "    if !(node in keys(active_nodes_dict))\n",
    "        active_nodes_dict[goal] = nodes[node]\n",
    "    end\n",
    "end\n",
    "sort(collect(active_nodes_dict))"
   ]
  },
  {
   "cell_type": "markdown",
   "metadata": {},
   "source": [
    "## Plot"
   ]
  },
  {
   "cell_type": "markdown",
   "metadata": {},
   "source": [
    "### Functional"
   ]
  },
  {
   "cell_type": "code",
   "execution_count": 42,
   "metadata": {},
   "outputs": [
    {
     "data": {
      "text/plain": [
       "\"/Users/alexanderklaus/Desktop/Masterthesis/Code/output/3d_plot_setting_3_20250805_08-18.html\""
      ]
     },
     "metadata": {},
     "output_type": "display_data"
    }
   ],
   "source": [
    "using Dates\n",
    "\n",
    "# Farben für Busse (ggf. erweitern)\n",
    "colors = [\"red\", \"blue\", \"green\", \"orange\", \"purple\", \"brown\", \"cyan\", \"magenta\", \"black\", \"gray\"]\n",
    "\n",
    "# 1. Nur besuchte Knoten extrahieren\n",
    "visited_nodes = Set{Tuple{Int, Int, Int}}()\n",
    "for conns in values(routes_dict)\n",
    "    for (from, to) in conns\n",
    "        push!(visited_nodes, from)\n",
    "        push!(visited_nodes, to)\n",
    "    end\n",
    "end\n",
    "\n",
    "# 2. Nur besuchte Knoten anzeigen\n",
    "filtered_nodes = filter(n -> (n.bus_line_id, n.line_id, n.stop_id) in visited_nodes, nodes)\n",
    "\n",
    "xs = [n.coord_x for n in filtered_nodes]\n",
    "ys = [n.coord_y for n in filtered_nodes]\n",
    "zs = [n.start_time for n in filtered_nodes]\n",
    "labels = [string(\"(\", n.bus_line_id, \", \", n.line_id, \", \", n.stop_id, \")\\n\", \"t=\", round(n.start_time, digits=1)) for n in filtered_nodes]\n",
    "\n",
    "trace_nodes = scatter3d(\n",
    "    x=xs, y=ys, z=zs,\n",
    "    mode=\"markers\",\n",
    "    marker=attr(size=3, color=\"blue\"),\n",
    "    text=labels,\n",
    "    hoverinfo=\"text\",\n",
    "    name=\"Visited Stops\"\n",
    ")\n",
    "\n",
    "# 3. Lookup-Tabelle für alle Knoten\n",
    "nodes_dict = Dict((n.bus_line_id, n.line_id, n.stop_id) => n for n in nodes)\n",
    "\n",
    "# 4. Linien je Bus visualisieren\n",
    "traces_edges = []\n",
    "\n",
    "shown_main_legends = Set{Int}()\n",
    "shown_transfer_legends = Set{Int}()\n",
    "shown_reverse_legends = Set{Int}()\n",
    "\n",
    "for (i, route) in pairs(routes_dict)\n",
    "    color = colors[mod1(i, length(colors))]\n",
    "\n",
    "    for (from, to) in route\n",
    "        if from[1:2] == to[1:2]\n",
    "            # gleiche Linie\n",
    "            stop_from = from[3]\n",
    "            stop_to = to[3]\n",
    "\n",
    "            if stop_from == stop_to\n",
    "                continue\n",
    "            end\n",
    "\n",
    "            if stop_from < stop_to\n",
    "                # Vorwärtsfahrt mit Zwischenknoten\n",
    "                stops_range = stop_from:stop_to\n",
    "                intermediate_stops = [(from[1], from[2], s) for s in stops_range]\n",
    "                path_nodes = [nodes_dict[s] for s in intermediate_stops if s in keys(nodes_dict)]\n",
    "\n",
    "                push!(traces_edges, scatter3d(\n",
    "                    x = [n.coord_x for n in path_nodes],\n",
    "                    y = [n.coord_y for n in path_nodes],\n",
    "                    z = [n.start_time for n in path_nodes],\n",
    "                    mode = \"lines\",\n",
    "                    line = attr(width=3, color=color),\n",
    "                    hoverinfo = \"none\",\n",
    "                    showlegend = !(i in shown_main_legends),\n",
    "                    name = \"Bus $i\"\n",
    "                ))\n",
    "                push!(shown_main_legends, i)\n",
    "            else\n",
    "                # Rückfahrt → direkte Linie\n",
    "                x_vals = [nodes_dict[from].coord_x, nodes_dict[to].coord_x]\n",
    "                y_vals = [nodes_dict[from].coord_y, nodes_dict[to].coord_y]\n",
    "                z_vals = [nodes_dict[from].start_time, nodes_dict[to].start_time]\n",
    "\n",
    "                push!(traces_edges, scatter3d(\n",
    "                    x = x_vals, y = y_vals, z = z_vals,\n",
    "                    mode = \"lines\",\n",
    "                    line = attr(width=3, color=color, dash=\"dash\"),\n",
    "                    hoverinfo = \"none\",\n",
    "                    showlegend = !(i in shown_reverse_legends),\n",
    "                    name = \"Rückfahrt Bus $i\"\n",
    "                ))\n",
    "                push!(shown_reverse_legends, i)\n",
    "            end\n",
    "        else\n",
    "            # Linienwechsel oder Depotfahrt\n",
    "            x_vals = [nodes_dict[from].coord_x, nodes_dict[to].coord_x]\n",
    "            y_vals = [nodes_dict[from].coord_y, nodes_dict[to].coord_y]\n",
    "            z_vals = [nodes_dict[from].start_time, nodes_dict[to].start_time]\n",
    "\n",
    "            push!(traces_edges, scatter3d(\n",
    "                x = x_vals, y = y_vals, z = z_vals,\n",
    "                mode = \"lines\",\n",
    "                line = attr(width=2, color=color, dash=\"dot\"),\n",
    "                hoverinfo = \"none\",\n",
    "                showlegend = !(i in shown_transfer_legends),\n",
    "                name = \"Transfer Bus $i\"\n",
    "            ))\n",
    "            push!(shown_transfer_legends, i)\n",
    "        end\n",
    "    end\n",
    "end\n",
    "\n",
    "# 5. Layout & Export\n",
    "layout = Layout(\n",
    "    title = \"Bus Tours (Visited Stops & Real Paths)\",\n",
    "    scene = attr(\n",
    "        xaxis=attr(title=\"X\"),\n",
    "        yaxis=attr(title=\"Y\"),\n",
    "        zaxis=attr(title=\"Start Time\")\n",
    "    ),\n",
    "    showlegend=true\n",
    ")\n",
    "\n",
    "plot_obj = Plot([trace_nodes; traces_edges...], layout)\n",
    "timestamp = Dates.format(now(), \"yyyymmdd_HH-MM\")\n",
    "savefig(plot_obj, \"/Users/alexanderklaus/Desktop/Masterthesis/Code/output/3d_plot_setting_3_$timestamp.html\")\n"
   ]
  },
  {
   "cell_type": "markdown",
   "metadata": {},
   "source": [
    "# Error analysis"
   ]
  },
  {
   "cell_type": "code",
   "execution_count": 43,
   "metadata": {},
   "outputs": [
    {
     "ename": "ArgumentError",
     "evalue": "ArgumentError: The optimizer HiGHS.Optimizer does not support `compute_conflict!`",
     "output_type": "error",
     "traceback": [
      "ArgumentError: The optimizer HiGHS.Optimizer does not support `compute_conflict!`\n",
      "\n",
      "Stacktrace:\n",
      " [1] compute_conflict!(optimizer::HiGHS.Optimizer)\n",
      "   @ MathOptInterface ~/.julia/packages/MathOptInterface/HB8aJ/src/MathOptInterface.jl:145\n",
      " [2] compute_conflict!(model::MathOptInterface.Bridges.LazyBridgeOptimizer{HiGHS.Optimizer})\n",
      "   @ MathOptInterface.Bridges ~/.julia/packages/MathOptInterface/HB8aJ/src/Bridges/lazy_bridge_optimizer.jl:612\n",
      " [3] compute_conflict!(model::MathOptInterface.Utilities.CachingOptimizer{MathOptInterface.Bridges.LazyBridgeOptimizer{HiGHS.Optimizer}, MathOptInterface.Utilities.UniversalFallback{MathOptInterface.Utilities.Model{Float64}}})\n",
      "   @ MathOptInterface.Utilities ~/.julia/packages/MathOptInterface/HB8aJ/src/Utilities/cachingoptimizer.jl:1290\n",
      " [4] compute_conflict!(model::Model)\n",
      "   @ JuMP ~/.julia/packages/JuMP/V9nZm/src/optimizer_interface.jl:668\n",
      " [5] top-level scope\n",
      "   @ ~/Desktop/Masterthesis/Code/Models/jl_notebook_cell_df34fa98e69747e1a8f8a730347b8e2f_Y145sZmlsZQ==.jl:1"
     ]
    }
   ],
   "source": [
    "conflict = compute_conflict!(model)"
   ]
  },
  {
   "cell_type": "code",
   "execution_count": 44,
   "metadata": {},
   "outputs": [
    {
     "ename": "MathOptInterface.ResultIndexBoundsError{MathOptInterface.VariablePrimal}",
     "evalue": "Result index of attribute MathOptInterface.VariablePrimal(1) out of bounds. There are currently 0 solution(s) in the model.",
     "output_type": "error",
     "traceback": [
      "Result index of attribute MathOptInterface.VariablePrimal(1) out of bounds. There are currently 0 solution(s) in the model.\n",
      "\n",
      "Stacktrace:\n",
      "  [1] check_result_index_bounds\n",
      "    @ ~/.julia/packages/MathOptInterface/HB8aJ/src/attributes.jl:207 [inlined]\n",
      "  [2] get\n",
      "    @ ~/.julia/packages/HiGHS/cECIu/src/MOI_wrapper.jl:2251 [inlined]\n",
      "  [3] get(b::MathOptInterface.Bridges.LazyBridgeOptimizer{HiGHS.Optimizer}, attr::MathOptInterface.VariablePrimal, index::MathOptInterface.VariableIndex)\n",
      "    @ MathOptInterface.Bridges ~/.julia/packages/MathOptInterface/HB8aJ/src/Bridges/bridge_optimizer.jl:1252\n",
      "  [4] get(model::MathOptInterface.Utilities.CachingOptimizer{MathOptInterface.Bridges.LazyBridgeOptimizer{HiGHS.Optimizer}, MathOptInterface.Utilities.UniversalFallback{MathOptInterface.Utilities.Model{Float64}}}, attr::MathOptInterface.VariablePrimal, index::MathOptInterface.VariableIndex)\n",
      "    @ MathOptInterface.Utilities ~/.julia/packages/MathOptInterface/HB8aJ/src/Utilities/cachingoptimizer.jl:937\n",
      "  [5] _moi_get_result(::MathOptInterface.Utilities.CachingOptimizer{MathOptInterface.Bridges.LazyBridgeOptimizer{HiGHS.Optimizer}, MathOptInterface.Utilities.UniversalFallback{MathOptInterface.Utilities.Model{Float64}}}, ::MathOptInterface.VariablePrimal, ::Vararg{Any})\n",
      "    @ JuMP ~/.julia/packages/JuMP/V9nZm/src/optimizer_interface.jl:1053\n",
      "  [6] get(model::Model, attr::MathOptInterface.VariablePrimal, v::VariableRef)\n",
      "    @ JuMP ~/.julia/packages/JuMP/V9nZm/src/optimizer_interface.jl:1093\n",
      "  [7] value(v::VariableRef; result::Int64)\n",
      "    @ JuMP ~/.julia/packages/JuMP/V9nZm/src/variables.jl:1906\n",
      "  [8] value\n",
      "    @ ~/.julia/packages/JuMP/V9nZm/src/variables.jl:1905 [inlined]\n",
      "  [9] _broadcast_getindex_evalf\n",
      "    @ ./broadcast.jl:673 [inlined]\n",
      " [10] _broadcast_getindex\n",
      "    @ ./broadcast.jl:646 [inlined]\n",
      " [11] getindex\n",
      "    @ ./broadcast.jl:605 [inlined]\n",
      " [12] macro expansion\n",
      "    @ ./broadcast.jl:968 [inlined]\n",
      " [13] macro expansion\n",
      "    @ ./simdloop.jl:77 [inlined]\n",
      " [14] copyto!\n",
      "    @ ./broadcast.jl:967 [inlined]\n",
      " [15] copyto!\n",
      "    @ ./broadcast.jl:920 [inlined]\n",
      " [16] copy\n",
      "    @ ./broadcast.jl:892 [inlined]\n",
      " [17] materialize\n",
      "    @ ./broadcast.jl:867 [inlined]\n",
      " [18] broadcast(f::typeof(value), As::Matrix{VariableRef})\n",
      "    @ Base.Broadcast ./broadcast.jl:805\n",
      " [19] broadcasted\n",
      "    @ ~/.julia/packages/JuMP/V9nZm/src/Containers/DenseAxisArray.jl:579 [inlined]\n",
      " [20] broadcasted(::typeof(value), ::JuMP.Containers.DenseAxisArray{VariableRef, 2, Tuple{Vector{Tuple{Tuple{Int64, Int64, Int64}, Tuple{Int64, Int64, Int64}}}, Vector{Int64}}, Tuple{JuMP.Containers._AxisLookup{Dict{Tuple{Tuple{Int64, Int64, Int64}, Tuple{Int64, Int64, Int64}}, Int64}}, JuMP.Containers._AxisLookup{Dict{Int64, Int64}}}})\n",
      "    @ Base.Broadcast ./broadcast.jl:1320\n",
      " [21] top-level scope\n",
      "    @ ~/Desktop/Masterthesis/Code/Models/jl_notebook_cell_df34fa98e69747e1a8f8a730347b8e2f_Y146sZmlsZQ==.jl:1"
     ]
    }
   ],
   "source": [
    "value.(x)  # alle Variablenwerte\n"
   ]
  },
  {
   "cell_type": "code",
   "execution_count": 45,
   "metadata": {},
   "outputs": [
    {
     "ename": "UndefKeywordError",
     "evalue": "UndefKeywordError: keyword argument `include_variable_in_set_constraints` not assigned",
     "output_type": "error",
     "traceback": [
      "UndefKeywordError: keyword argument `include_variable_in_set_constraints` not assigned\n",
      "\n",
      "Stacktrace:\n",
      " [1] all_constraints(model::Model)\n",
      "   @ JuMP ~/.julia/packages/JuMP/V9nZm/src/constraints.jl:1803\n",
      " [2] top-level scope\n",
      "   @ ~/Desktop/Masterthesis/Code/Models/jl_notebook_cell_df34fa98e69747e1a8f8a730347b8e2f_Y150sZmlsZQ==.jl:1"
     ]
    }
   ],
   "source": [
    "for c in all_constraints(model)\n",
    "    println(\"Constraint: \", c)\n",
    "    println(\"   Value: \", value(c))\n",
    "    println(\"   Dual: \", dual(c))\n",
    "end\n"
   ]
  },
  {
   "cell_type": "code",
   "execution_count": 46,
   "metadata": {},
   "outputs": [
    {
     "name": "stdout",
     "output_type": "stream",
     "text": [
      "A_set:\n",
      "((0, 0, 0), (1, 1, 1))\n",
      "((0, 0, 0), (1, 1, 2))\n",
      "((0, 0, 0), (1, 2, 1))\n",
      "((0, 0, 0), (1, 2, 3))\n",
      "((0, 0, 0), (2, 1, 1))\n",
      "((0, 0, 0), (2, 3, 1))\n",
      "((0, 0, 0), (3, 1, 1))\n",
      "((0, 0, 0), (3, 1, 2))\n",
      "((0, 0, 0), (3, 2, 1))\n",
      "((0, 0, 0), (3, 2, 4))\n",
      "((0, 0, 0), (4, 2, 1))\n",
      "((0, 0, 0), (4, 4, 1))\n",
      "((0, 0, 0), (5, 1, 3))\n",
      "((0, 0, 0), (5, 3, 1))\n",
      "((0, 0, 0), (5, 3, 2))\n",
      "((1, 1, 1), (1, 1, 4))\n",
      "((1, 1, 2), (1, 1, 3))\n",
      "((1, 1, 2), (1, 1, 4))\n",
      "((1, 1, 3), (0, 0, 0))\n",
      "((1, 1, 3), (1, 2, 1))\n",
      "((1, 1, 3), (1, 2, 3))\n",
      "((1, 1, 3), (2, 3, 1))\n",
      "((1, 1, 3), (3, 2, 4))\n",
      "((1, 1, 3), (4, 4, 1))\n",
      "((1, 1, 3), (5, 3, 1))\n",
      "((1, 1, 3), (5, 3, 2))\n",
      "((1, 1, 4), (0, 0, 0))\n",
      "((1, 1, 4), (1, 1, 2))\n",
      "((1, 1, 4), (1, 2, 3))\n",
      "((1, 1, 4), (2, 3, 1))\n",
      "((1, 1, 4), (3, 2, 4))\n",
      "((1, 1, 4), (4, 4, 1))\n",
      "((1, 2, 1), (1, 2, 3))\n",
      "((1, 2, 3), (0, 0, 0))\n",
      "((1, 2, 3), (1, 2, 4))\n",
      "((1, 2, 4), (0, 0, 0))\n",
      "((2, 1, 1), (2, 1, 2))\n",
      "((2, 1, 2), (0, 0, 0))\n",
      "((2, 1, 2), (1, 2, 3))\n",
      "((2, 1, 2), (2, 3, 1))\n",
      "((2, 1, 2), (3, 2, 4))\n",
      "((2, 1, 2), (4, 4, 1))\n",
      "((2, 1, 2), (5, 3, 1))\n",
      "((2, 1, 2), (5, 3, 2))\n",
      "((2, 3, 1), (2, 3, 3))\n",
      "((2, 3, 3), (0, 0, 0))\n",
      "((3, 1, 1), (3, 1, 6))\n",
      "((3, 1, 2), (3, 1, 5))\n",
      "((3, 1, 5), (0, 0, 0))\n",
      "((3, 1, 5), (2, 3, 1))\n",
      "((3, 1, 5), (3, 2, 4))\n",
      "((3, 1, 6), (0, 0, 0))\n",
      "((3, 1, 6), (3, 1, 2))\n",
      "((3, 2, 1), (3, 2, 2))\n",
      "((3, 2, 2), (0, 0, 0))\n",
      "((3, 2, 2), (3, 2, 4))\n",
      "((3, 2, 2), (4, 4, 1))\n",
      "((3, 2, 4), (3, 2, 6))\n",
      "((3, 2, 6), (0, 0, 0))\n",
      "((4, 2, 1), (4, 2, 2))\n",
      "((4, 2, 2), (0, 0, 0))\n",
      "((4, 2, 2), (4, 4, 1))\n",
      "((4, 2, 2), (5, 3, 1))\n",
      "((4, 2, 2), (5, 3, 2))\n",
      "((4, 4, 1), (4, 4, 2))\n",
      "((4, 4, 2), (0, 0, 0))\n",
      "((5, 1, 3), (5, 1, 5))\n",
      "((5, 1, 5), (0, 0, 0))\n",
      "((5, 3, 1), (5, 3, 4))\n",
      "((5, 3, 2), (5, 3, 3))\n",
      "((5, 3, 2), (5, 3, 4))\n",
      "((5, 3, 3), (0, 0, 0))\n",
      "((5, 3, 4), (0, 0, 0))\n",
      "((5, 3, 4), (5, 3, 2))\n"
     ]
    }
   ],
   "source": [
    "A_set = sort(collect(A_set))\n",
    "full_output = join(string.(A_set), \"\\n\")\n",
    "println(\"A_set:\")\n",
    "println(full_output) "
   ]
  },
  {
   "cell_type": "code",
   "execution_count": 47,
   "metadata": {},
   "outputs": [
    {
     "name": "stdout",
     "output_type": "stream",
     "text": [
      "Zeitverletzung: (1, 1, 4) → (1, 1, 2) endet 41.93380653841311 aber Start ist 22.379663841806234\n",
      "Zeitverletzung: (3, 1, 6) → (3, 1, 2) endet 65.07981104903452 aber Start ist 21.426601146205606\n",
      "Zeitverletzung: (5, 3, 4) → (5, 3, 2) endet 70.25188342159291 aber Start ist 51.42560595694158\n"
     ]
    }
   ],
   "source": [
    "for (i, j) in A_set\n",
    "    if i != depot && j != depot\n",
    "        t_end = connections_dict[(i,j)].end_time\n",
    "        t_start = nodes[findfirst(n -> n.bus_line_id == j[1] && n.line_id == j[2] && n.stop_id == j[3], nodes)].start_time\n",
    "        if t_end > t_start\n",
    "            println(\"Zeitverletzung: $(i) → $(j) endet $t_end aber Start ist $t_start\")\n",
    "        end\n",
    "    end\n",
    "end\n"
   ]
  },
  {
   "cell_type": "code",
   "execution_count": 48,
   "metadata": {},
   "outputs": [],
   "source": [
    "for (i,j) in A_set\n",
    "    if !haskey(connections_dict, (i,j))\n",
    "        println(\"Fehlende Verbindung in connections_dict für: ($i,$j)\")\n",
    "    end\n",
    "end\n"
   ]
  },
  {
   "cell_type": "code",
   "execution_count": 49,
   "metadata": {},
   "outputs": [
    {
     "data": {
      "text/plain": [
       "1-element Vector{Any}:\n",
       " ((1, 2, 3), (1, 2, 3))"
      ]
     },
     "metadata": {},
     "output_type": "display_data"
    }
   ],
   "source": [
    "missing_trips_in_connections_dict"
   ]
  },
  {
   "cell_type": "code",
   "execution_count": 50,
   "metadata": {},
   "outputs": [
    {
     "name": "stdout",
     "output_type": "stream",
     "text": [
      "Complete route for customer trip ((1, 1, 1), (1, 1, 4)) in A_set.\n",
      "Complete route for customer trip ((1, 1, 2), (1, 1, 3)) in A_set.\n",
      "Complete route for customer trip ((1, 1, 2), (1, 1, 4)) in A_set.\n",
      "Complete route for customer trip ((1, 2, 3), (1, 2, 4)) in A_set.\n",
      "Complete route for customer trip ((1, 2, 1), (1, 2, 3)) in A_set.\n",
      "Complete route for customer trip ((2, 1, 1), (2, 1, 2)) in A_set.\n",
      "Complete route for customer trip ((2, 3, 1), (2, 3, 3)) in A_set.\n",
      "Complete route for customer trip ((3, 1, 1), (3, 1, 6)) in A_set.\n",
      "Complete route for customer trip ((3, 1, 2), (3, 1, 5)) in A_set.\n",
      "Complete route for customer trip ((3, 2, 1), (3, 2, 2)) in A_set.\n",
      "Complete route for customer trip ((3, 2, 4), (3, 2, 6)) in A_set.\n",
      "Complete route for customer trip ((4, 2, 1), (4, 2, 2)) in A_set.\n",
      "Complete route for customer trip ((4, 4, 1), (4, 4, 2)) in A_set.\n",
      "Complete route for customer trip ((5, 1, 3), (5, 1, 5)) in A_set.\n",
      "Complete route for customer trip ((5, 3, 2), (5, 3, 4)) in A_set.\n",
      "Complete route for customer trip ((5, 3, 2), (5, 3, 3)) in A_set.\n",
      "Complete route for customer trip ((5, 3, 1), (5, 3, 4)) in A_set.\n",
      "All 17 customer trips are covered by the routes in A_set.\n"
     ]
    }
   ],
   "source": [
    "counter=0\n",
    "for i in customer_trips\n",
    "    from,to=i\n",
    "    if (depot,from) in A_set\n",
    "        if i in A_set\n",
    "            if (to,depot) in A_set\n",
    "                println(\"Complete route for customer trip $i in A_set.\")\n",
    "                counter+=1\n",
    "                \n",
    "            else\n",
    "                println(\"Connection from depot to $from in A_set, but connection from $to to depot not in A_set.\")\n",
    "            end\n",
    "        else\n",
    "            println(\"Connection from depot to $from in A_set, but $i is not in A__set.\")\n",
    "        end\n",
    "    else\n",
    "        println(\"Connection from depot to $from not in A_set.\")\n",
    "    end\n",
    "end\n",
    "count_customer_trips = length(customer_trips)\n",
    "if counter == count_customer_trips\n",
    "    println(\"All $count_customer_trips customer trips are covered by the routes in A_set.\")\n",
    "else\n",
    "    println(\"Not all customer trips are covered by the routes in A_set.\")\n",
    "end"
   ]
  },
  {
   "cell_type": "code",
   "execution_count": 51,
   "metadata": {},
   "outputs": [
    {
     "name": "stdout",
     "output_type": "stream",
     "text": [
      "V_set:\n",
      "(0, 0, 0)\n",
      "(1, 1, 1)\n",
      "(1, 1, 2)\n",
      "(1, 1, 3)\n",
      "(1, 1, 4)\n",
      "(1, 2, 1)\n",
      "(1, 2, 3)\n",
      "(1, 2, 4)\n",
      "(2, 1, 1)\n",
      "(2, 1, 2)\n",
      "(2, 3, 1)\n",
      "(2, 3, 3)\n",
      "(3, 1, 1)\n",
      "(3, 1, 2)\n",
      "(3, 1, 5)\n",
      "(3, 1, 6)\n",
      "(3, 2, 1)\n",
      "(3, 2, 2)\n",
      "(3, 2, 4)\n",
      "(3, 2, 6)\n",
      "(4, 2, 1)\n",
      "(4, 2, 2)\n",
      "(4, 4, 1)\n",
      "(4, 4, 2)\n",
      "(5, 1, 3)\n",
      "(5, 1, 5)\n",
      "(5, 3, 1)\n",
      "(5, 3, 2)\n",
      "(5, 3, 3)\n",
      "(5, 3, 4)\n"
     ]
    }
   ],
   "source": [
    "V_set = sort(collect(V_set))\n",
    "full_output = join(string.(V_set), \"\\n\")\n",
    "println(\"V_set:\")\n",
    "println(full_output) "
   ]
  }
 ],
 "metadata": {
  "kernelspec": {
   "display_name": "Julia 1.11.0",
   "language": "julia",
   "name": "julia-1.11"
  },
  "language_info": {
   "file_extension": ".jl",
   "mimetype": "application/julia",
   "name": "julia",
   "version": "1.11.0"
  }
 },
 "nbformat": 4,
 "nbformat_minor": 2
}
