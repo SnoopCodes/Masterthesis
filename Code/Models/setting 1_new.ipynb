{
 "cells": [
  {
   "cell_type": "markdown",
   "metadata": {},
   "source": [
    "# Loading data"
   ]
  },
  {
   "cell_type": "code",
   "execution_count": 1,
   "metadata": {},
   "outputs": [],
   "source": [
    "using JuMP\n",
    "using CSV\n",
    "using DataFrames\n",
    "using HiGHS\n",
    "using PlotlyJS\n",
    "using StatsBase"
   ]
  },
  {
   "cell_type": "code",
   "execution_count": 2,
   "metadata": {},
   "outputs": [
    {
     "data": {
      "text/html": [
       "<div><div style = \"float: left;\"><span>20×4 DataFrame</span></div><div style = \"clear: both;\"></div></div><div class = \"data-frame\" style = \"overflow-x: scroll;\"><table class = \"data-frame\" style = \"margin-bottom: 6px;\"><thead><tr class = \"header\"><th class = \"rowNumber\" style = \"font-weight: bold; text-align: right;\">Row</th><th style = \"text-align: left;\">bus_line_id</th><th style = \"text-align: left;\">stop_ids</th><th style = \"text-align: left;\">stop_x</th><th style = \"text-align: left;\">stop_y</th></tr><tr class = \"subheader headerLastRow\"><th class = \"rowNumber\" style = \"font-weight: bold; text-align: right;\"></th><th title = \"Int64\" style = \"text-align: left;\">Int64</th><th title = \"Int64\" style = \"text-align: left;\">Int64</th><th title = \"Float64\" style = \"text-align: left;\">Float64</th><th title = \"Float64\" style = \"text-align: left;\">Float64</th></tr></thead><tbody><tr><td class = \"rowNumber\" style = \"font-weight: bold; text-align: right;\">1</td><td style = \"text-align: right;\">1</td><td style = \"text-align: right;\">1</td><td style = \"text-align: right;\">2.2</td><td style = \"text-align: right;\">36.8</td></tr><tr><td class = \"rowNumber\" style = \"font-weight: bold; text-align: right;\">2</td><td style = \"text-align: right;\">1</td><td style = \"text-align: right;\">2</td><td style = \"text-align: right;\">4.4</td><td style = \"text-align: right;\">40.1</td></tr><tr><td class = \"rowNumber\" style = \"font-weight: bold; text-align: right;\">3</td><td style = \"text-align: right;\">1</td><td style = \"text-align: right;\">3</td><td style = \"text-align: right;\">12.5</td><td style = \"text-align: right;\">42.7</td></tr><tr><td class = \"rowNumber\" style = \"font-weight: bold; text-align: right;\">4</td><td style = \"text-align: right;\">1</td><td style = \"text-align: right;\">4</td><td style = \"text-align: right;\">20.2</td><td style = \"text-align: right;\">44.0</td></tr><tr><td class = \"rowNumber\" style = \"font-weight: bold; text-align: right;\">5</td><td style = \"text-align: right;\">2</td><td style = \"text-align: right;\">1</td><td style = \"text-align: right;\">40.9</td><td style = \"text-align: right;\">48.2</td></tr><tr><td class = \"rowNumber\" style = \"font-weight: bold; text-align: right;\">6</td><td style = \"text-align: right;\">2</td><td style = \"text-align: right;\">2</td><td style = \"text-align: right;\">46.2</td><td style = \"text-align: right;\">40.7</td></tr><tr><td class = \"rowNumber\" style = \"font-weight: bold; text-align: right;\">7</td><td style = \"text-align: right;\">2</td><td style = \"text-align: right;\">3</td><td style = \"text-align: right;\">56.6</td><td style = \"text-align: right;\">38.2</td></tr><tr><td class = \"rowNumber\" style = \"font-weight: bold; text-align: right;\">8</td><td style = \"text-align: right;\">3</td><td style = \"text-align: right;\">1</td><td style = \"text-align: right;\">44.6</td><td style = \"text-align: right;\">15.2</td></tr><tr><td class = \"rowNumber\" style = \"font-weight: bold; text-align: right;\">9</td><td style = \"text-align: right;\">3</td><td style = \"text-align: right;\">2</td><td style = \"text-align: right;\">52.0</td><td style = \"text-align: right;\">20.4</td></tr><tr><td class = \"rowNumber\" style = \"font-weight: bold; text-align: right;\">10</td><td style = \"text-align: right;\">3</td><td style = \"text-align: right;\">3</td><td style = \"text-align: right;\">48.2</td><td style = \"text-align: right;\">32.6</td></tr><tr><td class = \"rowNumber\" style = \"font-weight: bold; text-align: right;\">11</td><td style = \"text-align: right;\">3</td><td style = \"text-align: right;\">4</td><td style = \"text-align: right;\">42.9</td><td style = \"text-align: right;\">38.5</td></tr><tr><td class = \"rowNumber\" style = \"font-weight: bold; text-align: right;\">12</td><td style = \"text-align: right;\">3</td><td style = \"text-align: right;\">5</td><td style = \"text-align: right;\">36.8</td><td style = \"text-align: right;\">46.7</td></tr><tr><td class = \"rowNumber\" style = \"font-weight: bold; text-align: right;\">13</td><td style = \"text-align: right;\">3</td><td style = \"text-align: right;\">6</td><td style = \"text-align: right;\">28.7</td><td style = \"text-align: right;\">44.3</td></tr><tr><td class = \"rowNumber\" style = \"font-weight: bold; text-align: right;\">14</td><td style = \"text-align: right;\">4</td><td style = \"text-align: right;\">1</td><td style = \"text-align: right;\">26.2</td><td style = \"text-align: right;\">7.8</td></tr><tr><td class = \"rowNumber\" style = \"font-weight: bold; text-align: right;\">15</td><td style = \"text-align: right;\">4</td><td style = \"text-align: right;\">2</td><td style = \"text-align: right;\">34.4</td><td style = \"text-align: right;\">6.1</td></tr><tr><td class = \"rowNumber\" style = \"font-weight: bold; text-align: right;\">16</td><td style = \"text-align: right;\">5</td><td style = \"text-align: right;\">1</td><td style = \"text-align: right;\">23.9</td><td style = \"text-align: right;\">16.5</td></tr><tr><td class = \"rowNumber\" style = \"font-weight: bold; text-align: right;\">17</td><td style = \"text-align: right;\">5</td><td style = \"text-align: right;\">2</td><td style = \"text-align: right;\">16.0</td><td style = \"text-align: right;\">12.1</td></tr><tr><td class = \"rowNumber\" style = \"font-weight: bold; text-align: right;\">18</td><td style = \"text-align: right;\">5</td><td style = \"text-align: right;\">3</td><td style = \"text-align: right;\">10.4</td><td style = \"text-align: right;\">10.2</td></tr><tr><td class = \"rowNumber\" style = \"font-weight: bold; text-align: right;\">19</td><td style = \"text-align: right;\">5</td><td style = \"text-align: right;\">4</td><td style = \"text-align: right;\">7.8</td><td style = \"text-align: right;\">22.3</td></tr><tr><td class = \"rowNumber\" style = \"font-weight: bold; text-align: right;\">20</td><td style = \"text-align: right;\">5</td><td style = \"text-align: right;\">5</td><td style = \"text-align: right;\">9.6</td><td style = \"text-align: right;\">30.8</td></tr></tbody></table></div>"
      ],
      "text/latex": [
       "\\begin{tabular}{r|cccc}\n",
       "\t& bus\\_line\\_id & stop\\_ids & stop\\_x & stop\\_y\\\\\n",
       "\t\\hline\n",
       "\t& Int64 & Int64 & Float64 & Float64\\\\\n",
       "\t\\hline\n",
       "\t1 & 1 & 1 & 2.2 & 36.8 \\\\\n",
       "\t2 & 1 & 2 & 4.4 & 40.1 \\\\\n",
       "\t3 & 1 & 3 & 12.5 & 42.7 \\\\\n",
       "\t4 & 1 & 4 & 20.2 & 44.0 \\\\\n",
       "\t5 & 2 & 1 & 40.9 & 48.2 \\\\\n",
       "\t6 & 2 & 2 & 46.2 & 40.7 \\\\\n",
       "\t7 & 2 & 3 & 56.6 & 38.2 \\\\\n",
       "\t8 & 3 & 1 & 44.6 & 15.2 \\\\\n",
       "\t9 & 3 & 2 & 52.0 & 20.4 \\\\\n",
       "\t10 & 3 & 3 & 48.2 & 32.6 \\\\\n",
       "\t11 & 3 & 4 & 42.9 & 38.5 \\\\\n",
       "\t12 & 3 & 5 & 36.8 & 46.7 \\\\\n",
       "\t13 & 3 & 6 & 28.7 & 44.3 \\\\\n",
       "\t14 & 4 & 1 & 26.2 & 7.8 \\\\\n",
       "\t15 & 4 & 2 & 34.4 & 6.1 \\\\\n",
       "\t16 & 5 & 1 & 23.9 & 16.5 \\\\\n",
       "\t17 & 5 & 2 & 16.0 & 12.1 \\\\\n",
       "\t18 & 5 & 3 & 10.4 & 10.2 \\\\\n",
       "\t19 & 5 & 4 & 7.8 & 22.3 \\\\\n",
       "\t20 & 5 & 5 & 9.6 & 30.8 \\\\\n",
       "\\end{tabular}\n"
      ],
      "text/plain": [
       "\u001b[1m20×4 DataFrame\u001b[0m\n",
       "\u001b[1m Row \u001b[0m│\u001b[1m bus_line_id \u001b[0m\u001b[1m stop_ids \u001b[0m\u001b[1m stop_x  \u001b[0m\u001b[1m stop_y  \u001b[0m\n",
       "     │\u001b[90m Int64       \u001b[0m\u001b[90m Int64    \u001b[0m\u001b[90m Float64 \u001b[0m\u001b[90m Float64 \u001b[0m\n",
       "─────┼─────────────────────────────────────────\n",
       "   1 │           1         1      2.2     36.8\n",
       "   2 │           1         2      4.4     40.1\n",
       "   3 │           1         3     12.5     42.7\n",
       "   4 │           1         4     20.2     44.0\n",
       "   5 │           2         1     40.9     48.2\n",
       "   6 │           2         2     46.2     40.7\n",
       "   7 │           2         3     56.6     38.2\n",
       "   8 │           3         1     44.6     15.2\n",
       "  ⋮  │      ⋮          ⋮         ⋮        ⋮\n",
       "  14 │           4         1     26.2      7.8\n",
       "  15 │           4         2     34.4      6.1\n",
       "  16 │           5         1     23.9     16.5\n",
       "  17 │           5         2     16.0     12.1\n",
       "  18 │           5         3     10.4     10.2\n",
       "  19 │           5         4      7.8     22.3\n",
       "  20 │           5         5      9.6     30.8\n",
       "\u001b[36m                                 5 rows omitted\u001b[0m"
      ]
     },
     "metadata": {},
     "output_type": "display_data"
    }
   ],
   "source": [
    "lines = CSV.read(\"/Users/alexanderklaus/Desktop/Masterthesis/Code/data/lines.csv\", DataFrame)\n",
    "#demand = CSV.read(\"/Users/alexanderklaus/Desktop/Masterthesis/Code/data/demand.csv\", DataFrame)\n",
    "#busses = CSV.read(\"/Users/alexanderklaus/Desktop/Masterthesis/Code/data/busses.csv\", DataFrame)\n",
    "bus_line_stops = CSV.read(\"/Users/alexanderklaus/Desktop/Masterthesis/Code/data/bus-lines.csv\", DataFrame)"
   ]
  },
  {
   "cell_type": "code",
   "execution_count": 3,
   "metadata": {},
   "outputs": [
    {
     "data": {
      "text/html": [
       "<div><div style = \"float: left;\"><span>17×3 DataFrame</span></div><div style = \"clear: both;\"></div></div><div class = \"data-frame\" style = \"overflow-x: scroll;\"><table class = \"data-frame\" style = \"margin-bottom: 6px;\"><thead><tr class = \"header\"><th class = \"rowNumber\" style = \"font-weight: bold; text-align: right;\">Row</th><th style = \"text-align: left;\">line_id</th><th style = \"text-align: left;\">bus_line_id</th><th style = \"text-align: left;\">start_time</th></tr><tr class = \"subheader headerLastRow\"><th class = \"rowNumber\" style = \"font-weight: bold; text-align: right;\"></th><th title = \"Int64\" style = \"text-align: left;\">Int64</th><th title = \"Int64\" style = \"text-align: left;\">Int64</th><th title = \"Float64\" style = \"text-align: left;\">Float64</th></tr></thead><tbody><tr><td class = \"rowNumber\" style = \"font-weight: bold; text-align: right;\">1</td><td style = \"text-align: right;\">1</td><td style = \"text-align: right;\">1</td><td style = \"text-align: right;\">20.0</td></tr><tr><td class = \"rowNumber\" style = \"font-weight: bold; text-align: right;\">2</td><td style = \"text-align: right;\">2</td><td style = \"text-align: right;\">1</td><td style = \"text-align: right;\">40.0</td></tr><tr><td class = \"rowNumber\" style = \"font-weight: bold; text-align: right;\">3</td><td style = \"text-align: right;\">3</td><td style = \"text-align: right;\">1</td><td style = \"text-align: right;\">60.0</td></tr><tr><td class = \"rowNumber\" style = \"font-weight: bold; text-align: right;\">4</td><td style = \"text-align: right;\">1</td><td style = \"text-align: right;\">2</td><td style = \"text-align: right;\">20.0</td></tr><tr><td class = \"rowNumber\" style = \"font-weight: bold; text-align: right;\">5</td><td style = \"text-align: right;\">2</td><td style = \"text-align: right;\">2</td><td style = \"text-align: right;\">35.0</td></tr><tr><td class = \"rowNumber\" style = \"font-weight: bold; text-align: right;\">6</td><td style = \"text-align: right;\">3</td><td style = \"text-align: right;\">2</td><td style = \"text-align: right;\">50.0</td></tr><tr><td class = \"rowNumber\" style = \"font-weight: bold; text-align: right;\">7</td><td style = \"text-align: right;\">1</td><td style = \"text-align: right;\">3</td><td style = \"text-align: right;\">16.0</td></tr><tr><td class = \"rowNumber\" style = \"font-weight: bold; text-align: right;\">8</td><td style = \"text-align: right;\">2</td><td style = \"text-align: right;\">3</td><td style = \"text-align: right;\">32.0</td></tr><tr><td class = \"rowNumber\" style = \"font-weight: bold; text-align: right;\">9</td><td style = \"text-align: right;\">3</td><td style = \"text-align: right;\">3</td><td style = \"text-align: right;\">48.0</td></tr><tr><td class = \"rowNumber\" style = \"font-weight: bold; text-align: right;\">10</td><td style = \"text-align: right;\">1</td><td style = \"text-align: right;\">4</td><td style = \"text-align: right;\">20.0</td></tr><tr><td class = \"rowNumber\" style = \"font-weight: bold; text-align: right;\">11</td><td style = \"text-align: right;\">2</td><td style = \"text-align: right;\">4</td><td style = \"text-align: right;\">32.0</td></tr><tr><td class = \"rowNumber\" style = \"font-weight: bold; text-align: right;\">12</td><td style = \"text-align: right;\">3</td><td style = \"text-align: right;\">4</td><td style = \"text-align: right;\">44.0</td></tr><tr><td class = \"rowNumber\" style = \"font-weight: bold; text-align: right;\">13</td><td style = \"text-align: right;\">4</td><td style = \"text-align: right;\">4</td><td style = \"text-align: right;\">56.0</td></tr><tr><td class = \"rowNumber\" style = \"font-weight: bold; text-align: right;\">14</td><td style = \"text-align: right;\">1</td><td style = \"text-align: right;\">5</td><td style = \"text-align: right;\">20.0</td></tr><tr><td class = \"rowNumber\" style = \"font-weight: bold; text-align: right;\">15</td><td style = \"text-align: right;\">2</td><td style = \"text-align: right;\">5</td><td style = \"text-align: right;\">32.0</td></tr><tr><td class = \"rowNumber\" style = \"font-weight: bold; text-align: right;\">16</td><td style = \"text-align: right;\">3</td><td style = \"text-align: right;\">5</td><td style = \"text-align: right;\">46.0</td></tr><tr><td class = \"rowNumber\" style = \"font-weight: bold; text-align: right;\">17</td><td style = \"text-align: right;\">4</td><td style = \"text-align: right;\">5</td><td style = \"text-align: right;\">58.0</td></tr></tbody></table></div>"
      ],
      "text/latex": [
       "\\begin{tabular}{r|ccc}\n",
       "\t& line\\_id & bus\\_line\\_id & start\\_time\\\\\n",
       "\t\\hline\n",
       "\t& Int64 & Int64 & Float64\\\\\n",
       "\t\\hline\n",
       "\t1 & 1 & 1 & 20.0 \\\\\n",
       "\t2 & 2 & 1 & 40.0 \\\\\n",
       "\t3 & 3 & 1 & 60.0 \\\\\n",
       "\t4 & 1 & 2 & 20.0 \\\\\n",
       "\t5 & 2 & 2 & 35.0 \\\\\n",
       "\t6 & 3 & 2 & 50.0 \\\\\n",
       "\t7 & 1 & 3 & 16.0 \\\\\n",
       "\t8 & 2 & 3 & 32.0 \\\\\n",
       "\t9 & 3 & 3 & 48.0 \\\\\n",
       "\t10 & 1 & 4 & 20.0 \\\\\n",
       "\t11 & 2 & 4 & 32.0 \\\\\n",
       "\t12 & 3 & 4 & 44.0 \\\\\n",
       "\t13 & 4 & 4 & 56.0 \\\\\n",
       "\t14 & 1 & 5 & 20.0 \\\\\n",
       "\t15 & 2 & 5 & 32.0 \\\\\n",
       "\t16 & 3 & 5 & 46.0 \\\\\n",
       "\t17 & 4 & 5 & 58.0 \\\\\n",
       "\\end{tabular}\n"
      ],
      "text/plain": [
       "\u001b[1m17×3 DataFrame\u001b[0m\n",
       "\u001b[1m Row \u001b[0m│\u001b[1m line_id \u001b[0m\u001b[1m bus_line_id \u001b[0m\u001b[1m start_time \u001b[0m\n",
       "     │\u001b[90m Int64   \u001b[0m\u001b[90m Int64       \u001b[0m\u001b[90m Float64    \u001b[0m\n",
       "─────┼──────────────────────────────────\n",
       "   1 │       1            1        20.0\n",
       "   2 │       2            1        40.0\n",
       "   3 │       3            1        60.0\n",
       "   4 │       1            2        20.0\n",
       "   5 │       2            2        35.0\n",
       "   6 │       3            2        50.0\n",
       "   7 │       1            3        16.0\n",
       "   8 │       2            3        32.0\n",
       "   9 │       3            3        48.0\n",
       "  10 │       1            4        20.0\n",
       "  11 │       2            4        32.0\n",
       "  12 │       3            4        44.0\n",
       "  13 │       4            4        56.0\n",
       "  14 │       1            5        20.0\n",
       "  15 │       2            5        32.0\n",
       "  16 │       3            5        46.0\n",
       "  17 │       4            5        58.0"
      ]
     },
     "metadata": {},
     "output_type": "display_data"
    }
   ],
   "source": [
    "lines"
   ]
  },
  {
   "cell_type": "markdown",
   "metadata": {},
   "source": [
    "# Data understanding"
   ]
  },
  {
   "cell_type": "markdown",
   "metadata": {},
   "source": [
    "## Adding the depot"
   ]
  },
  {
   "cell_type": "code",
   "execution_count": 4,
   "metadata": {},
   "outputs": [
    {
     "data": {
      "text/html": [
       "<div><div style = \"float: left;\"><span>18×3 DataFrame</span></div><div style = \"clear: both;\"></div></div><div class = \"data-frame\" style = \"overflow-x: scroll;\"><table class = \"data-frame\" style = \"margin-bottom: 6px;\"><thead><tr class = \"header\"><th class = \"rowNumber\" style = \"font-weight: bold; text-align: right;\">Row</th><th style = \"text-align: left;\">line_id</th><th style = \"text-align: left;\">bus_line_id</th><th style = \"text-align: left;\">start_time</th></tr><tr class = \"subheader headerLastRow\"><th class = \"rowNumber\" style = \"font-weight: bold; text-align: right;\"></th><th title = \"Int64\" style = \"text-align: left;\">Int64</th><th title = \"Int64\" style = \"text-align: left;\">Int64</th><th title = \"Float64\" style = \"text-align: left;\">Float64</th></tr></thead><tbody><tr><td class = \"rowNumber\" style = \"font-weight: bold; text-align: right;\">1</td><td style = \"text-align: right;\">0</td><td style = \"text-align: right;\">0</td><td style = \"text-align: right;\">0.0</td></tr><tr><td class = \"rowNumber\" style = \"font-weight: bold; text-align: right;\">2</td><td style = \"text-align: right;\">1</td><td style = \"text-align: right;\">1</td><td style = \"text-align: right;\">20.0</td></tr><tr><td class = \"rowNumber\" style = \"font-weight: bold; text-align: right;\">3</td><td style = \"text-align: right;\">2</td><td style = \"text-align: right;\">1</td><td style = \"text-align: right;\">40.0</td></tr><tr><td class = \"rowNumber\" style = \"font-weight: bold; text-align: right;\">4</td><td style = \"text-align: right;\">3</td><td style = \"text-align: right;\">1</td><td style = \"text-align: right;\">60.0</td></tr><tr><td class = \"rowNumber\" style = \"font-weight: bold; text-align: right;\">5</td><td style = \"text-align: right;\">1</td><td style = \"text-align: right;\">2</td><td style = \"text-align: right;\">20.0</td></tr><tr><td class = \"rowNumber\" style = \"font-weight: bold; text-align: right;\">6</td><td style = \"text-align: right;\">2</td><td style = \"text-align: right;\">2</td><td style = \"text-align: right;\">35.0</td></tr><tr><td class = \"rowNumber\" style = \"font-weight: bold; text-align: right;\">7</td><td style = \"text-align: right;\">3</td><td style = \"text-align: right;\">2</td><td style = \"text-align: right;\">50.0</td></tr><tr><td class = \"rowNumber\" style = \"font-weight: bold; text-align: right;\">8</td><td style = \"text-align: right;\">1</td><td style = \"text-align: right;\">3</td><td style = \"text-align: right;\">16.0</td></tr><tr><td class = \"rowNumber\" style = \"font-weight: bold; text-align: right;\">9</td><td style = \"text-align: right;\">2</td><td style = \"text-align: right;\">3</td><td style = \"text-align: right;\">32.0</td></tr><tr><td class = \"rowNumber\" style = \"font-weight: bold; text-align: right;\">10</td><td style = \"text-align: right;\">3</td><td style = \"text-align: right;\">3</td><td style = \"text-align: right;\">48.0</td></tr><tr><td class = \"rowNumber\" style = \"font-weight: bold; text-align: right;\">11</td><td style = \"text-align: right;\">1</td><td style = \"text-align: right;\">4</td><td style = \"text-align: right;\">20.0</td></tr><tr><td class = \"rowNumber\" style = \"font-weight: bold; text-align: right;\">12</td><td style = \"text-align: right;\">2</td><td style = \"text-align: right;\">4</td><td style = \"text-align: right;\">32.0</td></tr><tr><td class = \"rowNumber\" style = \"font-weight: bold; text-align: right;\">13</td><td style = \"text-align: right;\">3</td><td style = \"text-align: right;\">4</td><td style = \"text-align: right;\">44.0</td></tr><tr><td class = \"rowNumber\" style = \"font-weight: bold; text-align: right;\">14</td><td style = \"text-align: right;\">4</td><td style = \"text-align: right;\">4</td><td style = \"text-align: right;\">56.0</td></tr><tr><td class = \"rowNumber\" style = \"font-weight: bold; text-align: right;\">15</td><td style = \"text-align: right;\">1</td><td style = \"text-align: right;\">5</td><td style = \"text-align: right;\">20.0</td></tr><tr><td class = \"rowNumber\" style = \"font-weight: bold; text-align: right;\">16</td><td style = \"text-align: right;\">2</td><td style = \"text-align: right;\">5</td><td style = \"text-align: right;\">32.0</td></tr><tr><td class = \"rowNumber\" style = \"font-weight: bold; text-align: right;\">17</td><td style = \"text-align: right;\">3</td><td style = \"text-align: right;\">5</td><td style = \"text-align: right;\">46.0</td></tr><tr><td class = \"rowNumber\" style = \"font-weight: bold; text-align: right;\">18</td><td style = \"text-align: right;\">4</td><td style = \"text-align: right;\">5</td><td style = \"text-align: right;\">58.0</td></tr></tbody></table></div>"
      ],
      "text/latex": [
       "\\begin{tabular}{r|ccc}\n",
       "\t& line\\_id & bus\\_line\\_id & start\\_time\\\\\n",
       "\t\\hline\n",
       "\t& Int64 & Int64 & Float64\\\\\n",
       "\t\\hline\n",
       "\t1 & 0 & 0 & 0.0 \\\\\n",
       "\t2 & 1 & 1 & 20.0 \\\\\n",
       "\t3 & 2 & 1 & 40.0 \\\\\n",
       "\t4 & 3 & 1 & 60.0 \\\\\n",
       "\t5 & 1 & 2 & 20.0 \\\\\n",
       "\t6 & 2 & 2 & 35.0 \\\\\n",
       "\t7 & 3 & 2 & 50.0 \\\\\n",
       "\t8 & 1 & 3 & 16.0 \\\\\n",
       "\t9 & 2 & 3 & 32.0 \\\\\n",
       "\t10 & 3 & 3 & 48.0 \\\\\n",
       "\t11 & 1 & 4 & 20.0 \\\\\n",
       "\t12 & 2 & 4 & 32.0 \\\\\n",
       "\t13 & 3 & 4 & 44.0 \\\\\n",
       "\t14 & 4 & 4 & 56.0 \\\\\n",
       "\t15 & 1 & 5 & 20.0 \\\\\n",
       "\t16 & 2 & 5 & 32.0 \\\\\n",
       "\t17 & 3 & 5 & 46.0 \\\\\n",
       "\t18 & 4 & 5 & 58.0 \\\\\n",
       "\\end{tabular}\n"
      ],
      "text/plain": [
       "\u001b[1m18×3 DataFrame\u001b[0m\n",
       "\u001b[1m Row \u001b[0m│\u001b[1m line_id \u001b[0m\u001b[1m bus_line_id \u001b[0m\u001b[1m start_time \u001b[0m\n",
       "     │\u001b[90m Int64   \u001b[0m\u001b[90m Int64       \u001b[0m\u001b[90m Float64    \u001b[0m\n",
       "─────┼──────────────────────────────────\n",
       "   1 │       0            0         0.0\n",
       "   2 │       1            1        20.0\n",
       "   3 │       2            1        40.0\n",
       "   4 │       3            1        60.0\n",
       "   5 │       1            2        20.0\n",
       "   6 │       2            2        35.0\n",
       "   7 │       3            2        50.0\n",
       "   8 │       1            3        16.0\n",
       "  ⋮  │    ⋮          ⋮           ⋮\n",
       "  12 │       2            4        32.0\n",
       "  13 │       3            4        44.0\n",
       "  14 │       4            4        56.0\n",
       "  15 │       1            5        20.0\n",
       "  16 │       2            5        32.0\n",
       "  17 │       3            5        46.0\n",
       "  18 │       4            5        58.0\n",
       "\u001b[36m                          3 rows omitted\u001b[0m"
      ]
     },
     "metadata": {},
     "output_type": "display_data"
    }
   ],
   "source": [
    "depot=(bus_line_id=0,stop_ids=0,stop_x=30,stop_y=30)\n",
    "insert!(bus_line_stops,1,depot)\n",
    "depot=(line_id=0,bus_line_id=0, start_time=0)\n",
    "insert!(lines,1,depot)"
   ]
  },
  {
   "cell_type": "markdown",
   "metadata": {},
   "source": [
    "## Looking at the stops"
   ]
  },
  {
   "cell_type": "code",
   "execution_count": 37,
   "metadata": {},
   "outputs": [
    {
     "data": {
      "text/plain": [
       "\"buslinien_plot.html\""
      ]
     },
     "metadata": {},
     "output_type": "display_data"
    }
   ],
   "source": [
    "using PlotlyJS\n",
    "using DataFrames\n",
    "using Statistics\n",
    "\n",
    "# Gruppiere nach bus_line_id\n",
    "grouped_data = groupby(bus_line_stops, :bus_line_id)\n",
    "\n",
    "# Sammle alle Traces\n",
    "traces = PlotlyJS.AbstractTrace[]  # use correct type\n",
    "\n",
    "# Linien- und Beschriftungstraces erzeugen\n",
    "for grp in grouped_data\n",
    "    sort!(grp, :stop_ids)\n",
    "\n",
    "    # Linien-Trace mit Markern\n",
    "    push!(traces, scatter(\n",
    "        x = grp.stop_x,\n",
    "        y = grp.stop_y,\n",
    "        mode = \"lines+markers+text\",\n",
    "        name = \"Linie $(unique(grp.bus_line_id)[1])\",\n",
    "        marker = attr(size = 8),\n",
    "        text = string.(grp.stop_ids),\n",
    "        textposition = \"top center\",\n",
    "        textfont = attr(color=\"black\", size=10)\n",
    "    ))\n",
    "\n",
    "    # Distanzen zwischen benachbarten Haltestellen\n",
    "    for i in 1:(nrow(grp) - 1)\n",
    "        x1, y1 = grp.stop_x[i], grp.stop_y[i]\n",
    "        x2, y2 = grp.stop_x[i+1], grp.stop_y[i+1]\n",
    "        dist = round(sqrt((x2 - x1)^2 + (y2 - y1)^2), digits=2)\n",
    "        mx, my = mean([x1, x2]), mean([y1, y2])\n",
    "\n",
    "        # Distanztext hinzufügen\n",
    "        push!(traces, scatter(\n",
    "            x = [mx], y = [my],\n",
    "            mode = \"text\",\n",
    "            text = [\"d = $dist\"],\n",
    "            textposition = \"bottom center\",\n",
    "            textfont = attr(size = 9, color = \"gray\"),\n",
    "            showlegend = false\n",
    "        ))\n",
    "    end\n",
    "end\n",
    "\n",
    "# Layout festlegen\n",
    "layout = Layout(\n",
    "    title = \"Buslinien und ihre Haltestellen\",\n",
    "    xaxis_title = \"X-Koordinate\",\n",
    "    yaxis_title = \"Y-Koordinate\",\n",
    "    legend = attr(x=1.02, y=1)\n",
    ")\n",
    "\n",
    "# Plot erstellen\n",
    "p = Plot(traces, layout)\n",
    "\n",
    "# In HTML-Datei speichern (im gleichen Ordner wie Code)\n",
    "PlotlyJS.savefig(p, \"/Users/alexanderklaus/Desktop/Masterthesis/Code/output/buslinien_plot.html\")\n"
   ]
  },
  {
   "cell_type": "markdown",
   "metadata": {},
   "source": [
    "# Preprocessing"
   ]
  },
  {
   "cell_type": "markdown",
   "metadata": {},
   "source": [
    "### Input settings"
   ]
  },
  {
   "cell_type": "code",
   "execution_count": 512,
   "metadata": {},
   "outputs": [
    {
     "data": {
      "text/plain": [
       "50"
      ]
     },
     "metadata": {},
     "output_type": "display_data"
    }
   ],
   "source": [
    "bus_velocity = 50 #in km/h"
   ]
  },
  {
   "cell_type": "markdown",
   "metadata": {},
   "source": [
    "### Creating nodes for all stops, on every busline, for every tour"
   ]
  },
  {
   "cell_type": "code",
   "execution_count": 513,
   "metadata": {},
   "outputs": [],
   "source": [
    "nodes = []\n",
    "\n",
    "for r in eachrow(lines)\n",
    "    for row in eachrow(bus_line_stops)\n",
    "        if r.bus_line_id == row.bus_line_id\n",
    "            start_time_temp=0.0\n",
    "            if row.stop_ids == 1\n",
    "                start_time_temp = r.start_time\n",
    "            else\n",
    "                # alle Stopps dieser Linie sortieren\n",
    "                stops = sort(filter(r2 -> r2.bus_line_id == row.bus_line_id, eachrow(bus_line_stops)), by = r2 -> r2.stop_ids)\n",
    "                \n",
    "                # Travel time vom ersten Knoten bis aktuellen Knoten:\n",
    "                total_distance = 0.0\n",
    "                for k in 1:(row.stop_ids - 1)\n",
    "                    x1, y1 = stops[k].stop_x, stops[k].stop_y\n",
    "                    x2, y2 = stops[k+1].stop_x, stops[k+1].stop_y\n",
    "                    total_distance += sqrt((x2 - x1)^2 + (y2 - y1)^2)\n",
    "                end\n",
    "                travel_time = (total_distance / bus_velocity) * 60  # Minuten\n",
    "\n",
    "                # Startzeit = Startzeit erster Knoten + Travel Time\n",
    "                start_time_temp = r.start_time + travel_time\n",
    "            end\n",
    "            push!(nodes, (\n",
    "                bus_line_id = row.bus_line_id,\n",
    "                line_id     = r.line_id,\n",
    "                stop_id     = row.stop_ids,\n",
    "                coord_x     = row.stop_x,\n",
    "                coord_y     = row.stop_y,\n",
    "                start_time  = start_time_temp\n",
    "            ))\n",
    "                \n",
    "        end\n",
    "    end\n",
    "end"
   ]
  },
  {
   "cell_type": "code",
   "execution_count": 514,
   "metadata": {},
   "outputs": [
    {
     "name": "stdout",
     "output_type": "stream",
     "text": [
      "Nodes:"
     ]
    },
    {
     "data": {
      "text/plain": [
       "68-element Vector{Any}:\n",
       " (bus_line_id = 0, line_id = 0, stop_id = 0, coord_x = 30.0, coord_y = 30.0, start_time = 0.0)\n",
       " (bus_line_id = 1, line_id = 1, stop_id = 1, coord_x = 2.2, coord_y = 36.8, start_time = 20.0)\n",
       " (bus_line_id = 1, line_id = 1, stop_id = 2, coord_x = 4.4, coord_y = 40.1, start_time = 24.75932768361247)\n",
       " (bus_line_id = 1, line_id = 1, stop_id = 3, coord_x = 12.5, coord_y = 42.7, start_time = 34.967794757566324)\n",
       " (bus_line_id = 1, line_id = 1, stop_id = 4, coord_x = 20.2, coord_y = 44.0, start_time = 44.338557800136556)\n",
       " (bus_line_id = 1, line_id = 2, stop_id = 1, coord_x = 2.2, coord_y = 36.8, start_time = 40.0)\n",
       " (bus_line_id = 1, line_id = 2, stop_id = 2, coord_x = 4.4, coord_y = 40.1, start_time = 44.75932768361247)\n",
       " (bus_line_id = 1, line_id = 2, stop_id = 3, coord_x = 12.5, coord_y = 42.7, start_time = 54.967794757566324)\n",
       " (bus_line_id = 1, line_id = 2, stop_id = 4, coord_x = 20.2, coord_y = 44.0, start_time = 64.33855780013656)\n",
       " (bus_line_id = 1, line_id = 3, stop_id = 1, coord_x = 2.2, coord_y = 36.8, start_time = 60.0)\n",
       " ⋮\n",
       " (bus_line_id = 5, line_id = 3, stop_id = 2, coord_x = 16.0, coord_y = 12.1, start_time = 56.85121191388317)\n",
       " (bus_line_id = 5, line_id = 3, stop_id = 3, coord_x = 10.4, coord_y = 10.2, start_time = 63.947464446029976)\n",
       " (bus_line_id = 5, line_id = 3, stop_id = 4, coord_x = 7.8, coord_y = 22.3, start_time = 78.79888862016223)\n",
       " (bus_line_id = 5, line_id = 3, stop_id = 5, coord_x = 9.6, coord_y = 30.8, start_time = 89.22508639308022)\n",
       " (bus_line_id = 5, line_id = 4, stop_id = 1, coord_x = 23.9, coord_y = 16.5, start_time = 58.0)\n",
       " (bus_line_id = 5, line_id = 4, stop_id = 2, coord_x = 16.0, coord_y = 12.1, start_time = 68.85121191388316)\n",
       " (bus_line_id = 5, line_id = 4, stop_id = 3, coord_x = 10.4, coord_y = 10.2, start_time = 75.94746444602998)\n",
       " (bus_line_id = 5, line_id = 4, stop_id = 4, coord_x = 7.8, coord_y = 22.3, start_time = 90.79888862016223)\n",
       " (bus_line_id = 5, line_id = 4, stop_id = 5, coord_x = 9.6, coord_y = 30.8, start_time = 101.22508639308022)"
      ]
     },
     "metadata": {},
     "output_type": "display_data"
    }
   ],
   "source": [
    "print(\"Nodes:\")\n",
    "nodes"
   ]
  },
  {
   "cell_type": "markdown",
   "metadata": {},
   "source": [
    "### Creating connections"
   ]
  },
  {
   "cell_type": "code",
   "execution_count": 515,
   "metadata": {},
   "outputs": [
    {
     "data": {
      "text/plain": [
       "eucleadian_distance (generic function with 1 method)"
      ]
     },
     "metadata": {},
     "output_type": "display_data"
    }
   ],
   "source": [
    "function eucleadian_distance(x1, y1, x2, y2)\n",
    "    return sqrt((x1 - x2)^2 + (y1 - y2)^2)\n",
    "end"
   ]
  },
  {
   "cell_type": "code",
   "execution_count": 516,
   "metadata": {},
   "outputs": [
    {
     "name": "stdout",
     "output_type": "stream",
     "text": [
      "Connections dictionary:\n"
     ]
    },
    {
     "data": {
      "text/plain": [
       "4278-element Vector{Pair{Any, Any}}:\n",
       " ((0, 0, 0), (1, 1, 1)) => Connection(28.619573721493477, 34.34348846579218, 34.34348846579218)\n",
       " ((0, 0, 0), (1, 1, 2)) => Connection(27.520356102347225, 33.02442732281667, 33.02442732281667)\n",
       " ((0, 0, 0), (1, 1, 3)) => Connection(21.622673285234647, 25.947207942281576, 25.947207942281576)\n",
       " ((0, 0, 0), (1, 1, 4)) => Connection(17.089177862027185, 20.507013434432622, 20.507013434432622)\n",
       " ((0, 0, 0), (1, 2, 1)) => Connection(28.619573721493477, 34.34348846579218, 34.34348846579218)\n",
       " ((0, 0, 0), (1, 2, 2)) => Connection(27.520356102347225, 33.02442732281667, 33.02442732281667)\n",
       " ((0, 0, 0), (1, 2, 3)) => Connection(21.622673285234647, 25.947207942281576, 25.947207942281576)\n",
       " ((0, 0, 0), (1, 2, 4)) => Connection(17.089177862027185, 20.507013434432622, 20.507013434432622)\n",
       " ((0, 0, 0), (1, 3, 1)) => Connection(28.619573721493477, 34.34348846579218, 34.34348846579218)\n",
       " ((0, 0, 0), (1, 3, 2)) => Connection(27.520356102347225, 33.02442732281667, 33.02442732281667)\n",
       "                        ⋮\n",
       " ((5, 4, 5), (5, 1, 4)) => Connection(8.688498144098322, 10.426197772917988, 111.6512841659982)\n",
       " ((5, 4, 5), (5, 2, 1)) => Connection(20.22325394193526, 24.26790473032231, 125.49299112340253)\n",
       " ((5, 4, 5), (5, 2, 2)) => Connection(19.764867821465444, 23.717841385758533, 124.94292777883875)\n",
       " ((5, 4, 5), (5, 2, 3)) => Connection(20.615528128088304, 24.738633753705965, 125.96372014678619)\n",
       " ((5, 4, 5), (5, 2, 4)) => Connection(8.688498144098322, 10.426197772917988, 111.6512841659982)\n",
       " ((5, 4, 5), (5, 3, 1)) => Connection(20.22325394193526, 24.26790473032231, 125.49299112340253)\n",
       " ((5, 4, 5), (5, 3, 2)) => Connection(19.764867821465444, 23.717841385758533, 124.94292777883875)\n",
       " ((5, 4, 5), (5, 3, 3)) => Connection(20.615528128088304, 24.738633753705965, 125.96372014678619)\n",
       " ((5, 4, 5), (5, 3, 4)) => Connection(8.688498144098322, 10.426197772917988, 111.6512841659982)"
      ]
     },
     "metadata": {},
     "output_type": "display_data"
    }
   ],
   "source": [
    "# Define a struct to hold the travel_time and end_time\n",
    "struct Connection\n",
    "    distance::Float64\n",
    "    travel_time::Float64\n",
    "    end_time::Float64\n",
    "end\n",
    "\n",
    "# Update the dictionary to use the struct as the value type\n",
    "connections_dict = Dict()\n",
    "\n",
    "for node1 in nodes\n",
    "    for node2 in nodes\n",
    "        if node1 != node2\n",
    "            #skip if the nodes are the same\n",
    "            origin_node = (node1.bus_line_id, node1.line_id, node1.stop_id)\n",
    "            goal_node = (node2.bus_line_id, node2.line_id, node2.stop_id)\n",
    "            \n",
    "            if node1.bus_line_id == node2.bus_line_id\n",
    "                if node1.line_id == node2.line_id\n",
    "                    if node1.stop_id == node2.stop_id\n",
    "                        # Nodes are the same\n",
    "                        break\n",
    "                    else\n",
    "                        # Nodes are on the same tour\n",
    "                        stops = sort(filter(n -> n.bus_line_id == node1.bus_line_id, nodes), by = n -> n.stop_id)\n",
    "                        start_index = findfirst(n -> n.stop_id == node1.stop_id, stops)\n",
    "                        end_index = findfirst(n -> n.stop_id == node2.stop_id, stops)\n",
    "                        \n",
    "                        if start_index < end_index\n",
    "                            #if origin node comes before goal node\n",
    "                            total_distance = 0.0\n",
    "                            for i in start_index:(end_index - 1)\n",
    "                                x1, y1 = stops[i].coord_x, stops[i].coord_y\n",
    "                                x2, y2 = stops[i + 1].coord_x, stops[i + 1].coord_y\n",
    "                                total_distance += eucleadian_distance(x1, y1, x2, y2)\n",
    "                            end\n",
    "                            distance= total_distance\n",
    "                            travel_time = (total_distance / bus_velocity) * 60 #travel_time in minutes\n",
    "                            end_time = node1.start_time + travel_time\n",
    "                            connections_dict[(origin_node, goal_node)] = Connection(distance, travel_time, end_time)\n",
    "                        end\n",
    "                    end\n",
    "                else\n",
    "                    if node1.stop_id != node2.stop_id\n",
    "                        #nodes are on the same bus line but not the same tour\n",
    "                        distance = eucleadian_distance(node1.coord_x, node1.coord_y, node2.coord_x, node2.coord_y)\n",
    "                        travel_time = (distance / bus_velocity) * 60 #travel_time in minutes\n",
    "                        end_time = node1.start_time + travel_time\n",
    "                        connections_dict[(origin_node, goal_node)] = Connection(distance, travel_time, end_time)\n",
    "                    end\n",
    "                end\n",
    "            else\n",
    "                # Nodes are on different bus lines\n",
    "                distance = eucleadian_distance(node1.coord_x, node1.coord_y, node2.coord_x, node2.coord_y)\n",
    "                travel_time = (distance / bus_velocity) * 60 #travel_time in minutes\n",
    "                end_time = node1.start_time + travel_time\n",
    "                connections_dict[(origin_node, goal_node)] = Connection(distance, travel_time, end_time)\n",
    "            end\n",
    "        end\n",
    "    end\n",
    "end\n",
    "\n",
    "println(\"Connections dictionary:\")\n",
    "sort(collect(connections_dict), by = x -> x.first)"
   ]
  },
  {
   "cell_type": "code",
   "execution_count": 517,
   "metadata": {},
   "outputs": [
    {
     "data": {
      "text/plain": [
       "43.85593064973383"
      ]
     },
     "metadata": {},
     "output_type": "display_data"
    }
   ],
   "source": [
    "a,b,c=(2,1,3)\n",
    "idx=findfirst(n -> n.bus_line_id==a && n.line_id==b && n.stop_id ==c, nodes)\n",
    "nodes[idx].start_time"
   ]
  },
  {
   "cell_type": "code",
   "execution_count": 518,
   "metadata": {},
   "outputs": [
    {
     "data": {
      "text/plain": [
       "Connection(54.41801172406063, 65.30161406887275, 109.15754471860657)"
      ]
     },
     "metadata": {},
     "output_type": "display_data"
    }
   ],
   "source": [
    "connections_dict[((2,1,3),(1,1,1))]"
   ]
  },
  {
   "cell_type": "markdown",
   "metadata": {},
   "source": [
    "### Dictionary mit Stopp-IDs je Linie"
   ]
  },
  {
   "cell_type": "code",
   "execution_count": 519,
   "metadata": {},
   "outputs": [
    {
     "name": "stdout",
     "output_type": "stream",
     "text": [
      "Dictionary of lines with their respective stop-sequences:\n"
     ]
    },
    {
     "data": {
      "text/plain": [
       "OrderedDict{Int64, Vector{Int64}} with 5 entries:\n",
       "  1 => [1, 2, 3, 4]\n",
       "  2 => [1, 2, 3]\n",
       "  3 => [1, 2, 3, 4, 5, 6]\n",
       "  4 => [1, 2]\n",
       "  5 => [1, 2, 3, 4, 5]"
      ]
     },
     "metadata": {},
     "output_type": "display_data"
    }
   ],
   "source": [
    "line_stops_dict = Dict{Int, Vector{Int}}()\n",
    "\n",
    "for row in eachrow(bus_line_stops)\n",
    "    l = row.bus_line_id\n",
    "    stop = row.stop_ids\n",
    "    # Depot-Zeile überspringen\n",
    "    if l == 0 && stop == 0\n",
    "        continue\n",
    "    end\n",
    "    if haskey(line_stops_dict, l)\n",
    "        push!(line_stops_dict[l], stop)\n",
    "    else\n",
    "        line_stops_dict[l] = [stop]\n",
    "    end\n",
    "end\n",
    "println(\"Dictionary of lines with their respective stop-sequences:\")\n",
    "sort(line_stops_dict)"
   ]
  },
  {
   "cell_type": "markdown",
   "metadata": {},
   "source": [
    "### Populating set A"
   ]
  },
  {
   "cell_type": "code",
   "execution_count": 520,
   "metadata": {},
   "outputs": [
    {
     "data": {
      "text/plain": [
       "get_connections_which_fulfill_time_constraint_new (generic function with 1 method)"
      ]
     },
     "metadata": {},
     "output_type": "display_data"
    }
   ],
   "source": [
    "function get_connections_which_fulfill_time_constraint_new(lines, line_stops_dict, connections_dict, A_set)\n",
    "    for (from, to) in sort(collect(keys(connections_dict)))\n",
    "        # unpack\n",
    "        a, l1, s1 = from\n",
    "        c, l2, s2 = to\n",
    "\n",
    "        # Skip depot node\n",
    "        if s1 == 0 || s2 == 0\n",
    "            continue\n",
    "        end\n",
    "        # Check if it is a connection from end of one line to start of another line\n",
    "        if s1 == last(line_stops_dict[a]) && s2 == first(line_stops_dict[c]) && (a != c || l1 != l2)\n",
    "            #display(\"Checking for connection $from - $to...\")\n",
    "            idx_origin = findfirst(x -> x.bus_line_id == a && x.line_id == l1 && x.stop_id == first(line_stops_dict[a]), nodes)\n",
    "            t_start_origin_tour = nodes[idx_origin].start_time\n",
    "            t_depot_firststop = connections_dict[((0,0,0),(a,l1,first(line_stops_dict[a])))].travel_time\n",
    "            if t_depot_firststop < t_start_origin_tour\n",
    "                #display(\"Origin tour $from (start time $t_start_origin_tour) can be started.\")\n",
    "                t_end_origin_line = connections_dict[((a,l1,first(line_stops_dict[a])),(a,l1,last(line_stops_dict[a])))].end_time\n",
    "                t_between_lines = connections_dict[((a,l1,last(line_stops_dict[a])),(c,l2,first(line_stops_dict[a])))].travel_time\n",
    "                idx_goal = findfirst(x -> x.bus_line_id == c && x.line_id == l2 && x.stop_id == first(line_stops_dict[c]), nodes)\n",
    "                t_start_second_tour = nodes[idx_goal].start_time\n",
    "                #display(\"Checking if time constraint holds for connection between tour $from and tour $to...\")\n",
    "                if t_end_origin_line + t_between_lines <= t_start_second_tour\n",
    "                    #display(\"Added connection $from-$to, because end of tour $from is $t_end_origin_line and start of tour $to is $t_start_second_tour.\")\n",
    "                    if !((from,to) in A_set)\n",
    "                        push!(A_set, (from,to))\n",
    "                    end\n",
    "                else\n",
    "                    #display(\"Time constraint does not hold for connection $from-$to.\")\n",
    "                    continue\n",
    "                end\n",
    "            else\n",
    "                #display(\"Origin line can not be started in time.\")\n",
    "                continue\n",
    "            end\n",
    "        end\n",
    "    end\n",
    "end\n"
   ]
  },
  {
   "cell_type": "code",
   "execution_count": 521,
   "metadata": {},
   "outputs": [],
   "source": [
    "A_set = []\n",
    "for i in sort(collect(keys(connections_dict)))\n",
    "    from, to = i\n",
    "    #Connection Depot <-> erste Haltestelle wird mit aufgenommen\n",
    "    if from == (0,0,0) && to[3] == 1\n",
    "        push!(A_set, i)\n",
    "    #Connection Depot <-> letzte Haltestelle wird mit aufgenommen\n",
    "    elseif from[3] !=0 && from[3] == last(line_stops_dict[from[1]]) && to == (0,0,0)\n",
    "        push!(A_set, i)\n",
    "    #Connection erste Haltestelle <-> letzte Haltestelle derselben Linie wird mit aufgenommen\n",
    "    elseif from[3] !=0 && from[3] == first(line_stops_dict[from[1]]) && from[1] == to[1] && to[3] == last(line_stops_dict[to[1]]) && from[2] == to[2]\n",
    "        push!(A_set, i)\n",
    "    else\n",
    "        continue\n",
    "    end\n",
    "end"
   ]
  },
  {
   "cell_type": "code",
   "execution_count": 522,
   "metadata": {},
   "outputs": [
    {
     "name": "stdout",
     "output_type": "stream",
     "text": [
      "A_set:\n",
      "((0, 0, 0), (1, 1, 1))\n",
      "((0, 0, 0), (1, 2, 1))\n",
      "((0, 0, 0), (1, 3, 1))\n",
      "((0, 0, 0), (2, 1, 1))\n",
      "((0, 0, 0), (2, 2, 1))\n",
      "((0, 0, 0), (2, 3, 1))\n",
      "((0, 0, 0), (3, 1, 1))\n",
      "((0, 0, 0), (3, 2, 1))\n",
      "((0, 0, 0), (3, 3, 1))\n",
      "((0, 0, 0), (4, 1, 1))\n",
      "((0, 0, 0), (4, 2, 1))\n",
      "((0, 0, 0), (4, 3, 1))\n",
      "((0, 0, 0), (4, 4, 1))\n",
      "((0, 0, 0), (5, 1, 1))\n",
      "((0, 0, 0), (5, 2, 1))\n",
      "((0, 0, 0), (5, 3, 1))\n",
      "((0, 0, 0), (5, 4, 1))\n",
      "((1, 1, 1), (1, 1, 4))\n",
      "((1, 1, 4), (0, 0, 0))\n",
      "((1, 2, 1), (1, 2, 4))\n",
      "((1, 2, 4), (0, 0, 0))\n",
      "((1, 3, 1), (1, 3, 4))\n",
      "((1, 3, 4), (0, 0, 0))\n",
      "((2, 1, 1), (2, 1, 3))\n",
      "((2, 1, 3), (0, 0, 0))\n",
      "((2, 2, 1), (2, 2, 3))\n",
      "((2, 2, 3), (0, 0, 0))\n",
      "((2, 3, 1), (2, 3, 3))\n",
      "((2, 3, 3), (0, 0, 0))\n",
      "((3, 1, 1), (3, 1, 6))\n",
      "((3, 1, 6), (0, 0, 0))\n",
      "((3, 2, 1), (3, 2, 6))\n",
      "((3, 2, 6), (0, 0, 0))\n",
      "((3, 3, 1), (3, 3, 6))\n",
      "((3, 3, 6), (0, 0, 0))\n",
      "((4, 1, 1), (4, 1, 2))\n",
      "((4, 1, 2), (0, 0, 0))\n",
      "((4, 2, 1), (4, 2, 2))\n",
      "((4, 2, 2), (0, 0, 0))\n",
      "((4, 3, 1), (4, 3, 2))\n",
      "((4, 3, 2), (0, 0, 0))\n",
      "((4, 4, 1), (4, 4, 2))\n",
      "((4, 4, 2), (0, 0, 0))\n",
      "((5, 1, 1), (5, 1, 5))\n",
      "((5, 1, 5), (0, 0, 0))\n",
      "((5, 2, 1), (5, 2, 5))\n",
      "((5, 2, 5), (0, 0, 0))\n",
      "((5, 3, 1), (5, 3, 5))\n",
      "((5, 3, 5), (0, 0, 0))\n",
      "((5, 4, 1), (5, 4, 5))\n",
      "((5, 4, 5), (0, 0, 0))\n",
      "((4, 2, 2), (4, 4, 1))\n"
     ]
    }
   ],
   "source": [
    "#Connection zwischen den Linien unter der Bedingung \"t_end_of_first_line + t_between_lines <= t_start_time_second_line\"\n",
    "get_connections_which_fulfill_time_constraint_new(lines, line_stops_dict, connections_dict, A_set)\n",
    "full_output = join(string.(A_set), \"\\n\")\n",
    "print(\"A_set:\\n\")\n",
    "println(full_output)"
   ]
  },
  {
   "cell_type": "markdown",
   "metadata": {},
   "source": [
    "### Populating set V"
   ]
  },
  {
   "cell_type": "code",
   "execution_count": 523,
   "metadata": {},
   "outputs": [
    {
     "name": "stdout",
     "output_type": "stream",
     "text": [
      "V_set:\n",
      "(0, 0, 0)\n",
      "(1, 1, 1)\n",
      "(1, 1, 4)\n",
      "(1, 2, 1)\n",
      "(1, 2, 4)\n",
      "(1, 3, 1)\n",
      "(1, 3, 4)\n",
      "(2, 1, 1)\n",
      "(2, 1, 3)\n",
      "(2, 2, 1)\n",
      "(2, 2, 3)\n",
      "(2, 3, 1)\n",
      "(2, 3, 3)\n",
      "(3, 1, 1)\n",
      "(3, 1, 6)\n",
      "(3, 2, 1)\n",
      "(3, 2, 6)\n",
      "(3, 3, 1)\n",
      "(3, 3, 6)\n",
      "(4, 1, 1)\n",
      "(4, 1, 2)\n",
      "(4, 2, 1)\n",
      "(4, 2, 2)\n",
      "(4, 3, 1)\n",
      "(4, 3, 2)\n",
      "(4, 4, 1)\n",
      "(4, 4, 2)\n",
      "(5, 1, 1)\n",
      "(5, 1, 5)\n",
      "(5, 2, 1)\n",
      "(5, 2, 5)\n",
      "(5, 3, 1)\n",
      "(5, 3, 5)\n",
      "(5, 4, 1)\n",
      "(5, 4, 5)\n"
     ]
    }
   ],
   "source": [
    "using OrderedCollections\n",
    "\n",
    "V_set = Set()\n",
    "push!(V_set, (0, 0, 0))  # Add the depot D\n",
    "\n",
    "# Loop over all combinations of bus_line_id and line_id in nodes\n",
    "for (bus_line_id, stop_ids) in line_stops_dict\n",
    "    # Get all line_ids for this bus_line_id from nodes\n",
    "    line_ids = unique(n.line_id for n in nodes if n.bus_line_id == bus_line_id)\n",
    "    \n",
    "    for line_id in line_ids\n",
    "        first_stop = first(stop_ids)\n",
    "        last_stop = last(stop_ids)\n",
    "        push!(V_set, (bus_line_id, line_id, first_stop))\n",
    "        push!(V_set, (bus_line_id, line_id, last_stop))\n",
    "    end\n",
    "end\n",
    "V_set = sort(collect(V_set))\n",
    "full_output = join(string.(V_set), \"\\n\")\n",
    "println(\"V_set:\")\n",
    "println(full_output) "
   ]
  },
  {
   "cell_type": "markdown",
   "metadata": {},
   "source": [
    "# Model definition"
   ]
  },
  {
   "cell_type": "markdown",
   "metadata": {},
   "source": [
    "## Initialize model instance"
   ]
  },
  {
   "cell_type": "code",
   "execution_count": 524,
   "metadata": {},
   "outputs": [
    {
     "data": {
      "text/plain": [
       "A JuMP Model\n",
       "├ solver: HiGHS\n",
       "├ objective_sense: FEASIBILITY_SENSE\n",
       "├ num_variables: 0\n",
       "├ num_constraints: 0\n",
       "└ Names registered in the model: none"
      ]
     },
     "metadata": {},
     "output_type": "display_data"
    }
   ],
   "source": [
    "model= Model(HiGHS.Optimizer)"
   ]
  },
  {
   "cell_type": "markdown",
   "metadata": {},
   "source": [
    "## Initialize variables"
   ]
  },
  {
   "cell_type": "code",
   "execution_count": 525,
   "metadata": {},
   "outputs": [
    {
     "data": {
      "text/plain": [
       "1-dimensional DenseAxisArray{VariableRef,1,...} with index sets:\n",
       "    Dimension 1, Any[((0, 0, 0), (1, 1, 1)), ((0, 0, 0), (1, 2, 1)), ((0, 0, 0), (1, 3, 1)), ((0, 0, 0), (2, 1, 1)), ((0, 0, 0), (2, 2, 1)), ((0, 0, 0), (2, 3, 1)), ((0, 0, 0), (3, 1, 1)), ((0, 0, 0), (3, 2, 1)), ((0, 0, 0), (3, 3, 1)), ((0, 0, 0), (4, 1, 1))  …  ((4, 4, 2), (0, 0, 0)), ((5, 1, 1), (5, 1, 5)), ((5, 1, 5), (0, 0, 0)), ((5, 2, 1), (5, 2, 5)), ((5, 2, 5), (0, 0, 0)), ((5, 3, 1), (5, 3, 5)), ((5, 3, 5), (0, 0, 0)), ((5, 4, 1), (5, 4, 5)), ((5, 4, 5), (0, 0, 0)), ((4, 2, 2), (4, 4, 1))]\n",
       "And data, a 52-element Vector{VariableRef}:\n",
       " x[((0, 0, 0), (1, 1, 1))]\n",
       " x[((0, 0, 0), (1, 2, 1))]\n",
       " x[((0, 0, 0), (1, 3, 1))]\n",
       " x[((0, 0, 0), (2, 1, 1))]\n",
       " x[((0, 0, 0), (2, 2, 1))]\n",
       " x[((0, 0, 0), (2, 3, 1))]\n",
       " x[((0, 0, 0), (3, 1, 1))]\n",
       " x[((0, 0, 0), (3, 2, 1))]\n",
       " x[((0, 0, 0), (3, 3, 1))]\n",
       " x[((0, 0, 0), (4, 1, 1))]\n",
       " ⋮\n",
       " x[((5, 1, 1), (5, 1, 5))]\n",
       " x[((5, 1, 5), (0, 0, 0))]\n",
       " x[((5, 2, 1), (5, 2, 5))]\n",
       " x[((5, 2, 5), (0, 0, 0))]\n",
       " x[((5, 3, 1), (5, 3, 5))]\n",
       " x[((5, 3, 5), (0, 0, 0))]\n",
       " x[((5, 4, 1), (5, 4, 5))]\n",
       " x[((5, 4, 5), (0, 0, 0))]\n",
       " x[((4, 2, 2), (4, 4, 1))]"
      ]
     },
     "metadata": {},
     "output_type": "display_data"
    }
   ],
   "source": [
    "@variable(model, x[connection in A_set], Bin)"
   ]
  },
  {
   "cell_type": "markdown",
   "metadata": {},
   "source": [
    "## Objective function"
   ]
  },
  {
   "cell_type": "code",
   "execution_count": 526,
   "metadata": {},
   "outputs": [
    {
     "data": {
      "text/latex": [
       "$ x_{((0, 0, 0), (1, 1, 1))} + x_{((0, 0, 0), (1, 2, 1))} + x_{((0, 0, 0), (1, 3, 1))} + x_{((0, 0, 0), (2, 1, 1))} + x_{((0, 0, 0), (2, 2, 1))} + x_{((0, 0, 0), (2, 3, 1))} + x_{((0, 0, 0), (3, 1, 1))} + x_{((0, 0, 0), (3, 2, 1))} + x_{((0, 0, 0), (3, 3, 1))} + x_{((0, 0, 0), (4, 1, 1))} + x_{((0, 0, 0), (4, 2, 1))} + x_{((0, 0, 0), (4, 3, 1))} + x_{((0, 0, 0), (4, 4, 1))} + x_{((0, 0, 0), (5, 1, 1))} + x_{((0, 0, 0), (5, 2, 1))} + x_{((0, 0, 0), (5, 3, 1))} + x_{((0, 0, 0), (5, 4, 1))} $"
      ],
      "text/plain": [
       "x[((0, 0, 0), (1, 1, 1))] + x[((0, 0, 0), (1, 2, 1))] + x[((0, 0, 0), (1, 3, 1))] + x[((0, 0, 0), (2, 1, 1))] + x[((0, 0, 0), (2, 2, 1))] + x[((0, 0, 0), (2, 3, 1))] + x[((0, 0, 0), (3, 1, 1))] + x[((0, 0, 0), (3, 2, 1))] + x[((0, 0, 0), (3, 3, 1))] + x[((0, 0, 0), (4, 1, 1))] + x[((0, 0, 0), (4, 2, 1))] + x[((0, 0, 0), (4, 3, 1))] + x[((0, 0, 0), (4, 4, 1))] + x[((0, 0, 0), (5, 1, 1))] + x[((0, 0, 0), (5, 2, 1))] + x[((0, 0, 0), (5, 3, 1))] + x[((0, 0, 0), (5, 4, 1))]"
      ]
     },
     "metadata": {},
     "output_type": "display_data"
    }
   ],
   "source": [
    "@objective(model, Min, sum(x[connection] for connection in A_set if connection[1] == (0,0,0)))"
   ]
  },
  {
   "cell_type": "markdown",
   "metadata": {},
   "source": [
    "## Initialize constraints"
   ]
  },
  {
   "cell_type": "markdown",
   "metadata": {},
   "source": [
    "### Flusserhaltung"
   ]
  },
  {
   "cell_type": "code",
   "execution_count": 527,
   "metadata": {},
   "outputs": [
    {
     "data": {
      "text/plain": [
       "1-dimensional DenseAxisArray{ConstraintRef{Model, MathOptInterface.ConstraintIndex{MathOptInterface.ScalarAffineFunction{Float64}, MathOptInterface.EqualTo{Float64}}, ScalarShape},1,...} with index sets:\n",
       "    Dimension 1, Any[(0, 0, 0), (1, 1, 1), (1, 1, 4), (1, 2, 1), (1, 2, 4), (1, 3, 1), (1, 3, 4), (2, 1, 1), (2, 1, 3), (2, 2, 1)  …  (4, 4, 1), (4, 4, 2), (5, 1, 1), (5, 1, 5), (5, 2, 1), (5, 2, 5), (5, 3, 1), (5, 3, 5), (5, 4, 1), (5, 4, 5)]\n",
       "And data, a 35-element Vector{ConstraintRef{Model, MathOptInterface.ConstraintIndex{MathOptInterface.ScalarAffineFunction{Float64}, MathOptInterface.EqualTo{Float64}}, ScalarShape}}:\n",
       " flow_conservation[(0, 0, 0)] : -x[((0, 0, 0), (1, 1, 1))] - x[((0, 0, 0), (1, 2, 1))] - x[((0, 0, 0), (1, 3, 1))] - x[((0, 0, 0), (2, 1, 1))] - x[((0, 0, 0), (2, 2, 1))] - x[((0, 0, 0), (2, 3, 1))] - x[((0, 0, 0), (3, 1, 1))] - x[((0, 0, 0), (3, 2, 1))] - x[((0, 0, 0), (3, 3, 1))] - x[((0, 0, 0), (4, 1, 1))] - x[((0, 0, 0), (4, 2, 1))] - x[((0, 0, 0), (4, 3, 1))] - x[((0, 0, 0), (4, 4, 1))] - x[((0, 0, 0), (5, 1, 1))] - x[((0, 0, 0), (5, 2, 1))] - x[((0, 0, 0), (5, 3, 1))] - x[((0, 0, 0), (5, 4, 1))] + x[((1, 1, 4), (0, 0, 0))] + x[((1, 2, 4), (0, 0, 0))] + x[((1, 3, 4), (0, 0, 0))] + x[((2, 1, 3), (0, 0, 0))] + x[((2, 2, 3), (0, 0, 0))] + x[((2, 3, 3), (0, 0, 0))] + x[((3, 1, 6), (0, 0, 0))] + x[((3, 2, 6), (0, 0, 0))] + x[((3, 3, 6), (0, 0, 0))] + x[((4, 1, 2), (0, 0, 0))] + x[((4, 2, 2), (0, 0, 0))] + x[((4, 3, 2), (0, 0, 0))] + x[((4, 4, 2), (0, 0, 0))] + x[((5, 1, 5), (0, 0, 0))] + x[((5, 2, 5), (0, 0, 0))] + x[((5, 3, 5), (0, 0, 0))] + x[((5, 4, 5), (0, 0, 0))] = 0\n",
       " flow_conservation[(1, 1, 1)] : x[((0, 0, 0), (1, 1, 1))] - x[((1, 1, 1), (1, 1, 4))] = 0\n",
       " flow_conservation[(1, 1, 4)] : x[((1, 1, 1), (1, 1, 4))] - x[((1, 1, 4), (0, 0, 0))] = 0\n",
       " flow_conservation[(1, 2, 1)] : x[((0, 0, 0), (1, 2, 1))] - x[((1, 2, 1), (1, 2, 4))] = 0\n",
       " flow_conservation[(1, 2, 4)] : x[((1, 2, 1), (1, 2, 4))] - x[((1, 2, 4), (0, 0, 0))] = 0\n",
       " flow_conservation[(1, 3, 1)] : x[((0, 0, 0), (1, 3, 1))] - x[((1, 3, 1), (1, 3, 4))] = 0\n",
       " flow_conservation[(1, 3, 4)] : x[((1, 3, 1), (1, 3, 4))] - x[((1, 3, 4), (0, 0, 0))] = 0\n",
       " flow_conservation[(2, 1, 1)] : x[((0, 0, 0), (2, 1, 1))] - x[((2, 1, 1), (2, 1, 3))] = 0\n",
       " flow_conservation[(2, 1, 3)] : x[((2, 1, 1), (2, 1, 3))] - x[((2, 1, 3), (0, 0, 0))] = 0\n",
       " flow_conservation[(2, 2, 1)] : x[((0, 0, 0), (2, 2, 1))] - x[((2, 2, 1), (2, 2, 3))] = 0\n",
       " ⋮\n",
       " flow_conservation[(4, 4, 2)] : x[((4, 4, 1), (4, 4, 2))] - x[((4, 4, 2), (0, 0, 0))] = 0\n",
       " flow_conservation[(5, 1, 1)] : x[((0, 0, 0), (5, 1, 1))] - x[((5, 1, 1), (5, 1, 5))] = 0\n",
       " flow_conservation[(5, 1, 5)] : x[((5, 1, 1), (5, 1, 5))] - x[((5, 1, 5), (0, 0, 0))] = 0\n",
       " flow_conservation[(5, 2, 1)] : x[((0, 0, 0), (5, 2, 1))] - x[((5, 2, 1), (5, 2, 5))] = 0\n",
       " flow_conservation[(5, 2, 5)] : x[((5, 2, 1), (5, 2, 5))] - x[((5, 2, 5), (0, 0, 0))] = 0\n",
       " flow_conservation[(5, 3, 1)] : x[((0, 0, 0), (5, 3, 1))] - x[((5, 3, 1), (5, 3, 5))] = 0\n",
       " flow_conservation[(5, 3, 5)] : x[((5, 3, 1), (5, 3, 5))] - x[((5, 3, 5), (0, 0, 0))] = 0\n",
       " flow_conservation[(5, 4, 1)] : x[((0, 0, 0), (5, 4, 1))] - x[((5, 4, 1), (5, 4, 5))] = 0\n",
       " flow_conservation[(5, 4, 5)] : x[((5, 4, 1), (5, 4, 5))] - x[((5, 4, 5), (0, 0, 0))] = 0"
      ]
     },
     "metadata": {},
     "output_type": "display_data"
    }
   ],
   "source": [
    "#=m = length(keys(line_stops_dict))\n",
    "println(m)\n",
    "@variable(model, 0 <= f[(i,j) in A_set] <= m)\n",
    "@constraint(model, [(i,j) in A_set], f[(i,j)] <= m * x[(i,j)])\n",
    "\n",
    "# Flow starts at depot\n",
    "@constraint(model, sum(f[(i,j)] for (i,j) in A_set if i == (0,0)) == m)\n",
    "\n",
    "# Flow conservation for all other nodes\n",
    "@constraint(model, [node in V_Set; node != (0,0)],\n",
    "    sum(f[(i,j)] for (i,j) in A_set if j == node)\n",
    "  - sum(f[(i,j)] for (i,j) in A_set if i == node)\n",
    "  == 1\n",
    ")\n",
    "=#\n",
    "\n",
    "\n",
    "@constraint(model, \n",
    "    flow_conservation[node in V_set],\n",
    "    sum(x[connection] for connection in A_set if connection[2] == node) - \n",
    "    sum(x[connection] for connection in A_set if connection[1] == node) == 0\n",
    ")\n"
   ]
  },
  {
   "cell_type": "markdown",
   "metadata": {},
   "source": [
    "### All bus lines are served entirely"
   ]
  },
  {
   "cell_type": "code",
   "execution_count": 528,
   "metadata": {},
   "outputs": [
    {
     "data": {
      "text/plain": [
       "JuMP.Containers.SparseAxisArray{ConstraintRef{Model, MathOptInterface.ConstraintIndex{MathOptInterface.ScalarAffineFunction{Float64}, MathOptInterface.EqualTo{Float64}}, ScalarShape}, 1, Tuple{Tuple{Tuple{Int64, Int64, Int64}, Tuple{Int64, Int64, Int64}}}} with 17 entries:\n",
       "  [((1, 1, 1), (1, 1, 4))]  =  x[((1, 1, 1), (1, 1, 4))] = 1\n",
       "  [((1, 2, 1), (1, 2, 4))]  =  x[((1, 2, 1), (1, 2, 4))] = 1\n",
       "  [((1, 3, 1), (1, 3, 4))]  =  x[((1, 3, 1), (1, 3, 4))] = 1\n",
       "  [((2, 1, 1), (2, 1, 3))]  =  x[((2, 1, 1), (2, 1, 3))] = 1\n",
       "  [((2, 2, 1), (2, 2, 3))]  =  x[((2, 2, 1), (2, 2, 3))] = 1\n",
       "  [((2, 3, 1), (2, 3, 3))]  =  x[((2, 3, 1), (2, 3, 3))] = 1\n",
       "  [((3, 1, 1), (3, 1, 6))]  =  x[((3, 1, 1), (3, 1, 6))] = 1\n",
       "  [((4, 1, 1), (4, 1, 2))]  =  x[((4, 1, 1), (4, 1, 2))] = 1\n",
       "                            ⋮\n",
       "  [((4, 2, 1), (4, 2, 2))]  =  x[((4, 2, 1), (4, 2, 2))] = 1\n",
       "  [((4, 3, 1), (4, 3, 2))]  =  x[((4, 3, 1), (4, 3, 2))] = 1\n",
       "  [((4, 4, 1), (4, 4, 2))]  =  x[((4, 4, 1), (4, 4, 2))] = 1\n",
       "  [((5, 1, 1), (5, 1, 5))]  =  x[((5, 1, 1), (5, 1, 5))] = 1\n",
       "  [((5, 2, 1), (5, 2, 5))]  =  x[((5, 2, 1), (5, 2, 5))] = 1\n",
       "  [((5, 3, 1), (5, 3, 5))]  =  x[((5, 3, 1), (5, 3, 5))] = 1\n",
       "  [((5, 4, 1), (5, 4, 5))]  =  x[((5, 4, 1), (5, 4, 5))] = 1"
      ]
     },
     "metadata": {},
     "output_type": "display_data"
    }
   ],
   "source": [
    "@constraint(model,[connection in A_set; connection[1] != (0,0,0) && connection[1][1] == connection[2][1] && connection[1][2] == connection[2][2]],x[connection] == 1)"
   ]
  },
  {
   "cell_type": "markdown",
   "metadata": {},
   "source": [
    "### Other constraints"
   ]
  },
  {
   "cell_type": "code",
   "execution_count": 529,
   "metadata": {},
   "outputs": [],
   "source": [
    "#@constraint(model, depot_flow_conservation, sum(x[(i,j)] for (i,j) in A_set if i == (0,0)) >= 1)"
   ]
  },
  {
   "cell_type": "code",
   "execution_count": 530,
   "metadata": {},
   "outputs": [],
   "source": [
    "#@constraint(model, x[((0,0), (5,1))] == 1)"
   ]
  },
  {
   "cell_type": "markdown",
   "metadata": {},
   "source": [
    "# Solve model"
   ]
  },
  {
   "cell_type": "code",
   "execution_count": 531,
   "metadata": {},
   "outputs": [
    {
     "name": "stdout",
     "output_type": "stream",
     "text": [
      "Running HiGHS 1.8.0 (git hash: fcfb53414): Copyright (c) 2024 HiGHS under MIT licence terms\n",
      "Coefficient ranges:\n",
      "  Matrix [1e+00, 1e+00]\n",
      "  Cost   [1e+00, 1e+00]\n",
      "  Bound  [1e+00, 1e+00]\n",
      "  RHS    [1e+00, 1e+00]\n",
      "Presolving model\n",
      "3 rows, 3 cols, 6 nonzeros  0s\n",
      "0 rows, 0 cols, 0 nonzeros  0s\n",
      "Presolve: Optimal\n",
      "\n",
      "        Nodes      |    B&B Tree     |            Objective Bounds              |  Dynamic Constraints |       Work      \n",
      "     Proc. InQueue |  Leaves   Expl. | BestBound       BestSol              Gap |   Cuts   InLp Confl. | LpIters     Time\n",
      "\n",
      "         0       0         0   0.00%   16              16                 0.00%        0      0      0         0     0.0s\n",
      "\n",
      "Solving report\n",
      "  Status            Optimal\n",
      "  Primal bound      16\n",
      "  Dual bound        16\n",
      "  Gap               0% (tolerance: 0.01%)\n",
      "  Solution status   feasible\n",
      "                    16 (objective)\n",
      "                    0 (bound viol.)\n",
      "                    0 (int. viol.)\n",
      "                    0 (row viol.)\n",
      "  Timing            0.00 (total)\n",
      "                    0.00 (presolve)\n",
      "                    0.00 (postsolve)\n",
      "  Nodes             0\n",
      "  LP iterations     0 (total)\n",
      "                    0 (strong br.)\n",
      "                    0 (separation)\n",
      "                    0 (heuristics)\n"
     ]
    }
   ],
   "source": [
    "optimize!(model)"
   ]
  },
  {
   "cell_type": "code",
   "execution_count": 532,
   "metadata": {},
   "outputs": [
    {
     "name": "stdout",
     "output_type": "stream",
     "text": [
      "Termination status: OPTIMAL\n",
      "Primal status: FEASIBLE_POINT\n",
      "Optimale Lösung gefunden!\n",
      "Zielfunktionswert: 16.0\n",
      "((0, 0, 0), (1, 1, 1))\n",
      "((0, 0, 0), (1, 2, 1))\n",
      "((0, 0, 0), (1, 3, 1))\n",
      "((0, 0, 0), (2, 1, 1))\n",
      "((0, 0, 0), (2, 2, 1))\n",
      "((0, 0, 0), (2, 3, 1))\n",
      "((0, 0, 0), (3, 1, 1))\n",
      "((0, 0, 0), (3, 2, 1))\n",
      "((0, 0, 0), (3, 3, 1))\n",
      "((0, 0, 0), (4, 1, 1))\n",
      "((0, 0, 0), (4, 2, 1))\n",
      "((0, 0, 0), (4, 3, 1))\n",
      "((0, 0, 0), (5, 1, 1))\n",
      "((0, 0, 0), (5, 2, 1))\n",
      "((0, 0, 0), (5, 3, 1))\n",
      "((0, 0, 0), (5, 4, 1))\n",
      "((1, 1, 1), (1, 1, 4))\n",
      "((1, 1, 4), (0, 0, 0))\n",
      "((1, 2, 1), (1, 2, 4))\n",
      "((1, 2, 4), (0, 0, 0))\n",
      "((1, 3, 1), (1, 3, 4))\n",
      "((1, 3, 4), (0, 0, 0))\n",
      "((2, 1, 1), (2, 1, 3))\n",
      "((2, 1, 3), (0, 0, 0))\n",
      "((2, 2, 1), (2, 2, 3))\n",
      "((2, 2, 3), (0, 0, 0))\n",
      "((2, 3, 1), (2, 3, 3))\n",
      "((2, 3, 3), (0, 0, 0))\n",
      "((3, 1, 1), (3, 1, 6))\n",
      "((3, 1, 6), (0, 0, 0))\n",
      "((3, 2, 1), (3, 2, 6))\n",
      "((3, 2, 6), (0, 0, 0))\n",
      "((3, 3, 1), (3, 3, 6))\n",
      "((3, 3, 6), (0, 0, 0))\n",
      "((4, 1, 1), (4, 1, 2))\n",
      "((4, 1, 2), (0, 0, 0))\n",
      "((4, 2, 1), (4, 2, 2))\n",
      "((4, 3, 1), (4, 3, 2))\n",
      "((4, 3, 2), (0, 0, 0))\n",
      "((4, 4, 1), (4, 4, 2))\n",
      "((4, 4, 2), (0, 0, 0))\n",
      "((5, 1, 1), (5, 1, 5))\n",
      "((5, 1, 5), (0, 0, 0))\n",
      "((5, 2, 1), (5, 2, 5))\n",
      "((5, 2, 5), (0, 0, 0))\n",
      "((5, 3, 1), (5, 3, 5))\n",
      "((5, 3, 5), (0, 0, 0))\n",
      "((5, 4, 1), (5, 4, 5))\n",
      "((5, 4, 5), (0, 0, 0))\n",
      "((4, 2, 2), (4, 4, 1))\n"
     ]
    }
   ],
   "source": [
    "println(\"Termination status: \", termination_status(model))\n",
    "println(\"Primal status: \", primal_status(model))\n",
    "\n",
    "if status == MOI.OPTIMAL\n",
    "    println(\"Optimale Lösung gefunden!\")\n",
    "    println(\"Zielfunktionswert: \", objective_value(model))\n",
    "    active_connections = []\n",
    "    for connection in A_set \n",
    "        if value(x[connection]) > 1e-6\n",
    "            push!(active_connections, connection)\n",
    "        end\n",
    "    end\n",
    "    sort(active_connections, by = x -> x[1][1][1])\n",
    "    full_output = join(string.(active_connections), \"\\n\")\n",
    "    println(full_output)\n",
    "\n",
    "else\n",
    "    println(\"Kein Optimum – Solver-Status: \", status)\n",
    "end\n",
    "    "
   ]
  },
  {
   "cell_type": "markdown",
   "metadata": {},
   "source": [
    "# Visualization"
   ]
  },
  {
   "cell_type": "code",
   "execution_count": 533,
   "metadata": {},
   "outputs": [
    {
     "data": {
      "text/plain": [
       "35-element Vector{Pair{Tuple{Int64, Int64, Int64}, @NamedTuple{bus_line_id::Int64, line_id::Int64, stop_id::Int64, coord_x::Float64, coord_y::Float64, start_time::Float64}}}:\n",
       " (0, 0, 0) => (bus_line_id = 0, line_id = 0, stop_id = 0, coord_x = 30.0, coord_y = 30.0, start_time = 0.0)\n",
       " (1, 1, 1) => (bus_line_id = 1, line_id = 1, stop_id = 1, coord_x = 2.2, coord_y = 36.8, start_time = 20.0)\n",
       " (1, 1, 4) => (bus_line_id = 1, line_id = 1, stop_id = 4, coord_x = 20.2, coord_y = 44.0, start_time = 44.338557800136556)\n",
       " (1, 2, 1) => (bus_line_id = 1, line_id = 2, stop_id = 1, coord_x = 2.2, coord_y = 36.8, start_time = 40.0)\n",
       " (1, 2, 4) => (bus_line_id = 1, line_id = 2, stop_id = 4, coord_x = 20.2, coord_y = 44.0, start_time = 64.33855780013656)\n",
       " (1, 3, 1) => (bus_line_id = 1, line_id = 3, stop_id = 1, coord_x = 2.2, coord_y = 36.8, start_time = 60.0)\n",
       " (1, 3, 4) => (bus_line_id = 1, line_id = 3, stop_id = 4, coord_x = 20.2, coord_y = 44.0, start_time = 84.33855780013656)\n",
       " (2, 1, 1) => (bus_line_id = 2, line_id = 1, stop_id = 1, coord_x = 40.9, coord_y = 48.2, start_time = 20.0)\n",
       " (2, 1, 3) => (bus_line_id = 2, line_id = 1, stop_id = 3, coord_x = 56.6, coord_y = 38.2, start_time = 43.85593064973383)\n",
       " (2, 2, 1) => (bus_line_id = 2, line_id = 2, stop_id = 1, coord_x = 40.9, coord_y = 48.2, start_time = 35.0)\n",
       "           ⋮\n",
       " (4, 4, 2) => (bus_line_id = 4, line_id = 4, stop_id = 2, coord_x = 34.4, coord_y = 6.1, start_time = 66.04923877714128)\n",
       " (5, 1, 1) => (bus_line_id = 5, line_id = 1, stop_id = 1, coord_x = 23.9, coord_y = 16.5, start_time = 20.0)\n",
       " (5, 1, 5) => (bus_line_id = 5, line_id = 1, stop_id = 5, coord_x = 9.6, coord_y = 30.8, start_time = 63.22508639308022)\n",
       " (5, 2, 1) => (bus_line_id = 5, line_id = 2, stop_id = 1, coord_x = 23.9, coord_y = 16.5, start_time = 32.0)\n",
       " (5, 2, 5) => (bus_line_id = 5, line_id = 2, stop_id = 5, coord_x = 9.6, coord_y = 30.8, start_time = 75.22508639308022)\n",
       " (5, 3, 1) => (bus_line_id = 5, line_id = 3, stop_id = 1, coord_x = 23.9, coord_y = 16.5, start_time = 46.0)\n",
       " (5, 3, 5) => (bus_line_id = 5, line_id = 3, stop_id = 5, coord_x = 9.6, coord_y = 30.8, start_time = 89.22508639308022)\n",
       " (5, 4, 1) => (bus_line_id = 5, line_id = 4, stop_id = 1, coord_x = 23.9, coord_y = 16.5, start_time = 58.0)\n",
       " (5, 4, 5) => (bus_line_id = 5, line_id = 4, stop_id = 5, coord_x = 9.6, coord_y = 30.8, start_time = 101.22508639308022)"
      ]
     },
     "metadata": {},
     "output_type": "display_data"
    }
   ],
   "source": [
    "# Store full node struct as value for lookup\n",
    "nodes_dict = Dict{Tuple{Int, Int, Int}, typeof(nodes[1])}()\n",
    "for connection in active_connections\n",
    "    origin,goal=connection\n",
    "    a,b,c = origin\n",
    "    d,e,f = goal\n",
    "    node=findfirst(x -> x.bus_line_id == a && x.line_id == b && x.stop_id == c, nodes)\n",
    "    if !(node in keys(nodes_dict))\n",
    "        nodes_dict[origin] = nodes[node]\n",
    "    end\n",
    "    node=findfirst(x -> x.bus_line_id == d && x.line_id == e && x.stop_id == f, nodes)\n",
    "    if !(node in keys(nodes_dict))\n",
    "        nodes_dict[goal] = nodes[node]\n",
    "    end\n",
    "end\n",
    "sort(collect(nodes_dict))"
   ]
  },
  {
   "cell_type": "markdown",
   "metadata": {},
   "source": [
    "## Plot"
   ]
  },
  {
   "cell_type": "code",
   "execution_count": 534,
   "metadata": {},
   "outputs": [
    {
     "data": {
      "text/plain": [
       "\"/Users/alexanderklaus/Desktop/Masterthesis/Code/output/3d_plot_new.html\""
      ]
     },
     "metadata": {},
     "output_type": "display_data"
    }
   ],
   "source": [
    "# 1. Prepare node coordinates and hover labels\n",
    "xs = [n.coord_x for n in nodes]\n",
    "ys = [n.coord_y for n in nodes]\n",
    "zs = [n.start_time for n in nodes]\n",
    "\n",
    "labels = [string(\"(\", n.bus_line_id, \", \", n.line_id, \", \", n.stop_id, \")\\n\", \"t=\", round(n.start_time, digits=1)) for n in nodes]\n",
    "\n",
    "trace_nodes = scatter3d(\n",
    "    x=xs, y=ys, z=zs,\n",
    "    mode=\"markers\",\n",
    "    marker=attr(size=6, color=\"blue\"),\n",
    "    text=labels,\n",
    "    hoverinfo=\"text\",\n",
    "    name=\"Nodes\"\n",
    ")\n",
    "\n",
    "# 2. Extract active connections from the model\n",
    "active_connections = [(i, j) for (i, j) in A_set if value(x[(i, j)]) > 1e-6]\n",
    "\n",
    "# 3. Generate path-based edges\n",
    "traces_edges = []\n",
    "\n",
    "for (start_key, end_key) in active_connections\n",
    "    start_bus, start_line, _ = start_key\n",
    "    end_bus, end_line, _ = end_key\n",
    "\n",
    "    if start_bus == end_bus && start_line == end_line\n",
    "        # Get all stops for this line\n",
    "        path_nodes = sort(\n",
    "            filter(n -> n.bus_line_id == start_bus && n.line_id == start_line, nodes),\n",
    "            by = n -> n.stop_id\n",
    "        )\n",
    "\n",
    "        push!(traces_edges, scatter3d(\n",
    "            x = [n.coord_x for n in path_nodes],\n",
    "            y = [n.coord_y for n in path_nodes],\n",
    "            z = [n.start_time for n in path_nodes],\n",
    "            mode = \"lines\",\n",
    "            line = attr(width=2),\n",
    "            hoverinfo = \"none\",\n",
    "            showlegend = false\n",
    "        ))\n",
    "    else\n",
    "        # Just draw a direct line between tours (e.g., depot → first stop or end → new line)\n",
    "        x_vals = [nodes_dict[start_key].coord_x, nodes_dict[end_key].coord_x]\n",
    "        y_vals = [nodes_dict[start_key].coord_y, nodes_dict[end_key].coord_y]\n",
    "        z_vals = [nodes_dict[start_key].start_time, nodes_dict[end_key].start_time]\n",
    "\n",
    "        push!(traces_edges, scatter3d(\n",
    "            x = x_vals, y = y_vals, z = z_vals,\n",
    "            mode = \"lines\",\n",
    "            line = attr(width=2, dash=\"dot\"),\n",
    "            hoverinfo = \"none\",\n",
    "            showlegend = false\n",
    "        ))\n",
    "    end\n",
    "end\n",
    "\n",
    "# 4. Combine and plot\n",
    "layout = Layout(\n",
    "    title=\"Tour Sequences with Full Paths\",\n",
    "    scene=attr(\n",
    "        xaxis=attr(title=\"X\"),\n",
    "        yaxis=attr(title=\"Y\"),\n",
    "        zaxis=attr(title=\"Start Time\")\n",
    "    ),\n",
    "    showlegend=false\n",
    ")\n",
    "\n",
    "plot_obj = Plot([trace_nodes; traces_edges...], layout)\n",
    "\n",
    "# 5. Save plot to interactive HTML file\n",
    "PlotlyJS.savefig(plot_obj,\"/Users/alexanderklaus/Desktop/Masterthesis/Code/output/3d_plot_new.html\")\n"
   ]
  },
  {
   "cell_type": "code",
   "execution_count": null,
   "metadata": {},
   "outputs": [],
   "source": []
  }
 ],
 "metadata": {
  "kernelspec": {
   "display_name": "Julia 1.11.0",
   "language": "julia",
   "name": "julia-1.11"
  },
  "language_info": {
   "file_extension": ".jl",
   "mimetype": "application/julia",
   "name": "julia",
   "version": "1.11.0"
  }
 },
 "nbformat": 4,
 "nbformat_minor": 2
}
