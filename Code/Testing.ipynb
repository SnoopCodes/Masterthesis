{
 "cells": [
  {
   "cell_type": "code",
   "execution_count": 1,
   "metadata": {},
   "outputs": [
    {
     "name": "stdout",
     "output_type": "stream",
     "text": [
      "(1, 2) => 40.0\n",
      "(3, 1) => 16.0\n",
      "(1, 3) => 60.0\n",
      "(3, 2) => 32.0\n",
      "(3, 3) => 48.0\n",
      "(4, 1) => 20.0\n",
      "(2, 1) => 20.0\n",
      "(4, 2) => 32.0\n",
      "(5, 1) => 20.0\n",
      "(2, 2) => 35.0\n",
      "(4, 3) => 44.0\n",
      "(2, 3) => 50.0\n",
      "(4, 4) => 56.0\n",
      "(1, 1) => 20.0\n",
      "(5, 2) => 32.0\n",
      "(5, 3) => 46.0\n",
      "(5, 4) => 58.0\n"
     ]
    }
   ],
   "source": [
    "using CSV\n",
    "using DataFrames\n",
    "# CSV-Datei einlesen\n",
    "lines = CSV.read(\"/Users/alexanderklaus/Desktop/Masterthesis/Code/data/lines.csv\", DataFrame)\n",
    "# Dictionary erstellen\n",
    "start_times = Dict{Tuple{Int, Int}, Float64}()\n",
    "for row in eachrow(lines)\n",
    "    key = (row.bus_line_id, row.line_id)\n",
    "    start_times[key] = row.start_time\n",
    "end\n",
    "# Ausgabe (optional)\n",
    "for (k, v) in start_times\n",
    "    println(\"$(k) => $(v)\")\n",
    "end"
   ]
  },
  {
   "cell_type": "code",
   "execution_count": null,
   "metadata": {},
   "outputs": [],
   "source": []
  }
 ],
 "metadata": {
  "kernelspec": {
   "display_name": "Julia 1.11.0",
   "language": "julia",
   "name": "julia-1.11"
  },
  "language_info": {
   "file_extension": ".jl",
   "mimetype": "application/julia",
   "name": "julia",
   "version": "1.11.0"
  }
 },
 "nbformat": 4,
 "nbformat_minor": 2
}
